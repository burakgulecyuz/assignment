{
 "cells": [
  {
   "cell_type": "code",
   "execution_count": 152,
   "id": "a61d8640",
   "metadata": {},
   "outputs": [],
   "source": [
    "import pandas as pd\n",
    "import plotly.express as plt\n",
    "import plotly.graph_objects as go\n",
    "\n",
    "# Read the data from the CSV files\n",
    "file1 = \"Industry_including_construction_value_added_ _of_GDP.csv\"\n",
    "file3 = \"Labor_force_total.csv\"\n",
    "file4 = \"Unemployment_total_ _of_total_labor_force.csv\"\n",
    "\n",
    "df1 = pd.read_csv(file1)\n",
    "df2 = pd.read_csv(file3)\n",
    "df3 = pd.read_csv(file4)"
   ]
  },
  {
   "cell_type": "code",
   "execution_count": 153,
   "id": "712f7b3c",
   "metadata": {},
   "outputs": [
    {
     "name": "stdout",
     "output_type": "stream",
     "text": [
      "<class 'pandas.core.frame.DataFrame'>\n",
      "RangeIndex: 68 entries, 0 to 67\n",
      "Data columns (total 24 columns):\n",
      " #   Column       Non-Null Count  Dtype  \n",
      "---  ------       --------------  -----  \n",
      " 0   Country      68 non-null     object \n",
      " 1   2000         68 non-null     object \n",
      " 2   2001         68 non-null     object \n",
      " 3   2002         68 non-null     float64\n",
      " 4   2003         68 non-null     float64\n",
      " 5   2004         68 non-null     float64\n",
      " 6   2005         68 non-null     float64\n",
      " 7   2006         68 non-null     float64\n",
      " 8   2007         68 non-null     float64\n",
      " 9   2008         68 non-null     float64\n",
      " 10  2009         68 non-null     float64\n",
      " 11  Unnamed: 11  0 non-null      float64\n",
      " 12  2010         68 non-null     float64\n",
      " 13  2011         68 non-null     float64\n",
      " 14  2012         68 non-null     float64\n",
      " 15  2013         68 non-null     float64\n",
      " 16  2014         68 non-null     float64\n",
      " 17  2015         68 non-null     float64\n",
      " 18  2016         68 non-null     float64\n",
      " 19  2017         68 non-null     float64\n",
      " 20  2018         68 non-null     float64\n",
      " 21  2019         68 non-null     object \n",
      " 22  2020         68 non-null     object \n",
      " 23  2021         68 non-null     object \n",
      "dtypes: float64(18), object(6)\n",
      "memory usage: 12.9+ KB\n"
     ]
    }
   ],
   "source": [
    "df1.info()"
   ]
  },
  {
   "cell_type": "code",
   "execution_count": 154,
   "id": "cd77b320",
   "metadata": {},
   "outputs": [
    {
     "data": {
      "text/html": [
       "<div>\n",
       "<style scoped>\n",
       "    .dataframe tbody tr th:only-of-type {\n",
       "        vertical-align: middle;\n",
       "    }\n",
       "\n",
       "    .dataframe tbody tr th {\n",
       "        vertical-align: top;\n",
       "    }\n",
       "\n",
       "    .dataframe thead th {\n",
       "        text-align: right;\n",
       "    }\n",
       "</style>\n",
       "<table border=\"1\" class=\"dataframe\">\n",
       "  <thead>\n",
       "    <tr style=\"text-align: right;\">\n",
       "      <th></th>\n",
       "      <th>Country</th>\n",
       "      <th>2000</th>\n",
       "      <th>2001</th>\n",
       "      <th>2002</th>\n",
       "      <th>2003</th>\n",
       "      <th>2004</th>\n",
       "      <th>2005</th>\n",
       "      <th>2006</th>\n",
       "      <th>2007</th>\n",
       "      <th>2008</th>\n",
       "      <th>...</th>\n",
       "      <th>2012</th>\n",
       "      <th>2013</th>\n",
       "      <th>2014</th>\n",
       "      <th>2015</th>\n",
       "      <th>2016</th>\n",
       "      <th>2017</th>\n",
       "      <th>2018</th>\n",
       "      <th>2019</th>\n",
       "      <th>2020</th>\n",
       "      <th>2021</th>\n",
       "    </tr>\n",
       "  </thead>\n",
       "  <tbody>\n",
       "    <tr>\n",
       "      <th>0</th>\n",
       "      <td>Ireland</td>\n",
       "      <td>31.5</td>\n",
       "      <td>34.1</td>\n",
       "      <td>35.1</td>\n",
       "      <td>32.3</td>\n",
       "      <td>30.8</td>\n",
       "      <td>30.0</td>\n",
       "      <td>30.1</td>\n",
       "      <td>28.5</td>\n",
       "      <td>25.9</td>\n",
       "      <td>...</td>\n",
       "      <td>23.9</td>\n",
       "      <td>23.9</td>\n",
       "      <td>24.3</td>\n",
       "      <td>38.2</td>\n",
       "      <td>36.9</td>\n",
       "      <td>35.9</td>\n",
       "      <td>36.7</td>\n",
       "      <td>35.4</td>\n",
       "      <td>37.5</td>\n",
       "      <td>37.8</td>\n",
       "    </tr>\n",
       "    <tr>\n",
       "      <th>1</th>\n",
       "      <td>Germany</td>\n",
       "      <td>27.7</td>\n",
       "      <td>27.1</td>\n",
       "      <td>26.4</td>\n",
       "      <td>26.2</td>\n",
       "      <td>26.4</td>\n",
       "      <td>26.4</td>\n",
       "      <td>27.0</td>\n",
       "      <td>27.2</td>\n",
       "      <td>26.8</td>\n",
       "      <td>...</td>\n",
       "      <td>27.3</td>\n",
       "      <td>26.8</td>\n",
       "      <td>27.0</td>\n",
       "      <td>27.1</td>\n",
       "      <td>27.6</td>\n",
       "      <td>27.5</td>\n",
       "      <td>27.3</td>\n",
       "      <td>27</td>\n",
       "      <td>26.6</td>\n",
       "      <td>26.7</td>\n",
       "    </tr>\n",
       "    <tr>\n",
       "      <th>2</th>\n",
       "      <td>Belgium</td>\n",
       "      <td>24.9</td>\n",
       "      <td>24.3</td>\n",
       "      <td>23.8</td>\n",
       "      <td>23.2</td>\n",
       "      <td>23.0</td>\n",
       "      <td>22.6</td>\n",
       "      <td>22.1</td>\n",
       "      <td>22.3</td>\n",
       "      <td>21.6</td>\n",
       "      <td>...</td>\n",
       "      <td>20.1</td>\n",
       "      <td>19.9</td>\n",
       "      <td>19.7</td>\n",
       "      <td>19.7</td>\n",
       "      <td>19.3</td>\n",
       "      <td>19.2</td>\n",
       "      <td>18.9</td>\n",
       "      <td>19.3</td>\n",
       "      <td>19.5</td>\n",
       "      <td>19.6</td>\n",
       "    </tr>\n",
       "    <tr>\n",
       "      <th>3</th>\n",
       "      <td>Denmark</td>\n",
       "      <td>23.7</td>\n",
       "      <td>22.9</td>\n",
       "      <td>22.7</td>\n",
       "      <td>22.2</td>\n",
       "      <td>22.1</td>\n",
       "      <td>22.2</td>\n",
       "      <td>22.8</td>\n",
       "      <td>22.2</td>\n",
       "      <td>22.6</td>\n",
       "      <td>...</td>\n",
       "      <td>20.4</td>\n",
       "      <td>20.1</td>\n",
       "      <td>19.8</td>\n",
       "      <td>20.0</td>\n",
       "      <td>20.7</td>\n",
       "      <td>20.7</td>\n",
       "      <td>20.8</td>\n",
       "      <td>20.7</td>\n",
       "      <td>20</td>\n",
       "      <td>19.3</td>\n",
       "    </tr>\n",
       "    <tr>\n",
       "      <th>4</th>\n",
       "      <td>Greece</td>\n",
       "      <td>18.7</td>\n",
       "      <td>19.3</td>\n",
       "      <td>19.4</td>\n",
       "      <td>20.5</td>\n",
       "      <td>20.3</td>\n",
       "      <td>17.8</td>\n",
       "      <td>20.0</td>\n",
       "      <td>18.0</td>\n",
       "      <td>15.7</td>\n",
       "      <td>...</td>\n",
       "      <td>14.8</td>\n",
       "      <td>15.1</td>\n",
       "      <td>14.1</td>\n",
       "      <td>14.5</td>\n",
       "      <td>14.5</td>\n",
       "      <td>13.7</td>\n",
       "      <td>13.6</td>\n",
       "      <td>13.4</td>\n",
       "      <td>15</td>\n",
       "      <td>15.3</td>\n",
       "    </tr>\n",
       "  </tbody>\n",
       "</table>\n",
       "<p>5 rows × 24 columns</p>\n",
       "</div>"
      ],
      "text/plain": [
       "   Country  2000  2001  2002  2003  2004  2005  2006  2007  2008  ...  2012  \\\n",
       "0  Ireland  31.5  34.1  35.1  32.3  30.8  30.0  30.1  28.5  25.9  ...  23.9   \n",
       "1  Germany  27.7  27.1  26.4  26.2  26.4  26.4  27.0  27.2  26.8  ...  27.3   \n",
       "2  Belgium  24.9  24.3  23.8  23.2  23.0  22.6  22.1  22.3  21.6  ...  20.1   \n",
       "3  Denmark  23.7  22.9  22.7  22.2  22.1  22.2  22.8  22.2  22.6  ...  20.4   \n",
       "4   Greece  18.7  19.3  19.4  20.5  20.3  17.8  20.0  18.0  15.7  ...  14.8   \n",
       "\n",
       "   2013  2014  2015  2016  2017  2018  2019  2020  2021  \n",
       "0  23.9  24.3  38.2  36.9  35.9  36.7  35.4  37.5  37.8  \n",
       "1  26.8  27.0  27.1  27.6  27.5  27.3    27  26.6  26.7  \n",
       "2  19.9  19.7  19.7  19.3  19.2  18.9  19.3  19.5  19.6  \n",
       "3  20.1  19.8  20.0  20.7  20.7  20.8  20.7    20  19.3  \n",
       "4  15.1  14.1  14.5  14.5  13.7  13.6  13.4    15  15.3  \n",
       "\n",
       "[5 rows x 24 columns]"
      ]
     },
     "execution_count": 154,
     "metadata": {},
     "output_type": "execute_result"
    }
   ],
   "source": [
    "df1.head()"
   ]
  },
  {
   "cell_type": "code",
   "execution_count": 155,
   "id": "dda426c9",
   "metadata": {},
   "outputs": [
    {
     "data": {
      "text/html": [
       "<div>\n",
       "<style scoped>\n",
       "    .dataframe tbody tr th:only-of-type {\n",
       "        vertical-align: middle;\n",
       "    }\n",
       "\n",
       "    .dataframe tbody tr th {\n",
       "        vertical-align: top;\n",
       "    }\n",
       "\n",
       "    .dataframe thead th {\n",
       "        text-align: right;\n",
       "    }\n",
       "</style>\n",
       "<table border=\"1\" class=\"dataframe\">\n",
       "  <thead>\n",
       "    <tr style=\"text-align: right;\">\n",
       "      <th></th>\n",
       "      <th>Country</th>\n",
       "      <th>2000</th>\n",
       "      <th>2001</th>\n",
       "      <th>2002</th>\n",
       "      <th>2003</th>\n",
       "      <th>Unnamed: 5</th>\n",
       "      <th>2004</th>\n",
       "      <th>2005</th>\n",
       "      <th>2006</th>\n",
       "      <th>2007</th>\n",
       "      <th>...</th>\n",
       "      <th>2012</th>\n",
       "      <th>2013</th>\n",
       "      <th>2014</th>\n",
       "      <th>2015</th>\n",
       "      <th>2016</th>\n",
       "      <th>2017</th>\n",
       "      <th>2018</th>\n",
       "      <th>2019</th>\n",
       "      <th>2020</th>\n",
       "      <th>2021</th>\n",
       "    </tr>\n",
       "  </thead>\n",
       "  <tbody>\n",
       "    <tr>\n",
       "      <th>0</th>\n",
       "      <td>Ireland</td>\n",
       "      <td>1,862,430.00</td>\n",
       "      <td>1,898,123.00</td>\n",
       "      <td>1,941,828.00</td>\n",
       "      <td>1,984,446.00</td>\n",
       "      <td>NaN</td>\n",
       "      <td>2,033,886.00</td>\n",
       "      <td>2,151,141.00</td>\n",
       "      <td>2,241,382.00</td>\n",
       "      <td>2,336,096.00</td>\n",
       "      <td>...</td>\n",
       "      <td>2,225,018.00</td>\n",
       "      <td>2,247,873.00</td>\n",
       "      <td>2,258,498.00</td>\n",
       "      <td>2,285,833.00</td>\n",
       "      <td>2,330,010.00</td>\n",
       "      <td>2,354,153.00</td>\n",
       "      <td>2,397,838.00</td>\n",
       "      <td>2,446,760.00</td>\n",
       "      <td>2,432,234.00</td>\n",
       "      <td>2,551,561.00</td>\n",
       "    </tr>\n",
       "    <tr>\n",
       "      <th>1</th>\n",
       "      <td>Germany</td>\n",
       "      <td>39,865,801.00</td>\n",
       "      <td>40,029,198.00</td>\n",
       "      <td>40,056,637.00</td>\n",
       "      <td>40,236,914.00</td>\n",
       "      <td>NaN</td>\n",
       "      <td>40,039,826.00</td>\n",
       "      <td>41,239,999.00</td>\n",
       "      <td>41,693,116.00</td>\n",
       "      <td>41,861,246.00</td>\n",
       "      <td>...</td>\n",
       "      <td>41,853,628.00</td>\n",
       "      <td>42,212,988.00</td>\n",
       "      <td>42,458,390.00</td>\n",
       "      <td>42,660,629.00</td>\n",
       "      <td>43,567,225.00</td>\n",
       "      <td>43,819,028.00</td>\n",
       "      <td>43,935,038.00</td>\n",
       "      <td>44,433,744.00</td>\n",
       "      <td>43,501,190.00</td>\n",
       "      <td>43,386,527.00</td>\n",
       "    </tr>\n",
       "    <tr>\n",
       "      <th>2</th>\n",
       "      <td>Belgium</td>\n",
       "      <td>4,416,525.00</td>\n",
       "      <td>4,315,763.00</td>\n",
       "      <td>4,365,043.00</td>\n",
       "      <td>4,402,418.00</td>\n",
       "      <td>NaN</td>\n",
       "      <td>4,485,839.00</td>\n",
       "      <td>4,626,679.00</td>\n",
       "      <td>4,646,803.00</td>\n",
       "      <td>4,728,844.00</td>\n",
       "      <td>...</td>\n",
       "      <td>4,910,968.00</td>\n",
       "      <td>4,962,050.00</td>\n",
       "      <td>4,978,926.00</td>\n",
       "      <td>4,989,597.00</td>\n",
       "      <td>4,997,187.00</td>\n",
       "      <td>5,086,330.00</td>\n",
       "      <td>5,144,068.00</td>\n",
       "      <td>5,194,405.00</td>\n",
       "      <td>5,167,188.00</td>\n",
       "      <td>5,262,812.00</td>\n",
       "    </tr>\n",
       "    <tr>\n",
       "      <th>3</th>\n",
       "      <td>Denmark</td>\n",
       "      <td>2,853,060.00</td>\n",
       "      <td>2,841,507.00</td>\n",
       "      <td>2,868,928.00</td>\n",
       "      <td>2,868,194.00</td>\n",
       "      <td>NaN</td>\n",
       "      <td>2,895,623.00</td>\n",
       "      <td>2,893,154.00</td>\n",
       "      <td>2,917,717.00</td>\n",
       "      <td>2,924,753.00</td>\n",
       "      <td>...</td>\n",
       "      <td>2,871,734.00</td>\n",
       "      <td>2,850,392.00</td>\n",
       "      <td>2,865,028.00</td>\n",
       "      <td>2,895,364.00</td>\n",
       "      <td>2,939,677.00</td>\n",
       "      <td>2,966,464.00</td>\n",
       "      <td>2,990,219.00</td>\n",
       "      <td>3,032,098.00</td>\n",
       "      <td>3,028,252.00</td>\n",
       "      <td>3,070,703.00</td>\n",
       "    </tr>\n",
       "    <tr>\n",
       "      <th>4</th>\n",
       "      <td>Greece</td>\n",
       "      <td>4,860,889.00</td>\n",
       "      <td>4,819,343.00</td>\n",
       "      <td>4,881,094.00</td>\n",
       "      <td>4,935,423.00</td>\n",
       "      <td>NaN</td>\n",
       "      <td>5,019,191.00</td>\n",
       "      <td>5,019,255.00</td>\n",
       "      <td>5,043,207.00</td>\n",
       "      <td>5,031,298.00</td>\n",
       "      <td>...</td>\n",
       "      <td>4,927,758.00</td>\n",
       "      <td>4,867,433.00</td>\n",
       "      <td>4,812,543.00</td>\n",
       "      <td>4,788,983.00</td>\n",
       "      <td>4,774,947.00</td>\n",
       "      <td>4,753,621.00</td>\n",
       "      <td>4,727,112.00</td>\n",
       "      <td>4,735,273.00</td>\n",
       "      <td>4,643,796.00</td>\n",
       "      <td>4,605,900.00</td>\n",
       "    </tr>\n",
       "  </tbody>\n",
       "</table>\n",
       "<p>5 rows × 24 columns</p>\n",
       "</div>"
      ],
      "text/plain": [
       "   Country           2000           2001           2002           2003  \\\n",
       "0  Ireland   1,862,430.00   1,898,123.00   1,941,828.00   1,984,446.00   \n",
       "1  Germany  39,865,801.00  40,029,198.00  40,056,637.00  40,236,914.00   \n",
       "2  Belgium   4,416,525.00   4,315,763.00   4,365,043.00   4,402,418.00   \n",
       "3  Denmark   2,853,060.00   2,841,507.00   2,868,928.00   2,868,194.00   \n",
       "4   Greece   4,860,889.00   4,819,343.00   4,881,094.00   4,935,423.00   \n",
       "\n",
       "   Unnamed: 5           2004           2005           2006           2007  \\\n",
       "0         NaN   2,033,886.00   2,151,141.00   2,241,382.00   2,336,096.00   \n",
       "1         NaN  40,039,826.00  41,239,999.00  41,693,116.00  41,861,246.00   \n",
       "2         NaN   4,485,839.00   4,626,679.00   4,646,803.00   4,728,844.00   \n",
       "3         NaN   2,895,623.00   2,893,154.00   2,917,717.00   2,924,753.00   \n",
       "4         NaN   5,019,191.00   5,019,255.00   5,043,207.00   5,031,298.00   \n",
       "\n",
       "   ...           2012           2013           2014           2015  \\\n",
       "0  ...   2,225,018.00   2,247,873.00   2,258,498.00   2,285,833.00   \n",
       "1  ...  41,853,628.00  42,212,988.00  42,458,390.00  42,660,629.00   \n",
       "2  ...   4,910,968.00   4,962,050.00   4,978,926.00   4,989,597.00   \n",
       "3  ...   2,871,734.00   2,850,392.00   2,865,028.00   2,895,364.00   \n",
       "4  ...   4,927,758.00   4,867,433.00   4,812,543.00   4,788,983.00   \n",
       "\n",
       "            2016           2017           2018           2019           2020  \\\n",
       "0   2,330,010.00   2,354,153.00   2,397,838.00   2,446,760.00   2,432,234.00   \n",
       "1  43,567,225.00  43,819,028.00  43,935,038.00  44,433,744.00  43,501,190.00   \n",
       "2   4,997,187.00   5,086,330.00   5,144,068.00   5,194,405.00   5,167,188.00   \n",
       "3   2,939,677.00   2,966,464.00   2,990,219.00   3,032,098.00   3,028,252.00   \n",
       "4   4,774,947.00   4,753,621.00   4,727,112.00   4,735,273.00   4,643,796.00   \n",
       "\n",
       "            2021  \n",
       "0   2,551,561.00  \n",
       "1  43,386,527.00  \n",
       "2   5,262,812.00  \n",
       "3   3,070,703.00  \n",
       "4   4,605,900.00  \n",
       "\n",
       "[5 rows x 24 columns]"
      ]
     },
     "execution_count": 155,
     "metadata": {},
     "output_type": "execute_result"
    }
   ],
   "source": [
    "df2.head()"
   ]
  },
  {
   "cell_type": "code",
   "execution_count": 156,
   "id": "54b0ae80",
   "metadata": {},
   "outputs": [
    {
     "name": "stdout",
     "output_type": "stream",
     "text": [
      "<class 'pandas.core.frame.DataFrame'>\n",
      "RangeIndex: 68 entries, 0 to 67\n",
      "Data columns (total 24 columns):\n",
      " #   Column      Non-Null Count  Dtype  \n",
      "---  ------      --------------  -----  \n",
      " 0   Country     68 non-null     object \n",
      " 1   2000        68 non-null     object \n",
      " 2   2001        68 non-null     object \n",
      " 3   2002        68 non-null     object \n",
      " 4   2003        68 non-null     object \n",
      " 5   Unnamed: 5  0 non-null      float64\n",
      " 6   2004        68 non-null     object \n",
      " 7   2005        68 non-null     object \n",
      " 8   2006        68 non-null     object \n",
      " 9   2007        68 non-null     object \n",
      " 10  2008        68 non-null     object \n",
      " 11  2009        68 non-null     object \n",
      " 12  2010        68 non-null     object \n",
      " 13  2011        68 non-null     object \n",
      " 14  2012        68 non-null     object \n",
      " 15  2013        68 non-null     object \n",
      " 16  2014        68 non-null     object \n",
      " 17  2015        68 non-null     object \n",
      " 18  2016        68 non-null     object \n",
      " 19  2017        68 non-null     object \n",
      " 20  2018        68 non-null     object \n",
      " 21  2019        68 non-null     object \n",
      " 22  2020        68 non-null     object \n",
      " 23  2021        68 non-null     object \n",
      "dtypes: float64(1), object(23)\n",
      "memory usage: 12.9+ KB\n"
     ]
    }
   ],
   "source": [
    "df2.info()"
   ]
  },
  {
   "cell_type": "code",
   "execution_count": 157,
   "id": "abf4d902",
   "metadata": {},
   "outputs": [
    {
     "data": {
      "text/html": [
       "<div>\n",
       "<style scoped>\n",
       "    .dataframe tbody tr th:only-of-type {\n",
       "        vertical-align: middle;\n",
       "    }\n",
       "\n",
       "    .dataframe tbody tr th {\n",
       "        vertical-align: top;\n",
       "    }\n",
       "\n",
       "    .dataframe thead th {\n",
       "        text-align: right;\n",
       "    }\n",
       "</style>\n",
       "<table border=\"1\" class=\"dataframe\">\n",
       "  <thead>\n",
       "    <tr style=\"text-align: right;\">\n",
       "      <th></th>\n",
       "      <th>Country</th>\n",
       "      <th>2000</th>\n",
       "      <th>2001</th>\n",
       "      <th>2002</th>\n",
       "      <th>2003</th>\n",
       "      <th>2004</th>\n",
       "      <th>2005</th>\n",
       "      <th>2006</th>\n",
       "      <th>2007</th>\n",
       "      <th>2008</th>\n",
       "      <th>...</th>\n",
       "      <th>2012</th>\n",
       "      <th>2013</th>\n",
       "      <th>2014</th>\n",
       "      <th>2015</th>\n",
       "      <th>2016</th>\n",
       "      <th>2017</th>\n",
       "      <th>2018</th>\n",
       "      <th>2019</th>\n",
       "      <th>2020</th>\n",
       "      <th>2021</th>\n",
       "    </tr>\n",
       "  </thead>\n",
       "  <tbody>\n",
       "    <tr>\n",
       "      <th>0</th>\n",
       "      <td>Ireland</td>\n",
       "      <td>4.3</td>\n",
       "      <td>3.7</td>\n",
       "      <td>4.2</td>\n",
       "      <td>4.5</td>\n",
       "      <td>4.5</td>\n",
       "      <td>4.3</td>\n",
       "      <td>4.4</td>\n",
       "      <td>5</td>\n",
       "      <td>6.8</td>\n",
       "      <td>...</td>\n",
       "      <td>15.5</td>\n",
       "      <td>13.7</td>\n",
       "      <td>11.9</td>\n",
       "      <td>9.9</td>\n",
       "      <td>8.4</td>\n",
       "      <td>6.7</td>\n",
       "      <td>5.7</td>\n",
       "      <td>5</td>\n",
       "      <td>5.6</td>\n",
       "      <td>6.2</td>\n",
       "    </tr>\n",
       "    <tr>\n",
       "      <th>1</th>\n",
       "      <td>Germany</td>\n",
       "      <td>7.9</td>\n",
       "      <td>7.8</td>\n",
       "      <td>8.5</td>\n",
       "      <td>9.8</td>\n",
       "      <td>10.7</td>\n",
       "      <td>11.2</td>\n",
       "      <td>10.3</td>\n",
       "      <td>8.7</td>\n",
       "      <td>7.5</td>\n",
       "      <td>...</td>\n",
       "      <td>5.4</td>\n",
       "      <td>5.2</td>\n",
       "      <td>5</td>\n",
       "      <td>4.6</td>\n",
       "      <td>4.1</td>\n",
       "      <td>3.8</td>\n",
       "      <td>3.4</td>\n",
       "      <td>3.1</td>\n",
       "      <td>3.9</td>\n",
       "      <td>3.6</td>\n",
       "    </tr>\n",
       "    <tr>\n",
       "      <th>2</th>\n",
       "      <td>Belgium</td>\n",
       "      <td>6.6</td>\n",
       "      <td>6.2</td>\n",
       "      <td>6.9</td>\n",
       "      <td>7.7</td>\n",
       "      <td>7.4</td>\n",
       "      <td>8.4</td>\n",
       "      <td>8.3</td>\n",
       "      <td>7.5</td>\n",
       "      <td>7</td>\n",
       "      <td>...</td>\n",
       "      <td>7.5</td>\n",
       "      <td>8.4</td>\n",
       "      <td>8.5</td>\n",
       "      <td>8.5</td>\n",
       "      <td>7.8</td>\n",
       "      <td>7.1</td>\n",
       "      <td>6</td>\n",
       "      <td>5.4</td>\n",
       "      <td>5.6</td>\n",
       "      <td>6.3</td>\n",
       "    </tr>\n",
       "    <tr>\n",
       "      <th>3</th>\n",
       "      <td>Denmark</td>\n",
       "      <td>4.5</td>\n",
       "      <td>4.2</td>\n",
       "      <td>4.3</td>\n",
       "      <td>5.4</td>\n",
       "      <td>5.2</td>\n",
       "      <td>4.8</td>\n",
       "      <td>3.9</td>\n",
       "      <td>3.8</td>\n",
       "      <td>3.7</td>\n",
       "      <td>...</td>\n",
       "      <td>7.8</td>\n",
       "      <td>7.4</td>\n",
       "      <td>6.9</td>\n",
       "      <td>6.3</td>\n",
       "      <td>6</td>\n",
       "      <td>5.8</td>\n",
       "      <td>5.1</td>\n",
       "      <td>5</td>\n",
       "      <td>5.6</td>\n",
       "      <td>5.1</td>\n",
       "    </tr>\n",
       "    <tr>\n",
       "      <th>4</th>\n",
       "      <td>Greece</td>\n",
       "      <td>11.3</td>\n",
       "      <td>10.8</td>\n",
       "      <td>10.4</td>\n",
       "      <td>9.8</td>\n",
       "      <td>10.6</td>\n",
       "      <td>10.1</td>\n",
       "      <td>8.9</td>\n",
       "      <td>8.4</td>\n",
       "      <td>7.7</td>\n",
       "      <td>...</td>\n",
       "      <td>24.7</td>\n",
       "      <td>27.7</td>\n",
       "      <td>26.7</td>\n",
       "      <td>25</td>\n",
       "      <td>23.5</td>\n",
       "      <td>21.4</td>\n",
       "      <td>19.2</td>\n",
       "      <td>17</td>\n",
       "      <td>15.9</td>\n",
       "      <td>14.7</td>\n",
       "    </tr>\n",
       "  </tbody>\n",
       "</table>\n",
       "<p>5 rows × 24 columns</p>\n",
       "</div>"
      ],
      "text/plain": [
       "   Country  2000  2001  2002 2003  2004  2005  2006 2007 2008  ...  2012  \\\n",
       "0  Ireland   4.3   3.7   4.2  4.5   4.5   4.3   4.4    5  6.8  ...  15.5   \n",
       "1  Germany   7.9   7.8   8.5  9.8  10.7  11.2  10.3  8.7  7.5  ...   5.4   \n",
       "2  Belgium   6.6   6.2   6.9  7.7   7.4   8.4   8.3  7.5    7  ...   7.5   \n",
       "3  Denmark   4.5   4.2   4.3  5.4   5.2   4.8   3.9  3.8  3.7  ...   7.8   \n",
       "4   Greece  11.3  10.8  10.4  9.8  10.6  10.1   8.9  8.4  7.7  ...  24.7   \n",
       "\n",
       "   2013  2014 2015  2016  2017  2018 2019  2020  2021  \n",
       "0  13.7  11.9  9.9   8.4   6.7   5.7    5   5.6   6.2  \n",
       "1   5.2     5  4.6   4.1   3.8   3.4  3.1   3.9   3.6  \n",
       "2   8.4   8.5  8.5   7.8   7.1     6  5.4   5.6   6.3  \n",
       "3   7.4   6.9  6.3     6   5.8   5.1    5   5.6   5.1  \n",
       "4  27.7  26.7   25  23.5  21.4  19.2   17  15.9  14.7  \n",
       "\n",
       "[5 rows x 24 columns]"
      ]
     },
     "execution_count": 157,
     "metadata": {},
     "output_type": "execute_result"
    }
   ],
   "source": [
    "df3.head()"
   ]
  },
  {
   "cell_type": "code",
   "execution_count": 158,
   "id": "3d042a30",
   "metadata": {},
   "outputs": [
    {
     "name": "stdout",
     "output_type": "stream",
     "text": [
      "<class 'pandas.core.frame.DataFrame'>\n",
      "RangeIndex: 68 entries, 0 to 67\n",
      "Data columns (total 24 columns):\n",
      " #   Column       Non-Null Count  Dtype  \n",
      "---  ------       --------------  -----  \n",
      " 0   Country      68 non-null     object \n",
      " 1   2000         68 non-null     object \n",
      " 2   2001         68 non-null     object \n",
      " 3   2002         68 non-null     object \n",
      " 4   2003         68 non-null     object \n",
      " 5   2004         68 non-null     object \n",
      " 6   2005         68 non-null     object \n",
      " 7   2006         68 non-null     object \n",
      " 8   2007         68 non-null     object \n",
      " 9   2008         68 non-null     object \n",
      " 10  2009         68 non-null     object \n",
      " 11  Unnamed: 11  0 non-null      float64\n",
      " 12  2010         68 non-null     object \n",
      " 13  2011         68 non-null     object \n",
      " 14  2012         68 non-null     object \n",
      " 15  2013         68 non-null     object \n",
      " 16  2014         68 non-null     object \n",
      " 17  2015         68 non-null     object \n",
      " 18  2016         68 non-null     object \n",
      " 19  2017         68 non-null     object \n",
      " 20  2018         68 non-null     object \n",
      " 21  2019         68 non-null     object \n",
      " 22  2020         68 non-null     object \n",
      " 23  2021         68 non-null     object \n",
      "dtypes: float64(1), object(23)\n",
      "memory usage: 12.9+ KB\n"
     ]
    }
   ],
   "source": [
    "df3.info()"
   ]
  },
  {
   "cell_type": "code",
   "execution_count": 159,
   "id": "3a287d44",
   "metadata": {},
   "outputs": [],
   "source": [
    "#now drop unnamed: 11 column\n",
    "df1 = df1.drop(columns=['Unnamed: 11'])\n",
    "#now drop unnamed: 5 column\n",
    "df2 = df2.drop(columns=['Unnamed: 5'])\n",
    "#now drom unnamed: 11 column\n",
    "df3 = df3.drop(columns=['Unnamed: 11'])"
   ]
  },
  {
   "cell_type": "code",
   "execution_count": 160,
   "id": "3335351b",
   "metadata": {},
   "outputs": [],
   "source": [
    "#lets changne .. to NaN\n",
    "df1 = df1.replace(\"..\", \"NaN\")\n",
    "#lets changne .. to NaN\n",
    "df2 = df2.replace(\"..\", \"NaN\")\n",
    "#lets changne .. to NaN\n",
    "df3 = df3.replace(\"..\", \"NaN\")"
   ]
  },
  {
   "cell_type": "code",
   "execution_count": 161,
   "id": "20407430",
   "metadata": {},
   "outputs": [],
   "source": [
    "#lets change the data type of all columns except the first one\n",
    "df1.iloc[:, 1:] = df1.iloc[:, 1:].astype(float)\n",
    "#change the data type of all columns except the first one\n",
    "df3.iloc[:, 1:] = df3.iloc[:, 1:].astype(float)"
   ]
  },
  {
   "cell_type": "code",
   "execution_count": 162,
   "id": "1b4feb4e",
   "metadata": {},
   "outputs": [],
   "source": [
    "# Remove trailing zeros after dots\n",
    "df2.iloc[:, 1:] = df2.iloc[:, 1:].applymap(lambda x: str(x).replace(\".\", \"\").rstrip(\".\") if isinstance(x, str) else x)\n",
    "# Remove last two numbers\n",
    "df2.iloc[:, 1:] = df2.iloc[:, 1:].applymap(lambda x: str(x)[:-2] if isinstance(x, str) else x)\n",
    "#find N values\n",
    "df2.iloc[:, 1:] = df2.iloc[:, 1:].applymap(lambda x: str(x).replace(\"N\", \"NaN\") if isinstance(x, str) else x)\n",
    "# Remove non-numeric characters from the values\n",
    "df2.iloc[:, 1:] = df2.iloc[:, 1:].replace('[,.]', '', regex=True).astype(float)"
   ]
  },
  {
   "cell_type": "code",
   "execution_count": 163,
   "id": "d1951997",
   "metadata": {},
   "outputs": [],
   "source": [
    "melted_df = pd.melt(df1, id_vars=['Country'], value_vars=df1.columns[1:])#melted_df = pd.melt(df1, id_vars=['Country'], value_vars=df1.columns[1:])\n",
    "\n",
    "melted_df2 = pd.melt(df2, id_vars=['Country'], value_vars=df2.columns[1:])#melted_df = pd.melt(df2, id_vars=['Country'], value_vars=df1.columns[1:])\n",
    "\n",
    "melted_df3 = pd.melt(df3, id_vars=['Country'], value_vars=df3.columns[1:])#melted_df = pd.melt(df3, id_vars=['Country'], value_vars=df1.columns[1:])"
   ]
  },
  {
   "cell_type": "code",
   "execution_count": 164,
   "id": "2ba825ec",
   "metadata": {},
   "outputs": [
    {
     "data": {
      "text/html": [
       "<div>\n",
       "<style scoped>\n",
       "    .dataframe tbody tr th:only-of-type {\n",
       "        vertical-align: middle;\n",
       "    }\n",
       "\n",
       "    .dataframe tbody tr th {\n",
       "        vertical-align: top;\n",
       "    }\n",
       "\n",
       "    .dataframe thead th {\n",
       "        text-align: right;\n",
       "    }\n",
       "</style>\n",
       "<table border=\"1\" class=\"dataframe\">\n",
       "  <thead>\n",
       "    <tr style=\"text-align: right;\">\n",
       "      <th></th>\n",
       "      <th>Country</th>\n",
       "      <th>variable</th>\n",
       "      <th>value</th>\n",
       "    </tr>\n",
       "  </thead>\n",
       "  <tbody>\n",
       "    <tr>\n",
       "      <th>0</th>\n",
       "      <td>Ireland</td>\n",
       "      <td>2000</td>\n",
       "      <td>31.5</td>\n",
       "    </tr>\n",
       "    <tr>\n",
       "      <th>1</th>\n",
       "      <td>Germany</td>\n",
       "      <td>2000</td>\n",
       "      <td>27.7</td>\n",
       "    </tr>\n",
       "    <tr>\n",
       "      <th>2</th>\n",
       "      <td>Belgium</td>\n",
       "      <td>2000</td>\n",
       "      <td>24.9</td>\n",
       "    </tr>\n",
       "    <tr>\n",
       "      <th>3</th>\n",
       "      <td>Denmark</td>\n",
       "      <td>2000</td>\n",
       "      <td>23.7</td>\n",
       "    </tr>\n",
       "    <tr>\n",
       "      <th>4</th>\n",
       "      <td>Greece</td>\n",
       "      <td>2000</td>\n",
       "      <td>18.7</td>\n",
       "    </tr>\n",
       "  </tbody>\n",
       "</table>\n",
       "</div>"
      ],
      "text/plain": [
       "   Country variable  value\n",
       "0  Ireland     2000   31.5\n",
       "1  Germany     2000   27.7\n",
       "2  Belgium     2000   24.9\n",
       "3  Denmark     2000   23.7\n",
       "4   Greece     2000   18.7"
      ]
     },
     "execution_count": 164,
     "metadata": {},
     "output_type": "execute_result"
    }
   ],
   "source": [
    "melted_df.head()"
   ]
  },
  {
   "cell_type": "code",
   "execution_count": 165,
   "id": "4a3d3be6",
   "metadata": {},
   "outputs": [],
   "source": [
    "#change 1st column name to Year\n",
    "melted_df = melted_df.rename(columns={'variable': 'Year'})\n",
    "melted_df2 = melted_df2.rename(columns={'variable': 'Year'})\n",
    "melted_df3 = melted_df3.rename(columns={'variable': 'Year'})"
   ]
  },
  {
   "cell_type": "code",
   "execution_count": 166,
   "id": "54365bb5",
   "metadata": {},
   "outputs": [],
   "source": [
    "#change 2st column name to Contribution of the construction sector to the GBD %\n",
    "melted_df = melted_df.rename(columns={'value': 'Contribution of the construction sector to the GBD %'})\n",
    "#change the second column name to Labor force, total\n",
    "melted_df2 = melted_df2.rename(columns={'value': 'Labor force, total'})\n",
    "#change the second column name to Unemployment, total (% of total labor force)\n",
    "melted_df3 = melted_df3.rename(columns={'value': 'Unemployment, total (% of total labor force)'})"
   ]
  },
  {
   "cell_type": "code",
   "execution_count": 167,
   "id": "de76c79e",
   "metadata": {},
   "outputs": [],
   "source": [
    "country_codes = pd.read_csv(\"country_codes.tsv\", sep=\"\\t\")"
   ]
  },
  {
   "cell_type": "code",
   "execution_count": 168,
   "id": "f4c3b74d",
   "metadata": {},
   "outputs": [
    {
     "data": {
      "text/html": [
       "<div>\n",
       "<style scoped>\n",
       "    .dataframe tbody tr th:only-of-type {\n",
       "        vertical-align: middle;\n",
       "    }\n",
       "\n",
       "    .dataframe tbody tr th {\n",
       "        vertical-align: top;\n",
       "    }\n",
       "\n",
       "    .dataframe thead th {\n",
       "        text-align: right;\n",
       "    }\n",
       "</style>\n",
       "<table border=\"1\" class=\"dataframe\">\n",
       "  <thead>\n",
       "    <tr style=\"text-align: right;\">\n",
       "      <th></th>\n",
       "      <th>Country</th>\n",
       "      <th>Alpha-2 code</th>\n",
       "      <th>Alpha-3 code</th>\n",
       "      <th>Numeric</th>\n",
       "    </tr>\n",
       "  </thead>\n",
       "  <tbody>\n",
       "    <tr>\n",
       "      <th>0</th>\n",
       "      <td>Afghanistan</td>\n",
       "      <td>AF</td>\n",
       "      <td>AFG</td>\n",
       "      <td>4</td>\n",
       "    </tr>\n",
       "    <tr>\n",
       "      <th>1</th>\n",
       "      <td>Albania</td>\n",
       "      <td>AL</td>\n",
       "      <td>ALB</td>\n",
       "      <td>8</td>\n",
       "    </tr>\n",
       "    <tr>\n",
       "      <th>2</th>\n",
       "      <td>Algeria</td>\n",
       "      <td>DZ</td>\n",
       "      <td>DZA</td>\n",
       "      <td>12</td>\n",
       "    </tr>\n",
       "    <tr>\n",
       "      <th>3</th>\n",
       "      <td>American Samoa</td>\n",
       "      <td>AS</td>\n",
       "      <td>ASM</td>\n",
       "      <td>16</td>\n",
       "    </tr>\n",
       "    <tr>\n",
       "      <th>4</th>\n",
       "      <td>Andorra</td>\n",
       "      <td>AD</td>\n",
       "      <td>AND</td>\n",
       "      <td>20</td>\n",
       "    </tr>\n",
       "  </tbody>\n",
       "</table>\n",
       "</div>"
      ],
      "text/plain": [
       "          Country Alpha-2 code Alpha-3 code  Numeric\n",
       "0     Afghanistan           AF          AFG        4\n",
       "1         Albania           AL          ALB        8\n",
       "2         Algeria           DZ          DZA       12\n",
       "3  American Samoa           AS          ASM       16\n",
       "4         Andorra           AD          AND       20"
      ]
     },
     "execution_count": 168,
     "metadata": {},
     "output_type": "execute_result"
    }
   ],
   "source": [
    "country_codes.head()"
   ]
  },
  {
   "cell_type": "code",
   "execution_count": 169,
   "id": "bf31cd47",
   "metadata": {},
   "outputs": [],
   "source": [
    "#merge melted_df and country_codes on Country column\n",
    "merged_df = pd.merge(melted_df, country_codes, on='Country', how='left') \n",
    "merged_df2 = pd.merge(melted_df2, country_codes, on='Country', how='left')\n",
    "merged_df3 = pd.merge(melted_df3, country_codes, on='Country', how='left')"
   ]
  },
  {
   "cell_type": "code",
   "execution_count": 170,
   "id": "14bfd292",
   "metadata": {},
   "outputs": [
    {
     "data": {
      "text/html": [
       "<div>\n",
       "<style scoped>\n",
       "    .dataframe tbody tr th:only-of-type {\n",
       "        vertical-align: middle;\n",
       "    }\n",
       "\n",
       "    .dataframe tbody tr th {\n",
       "        vertical-align: top;\n",
       "    }\n",
       "\n",
       "    .dataframe thead th {\n",
       "        text-align: right;\n",
       "    }\n",
       "</style>\n",
       "<table border=\"1\" class=\"dataframe\">\n",
       "  <thead>\n",
       "    <tr style=\"text-align: right;\">\n",
       "      <th></th>\n",
       "      <th>Country</th>\n",
       "      <th>Year</th>\n",
       "      <th>Contribution of the construction sector to the GBD %</th>\n",
       "      <th>Alpha-2 code</th>\n",
       "      <th>Alpha-3 code</th>\n",
       "      <th>Numeric</th>\n",
       "    </tr>\n",
       "  </thead>\n",
       "  <tbody>\n",
       "    <tr>\n",
       "      <th>0</th>\n",
       "      <td>Ireland</td>\n",
       "      <td>2000</td>\n",
       "      <td>31.5</td>\n",
       "      <td>IE</td>\n",
       "      <td>IRL</td>\n",
       "      <td>372.0</td>\n",
       "    </tr>\n",
       "    <tr>\n",
       "      <th>1</th>\n",
       "      <td>Germany</td>\n",
       "      <td>2000</td>\n",
       "      <td>27.7</td>\n",
       "      <td>DE</td>\n",
       "      <td>DEU</td>\n",
       "      <td>276.0</td>\n",
       "    </tr>\n",
       "    <tr>\n",
       "      <th>2</th>\n",
       "      <td>Belgium</td>\n",
       "      <td>2000</td>\n",
       "      <td>24.9</td>\n",
       "      <td>BE</td>\n",
       "      <td>BEL</td>\n",
       "      <td>56.0</td>\n",
       "    </tr>\n",
       "    <tr>\n",
       "      <th>3</th>\n",
       "      <td>Denmark</td>\n",
       "      <td>2000</td>\n",
       "      <td>23.7</td>\n",
       "      <td>DK</td>\n",
       "      <td>DNK</td>\n",
       "      <td>208.0</td>\n",
       "    </tr>\n",
       "    <tr>\n",
       "      <th>4</th>\n",
       "      <td>Greece</td>\n",
       "      <td>2000</td>\n",
       "      <td>18.7</td>\n",
       "      <td>GR</td>\n",
       "      <td>GRC</td>\n",
       "      <td>300.0</td>\n",
       "    </tr>\n",
       "  </tbody>\n",
       "</table>\n",
       "</div>"
      ],
      "text/plain": [
       "   Country  Year  Contribution of the construction sector to the GBD %  \\\n",
       "0  Ireland  2000                                               31.5      \n",
       "1  Germany  2000                                               27.7      \n",
       "2  Belgium  2000                                               24.9      \n",
       "3  Denmark  2000                                               23.7      \n",
       "4   Greece  2000                                               18.7      \n",
       "\n",
       "  Alpha-2 code Alpha-3 code  Numeric  \n",
       "0           IE          IRL    372.0  \n",
       "1           DE          DEU    276.0  \n",
       "2           BE          BEL     56.0  \n",
       "3           DK          DNK    208.0  \n",
       "4           GR          GRC    300.0  "
      ]
     },
     "execution_count": 170,
     "metadata": {},
     "output_type": "execute_result"
    }
   ],
   "source": [
    "merged_df.head()"
   ]
  },
  {
   "cell_type": "code",
   "execution_count": 171,
   "id": "b75c0dab",
   "metadata": {},
   "outputs": [
    {
     "data": {
      "text/html": [
       "<div>\n",
       "<style scoped>\n",
       "    .dataframe tbody tr th:only-of-type {\n",
       "        vertical-align: middle;\n",
       "    }\n",
       "\n",
       "    .dataframe tbody tr th {\n",
       "        vertical-align: top;\n",
       "    }\n",
       "\n",
       "    .dataframe thead th {\n",
       "        text-align: right;\n",
       "    }\n",
       "</style>\n",
       "<table border=\"1\" class=\"dataframe\">\n",
       "  <thead>\n",
       "    <tr style=\"text-align: right;\">\n",
       "      <th></th>\n",
       "      <th>Country</th>\n",
       "      <th>Year</th>\n",
       "      <th>Labor force, total</th>\n",
       "      <th>Alpha-2 code</th>\n",
       "      <th>Alpha-3 code</th>\n",
       "      <th>Numeric</th>\n",
       "    </tr>\n",
       "  </thead>\n",
       "  <tbody>\n",
       "    <tr>\n",
       "      <th>0</th>\n",
       "      <td>Ireland</td>\n",
       "      <td>2000</td>\n",
       "      <td>1862430.0</td>\n",
       "      <td>IE</td>\n",
       "      <td>IRL</td>\n",
       "      <td>372.0</td>\n",
       "    </tr>\n",
       "    <tr>\n",
       "      <th>1</th>\n",
       "      <td>Germany</td>\n",
       "      <td>2000</td>\n",
       "      <td>39865801.0</td>\n",
       "      <td>DE</td>\n",
       "      <td>DEU</td>\n",
       "      <td>276.0</td>\n",
       "    </tr>\n",
       "    <tr>\n",
       "      <th>2</th>\n",
       "      <td>Belgium</td>\n",
       "      <td>2000</td>\n",
       "      <td>4416525.0</td>\n",
       "      <td>BE</td>\n",
       "      <td>BEL</td>\n",
       "      <td>56.0</td>\n",
       "    </tr>\n",
       "    <tr>\n",
       "      <th>3</th>\n",
       "      <td>Denmark</td>\n",
       "      <td>2000</td>\n",
       "      <td>2853060.0</td>\n",
       "      <td>DK</td>\n",
       "      <td>DNK</td>\n",
       "      <td>208.0</td>\n",
       "    </tr>\n",
       "    <tr>\n",
       "      <th>4</th>\n",
       "      <td>Greece</td>\n",
       "      <td>2000</td>\n",
       "      <td>4860889.0</td>\n",
       "      <td>GR</td>\n",
       "      <td>GRC</td>\n",
       "      <td>300.0</td>\n",
       "    </tr>\n",
       "  </tbody>\n",
       "</table>\n",
       "</div>"
      ],
      "text/plain": [
       "   Country  Year  Labor force, total Alpha-2 code Alpha-3 code  Numeric\n",
       "0  Ireland  2000           1862430.0           IE          IRL    372.0\n",
       "1  Germany  2000          39865801.0           DE          DEU    276.0\n",
       "2  Belgium  2000           4416525.0           BE          BEL     56.0\n",
       "3  Denmark  2000           2853060.0           DK          DNK    208.0\n",
       "4   Greece  2000           4860889.0           GR          GRC    300.0"
      ]
     },
     "execution_count": 171,
     "metadata": {},
     "output_type": "execute_result"
    }
   ],
   "source": [
    "merged_df2.head()"
   ]
  },
  {
   "cell_type": "code",
   "execution_count": 172,
   "id": "79af480d",
   "metadata": {},
   "outputs": [
    {
     "data": {
      "text/html": [
       "<div>\n",
       "<style scoped>\n",
       "    .dataframe tbody tr th:only-of-type {\n",
       "        vertical-align: middle;\n",
       "    }\n",
       "\n",
       "    .dataframe tbody tr th {\n",
       "        vertical-align: top;\n",
       "    }\n",
       "\n",
       "    .dataframe thead th {\n",
       "        text-align: right;\n",
       "    }\n",
       "</style>\n",
       "<table border=\"1\" class=\"dataframe\">\n",
       "  <thead>\n",
       "    <tr style=\"text-align: right;\">\n",
       "      <th></th>\n",
       "      <th>Country</th>\n",
       "      <th>Year</th>\n",
       "      <th>Unemployment, total (% of total labor force)</th>\n",
       "      <th>Alpha-2 code</th>\n",
       "      <th>Alpha-3 code</th>\n",
       "      <th>Numeric</th>\n",
       "    </tr>\n",
       "  </thead>\n",
       "  <tbody>\n",
       "    <tr>\n",
       "      <th>0</th>\n",
       "      <td>Ireland</td>\n",
       "      <td>2000</td>\n",
       "      <td>4.3</td>\n",
       "      <td>IE</td>\n",
       "      <td>IRL</td>\n",
       "      <td>372.0</td>\n",
       "    </tr>\n",
       "    <tr>\n",
       "      <th>1</th>\n",
       "      <td>Germany</td>\n",
       "      <td>2000</td>\n",
       "      <td>7.9</td>\n",
       "      <td>DE</td>\n",
       "      <td>DEU</td>\n",
       "      <td>276.0</td>\n",
       "    </tr>\n",
       "    <tr>\n",
       "      <th>2</th>\n",
       "      <td>Belgium</td>\n",
       "      <td>2000</td>\n",
       "      <td>6.6</td>\n",
       "      <td>BE</td>\n",
       "      <td>BEL</td>\n",
       "      <td>56.0</td>\n",
       "    </tr>\n",
       "    <tr>\n",
       "      <th>3</th>\n",
       "      <td>Denmark</td>\n",
       "      <td>2000</td>\n",
       "      <td>4.5</td>\n",
       "      <td>DK</td>\n",
       "      <td>DNK</td>\n",
       "      <td>208.0</td>\n",
       "    </tr>\n",
       "    <tr>\n",
       "      <th>4</th>\n",
       "      <td>Greece</td>\n",
       "      <td>2000</td>\n",
       "      <td>11.3</td>\n",
       "      <td>GR</td>\n",
       "      <td>GRC</td>\n",
       "      <td>300.0</td>\n",
       "    </tr>\n",
       "  </tbody>\n",
       "</table>\n",
       "</div>"
      ],
      "text/plain": [
       "   Country  Year  Unemployment, total (% of total labor force) Alpha-2 code  \\\n",
       "0  Ireland  2000                                           4.3           IE   \n",
       "1  Germany  2000                                           7.9           DE   \n",
       "2  Belgium  2000                                           6.6           BE   \n",
       "3  Denmark  2000                                           4.5           DK   \n",
       "4   Greece  2000                                          11.3           GR   \n",
       "\n",
       "  Alpha-3 code  Numeric  \n",
       "0          IRL    372.0  \n",
       "1          DEU    276.0  \n",
       "2          BEL     56.0  \n",
       "3          DNK    208.0  \n",
       "4          GRC    300.0  "
      ]
     },
     "execution_count": 172,
     "metadata": {},
     "output_type": "execute_result"
    }
   ],
   "source": [
    "merged_df3.head()"
   ]
  },
  {
   "cell_type": "code",
   "execution_count": 173,
   "id": "bcc7aec3",
   "metadata": {},
   "outputs": [],
   "source": [
    "merged_df[\"Alpha-3 code\"].fillna(merged_df[\"Country\"].str[:3].str.upper(), inplace=True)\n",
    "merged_df2[\"Alpha-3 code\"].fillna(merged_df2[\"Country\"].str[:3].str.upper(), inplace=True)\n",
    "merged_df3[\"Alpha-3 code\"].fillna(merged_df3[\"Country\"].str[:3].str.upper(), inplace=True)"
   ]
  },
  {
   "cell_type": "code",
   "execution_count": 174,
   "id": "7fa25992",
   "metadata": {},
   "outputs": [],
   "source": [
    "#change united states to USA\n",
    "merged_df.loc[merged_df[\"Country\"] == \"United States\", \"Alpha-3 code\"] = \"USA\"\n",
    "#change united kingdom to GBR\n",
    "merged_df.loc[merged_df[\"Country\"] == \"United Kingdom\", \"Alpha-3 code\"] = \"GBR\"\n",
    "\n",
    "#change united states to USA\n",
    "merged_df2.loc[merged_df2[\"Country\"] == \"United States\", \"Alpha-3 code\"] = \"USA\"\n",
    "#change united kingdom to GBR\n",
    "merged_df2.loc[merged_df2[\"Country\"] == \"United Kingdom\", \"Alpha-3 code\"] = \"GBR\"\n",
    "\n",
    "#change united states to USA\n",
    "merged_df3.loc[merged_df3[\"Country\"] == \"United States\", \"Alpha-3 code\"] = \"USA\"\n",
    "#change united kingdom to GBR\n",
    "merged_df3.loc[merged_df3[\"Country\"] == \"United Kingdom\", \"Alpha-3 code\"] = \"GBR\""
   ]
  },
  {
   "cell_type": "code",
   "execution_count": 175,
   "id": "39c7bb6b",
   "metadata": {},
   "outputs": [
    {
     "data": {
      "application/vnd.plotly.v1+json": {
       "config": {
        "plotlyServerURL": "https://plot.ly"
       },
       "data": [
        {
         "coloraxis": "coloraxis",
         "geo": "geo",
         "hovertemplate": "<b>%{hovertext}</b><br><br>Year=2000<br>Alpha-3 code=%{location}<br>Labor force, total=%{z}<extra></extra>",
         "hovertext": [
          "Ireland",
          "Germany",
          "Belgium",
          "Denmark",
          "Greece",
          "Spain",
          "Italy",
          "Netherlands",
          "Norway",
          "Austria",
          "Hungary",
          "Slovak Republic",
          "Slovenia",
          "Poland",
          "Sweden",
          "Finland",
          "Switzerland",
          "Croatia",
          "Serbia",
          "Portugal",
          "Latvia",
          "France",
          "Afghanistan",
          "Albania",
          "Algeria",
          "Argentina",
          "Australia",
          "Azerbaijan",
          "Belarus",
          "Brazil",
          "Bulgaria",
          "Canada",
          "Chile",
          "China",
          "Colombia",
          "Costa Rica",
          "Cyprus",
          "Ecuador",
          "Egypt, Arab Rep.",
          "Estonia",
          "Hong Kong SAR, China",
          "Iceland",
          "India",
          "Indonesia",
          "Israel",
          "Japan",
          "Kazakhstan",
          "Korea, Rep.",
          "Lithuania",
          "Malaysia",
          "Malta",
          "Mexico",
          "New Zealand",
          "Nigeria",
          "North Macedonia",
          "Pakistan",
          "Peru",
          "Philippines",
          "Romania",
          "Russian Federation",
          "Singapore",
          "South Africa",
          "Thailand",
          "Tunisia",
          "Turkiye",
          "Ukraine",
          "United Kingdom",
          "United States"
         ],
         "locations": [
          "IRL",
          "DEU",
          "BEL",
          "DNK",
          "GRC",
          "ESP",
          "ITA",
          "NET",
          "NOR",
          "AUT",
          "HUN",
          "SLO",
          "SVN",
          "POL",
          "SWE",
          "FIN",
          "CHE",
          "HRV",
          "SRB",
          "PRT",
          "LVA",
          "FRA",
          "AFG",
          "ALB",
          "DZA",
          "ARG",
          "AUS",
          "AZE",
          "BLR",
          "BRA",
          "BGR",
          "CAN",
          "CHL",
          "CHN",
          "COL",
          "CRI",
          "CYP",
          "ECU",
          "EGY",
          "EST",
          "HON",
          "ISL",
          "IND",
          "IDN",
          "ISR",
          "JPN",
          "KAZ",
          "KOR",
          "LTU",
          "MYS",
          "MLT",
          "MEX",
          "NZL",
          "NGA",
          "NOR",
          "PAK",
          "PER",
          "PHI",
          "ROU",
          "RUS",
          "SGP",
          "ZAF",
          "THA",
          "TUN",
          "TUR",
          "UKR",
          "GBR",
          "USA"
         ],
         "name": "",
         "type": "choropleth",
         "z": [
          1862430,
          39865801,
          4416525,
          2853060,
          4860889,
          18242081,
          23493362,
          8237559,
          2406851,
          3899806,
          4187699,
          2585455,
          958896,
          17472615,
          4486903,
          2583129,
          3998850,
          1932906,
          3503520,
          5232792,
          1095654,
          27582517,
          4594699,
          1317402,
          8926622,
          16591905,
          9523255,
          4268500,
          4792992,
          79347235,
          3459130,
          16308539,
          6281817,
          731993935,
          17858301,
          1619332,
          444376,
          5171107,
          20772661,
          677885,
          3353910,
          169444,
          393669897,
          100650982,
          2775397,
          67817652,
          7596246,
          22867804,
          1693580,
          9352131,
          154307,
          38388394,
          1943274,
          41892033,
          830995,
          44418607,
          11468982,
          29806287,
          11764752,
          73324995,
          2155004,
          18506395,
          34800731,
          3279579,
          22057291,
          23195753,
          29511805,
          146165416
         ]
        }
       ],
       "frames": [
        {
         "data": [
          {
           "coloraxis": "coloraxis",
           "geo": "geo",
           "hovertemplate": "<b>%{hovertext}</b><br><br>Year=2000<br>Alpha-3 code=%{location}<br>Labor force, total=%{z}<extra></extra>",
           "hovertext": [
            "Ireland",
            "Germany",
            "Belgium",
            "Denmark",
            "Greece",
            "Spain",
            "Italy",
            "Netherlands",
            "Norway",
            "Austria",
            "Hungary",
            "Slovak Republic",
            "Slovenia",
            "Poland",
            "Sweden",
            "Finland",
            "Switzerland",
            "Croatia",
            "Serbia",
            "Portugal",
            "Latvia",
            "France",
            "Afghanistan",
            "Albania",
            "Algeria",
            "Argentina",
            "Australia",
            "Azerbaijan",
            "Belarus",
            "Brazil",
            "Bulgaria",
            "Canada",
            "Chile",
            "China",
            "Colombia",
            "Costa Rica",
            "Cyprus",
            "Ecuador",
            "Egypt, Arab Rep.",
            "Estonia",
            "Hong Kong SAR, China",
            "Iceland",
            "India",
            "Indonesia",
            "Israel",
            "Japan",
            "Kazakhstan",
            "Korea, Rep.",
            "Lithuania",
            "Malaysia",
            "Malta",
            "Mexico",
            "New Zealand",
            "Nigeria",
            "North Macedonia",
            "Pakistan",
            "Peru",
            "Philippines",
            "Romania",
            "Russian Federation",
            "Singapore",
            "South Africa",
            "Thailand",
            "Tunisia",
            "Turkiye",
            "Ukraine",
            "United Kingdom",
            "United States"
           ],
           "locations": [
            "IRL",
            "DEU",
            "BEL",
            "DNK",
            "GRC",
            "ESP",
            "ITA",
            "NET",
            "NOR",
            "AUT",
            "HUN",
            "SLO",
            "SVN",
            "POL",
            "SWE",
            "FIN",
            "CHE",
            "HRV",
            "SRB",
            "PRT",
            "LVA",
            "FRA",
            "AFG",
            "ALB",
            "DZA",
            "ARG",
            "AUS",
            "AZE",
            "BLR",
            "BRA",
            "BGR",
            "CAN",
            "CHL",
            "CHN",
            "COL",
            "CRI",
            "CYP",
            "ECU",
            "EGY",
            "EST",
            "HON",
            "ISL",
            "IND",
            "IDN",
            "ISR",
            "JPN",
            "KAZ",
            "KOR",
            "LTU",
            "MYS",
            "MLT",
            "MEX",
            "NZL",
            "NGA",
            "NOR",
            "PAK",
            "PER",
            "PHI",
            "ROU",
            "RUS",
            "SGP",
            "ZAF",
            "THA",
            "TUN",
            "TUR",
            "UKR",
            "GBR",
            "USA"
           ],
           "name": "",
           "type": "choropleth",
           "z": [
            1862430,
            39865801,
            4416525,
            2853060,
            4860889,
            18242081,
            23493362,
            8237559,
            2406851,
            3899806,
            4187699,
            2585455,
            958896,
            17472615,
            4486903,
            2583129,
            3998850,
            1932906,
            3503520,
            5232792,
            1095654,
            27582517,
            4594699,
            1317402,
            8926622,
            16591905,
            9523255,
            4268500,
            4792992,
            79347235,
            3459130,
            16308539,
            6281817,
            731993935,
            17858301,
            1619332,
            444376,
            5171107,
            20772661,
            677885,
            3353910,
            169444,
            393669897,
            100650982,
            2775397,
            67817652,
            7596246,
            22867804,
            1693580,
            9352131,
            154307,
            38388394,
            1943274,
            41892033,
            830995,
            44418607,
            11468982,
            29806287,
            11764752,
            73324995,
            2155004,
            18506395,
            34800731,
            3279579,
            22057291,
            23195753,
            29511805,
            146165416
           ]
          }
         ],
         "name": "2000"
        },
        {
         "data": [
          {
           "coloraxis": "coloraxis",
           "geo": "geo",
           "hovertemplate": "<b>%{hovertext}</b><br><br>Year=2001<br>Alpha-3 code=%{location}<br>Labor force, total=%{z}<extra></extra>",
           "hovertext": [
            "Ireland",
            "Germany",
            "Belgium",
            "Denmark",
            "Greece",
            "Spain",
            "Italy",
            "Netherlands",
            "Norway",
            "Austria",
            "Hungary",
            "Slovak Republic",
            "Slovenia",
            "Poland",
            "Sweden",
            "Finland",
            "Switzerland",
            "Croatia",
            "Serbia",
            "Portugal",
            "Latvia",
            "France",
            "Afghanistan",
            "Albania",
            "Algeria",
            "Argentina",
            "Australia",
            "Azerbaijan",
            "Belarus",
            "Brazil",
            "Bulgaria",
            "Canada",
            "Chile",
            "China",
            "Colombia",
            "Costa Rica",
            "Cyprus",
            "Ecuador",
            "Egypt, Arab Rep.",
            "Estonia",
            "Hong Kong SAR, China",
            "Iceland",
            "India",
            "Indonesia",
            "Israel",
            "Japan",
            "Kazakhstan",
            "Korea, Rep.",
            "Lithuania",
            "Malaysia",
            "Malta",
            "Mexico",
            "New Zealand",
            "Nigeria",
            "North Macedonia",
            "Pakistan",
            "Peru",
            "Philippines",
            "Romania",
            "Russian Federation",
            "Singapore",
            "South Africa",
            "Thailand",
            "Tunisia",
            "Turkiye",
            "Ukraine",
            "United Kingdom",
            "United States"
           ],
           "locations": [
            "IRL",
            "DEU",
            "BEL",
            "DNK",
            "GRC",
            "ESP",
            "ITA",
            "NET",
            "NOR",
            "AUT",
            "HUN",
            "SLO",
            "SVN",
            "POL",
            "SWE",
            "FIN",
            "CHE",
            "HRV",
            "SRB",
            "PRT",
            "LVA",
            "FRA",
            "AFG",
            "ALB",
            "DZA",
            "ARG",
            "AUS",
            "AZE",
            "BLR",
            "BRA",
            "BGR",
            "CAN",
            "CHL",
            "CHN",
            "COL",
            "CRI",
            "CYP",
            "ECU",
            "EGY",
            "EST",
            "HON",
            "ISL",
            "IND",
            "IDN",
            "ISR",
            "JPN",
            "KAZ",
            "KOR",
            "LTU",
            "MYS",
            "MLT",
            "MEX",
            "NZL",
            "NGA",
            "NOR",
            "PAK",
            "PER",
            "PHI",
            "ROU",
            "RUS",
            "SGP",
            "ZAF",
            "THA",
            "TUN",
            "TUR",
            "UKR",
            "GBR",
            "USA"
           ],
           "name": "",
           "type": "choropleth",
           "z": [
            1898123,
            40029198,
            4315763,
            2841507,
            4819343,
            18127540,
            23598179,
            8384016,
            2420368,
            3895879,
            4152274,
            2633285,
            969299,
            17667209,
            4558776,
            2606649,
            4062012,
            1845629,
            3481070,
            5335194,
            1098210,
            27705599,
            4618603,
            1304704,
            9145785,
            16648514,
            9692915,
            4236119,
            4840761,
            81451849,
            3488558,
            16585664,
            6292422,
            739359562,
            18268713,
            1727162,
            466012,
            5345861,
            20792031,
            666973,
            3439630,
            171255,
            399564197,
            101677754,
            2847056,
            67626063,
            7610812,
            23226360,
            1658207,
            9627564,
            157941,
            38822947,
            1975886,
            43015210,
            834571,
            46217130,
            12261413,
            30525600,
            11455443,
            72154594,
            2220182,
            18895840,
            35667412,
            3332508,
            22466618,
            23064790,
            29521902,
            147200475
           ]
          }
         ],
         "name": "2001"
        },
        {
         "data": [
          {
           "coloraxis": "coloraxis",
           "geo": "geo",
           "hovertemplate": "<b>%{hovertext}</b><br><br>Year=2002<br>Alpha-3 code=%{location}<br>Labor force, total=%{z}<extra></extra>",
           "hovertext": [
            "Ireland",
            "Germany",
            "Belgium",
            "Denmark",
            "Greece",
            "Spain",
            "Italy",
            "Netherlands",
            "Norway",
            "Austria",
            "Hungary",
            "Slovak Republic",
            "Slovenia",
            "Poland",
            "Sweden",
            "Finland",
            "Switzerland",
            "Croatia",
            "Serbia",
            "Portugal",
            "Latvia",
            "France",
            "Afghanistan",
            "Albania",
            "Algeria",
            "Argentina",
            "Australia",
            "Azerbaijan",
            "Belarus",
            "Brazil",
            "Bulgaria",
            "Canada",
            "Chile",
            "China",
            "Colombia",
            "Costa Rica",
            "Cyprus",
            "Ecuador",
            "Egypt, Arab Rep.",
            "Estonia",
            "Hong Kong SAR, China",
            "Iceland",
            "India",
            "Indonesia",
            "Israel",
            "Japan",
            "Kazakhstan",
            "Korea, Rep.",
            "Lithuania",
            "Malaysia",
            "Malta",
            "Mexico",
            "New Zealand",
            "Nigeria",
            "North Macedonia",
            "Pakistan",
            "Peru",
            "Philippines",
            "Romania",
            "Russian Federation",
            "Singapore",
            "South Africa",
            "Thailand",
            "Tunisia",
            "Turkiye",
            "Ukraine",
            "United Kingdom",
            "United States"
           ],
           "locations": [
            "IRL",
            "DEU",
            "BEL",
            "DNK",
            "GRC",
            "ESP",
            "ITA",
            "NET",
            "NOR",
            "AUT",
            "HUN",
            "SLO",
            "SVN",
            "POL",
            "SWE",
            "FIN",
            "CHE",
            "HRV",
            "SRB",
            "PRT",
            "LVA",
            "FRA",
            "AFG",
            "ALB",
            "DZA",
            "ARG",
            "AUS",
            "AZE",
            "BLR",
            "BRA",
            "BGR",
            "CAN",
            "CHL",
            "CHN",
            "COL",
            "CRI",
            "CYP",
            "ECU",
            "EGY",
            "EST",
            "HON",
            "ISL",
            "IND",
            "IDN",
            "ISR",
            "JPN",
            "KAZ",
            "KOR",
            "LTU",
            "MYS",
            "MLT",
            "MEX",
            "NZL",
            "NGA",
            "NOR",
            "PAK",
            "PER",
            "PHI",
            "ROU",
            "RUS",
            "SGP",
            "ZAF",
            "THA",
            "TUN",
            "TUR",
            "UKR",
            "GBR",
            "USA"
           ],
           "name": "",
           "type": "choropleth",
           "z": [
            1941828,
            40056637,
            4365043,
            2868928,
            4881094,
            18960316,
            23868583,
            8532973,
            2442182,
            3971245,
            4157742,
            2620049,
            982517,
            17427664,
            4579588,
            2618114,
            4103899,
            1833312,
            3461147,
            5419875,
            1121199,
            28039182,
            4924226,
            1308103,
            9355943,
            16474698,
            9837966,
            4204886,
            4874607,
            84252471,
            3393905,
            17068694,
            6348066,
            747567965,
            18646802,
            1762911,
            478168,
            5528235,
            20589710,
            654956,
            3493929,
            170967,
            405389781,
            101821401,
            2873038,
            67075751,
            7659421,
            23664352,
            1641395,
            9908787,
            159672,
            39346853,
            2038452,
            44142710,
            829478,
            47679897,
            12717766,
            31234882,
            10362670,
            73004525,
            2217150,
            19289342,
            36214889,
            3382757,
            22818051,
            22951193,
            29839231,
            148166550
           ]
          }
         ],
         "name": "2002"
        },
        {
         "data": [
          {
           "coloraxis": "coloraxis",
           "geo": "geo",
           "hovertemplate": "<b>%{hovertext}</b><br><br>Year=2003<br>Alpha-3 code=%{location}<br>Labor force, total=%{z}<extra></extra>",
           "hovertext": [
            "Ireland",
            "Germany",
            "Belgium",
            "Denmark",
            "Greece",
            "Spain",
            "Italy",
            "Netherlands",
            "Norway",
            "Austria",
            "Hungary",
            "Slovak Republic",
            "Slovenia",
            "Poland",
            "Sweden",
            "Finland",
            "Switzerland",
            "Croatia",
            "Serbia",
            "Portugal",
            "Latvia",
            "France",
            "Afghanistan",
            "Albania",
            "Algeria",
            "Argentina",
            "Australia",
            "Azerbaijan",
            "Belarus",
            "Brazil",
            "Bulgaria",
            "Canada",
            "Chile",
            "China",
            "Colombia",
            "Costa Rica",
            "Cyprus",
            "Ecuador",
            "Egypt, Arab Rep.",
            "Estonia",
            "Hong Kong SAR, China",
            "Iceland",
            "India",
            "Indonesia",
            "Israel",
            "Japan",
            "Kazakhstan",
            "Korea, Rep.",
            "Lithuania",
            "Malaysia",
            "Malta",
            "Mexico",
            "New Zealand",
            "Nigeria",
            "North Macedonia",
            "Pakistan",
            "Peru",
            "Philippines",
            "Romania",
            "Russian Federation",
            "Singapore",
            "South Africa",
            "Thailand",
            "Tunisia",
            "Turkiye",
            "Ukraine",
            "United Kingdom",
            "United States"
           ],
           "locations": [
            "IRL",
            "DEU",
            "BEL",
            "DNK",
            "GRC",
            "ESP",
            "ITA",
            "NET",
            "NOR",
            "AUT",
            "HUN",
            "SLO",
            "SVN",
            "POL",
            "SWE",
            "FIN",
            "CHE",
            "HRV",
            "SRB",
            "PRT",
            "LVA",
            "FRA",
            "AFG",
            "ALB",
            "DZA",
            "ARG",
            "AUS",
            "AZE",
            "BLR",
            "BRA",
            "BGR",
            "CAN",
            "CHL",
            "CHN",
            "COL",
            "CRI",
            "CYP",
            "ECU",
            "EGY",
            "EST",
            "HON",
            "ISL",
            "IND",
            "IDN",
            "ISR",
            "JPN",
            "KAZ",
            "KOR",
            "LTU",
            "MYS",
            "MLT",
            "MEX",
            "NZL",
            "NGA",
            "NOR",
            "PAK",
            "PER",
            "PHI",
            "ROU",
            "RUS",
            "SGP",
            "ZAF",
            "THA",
            "TUN",
            "TUR",
            "UKR",
            "GBR",
            "USA"
           ],
           "name": "",
           "type": "choropleth",
           "z": [
            1984446,
            40236914,
            4402418,
            2868194,
            4935423,
            19731180,
            24218787,
            8561053,
            2413804,
            4014293,
            4227774,
            2651818,
            959249,
            17342507,
            4607164,
            2620447,
            4151688,
            1808041,
            3440681,
            5442325,
            1101201,
            28620674,
            5315286,
            1294847,
            9556009,
            16943192,
            10013838,
            4180410,
            4897259,
            85732532,
            3322992,
            17463547,
            6524560,
            755273046,
            19258302,
            1819682,
            499598,
            5717711,
            21665373,
            675620,
            3479071,
            173624,
            411069163,
            103208209,
            2943707,
            66836856,
            7751505,
            23675016,
            1689186,
            10200556,
            160990,
            40436874,
            2079431,
            45276845,
            866336,
            49107668,
            13164270,
            31926684,
            10032640,
            72859792,
            2194671,
            19672944,
            36730283,
            3428609,
            22701681,
            22824874,
            30095093,
            148886198
           ]
          }
         ],
         "name": "2003"
        },
        {
         "data": [
          {
           "coloraxis": "coloraxis",
           "geo": "geo",
           "hovertemplate": "<b>%{hovertext}</b><br><br>Year=2004<br>Alpha-3 code=%{location}<br>Labor force, total=%{z}<extra></extra>",
           "hovertext": [
            "Ireland",
            "Germany",
            "Belgium",
            "Denmark",
            "Greece",
            "Spain",
            "Italy",
            "Netherlands",
            "Norway",
            "Austria",
            "Hungary",
            "Slovak Republic",
            "Slovenia",
            "Poland",
            "Sweden",
            "Finland",
            "Switzerland",
            "Croatia",
            "Serbia",
            "Portugal",
            "Latvia",
            "France",
            "Afghanistan",
            "Albania",
            "Algeria",
            "Argentina",
            "Australia",
            "Azerbaijan",
            "Belarus",
            "Brazil",
            "Bulgaria",
            "Canada",
            "Chile",
            "China",
            "Colombia",
            "Costa Rica",
            "Cyprus",
            "Ecuador",
            "Egypt, Arab Rep.",
            "Estonia",
            "Hong Kong SAR, China",
            "Iceland",
            "India",
            "Indonesia",
            "Israel",
            "Japan",
            "Kazakhstan",
            "Korea, Rep.",
            "Lithuania",
            "Malaysia",
            "Malta",
            "Mexico",
            "New Zealand",
            "Nigeria",
            "North Macedonia",
            "Pakistan",
            "Peru",
            "Philippines",
            "Romania",
            "Russian Federation",
            "Singapore",
            "South Africa",
            "Thailand",
            "Tunisia",
            "Turkiye",
            "Ukraine",
            "United Kingdom",
            "United States"
           ],
           "locations": [
            "IRL",
            "DEU",
            "BEL",
            "DNK",
            "GRC",
            "ESP",
            "ITA",
            "NET",
            "NOR",
            "AUT",
            "HUN",
            "SLO",
            "SVN",
            "POL",
            "SWE",
            "FIN",
            "CHE",
            "HRV",
            "SRB",
            "PRT",
            "LVA",
            "FRA",
            "AFG",
            "ALB",
            "DZA",
            "ARG",
            "AUS",
            "AZE",
            "BLR",
            "BRA",
            "BGR",
            "CAN",
            "CHL",
            "CHN",
            "COL",
            "CRI",
            "CYP",
            "ECU",
            "EGY",
            "EST",
            "HON",
            "ISL",
            "IND",
            "IDN",
            "ISR",
            "JPN",
            "KAZ",
            "KOR",
            "LTU",
            "MYS",
            "MLT",
            "MEX",
            "NZL",
            "NGA",
            "NOR",
            "PAK",
            "PER",
            "PHI",
            "ROU",
            "RUS",
            "SGP",
            "ZAF",
            "THA",
            "TUN",
            "TUR",
            "UKR",
            "GBR",
            "USA"
           ],
           "name": "",
           "type": "choropleth",
           "z": [
            2033886,
            40039826,
            4485839,
            2895623,
            5019191,
            20419303,
            24606509,
            8618836,
            2426671,
            3919678,
            4203079,
            2668909,
            1006288,
            17315015,
            4622281,
            2612340,
            4156364,
            1844858,
            3409090,
            5418926,
            1101406,
            28778198,
            5541238,
            1281167,
            9747177,
            17425150,
            10126070,
            4114099,
            4914756,
            88065748,
            3353786,
            17673742,
            6686711,
            762251057,
            19248116,
            1828417,
            510737,
            6049202,
            22756745,
            677677,
            3525372,
            173541,
            416629768,
            105014968,
            3023076,
            66578272,
            7852764,
            24194814,
            1596580,
            10504004,
            158551,
            41700422,
            2137161,
            46434996,
            870793,
            50663082,
            13601183,
            32900743,
            9978945,
            73624057,
            2234837,
            20036920,
            37474638,
            3468620,
            22213390,
            22682516,
            30341589,
            150113013
           ]
          }
         ],
         "name": "2004"
        },
        {
         "data": [
          {
           "coloraxis": "coloraxis",
           "geo": "geo",
           "hovertemplate": "<b>%{hovertext}</b><br><br>Year=2005<br>Alpha-3 code=%{location}<br>Labor force, total=%{z}<extra></extra>",
           "hovertext": [
            "Ireland",
            "Germany",
            "Belgium",
            "Denmark",
            "Greece",
            "Spain",
            "Italy",
            "Netherlands",
            "Norway",
            "Austria",
            "Hungary",
            "Slovak Republic",
            "Slovenia",
            "Poland",
            "Sweden",
            "Finland",
            "Switzerland",
            "Croatia",
            "Serbia",
            "Portugal",
            "Latvia",
            "France",
            "Afghanistan",
            "Albania",
            "Algeria",
            "Argentina",
            "Australia",
            "Azerbaijan",
            "Belarus",
            "Brazil",
            "Bulgaria",
            "Canada",
            "Chile",
            "China",
            "Colombia",
            "Costa Rica",
            "Cyprus",
            "Ecuador",
            "Egypt, Arab Rep.",
            "Estonia",
            "Hong Kong SAR, China",
            "Iceland",
            "India",
            "Indonesia",
            "Israel",
            "Japan",
            "Kazakhstan",
            "Korea, Rep.",
            "Lithuania",
            "Malaysia",
            "Malta",
            "Mexico",
            "New Zealand",
            "Nigeria",
            "North Macedonia",
            "Pakistan",
            "Peru",
            "Philippines",
            "Romania",
            "Russian Federation",
            "Singapore",
            "South Africa",
            "Thailand",
            "Tunisia",
            "Turkiye",
            "Ukraine",
            "United Kingdom",
            "United States"
           ],
           "locations": [
            "IRL",
            "DEU",
            "BEL",
            "DNK",
            "GRC",
            "ESP",
            "ITA",
            "NET",
            "NOR",
            "AUT",
            "HUN",
            "SLO",
            "SVN",
            "POL",
            "SWE",
            "FIN",
            "CHE",
            "HRV",
            "SRB",
            "PRT",
            "LVA",
            "FRA",
            "AFG",
            "ALB",
            "DZA",
            "ARG",
            "AUS",
            "AZE",
            "BLR",
            "BRA",
            "BGR",
            "CAN",
            "CHL",
            "CHN",
            "COL",
            "CRI",
            "CYP",
            "ECU",
            "EGY",
            "EST",
            "HON",
            "ISL",
            "IND",
            "IDN",
            "ISR",
            "JPN",
            "KAZ",
            "KOR",
            "LTU",
            "MYS",
            "MLT",
            "MEX",
            "NZL",
            "NGA",
            "NOR",
            "PAK",
            "PER",
            "PHI",
            "ROU",
            "RUS",
            "SGP",
            "ZAF",
            "THA",
            "TUN",
            "TUR",
            "UKR",
            "GBR",
            "USA"
           ],
           "name": "",
           "type": "choropleth",
           "z": [
            2151141,
            41239999,
            4626679,
            2893154,
            5019255,
            21197697,
            24448131,
            8457142,
            2438548,
            4046427,
            4272899,
            2656907,
            1015563,
            17594853,
            4690191,
            2632616,
            4176327,
            1796375,
            3384095,
            5464806,
            1094452,
            29016873,
            5787757,
            1266465,
            9916026,
            17545905,
            10426942,
            4115696,
            4930387,
            90599379,
            3282858,
            17819057,
            6849194,
            769371812,
            19445700,
            1943857,
            524879,
            6151040,
            23853891,
            673381,
            3550951,
            175622,
            421959547,
            104711524,
            3101315,
            66666567,
            7926592,
            24332457,
            1557095,
            10820941,
            161910,
            43124092,
            2194998,
            47613325,
            875083,
            51747302,
            14024859,
            33734285,
            9663356,
            74033539,
            2318170,
            20373728,
            38143753,
            3502286,
            22722966,
            22529601,
            30813208,
            152044690
           ]
          }
         ],
         "name": "2005"
        },
        {
         "data": [
          {
           "coloraxis": "coloraxis",
           "geo": "geo",
           "hovertemplate": "<b>%{hovertext}</b><br><br>Year=2006<br>Alpha-3 code=%{location}<br>Labor force, total=%{z}<extra></extra>",
           "hovertext": [
            "Ireland",
            "Germany",
            "Belgium",
            "Denmark",
            "Greece",
            "Spain",
            "Italy",
            "Netherlands",
            "Norway",
            "Austria",
            "Hungary",
            "Slovak Republic",
            "Slovenia",
            "Poland",
            "Sweden",
            "Finland",
            "Switzerland",
            "Croatia",
            "Serbia",
            "Portugal",
            "Latvia",
            "France",
            "Afghanistan",
            "Albania",
            "Algeria",
            "Argentina",
            "Australia",
            "Azerbaijan",
            "Belarus",
            "Brazil",
            "Bulgaria",
            "Canada",
            "Chile",
            "China",
            "Colombia",
            "Costa Rica",
            "Cyprus",
            "Ecuador",
            "Egypt, Arab Rep.",
            "Estonia",
            "Hong Kong SAR, China",
            "Iceland",
            "India",
            "Indonesia",
            "Israel",
            "Japan",
            "Kazakhstan",
            "Korea, Rep.",
            "Lithuania",
            "Malaysia",
            "Malta",
            "Mexico",
            "New Zealand",
            "Nigeria",
            "North Macedonia",
            "Pakistan",
            "Peru",
            "Philippines",
            "Romania",
            "Russian Federation",
            "Singapore",
            "South Africa",
            "Thailand",
            "Tunisia",
            "Turkiye",
            "Ukraine",
            "United Kingdom",
            "United States"
           ],
           "locations": [
            "IRL",
            "DEU",
            "BEL",
            "DNK",
            "GRC",
            "ESP",
            "ITA",
            "NET",
            "NOR",
            "AUT",
            "HUN",
            "SLO",
            "SVN",
            "POL",
            "SWE",
            "FIN",
            "CHE",
            "HRV",
            "SRB",
            "PRT",
            "LVA",
            "FRA",
            "AFG",
            "ALB",
            "DZA",
            "ARG",
            "AUS",
            "AZE",
            "BLR",
            "BRA",
            "BGR",
            "CAN",
            "CHL",
            "CHN",
            "COL",
            "CRI",
            "CYP",
            "ECU",
            "EGY",
            "EST",
            "HON",
            "ISL",
            "IND",
            "IDN",
            "ISR",
            "JPN",
            "KAZ",
            "KOR",
            "LTU",
            "MYS",
            "MLT",
            "MEX",
            "NZL",
            "NGA",
            "NOR",
            "PAK",
            "PER",
            "PHI",
            "ROU",
            "RUS",
            "SGP",
            "ZAF",
            "THA",
            "TUN",
            "TUR",
            "UKR",
            "GBR",
            "USA"
           ],
           "name": "",
           "type": "choropleth",
           "z": [
            2241382,
            41693116,
            4646803,
            2917717,
            5043207,
            21880145,
            24509227,
            8508765,
            2466637,
            4114656,
            4323154,
            2655462,
            1021520,
            17372553,
            4768932,
            2660139,
            4239193,
            1785298,
            3362431,
            5500215,
            1121857,
            29193291,
            6071864,
            1249959,
            10077549,
            17877291,
            10650659,
            4093836,
            4947148,
            91731711,
            3369624,
            18035498,
            7114930,
            774287037,
            19455601,
            1977908,
            541304,
            6391164,
            24954020,
            692994,
            3614884,
            183451,
            431250073,
            106146819,
            3180735,
            66782268,
            8071657,
            24612208,
            1513906,
            11150813,
            163788,
            44563447,
            2245893,
            48846711,
            880115,
            52830352,
            14824999,
            34451252,
            9809182,
            74402127,
            2425007,
            20698572,
            38276335,
            3572996,
            22701823,
            22365498,
            31317980,
            154154002
           ]
          }
         ],
         "name": "2006"
        },
        {
         "data": [
          {
           "coloraxis": "coloraxis",
           "geo": "geo",
           "hovertemplate": "<b>%{hovertext}</b><br><br>Year=2007<br>Alpha-3 code=%{location}<br>Labor force, total=%{z}<extra></extra>",
           "hovertext": [
            "Ireland",
            "Germany",
            "Belgium",
            "Denmark",
            "Greece",
            "Spain",
            "Italy",
            "Netherlands",
            "Norway",
            "Austria",
            "Hungary",
            "Slovak Republic",
            "Slovenia",
            "Poland",
            "Sweden",
            "Finland",
            "Switzerland",
            "Croatia",
            "Serbia",
            "Portugal",
            "Latvia",
            "France",
            "Afghanistan",
            "Albania",
            "Algeria",
            "Argentina",
            "Australia",
            "Azerbaijan",
            "Belarus",
            "Brazil",
            "Bulgaria",
            "Canada",
            "Chile",
            "China",
            "Colombia",
            "Costa Rica",
            "Cyprus",
            "Ecuador",
            "Egypt, Arab Rep.",
            "Estonia",
            "Hong Kong SAR, China",
            "Iceland",
            "India",
            "Indonesia",
            "Israel",
            "Japan",
            "Kazakhstan",
            "Korea, Rep.",
            "Lithuania",
            "Malaysia",
            "Malta",
            "Mexico",
            "New Zealand",
            "Nigeria",
            "North Macedonia",
            "Pakistan",
            "Peru",
            "Philippines",
            "Romania",
            "Russian Federation",
            "Singapore",
            "South Africa",
            "Thailand",
            "Tunisia",
            "Turkiye",
            "Ukraine",
            "United Kingdom",
            "United States"
           ],
           "locations": [
            "IRL",
            "DEU",
            "BEL",
            "DNK",
            "GRC",
            "ESP",
            "ITA",
            "NET",
            "NOR",
            "AUT",
            "HUN",
            "SLO",
            "SVN",
            "POL",
            "SWE",
            "FIN",
            "CHE",
            "HRV",
            "SRB",
            "PRT",
            "LVA",
            "FRA",
            "AFG",
            "ALB",
            "DZA",
            "ARG",
            "AUS",
            "AZE",
            "BLR",
            "BRA",
            "BGR",
            "CAN",
            "CHL",
            "CHN",
            "COL",
            "CRI",
            "CYP",
            "ECU",
            "EGY",
            "EST",
            "HON",
            "ISL",
            "IND",
            "IDN",
            "ISR",
            "JPN",
            "KAZ",
            "KOR",
            "LTU",
            "MYS",
            "MLT",
            "MEX",
            "NZL",
            "NGA",
            "NOR",
            "PAK",
            "PER",
            "PHI",
            "ROU",
            "RUS",
            "SGP",
            "ZAF",
            "THA",
            "TUN",
            "TUR",
            "UKR",
            "GBR",
            "USA"
           ],
           "name": "",
           "type": "choropleth",
           "z": [
            2336096,
            41861246,
            4728844,
            2924753,
            5031298,
            22508326,
            24473855,
            8674930,
            2525640,
            4201262,
            4306927,
            2655666,
            1035219,
            17358009,
            4844850,
            2687154,
            4307257,
            1924507,
            3362762,
            5534266,
            1137565,
            29457032,
            6119540,
            1231498,
            10244513,
            17924078,
            10937240,
            3998065,
            4970097,
            92730992,
            3432707,
            18382598,
            7297902,
            776045127,
            19444239,
            2050044,
            562541,
            6431063,
            26081669,
            690862,
            3662908,
            189725,
            440568412,
            111277707,
            3266238,
            66892223,
            8262978,
            24884098,
            1513018,
            11495136,
            167568,
            45486346,
            2277861,
            50110483,
            894899,
            54353926,
            15442460,
            35217804,
            9637035,
            75373649,
            2566826,
            21019310,
            39112784,
            3648430,
            23120323,
            22455476,
            31527354,
            155503665
           ]
          }
         ],
         "name": "2007"
        },
        {
         "data": [
          {
           "coloraxis": "coloraxis",
           "geo": "geo",
           "hovertemplate": "<b>%{hovertext}</b><br><br>Year=2008<br>Alpha-3 code=%{location}<br>Labor force, total=%{z}<extra></extra>",
           "hovertext": [
            "Ireland",
            "Germany",
            "Belgium",
            "Denmark",
            "Greece",
            "Spain",
            "Italy",
            "Netherlands",
            "Norway",
            "Austria",
            "Hungary",
            "Slovak Republic",
            "Slovenia",
            "Poland",
            "Sweden",
            "Finland",
            "Switzerland",
            "Croatia",
            "Serbia",
            "Portugal",
            "Latvia",
            "France",
            "Afghanistan",
            "Albania",
            "Algeria",
            "Argentina",
            "Australia",
            "Azerbaijan",
            "Belarus",
            "Brazil",
            "Bulgaria",
            "Canada",
            "Chile",
            "China",
            "Colombia",
            "Costa Rica",
            "Cyprus",
            "Ecuador",
            "Egypt, Arab Rep.",
            "Estonia",
            "Hong Kong SAR, China",
            "Iceland",
            "India",
            "Indonesia",
            "Israel",
            "Japan",
            "Kazakhstan",
            "Korea, Rep.",
            "Lithuania",
            "Malaysia",
            "Malta",
            "Mexico",
            "New Zealand",
            "Nigeria",
            "North Macedonia",
            "Pakistan",
            "Peru",
            "Philippines",
            "Romania",
            "Russian Federation",
            "Singapore",
            "South Africa",
            "Thailand",
            "Tunisia",
            "Turkiye",
            "Ukraine",
            "United Kingdom",
            "United States"
           ],
           "locations": [
            "IRL",
            "DEU",
            "BEL",
            "DNK",
            "GRC",
            "ESP",
            "ITA",
            "NET",
            "NOR",
            "AUT",
            "HUN",
            "SLO",
            "SVN",
            "POL",
            "SWE",
            "FIN",
            "CHE",
            "HRV",
            "SRB",
            "PRT",
            "LVA",
            "FRA",
            "AFG",
            "ALB",
            "DZA",
            "ARG",
            "AUS",
            "AZE",
            "BLR",
            "BRA",
            "BGR",
            "CAN",
            "CHL",
            "CHN",
            "COL",
            "CRI",
            "CYP",
            "ECU",
            "EGY",
            "EST",
            "HON",
            "ISL",
            "IND",
            "IDN",
            "ISR",
            "JPN",
            "KAZ",
            "KOR",
            "LTU",
            "MYS",
            "MLT",
            "MEX",
            "NZL",
            "NGA",
            "NOR",
            "PAK",
            "PER",
            "PHI",
            "ROU",
            "RUS",
            "SGP",
            "ZAF",
            "THA",
            "TUN",
            "TUR",
            "UKR",
            "GBR",
            "USA"
           ],
           "name": "",
           "type": "choropleth",
           "z": [
            2355177,
            41917490,
            4777353,
            2918710,
            5032007,
            23150283,
            24816663,
            8830188,
            2603099,
            4243342,
            4275905,
            2688481,
            1033343,
            17577553,
            4904595,
            2715926,
            4410392,
            1933843,
            3312768,
            5535756,
            1150923,
            29670797,
            6214595,
            1212147,
            10402784,
            17966575,
            11228764,
            4044161,
            4995641,
            93935308,
            3486533,
            18662575,
            7574753,
            776378230,
            19971706,
            2078889,
            574967,
            6561532,
            26485023,
            696060,
            3680131,
            192115,
            449860965,
            113275269,
            3324067,
            66726949,
            8502563,
            25067295,
            1511945,
            11759089,
            169526,
            46141022,
            2296582,
            51407935,
            911074,
            55924956,
            15644447,
            36018856,
            9432554,
            75920555,
            2754182,
            21338378,
            39500136,
            3729378,
            23860351,
            22353775,
            31927772,
            157246174
           ]
          }
         ],
         "name": "2008"
        },
        {
         "data": [
          {
           "coloraxis": "coloraxis",
           "geo": "geo",
           "hovertemplate": "<b>%{hovertext}</b><br><br>Year=2009<br>Alpha-3 code=%{location}<br>Labor force, total=%{z}<extra></extra>",
           "hovertext": [
            "Ireland",
            "Germany",
            "Belgium",
            "Denmark",
            "Greece",
            "Spain",
            "Italy",
            "Netherlands",
            "Norway",
            "Austria",
            "Hungary",
            "Slovak Republic",
            "Slovenia",
            "Poland",
            "Sweden",
            "Finland",
            "Switzerland",
            "Croatia",
            "Serbia",
            "Portugal",
            "Latvia",
            "France",
            "Afghanistan",
            "Albania",
            "Algeria",
            "Argentina",
            "Australia",
            "Azerbaijan",
            "Belarus",
            "Brazil",
            "Bulgaria",
            "Canada",
            "Chile",
            "China",
            "Colombia",
            "Costa Rica",
            "Cyprus",
            "Ecuador",
            "Egypt, Arab Rep.",
            "Estonia",
            "Hong Kong SAR, China",
            "Iceland",
            "India",
            "Indonesia",
            "Israel",
            "Japan",
            "Kazakhstan",
            "Korea, Rep.",
            "Lithuania",
            "Malaysia",
            "Malta",
            "Mexico",
            "New Zealand",
            "Nigeria",
            "North Macedonia",
            "Pakistan",
            "Peru",
            "Philippines",
            "Romania",
            "Russian Federation",
            "Singapore",
            "South Africa",
            "Thailand",
            "Tunisia",
            "Turkiye",
            "Ukraine",
            "United Kingdom",
            "United States"
           ],
           "locations": [
            "IRL",
            "DEU",
            "BEL",
            "DNK",
            "GRC",
            "ESP",
            "ITA",
            "NET",
            "NOR",
            "AUT",
            "HUN",
            "SLO",
            "SVN",
            "POL",
            "SWE",
            "FIN",
            "CHE",
            "HRV",
            "SRB",
            "PRT",
            "LVA",
            "FRA",
            "AFG",
            "ALB",
            "DZA",
            "ARG",
            "AUS",
            "AZE",
            "BLR",
            "BRA",
            "BGR",
            "CAN",
            "CHL",
            "CHN",
            "COL",
            "CRI",
            "CYP",
            "ECU",
            "EGY",
            "EST",
            "HON",
            "ISL",
            "IND",
            "IDN",
            "ISR",
            "JPN",
            "KAZ",
            "KOR",
            "LTU",
            "MYS",
            "MLT",
            "MEX",
            "NZL",
            "NGA",
            "NOR",
            "PAK",
            "PER",
            "PHI",
            "ROU",
            "RUS",
            "SGP",
            "ZAF",
            "THA",
            "TUN",
            "TUR",
            "UKR",
            "GBR",
            "USA"
           ],
           "name": "",
           "type": "choropleth",
           "z": [
            2303515,
            41978630,
            4797213,
            2909160,
            5073731,
            23364217,
            24612153,
            8909191,
            2600124,
            4285255,
            4265167,
            2678778,
            1041058,
            17842910,
            4912421,
            2688826,
            4477719,
            1934048,
            3191692,
            5490080,
            1105823,
            29922456,
            6509255,
            1258916,
            10551825,
            18324357,
            11471850,
            4143977,
            5018321,
            95703669,
            3409927,
            18787385,
            7672069,
            775599063,
            21259578,
            2099430,
            584396,
            6457726,
            27281764,
            688933,
            3698404,
            188716,
            459168942,
            114480686,
            3403706,
            66456031,
            8642962,
            25091241,
            1519375,
            12181055,
            171732,
            46933484,
            2309690,
            52748865,
            923453,
            58053611,
            15918391,
            37171260,
            9338466,
            75961316,
            2891754,
            21088301,
            39613757,
            3810664,
            24758043,
            22246256,
            32084960,
            157377606
           ]
          }
         ],
         "name": "2009"
        },
        {
         "data": [
          {
           "coloraxis": "coloraxis",
           "geo": "geo",
           "hovertemplate": "<b>%{hovertext}</b><br><br>Year=2010<br>Alpha-3 code=%{location}<br>Labor force, total=%{z}<extra></extra>",
           "hovertext": [
            "Ireland",
            "Germany",
            "Belgium",
            "Denmark",
            "Greece",
            "Spain",
            "Italy",
            "Netherlands",
            "Norway",
            "Austria",
            "Hungary",
            "Slovak Republic",
            "Slovenia",
            "Poland",
            "Sweden",
            "Finland",
            "Switzerland",
            "Croatia",
            "Serbia",
            "Portugal",
            "Latvia",
            "France",
            "Afghanistan",
            "Albania",
            "Algeria",
            "Argentina",
            "Australia",
            "Azerbaijan",
            "Belarus",
            "Brazil",
            "Bulgaria",
            "Canada",
            "Chile",
            "China",
            "Colombia",
            "Costa Rica",
            "Cyprus",
            "Ecuador",
            "Egypt, Arab Rep.",
            "Estonia",
            "Hong Kong SAR, China",
            "Iceland",
            "India",
            "Indonesia",
            "Israel",
            "Japan",
            "Kazakhstan",
            "Korea, Rep.",
            "Lithuania",
            "Malaysia",
            "Malta",
            "Mexico",
            "New Zealand",
            "Nigeria",
            "North Macedonia",
            "Pakistan",
            "Peru",
            "Philippines",
            "Romania",
            "Russian Federation",
            "Singapore",
            "South Africa",
            "Thailand",
            "Tunisia",
            "Turkiye",
            "Ukraine",
            "United Kingdom",
            "United States"
           ],
           "locations": [
            "IRL",
            "DEU",
            "BEL",
            "DNK",
            "GRC",
            "ESP",
            "ITA",
            "NET",
            "NOR",
            "AUT",
            "HUN",
            "SLO",
            "SVN",
            "POL",
            "SWE",
            "FIN",
            "CHE",
            "HRV",
            "SRB",
            "PRT",
            "LVA",
            "FRA",
            "AFG",
            "ALB",
            "DZA",
            "ARG",
            "AUS",
            "AZE",
            "BLR",
            "BRA",
            "BGR",
            "CAN",
            "CHL",
            "CHN",
            "COL",
            "CRI",
            "CYP",
            "ECU",
            "EGY",
            "EST",
            "HON",
            "ISL",
            "IND",
            "IDN",
            "ISR",
            "JPN",
            "KAZ",
            "KOR",
            "LTU",
            "MYS",
            "MLT",
            "MEX",
            "NZL",
            "NGA",
            "NOR",
            "PAK",
            "PER",
            "PHI",
            "ROU",
            "RUS",
            "SGP",
            "ZAF",
            "THA",
            "TUN",
            "TUR",
            "UKR",
            "GBR",
            "USA"
           ],
           "name": "",
           "type": "choropleth",
           "z": [
            2252263,
            41949335,
            4893955,
            2888564,
            5075825,
            23482007,
            24546580,
            8887012,
            2605468,
            4302610,
            4298779,
            2689128,
            1040057,
            18055100,
            4938836,
            2678175,
            4447007,
            1912849,
            3104470,
            5491635,
            1059977,
            30022647,
            6743046,
            1270655,
            10832192,
            18255867,
            11661196,
            4195696,
            5034023,
            95367508,
            3405748,
            18985430,
            7836109,
            774058132,
            22128149,
            2060686,
            602913,
            6467670,
            28739910,
            682870,
            3672023,
            188369,
            468646281,
            117183517,
            3482638,
            66231664,
            8725678,
            25419751,
            1498066,
            12521566,
            175583,
            47714802,
            2328293,
            54154360,
            933218,
            60255359,
            16255080,
            38081598,
            9351118,
            75875081,
            2990116,
            19990943,
            39447288,
            3892730,
            25813718,
            22140771,
            32236187,
            157357516
           ]
          }
         ],
         "name": "2010"
        },
        {
         "data": [
          {
           "coloraxis": "coloraxis",
           "geo": "geo",
           "hovertemplate": "<b>%{hovertext}</b><br><br>Year=2011<br>Alpha-3 code=%{location}<br>Labor force, total=%{z}<extra></extra>",
           "hovertext": [
            "Ireland",
            "Germany",
            "Belgium",
            "Denmark",
            "Greece",
            "Spain",
            "Italy",
            "Netherlands",
            "Norway",
            "Austria",
            "Hungary",
            "Slovak Republic",
            "Slovenia",
            "Poland",
            "Sweden",
            "Finland",
            "Switzerland",
            "Croatia",
            "Serbia",
            "Portugal",
            "Latvia",
            "France",
            "Afghanistan",
            "Albania",
            "Algeria",
            "Argentina",
            "Australia",
            "Azerbaijan",
            "Belarus",
            "Brazil",
            "Bulgaria",
            "Canada",
            "Chile",
            "China",
            "Colombia",
            "Costa Rica",
            "Cyprus",
            "Ecuador",
            "Egypt, Arab Rep.",
            "Estonia",
            "Hong Kong SAR, China",
            "Iceland",
            "India",
            "Indonesia",
            "Israel",
            "Japan",
            "Kazakhstan",
            "Korea, Rep.",
            "Lithuania",
            "Malaysia",
            "Malta",
            "Mexico",
            "New Zealand",
            "Nigeria",
            "North Macedonia",
            "Pakistan",
            "Peru",
            "Philippines",
            "Romania",
            "Russian Federation",
            "Singapore",
            "South Africa",
            "Thailand",
            "Tunisia",
            "Turkiye",
            "Ukraine",
            "United Kingdom",
            "United States"
           ],
           "locations": [
            "IRL",
            "DEU",
            "BEL",
            "DNK",
            "GRC",
            "ESP",
            "ITA",
            "NET",
            "NOR",
            "AUT",
            "HUN",
            "SLO",
            "SVN",
            "POL",
            "SWE",
            "FIN",
            "CHE",
            "HRV",
            "SRB",
            "PRT",
            "LVA",
            "FRA",
            "AFG",
            "ALB",
            "DZA",
            "ARG",
            "AUS",
            "AZE",
            "BLR",
            "BRA",
            "BGR",
            "CAN",
            "CHL",
            "CHN",
            "COL",
            "CRI",
            "CYP",
            "ECU",
            "EGY",
            "EST",
            "HON",
            "ISL",
            "IND",
            "IDN",
            "ISR",
            "JPN",
            "KAZ",
            "KOR",
            "LTU",
            "MYS",
            "MLT",
            "MEX",
            "NZL",
            "NGA",
            "NOR",
            "PAK",
            "PER",
            "PHI",
            "ROU",
            "RUS",
            "SGP",
            "ZAF",
            "THA",
            "TUN",
            "TUR",
            "UKR",
            "GBR",
            "USA"
           ],
           "name": "",
           "type": "choropleth",
           "z": [
            2231095,
            41729225,
            4876780,
            2887130,
            4983604,
            23558862,
            24567360,
            8900853,
            2627229,
            4332472,
            4310224,
            2683638,
            1018812,
            18149148,
            4996359,
            2693382,
            4532128,
            1883510,
            3092055,
            5428758,
            1033395,
            30031230,
            7098230,
            1388801,
            11067848,
            18663922,
            11842239,
            4275302,
            5043198,
            94948394,
            3323514,
            19146806,
            8131735,
            778323480,
            22789274,
            2149242,
            608583,
            6517322,
            29061496,
            687615,
            3742584,
            187550,
            472419461,
            119580336,
            3531041,
            65813075,
            8798238,
            25870939,
            1481727,
            13097687,
            180203,
            48766229,
            2357842,
            55649284,
            935314,
            61545907,
            16342847,
            39490704,
            9173378,
            76076120,
            3083320,
            21055801,
            40871917,
            3974997,
            26962928,
            22037073,
            32478068,
            157443452
           ]
          }
         ],
         "name": "2011"
        },
        {
         "data": [
          {
           "coloraxis": "coloraxis",
           "geo": "geo",
           "hovertemplate": "<b>%{hovertext}</b><br><br>Year=2012<br>Alpha-3 code=%{location}<br>Labor force, total=%{z}<extra></extra>",
           "hovertext": [
            "Ireland",
            "Germany",
            "Belgium",
            "Denmark",
            "Greece",
            "Spain",
            "Italy",
            "Netherlands",
            "Norway",
            "Austria",
            "Hungary",
            "Slovak Republic",
            "Slovenia",
            "Poland",
            "Sweden",
            "Finland",
            "Switzerland",
            "Croatia",
            "Serbia",
            "Portugal",
            "Latvia",
            "France",
            "Afghanistan",
            "Albania",
            "Algeria",
            "Argentina",
            "Australia",
            "Azerbaijan",
            "Belarus",
            "Brazil",
            "Bulgaria",
            "Canada",
            "Chile",
            "China",
            "Colombia",
            "Costa Rica",
            "Cyprus",
            "Ecuador",
            "Egypt, Arab Rep.",
            "Estonia",
            "Hong Kong SAR, China",
            "Iceland",
            "India",
            "Indonesia",
            "Israel",
            "Japan",
            "Kazakhstan",
            "Korea, Rep.",
            "Lithuania",
            "Malaysia",
            "Malta",
            "Mexico",
            "New Zealand",
            "Nigeria",
            "North Macedonia",
            "Pakistan",
            "Peru",
            "Philippines",
            "Romania",
            "Russian Federation",
            "Singapore",
            "South Africa",
            "Thailand",
            "Tunisia",
            "Turkiye",
            "Ukraine",
            "United Kingdom",
            "United States"
           ],
           "locations": [
            "IRL",
            "DEU",
            "BEL",
            "DNK",
            "GRC",
            "ESP",
            "ITA",
            "NET",
            "NOR",
            "AUT",
            "HUN",
            "SLO",
            "SVN",
            "POL",
            "SWE",
            "FIN",
            "CHE",
            "HRV",
            "SRB",
            "PRT",
            "LVA",
            "FRA",
            "AFG",
            "ALB",
            "DZA",
            "ARG",
            "AUS",
            "AZE",
            "BLR",
            "BRA",
            "BGR",
            "CAN",
            "CHL",
            "CHN",
            "COL",
            "CRI",
            "CYP",
            "ECU",
            "EGY",
            "EST",
            "HON",
            "ISL",
            "IND",
            "IDN",
            "ISR",
            "JPN",
            "KAZ",
            "KOR",
            "LTU",
            "MYS",
            "MLT",
            "MEX",
            "NZL",
            "NGA",
            "NOR",
            "PAK",
            "PER",
            "PHI",
            "ROU",
            "RUS",
            "SGP",
            "ZAF",
            "THA",
            "TUN",
            "TUR",
            "UKR",
            "GBR",
            "USA"
           ],
           "name": "",
           "type": "choropleth",
           "z": [
            2225018,
            41853628,
            4910968,
            2871734,
            4927758,
            23569775,
            25127011,
            9013873,
            2673428,
            4379686,
            4358321,
            2709630,
            1012538,
            18268758,
            5028100,
            2700773,
            4589900,
            1865281,
            3108558,
            5385170,
            1039903,
            30288026,
            7520865,
            1328695,
            11293832,
            18835226,
            12006301,
            4359293,
            5045691,
            97188186,
            3335298,
            19316264,
            8209415,
            778937997,
            23525349,
            2321866,
            612980,
            6732540,
            29544119,
            683905,
            3818310,
            189063,
            476025371,
            122341620,
            3623923,
            65518909,
            8857279,
            26269374,
            1472231,
            13645536,
            187135,
            50313010,
            2364788,
            54750499,
            934772,
            63271852,
            16520323,
            40075145,
            9217871,
            75911657,
            3185075,
            21285409,
            41198445,
            4077364,
            27572517,
            21940939,
            32778349,
            158452840
           ]
          }
         ],
         "name": "2012"
        },
        {
         "data": [
          {
           "coloraxis": "coloraxis",
           "geo": "geo",
           "hovertemplate": "<b>%{hovertext}</b><br><br>Year=2013<br>Alpha-3 code=%{location}<br>Labor force, total=%{z}<extra></extra>",
           "hovertext": [
            "Ireland",
            "Germany",
            "Belgium",
            "Denmark",
            "Greece",
            "Spain",
            "Italy",
            "Netherlands",
            "Norway",
            "Austria",
            "Hungary",
            "Slovak Republic",
            "Slovenia",
            "Poland",
            "Sweden",
            "Finland",
            "Switzerland",
            "Croatia",
            "Serbia",
            "Portugal",
            "Latvia",
            "France",
            "Afghanistan",
            "Albania",
            "Algeria",
            "Argentina",
            "Australia",
            "Azerbaijan",
            "Belarus",
            "Brazil",
            "Bulgaria",
            "Canada",
            "Chile",
            "China",
            "Colombia",
            "Costa Rica",
            "Cyprus",
            "Ecuador",
            "Egypt, Arab Rep.",
            "Estonia",
            "Hong Kong SAR, China",
            "Iceland",
            "India",
            "Indonesia",
            "Israel",
            "Japan",
            "Kazakhstan",
            "Korea, Rep.",
            "Lithuania",
            "Malaysia",
            "Malta",
            "Mexico",
            "New Zealand",
            "Nigeria",
            "North Macedonia",
            "Pakistan",
            "Peru",
            "Philippines",
            "Romania",
            "Russian Federation",
            "Singapore",
            "South Africa",
            "Thailand",
            "Tunisia",
            "Turkiye",
            "Ukraine",
            "United Kingdom",
            "United States"
           ],
           "locations": [
            "IRL",
            "DEU",
            "BEL",
            "DNK",
            "GRC",
            "ESP",
            "ITA",
            "NET",
            "NOR",
            "AUT",
            "HUN",
            "SLO",
            "SVN",
            "POL",
            "SWE",
            "FIN",
            "CHE",
            "HRV",
            "SRB",
            "PRT",
            "LVA",
            "FRA",
            "AFG",
            "ALB",
            "DZA",
            "ARG",
            "AUS",
            "AZE",
            "BLR",
            "BRA",
            "BGR",
            "CAN",
            "CHL",
            "CHN",
            "COL",
            "CRI",
            "CYP",
            "ECU",
            "EGY",
            "EST",
            "HON",
            "ISL",
            "IND",
            "IDN",
            "ISR",
            "JPN",
            "KAZ",
            "KOR",
            "LTU",
            "MYS",
            "MLT",
            "MEX",
            "NZL",
            "NGA",
            "NOR",
            "PAK",
            "PER",
            "PHI",
            "ROU",
            "RUS",
            "SGP",
            "ZAF",
            "THA",
            "TUN",
            "TUR",
            "UKR",
            "GBR",
            "USA"
           ],
           "name": "",
           "type": "choropleth",
           "z": [
            2247873,
            42212988,
            4962050,
            2850392,
            4867433,
            23332032,
            25287655,
            9054383,
            2700082,
            4423190,
            4393129,
            2717026,
            1006860,
            18287361,
            5088630,
            2686349,
            4647770,
            1844972,
            3157875,
            5289169,
            1021195,
            30432523,
            7881567,
            1227940,
            11793700,
            18964106,
            12176891,
            4428280,
            5043888,
            98532617,
            3363140,
            19522293,
            8324494,
            779042510,
            23805205,
            2337155,
            618239,
            6857058,
            30181706,
            680462,
            3880979,
            192997,
            476574166,
            122963171,
            3694723,
            65768575,
            8913429,
            26634430,
            1465316,
            14298855,
            196571,
            51144538,
            2394722,
            53710834,
            950678,
            64802508,
            16618192,
            40789298,
            9175559,
            75613136,
            3244474,
            21678833,
            40085032,
            4084374,
            28737693,
            21834999,
            33061439,
            158809862
           ]
          }
         ],
         "name": "2013"
        },
        {
         "data": [
          {
           "coloraxis": "coloraxis",
           "geo": "geo",
           "hovertemplate": "<b>%{hovertext}</b><br><br>Year=2014<br>Alpha-3 code=%{location}<br>Labor force, total=%{z}<extra></extra>",
           "hovertext": [
            "Ireland",
            "Germany",
            "Belgium",
            "Denmark",
            "Greece",
            "Spain",
            "Italy",
            "Netherlands",
            "Norway",
            "Austria",
            "Hungary",
            "Slovak Republic",
            "Slovenia",
            "Poland",
            "Sweden",
            "Finland",
            "Switzerland",
            "Croatia",
            "Serbia",
            "Portugal",
            "Latvia",
            "France",
            "Afghanistan",
            "Albania",
            "Algeria",
            "Argentina",
            "Australia",
            "Azerbaijan",
            "Belarus",
            "Brazil",
            "Bulgaria",
            "Canada",
            "Chile",
            "China",
            "Colombia",
            "Costa Rica",
            "Cyprus",
            "Ecuador",
            "Egypt, Arab Rep.",
            "Estonia",
            "Hong Kong SAR, China",
            "Iceland",
            "India",
            "Indonesia",
            "Israel",
            "Japan",
            "Kazakhstan",
            "Korea, Rep.",
            "Lithuania",
            "Malaysia",
            "Malta",
            "Mexico",
            "New Zealand",
            "Nigeria",
            "North Macedonia",
            "Pakistan",
            "Peru",
            "Philippines",
            "Romania",
            "Russian Federation",
            "Singapore",
            "South Africa",
            "Thailand",
            "Tunisia",
            "Turkiye",
            "Ukraine",
            "United Kingdom",
            "United States"
           ],
           "locations": [
            "IRL",
            "DEU",
            "BEL",
            "DNK",
            "GRC",
            "ESP",
            "ITA",
            "NET",
            "NOR",
            "AUT",
            "HUN",
            "SLO",
            "SVN",
            "POL",
            "SWE",
            "FIN",
            "CHE",
            "HRV",
            "SRB",
            "PRT",
            "LVA",
            "FRA",
            "AFG",
            "ALB",
            "DZA",
            "ARG",
            "AUS",
            "AZE",
            "BLR",
            "BRA",
            "BGR",
            "CAN",
            "CHL",
            "CHN",
            "COL",
            "CRI",
            "CYP",
            "ECU",
            "EGY",
            "EST",
            "HON",
            "ISL",
            "IND",
            "IDN",
            "ISR",
            "JPN",
            "KAZ",
            "KOR",
            "LTU",
            "MYS",
            "MLT",
            "MEX",
            "NZL",
            "NGA",
            "NOR",
            "PAK",
            "PER",
            "PHI",
            "ROU",
            "RUS",
            "SGP",
            "ZAF",
            "THA",
            "TUN",
            "TUR",
            "UKR",
            "GBR",
            "USA"
           ],
           "name": "",
           "type": "choropleth",
           "z": [
            2258498,
            42458390,
            4978926,
            2865028,
            4812543,
            23091303,
            25689865,
            9031991,
            2724239,
            4444847,
            4508047,
            2723429,
            1013694,
            18392967,
            5132084,
            2690277,
            4732391,
            1896011,
            3171544,
            5231791,
            1006638,
            30411865,
            8285362,
            1256110,
            11279335,
            19049721,
            12316359,
            4531372,
            5042125,
            99628945,
            3357878,
            19586757,
            8468946,
            780062420,
            24245416,
            2395003,
            628856,
            7045425,
            30655760,
            675361,
            3899441,
            198891,
            476778623,
            124478015,
            3795478,
            65973877,
            8968071,
            27387622,
            1476890,
            14684103,
            205532,
            51654365,
            2474895,
            55758900,
            956007,
            65271548,
            16683502,
            42179845,
            9205404,
            75425759,
            3339133,
            21981198,
            40209226,
            4103893,
            29598166,
            21670714,
            33331376,
            159540139
           ]
          }
         ],
         "name": "2014"
        },
        {
         "data": [
          {
           "coloraxis": "coloraxis",
           "geo": "geo",
           "hovertemplate": "<b>%{hovertext}</b><br><br>Year=2015<br>Alpha-3 code=%{location}<br>Labor force, total=%{z}<extra></extra>",
           "hovertext": [
            "Ireland",
            "Germany",
            "Belgium",
            "Denmark",
            "Greece",
            "Spain",
            "Italy",
            "Netherlands",
            "Norway",
            "Austria",
            "Hungary",
            "Slovak Republic",
            "Slovenia",
            "Poland",
            "Sweden",
            "Finland",
            "Switzerland",
            "Croatia",
            "Serbia",
            "Portugal",
            "Latvia",
            "France",
            "Afghanistan",
            "Albania",
            "Algeria",
            "Argentina",
            "Australia",
            "Azerbaijan",
            "Belarus",
            "Brazil",
            "Bulgaria",
            "Canada",
            "Chile",
            "China",
            "Colombia",
            "Costa Rica",
            "Cyprus",
            "Ecuador",
            "Egypt, Arab Rep.",
            "Estonia",
            "Hong Kong SAR, China",
            "Iceland",
            "India",
            "Indonesia",
            "Israel",
            "Japan",
            "Kazakhstan",
            "Korea, Rep.",
            "Lithuania",
            "Malaysia",
            "Malta",
            "Mexico",
            "New Zealand",
            "Nigeria",
            "North Macedonia",
            "Pakistan",
            "Peru",
            "Philippines",
            "Romania",
            "Russian Federation",
            "Singapore",
            "South Africa",
            "Thailand",
            "Tunisia",
            "Turkiye",
            "Ukraine",
            "United Kingdom",
            "United States"
           ],
           "locations": [
            "IRL",
            "DEU",
            "BEL",
            "DNK",
            "GRC",
            "ESP",
            "ITA",
            "NET",
            "NOR",
            "AUT",
            "HUN",
            "SLO",
            "SVN",
            "POL",
            "SWE",
            "FIN",
            "CHE",
            "HRV",
            "SRB",
            "PRT",
            "LVA",
            "FRA",
            "AFG",
            "ALB",
            "DZA",
            "ARG",
            "AUS",
            "AZE",
            "BLR",
            "BRA",
            "BGR",
            "CAN",
            "CHL",
            "CHN",
            "COL",
            "CRI",
            "CYP",
            "ECU",
            "EGY",
            "EST",
            "HON",
            "ISL",
            "IND",
            "IDN",
            "ISR",
            "JPN",
            "KAZ",
            "KOR",
            "LTU",
            "MYS",
            "MLT",
            "MEX",
            "NZL",
            "NGA",
            "NOR",
            "PAK",
            "PER",
            "PHI",
            "ROU",
            "RUS",
            "SGP",
            "ZAF",
            "THA",
            "TUN",
            "TUR",
            "UKR",
            "GBR",
            "USA"
           ],
           "name": "",
           "type": "choropleth",
           "z": [
            2285833,
            42660629,
            4989597,
            2895364,
            4788983,
            23036096,
            25654398,
            9095975,
            2762042,
            4497039,
            4587119,
            2739138,
            1006923,
            18332404,
            5177181,
            2699822,
            4804656,
            1896675,
            3135688,
            5204013,
            1009906,
            30494746,
            8630724,
            1308343,
            11709818,
            19229476,
            12554514,
            4626699,
            5042141,
            101299233,
            3333481,
            19690129,
            8566113,
            780709584,
            24759081,
            2380187,
            620365,
            7548658,
            30540697,
            682934,
            3940825,
            203751,
            476681505,
            126141821,
            3859942,
            66061546,
            9019041,
            27788180,
            1468508,
            15044590,
            212910,
            52690172,
            2535320,
            57867585,
            950250,
            67587826,
            16688971,
            42622144,
            9108577,
            75122849,
            3437533,
            23120551,
            40201742,
            4121291,
            30767621,
            21563197,
            33614102,
            160644681
           ]
          }
         ],
         "name": "2015"
        },
        {
         "data": [
          {
           "coloraxis": "coloraxis",
           "geo": "geo",
           "hovertemplate": "<b>%{hovertext}</b><br><br>Year=2016<br>Alpha-3 code=%{location}<br>Labor force, total=%{z}<extra></extra>",
           "hovertext": [
            "Ireland",
            "Germany",
            "Belgium",
            "Denmark",
            "Greece",
            "Spain",
            "Italy",
            "Netherlands",
            "Norway",
            "Austria",
            "Hungary",
            "Slovak Republic",
            "Slovenia",
            "Poland",
            "Sweden",
            "Finland",
            "Switzerland",
            "Croatia",
            "Serbia",
            "Portugal",
            "Latvia",
            "France",
            "Afghanistan",
            "Albania",
            "Algeria",
            "Argentina",
            "Australia",
            "Azerbaijan",
            "Belarus",
            "Brazil",
            "Bulgaria",
            "Canada",
            "Chile",
            "China",
            "Colombia",
            "Costa Rica",
            "Cyprus",
            "Ecuador",
            "Egypt, Arab Rep.",
            "Estonia",
            "Hong Kong SAR, China",
            "Iceland",
            "India",
            "Indonesia",
            "Israel",
            "Japan",
            "Kazakhstan",
            "Korea, Rep.",
            "Lithuania",
            "Malaysia",
            "Malta",
            "Mexico",
            "New Zealand",
            "Nigeria",
            "North Macedonia",
            "Pakistan",
            "Peru",
            "Philippines",
            "Romania",
            "Russian Federation",
            "Singapore",
            "South Africa",
            "Thailand",
            "Tunisia",
            "Turkiye",
            "Ukraine",
            "United Kingdom",
            "United States"
           ],
           "locations": [
            "IRL",
            "DEU",
            "BEL",
            "DNK",
            "GRC",
            "ESP",
            "ITA",
            "NET",
            "NOR",
            "AUT",
            "HUN",
            "SLO",
            "SVN",
            "POL",
            "SWE",
            "FIN",
            "CHE",
            "HRV",
            "SRB",
            "PRT",
            "LVA",
            "FRA",
            "AFG",
            "ALB",
            "DZA",
            "ARG",
            "AUS",
            "AZE",
            "BLR",
            "BRA",
            "BGR",
            "CAN",
            "CHL",
            "CHN",
            "COL",
            "CRI",
            "CYP",
            "ECU",
            "EGY",
            "EST",
            "HON",
            "ISL",
            "IND",
            "IDN",
            "ISR",
            "JPN",
            "KAZ",
            "KOR",
            "LTU",
            "MYS",
            "MLT",
            "MEX",
            "NZL",
            "NGA",
            "NOR",
            "PAK",
            "PER",
            "PHI",
            "ROU",
            "RUS",
            "SGP",
            "ZAF",
            "THA",
            "TUN",
            "TUR",
            "UKR",
            "GBR",
            "USA"
           ],
           "name": "",
           "type": "choropleth",
           "z": [
            2330010,
            43567225,
            4997187,
            2939677,
            4774947,
            22977372,
            25932536,
            9128587,
            2769692,
            4579306,
            4651601,
            2759104,
            993963,
            18371736,
            5244040,
            2694829,
            4886342,
            1835203,
            3229602,
            5187357,
            1004171,
            30508008,
            8913938,
            1354998,
            11918421,
            19404277,
            12728416,
            4756797,
            5038419,
            102278733,
            3265483,
            19877599,
            8661001,
            780524312,
            25039982,
            2223154,
            615687,
            7951902,
            30927659,
            691074,
            3956680,
            209633,
            476439285,
            127339757,
            3933469,
            66669411,
            9066824,
            28041851,
            1476945,
            15326694,
            222635,
            53525389,
            2643213,
            60073638,
            945205,
            68081288,
            16861950,
            43756699,
            8915255,
            75182854,
            3480133,
            23430091,
            39942542,
            4162572,
            31859054,
            21453122,
            33939706,
            162448669
           ]
          }
         ],
         "name": "2016"
        },
        {
         "data": [
          {
           "coloraxis": "coloraxis",
           "geo": "geo",
           "hovertemplate": "<b>%{hovertext}</b><br><br>Year=2017<br>Alpha-3 code=%{location}<br>Labor force, total=%{z}<extra></extra>",
           "hovertext": [
            "Ireland",
            "Germany",
            "Belgium",
            "Denmark",
            "Greece",
            "Spain",
            "Italy",
            "Netherlands",
            "Norway",
            "Austria",
            "Hungary",
            "Slovak Republic",
            "Slovenia",
            "Poland",
            "Sweden",
            "Finland",
            "Switzerland",
            "Croatia",
            "Serbia",
            "Portugal",
            "Latvia",
            "France",
            "Afghanistan",
            "Albania",
            "Algeria",
            "Argentina",
            "Australia",
            "Azerbaijan",
            "Belarus",
            "Brazil",
            "Bulgaria",
            "Canada",
            "Chile",
            "China",
            "Colombia",
            "Costa Rica",
            "Cyprus",
            "Ecuador",
            "Egypt, Arab Rep.",
            "Estonia",
            "Hong Kong SAR, China",
            "Iceland",
            "India",
            "Indonesia",
            "Israel",
            "Japan",
            "Kazakhstan",
            "Korea, Rep.",
            "Lithuania",
            "Malaysia",
            "Malta",
            "Mexico",
            "New Zealand",
            "Nigeria",
            "North Macedonia",
            "Pakistan",
            "Peru",
            "Philippines",
            "Romania",
            "Russian Federation",
            "Singapore",
            "South Africa",
            "Thailand",
            "Tunisia",
            "Turkiye",
            "Ukraine",
            "United Kingdom",
            "United States"
           ],
           "locations": [
            "IRL",
            "DEU",
            "BEL",
            "DNK",
            "GRC",
            "ESP",
            "ITA",
            "NET",
            "NOR",
            "AUT",
            "HUN",
            "SLO",
            "SVN",
            "POL",
            "SWE",
            "FIN",
            "CHE",
            "HRV",
            "SRB",
            "PRT",
            "LVA",
            "FRA",
            "AFG",
            "ALB",
            "DZA",
            "ARG",
            "AUS",
            "AZE",
            "BLR",
            "BRA",
            "BGR",
            "CAN",
            "CHL",
            "CHN",
            "COL",
            "CRI",
            "CYP",
            "ECU",
            "EGY",
            "EST",
            "HON",
            "ISL",
            "IND",
            "IDN",
            "ISR",
            "JPN",
            "KAZ",
            "KOR",
            "LTU",
            "MYS",
            "MLT",
            "MEX",
            "NZL",
            "NGA",
            "NOR",
            "PAK",
            "PER",
            "PHI",
            "ROU",
            "RUS",
            "SGP",
            "ZAF",
            "THA",
            "TUN",
            "TUR",
            "UKR",
            "GBR",
            "USA"
           ],
           "name": "",
           "type": "choropleth",
           "z": [
            2354153,
            43819028,
            5086330,
            2966464,
            4753621,
            22897891,
            26103399,
            9194515,
            2760886,
            4608584,
            4688293,
            2754225,
            1025695,
            18432689,
            5331161,
            2716261,
            4920490,
            1824724,
            3256850,
            5226891,
            999649,
            30547530,
            9254593,
            1377319,
            12067162,
            19580710,
            13006679,
            4841518,
            5025143,
            104079618,
            3364252,
            20144985,
            8872208,
            778674707,
            25528733,
            2335223,
            625144,
            8190955,
            30428646,
            697561,
            3978306,
            213259,
            475894660,
            129760147,
            3998508,
            67225084,
            9113763,
            28349693,
            1460791,
            15658001,
            233766,
            54238561,
            2740052,
            62423461,
            952947,
            68740238,
            17556265,
            42974771,
            9055160,
            74610600,
            3474178,
            23776332,
            39798925,
            4178516,
            32879109,
            21345004,
            34128763,
            163971527
           ]
          }
         ],
         "name": "2017"
        },
        {
         "data": [
          {
           "coloraxis": "coloraxis",
           "geo": "geo",
           "hovertemplate": "<b>%{hovertext}</b><br><br>Year=2018<br>Alpha-3 code=%{location}<br>Labor force, total=%{z}<extra></extra>",
           "hovertext": [
            "Ireland",
            "Germany",
            "Belgium",
            "Denmark",
            "Greece",
            "Spain",
            "Italy",
            "Netherlands",
            "Norway",
            "Austria",
            "Hungary",
            "Slovak Republic",
            "Slovenia",
            "Poland",
            "Sweden",
            "Finland",
            "Switzerland",
            "Croatia",
            "Serbia",
            "Portugal",
            "Latvia",
            "France",
            "Afghanistan",
            "Albania",
            "Algeria",
            "Argentina",
            "Australia",
            "Azerbaijan",
            "Belarus",
            "Brazil",
            "Bulgaria",
            "Canada",
            "Chile",
            "China",
            "Colombia",
            "Costa Rica",
            "Cyprus",
            "Ecuador",
            "Egypt, Arab Rep.",
            "Estonia",
            "Hong Kong SAR, China",
            "Iceland",
            "India",
            "Indonesia",
            "Israel",
            "Japan",
            "Kazakhstan",
            "Korea, Rep.",
            "Lithuania",
            "Malaysia",
            "Malta",
            "Mexico",
            "New Zealand",
            "Nigeria",
            "North Macedonia",
            "Pakistan",
            "Peru",
            "Philippines",
            "Romania",
            "Russian Federation",
            "Singapore",
            "South Africa",
            "Thailand",
            "Tunisia",
            "Turkiye",
            "Ukraine",
            "United Kingdom",
            "United States"
           ],
           "locations": [
            "IRL",
            "DEU",
            "BEL",
            "DNK",
            "GRC",
            "ESP",
            "ITA",
            "NET",
            "NOR",
            "AUT",
            "HUN",
            "SLO",
            "SVN",
            "POL",
            "SWE",
            "FIN",
            "CHE",
            "HRV",
            "SRB",
            "PRT",
            "LVA",
            "FRA",
            "AFG",
            "ALB",
            "DZA",
            "ARG",
            "AUS",
            "AZE",
            "BLR",
            "BRA",
            "BGR",
            "CAN",
            "CHL",
            "CHN",
            "COL",
            "CRI",
            "CYP",
            "ECU",
            "EGY",
            "EST",
            "HON",
            "ISL",
            "IND",
            "IDN",
            "ISR",
            "JPN",
            "KAZ",
            "KOR",
            "LTU",
            "MYS",
            "MLT",
            "MEX",
            "NZL",
            "NGA",
            "NOR",
            "PAK",
            "PER",
            "PHI",
            "ROU",
            "RUS",
            "SGP",
            "ZAF",
            "THA",
            "TUN",
            "TUR",
            "UKR",
            "GBR",
            "USA"
           ],
           "name": "",
           "type": "choropleth",
           "z": [
            2397838,
            43935038,
            5144068,
            2990219,
            4727112,
            22930164,
            26164164,
            9309225,
            2796121,
            4642407,
            4720978,
            2746014,
            1035092,
            18388899,
            5396547,
            2749812,
            4956328,
            1794304,
            3275646,
            5242420,
            1000243,
            30691326,
            9613728,
            1409389,
            12221429,
            20103008,
            13308365,
            4925538,
            4998649,
            105437485,
            3338430,
            20344108,
            9059235,
            776278514,
            26010171,
            2459739,
            638543,
            8227052,
            29899860,
            702032,
            4008835,
            217130,
            474730667,
            133327293,
            4073299,
            68386819,
            9164074,
            28513895,
            1467697,
            16042325,
            250448,
            55360235,
            2794877,
            64865190,
            957679,
            69627363,
            18029865,
            43800369,
            8999055,
            74501321,
            3471429,
            23771537,
            40229448,
            4204927,
            33440312,
            21244133,
            34415434,
            165307010
           ]
          }
         ],
         "name": "2018"
        },
        {
         "data": [
          {
           "coloraxis": "coloraxis",
           "geo": "geo",
           "hovertemplate": "<b>%{hovertext}</b><br><br>Year=2019<br>Alpha-3 code=%{location}<br>Labor force, total=%{z}<extra></extra>",
           "hovertext": [
            "Ireland",
            "Germany",
            "Belgium",
            "Denmark",
            "Greece",
            "Spain",
            "Italy",
            "Netherlands",
            "Norway",
            "Austria",
            "Hungary",
            "Slovak Republic",
            "Slovenia",
            "Poland",
            "Sweden",
            "Finland",
            "Switzerland",
            "Croatia",
            "Serbia",
            "Portugal",
            "Latvia",
            "France",
            "Afghanistan",
            "Albania",
            "Algeria",
            "Argentina",
            "Australia",
            "Azerbaijan",
            "Belarus",
            "Brazil",
            "Bulgaria",
            "Canada",
            "Chile",
            "China",
            "Colombia",
            "Costa Rica",
            "Cyprus",
            "Ecuador",
            "Egypt, Arab Rep.",
            "Estonia",
            "Hong Kong SAR, China",
            "Iceland",
            "India",
            "Indonesia",
            "Israel",
            "Japan",
            "Kazakhstan",
            "Korea, Rep.",
            "Lithuania",
            "Malaysia",
            "Malta",
            "Mexico",
            "New Zealand",
            "Nigeria",
            "North Macedonia",
            "Pakistan",
            "Peru",
            "Philippines",
            "Romania",
            "Russian Federation",
            "Singapore",
            "South Africa",
            "Thailand",
            "Tunisia",
            "Turkiye",
            "Ukraine",
            "United Kingdom",
            "United States"
           ],
           "locations": [
            "IRL",
            "DEU",
            "BEL",
            "DNK",
            "GRC",
            "ESP",
            "ITA",
            "NET",
            "NOR",
            "AUT",
            "HUN",
            "SLO",
            "SVN",
            "POL",
            "SWE",
            "FIN",
            "CHE",
            "HRV",
            "SRB",
            "PRT",
            "LVA",
            "FRA",
            "AFG",
            "ALB",
            "DZA",
            "ARG",
            "AUS",
            "AZE",
            "BLR",
            "BRA",
            "BGR",
            "CAN",
            "CHL",
            "CHN",
            "COL",
            "CRI",
            "CYP",
            "ECU",
            "EGY",
            "EST",
            "HON",
            "ISL",
            "IND",
            "IDN",
            "ISR",
            "JPN",
            "KAZ",
            "KOR",
            "LTU",
            "MYS",
            "MLT",
            "MEX",
            "NZL",
            "NGA",
            "NOR",
            "PAK",
            "PER",
            "PHI",
            "ROU",
            "RUS",
            "SGP",
            "ZAF",
            "THA",
            "TUN",
            "TUR",
            "UKR",
            "GBR",
            "USA"
           ],
           "name": "",
           "type": "choropleth",
           "z": [
            2446760,
            44433744,
            5194405,
            3032098,
            4735273,
            23139046,
            25907430,
            9466453,
            2825244,
            4662739,
            4748584,
            2741604,
            1028559,
            18327422,
            5456623,
            2758855,
            4971006,
            1781597,
            3272110,
            5264058,
            988868,
            30652293,
            9991682,
            1433004,
            12396383,
            20607477,
            13590354,
            4964822,
            4971033,
            107415119,
            3391873,
            20758436,
            9214285,
            775321104,
            26304740,
            2573190,
            649712,
            8387366,
            29708924,
            700314,
            3992610,
            220983,
            501044031,
            136201932,
            4125006,
            69045531,
            9226063,
            28808833,
            1475085,
            16435372,
            265572,
            56818605,
            2834605,
            67373496,
            965045,
            71922561,
            18527166,
            45091808,
            8972261,
            73598523,
            3527441,
            24142655,
            39952396,
            4240590,
            33612480,
            21148251,
            34695933,
            167100511
           ]
          }
         ],
         "name": "2019"
        },
        {
         "data": [
          {
           "coloraxis": "coloraxis",
           "geo": "geo",
           "hovertemplate": "<b>%{hovertext}</b><br><br>Year=2020<br>Alpha-3 code=%{location}<br>Labor force, total=%{z}<extra></extra>",
           "hovertext": [
            "Ireland",
            "Germany",
            "Belgium",
            "Denmark",
            "Greece",
            "Spain",
            "Italy",
            "Netherlands",
            "Norway",
            "Austria",
            "Hungary",
            "Slovak Republic",
            "Slovenia",
            "Poland",
            "Sweden",
            "Finland",
            "Switzerland",
            "Croatia",
            "Serbia",
            "Portugal",
            "Latvia",
            "France",
            "Afghanistan",
            "Albania",
            "Algeria",
            "Argentina",
            "Australia",
            "Azerbaijan",
            "Belarus",
            "Brazil",
            "Bulgaria",
            "Canada",
            "Chile",
            "China",
            "Colombia",
            "Costa Rica",
            "Cyprus",
            "Ecuador",
            "Egypt, Arab Rep.",
            "Estonia",
            "Hong Kong SAR, China",
            "Iceland",
            "India",
            "Indonesia",
            "Israel",
            "Japan",
            "Kazakhstan",
            "Korea, Rep.",
            "Lithuania",
            "Malaysia",
            "Malta",
            "Mexico",
            "New Zealand",
            "Nigeria",
            "North Macedonia",
            "Pakistan",
            "Peru",
            "Philippines",
            "Romania",
            "Russian Federation",
            "Singapore",
            "South Africa",
            "Thailand",
            "Tunisia",
            "Turkiye",
            "Ukraine",
            "United Kingdom",
            "United States"
           ],
           "locations": [
            "IRL",
            "DEU",
            "BEL",
            "DNK",
            "GRC",
            "ESP",
            "ITA",
            "NET",
            "NOR",
            "AUT",
            "HUN",
            "SLO",
            "SVN",
            "POL",
            "SWE",
            "FIN",
            "CHE",
            "HRV",
            "SRB",
            "PRT",
            "LVA",
            "FRA",
            "AFG",
            "ALB",
            "DZA",
            "ARG",
            "AUS",
            "AZE",
            "BLR",
            "BRA",
            "BGR",
            "CAN",
            "CHL",
            "CHN",
            "COL",
            "CRI",
            "CYP",
            "ECU",
            "EGY",
            "EST",
            "HON",
            "ISL",
            "IND",
            "IDN",
            "ISR",
            "JPN",
            "KAZ",
            "KOR",
            "LTU",
            "MYS",
            "MLT",
            "MEX",
            "NZL",
            "NGA",
            "NOR",
            "PAK",
            "PER",
            "PHI",
            "ROU",
            "RUS",
            "SGP",
            "ZAF",
            "THA",
            "TUN",
            "TUR",
            "UKR",
            "GBR",
            "USA"
           ],
           "name": "",
           "type": "choropleth",
           "z": [
            2432234,
            43501190,
            5167188,
            3028252,
            4643796,
            22838137,
            25126337,
            9502134,
            2832047,
            4638300,
            4724407,
            2712322,
            1029744,
            18245536,
            5462300,
            2751071,
            4979813,
            1772376,
            3218733,
            5166305,
            988585,
            30379167,
            9105733,
            1347461,
            11857820,
            19406591,
            13590200,
            5165410,
            4931564,
            100641930,
            3311854,
            20487247,
            8698434,
            751446327,
            24932942,
            2456537,
            651740,
            7769265,
            29815652,
            700236,
            3910149,
            218866,
            496925540,
            136106881,
            4086174,
            68953988,
            9183306,
            28597159,
            1486169,
            16626593,
            275724,
            53127554,
            2893601,
            68632664,
            946571,
            72839474,
            16830784,
            42419079,
            8908333,
            73064922,
            3511798,
            22920638,
            40206906,
            4066606,
            31643711,
            20585937,
            34633193,
            165636441
           ]
          }
         ],
         "name": "2020"
        },
        {
         "data": [
          {
           "coloraxis": "coloraxis",
           "geo": "geo",
           "hovertemplate": "<b>%{hovertext}</b><br><br>Year=2021<br>Alpha-3 code=%{location}<br>Labor force, total=%{z}<extra></extra>",
           "hovertext": [
            "Ireland",
            "Germany",
            "Belgium",
            "Denmark",
            "Greece",
            "Spain",
            "Italy",
            "Netherlands",
            "Norway",
            "Austria",
            "Hungary",
            "Slovak Republic",
            "Slovenia",
            "Poland",
            "Sweden",
            "Finland",
            "Switzerland",
            "Croatia",
            "Serbia",
            "Portugal",
            "Latvia",
            "France",
            "Afghanistan",
            "Albania",
            "Algeria",
            "Argentina",
            "Australia",
            "Azerbaijan",
            "Belarus",
            "Brazil",
            "Bulgaria",
            "Canada",
            "Chile",
            "China",
            "Colombia",
            "Costa Rica",
            "Cyprus",
            "Ecuador",
            "Egypt, Arab Rep.",
            "Estonia",
            "Hong Kong SAR, China",
            "Iceland",
            "India",
            "Indonesia",
            "Israel",
            "Japan",
            "Kazakhstan",
            "Korea, Rep.",
            "Lithuania",
            "Malaysia",
            "Malta",
            "Mexico",
            "New Zealand",
            "Nigeria",
            "North Macedonia",
            "Pakistan",
            "Peru",
            "Philippines",
            "Romania",
            "Russian Federation",
            "Singapore",
            "South Africa",
            "Thailand",
            "Tunisia",
            "Turkiye",
            "Ukraine",
            "United Kingdom",
            "United States"
           ],
           "locations": [
            "IRL",
            "DEU",
            "BEL",
            "DNK",
            "GRC",
            "ESP",
            "ITA",
            "NET",
            "NOR",
            "AUT",
            "HUN",
            "SLO",
            "SVN",
            "POL",
            "SWE",
            "FIN",
            "CHE",
            "HRV",
            "SRB",
            "PRT",
            "LVA",
            "FRA",
            "AFG",
            "ALB",
            "DZA",
            "ARG",
            "AUS",
            "AZE",
            "BLR",
            "BRA",
            "BGR",
            "CAN",
            "CHL",
            "CHN",
            "COL",
            "CRI",
            "CYP",
            "ECU",
            "EGY",
            "EST",
            "HON",
            "ISL",
            "IND",
            "IDN",
            "ISR",
            "JPN",
            "KAZ",
            "KOR",
            "LTU",
            "MYS",
            "MLT",
            "MEX",
            "NZL",
            "NGA",
            "NOR",
            "PAK",
            "PER",
            "PHI",
            "ROU",
            "RUS",
            "SGP",
            "ZAF",
            "THA",
            "TUN",
            "TUR",
            "UKR",
            "GBR",
            "USA"
           ],
           "name": "",
           "type": "choropleth",
           "z": [
            2551561,
            43386527,
            5262812,
            3070703,
            4605900,
            23384137,
            25077277,
            9653277,
            2908555,
            4689420,
            4920977,
            2777251,
            1045561,
            18519217,
            5514678,
            2774226,
            4980848,
            1733479,
            3281894,
            5172510,
            956869,
            31264402,
            null,
            1384740,
            12260834,
            21191985,
            13807641,
            5140941,
            4912087,
            105434083,
            3268751,
            20971220,
            9081005,
            780370660,
            25983568,
            2529009,
            666826,
            8652009,
            30223373,
            702973,
            3866026,
            222391,
            507704858,
            134381715,
            4231237,
            68858892,
            9293787,
            28758924,
            1479760,
            16915825,
            281266,
            56993986,
            2941259,
            70620043,
            938072,
            76944640,
            17866091,
            44857443,
            8199584,
            73367843,
            3418165,
            23621462,
            40332578,
            4164773,
            33317079,
            20285701,
            34465042,
            166120890
           ]
          }
         ],
         "name": "2021"
        }
       ],
       "layout": {
        "coloraxis": {
         "cmax": 10000000,
         "cmin": 1000000,
         "colorbar": {
          "title": {
           "text": "Labor force, total"
          }
         },
         "colorscale": [
          [
           0,
           "rgb(253, 237, 176)"
          ],
          [
           0.09090909090909091,
           "rgb(250, 205, 145)"
          ],
          [
           0.18181818181818182,
           "rgb(246, 173, 119)"
          ],
          [
           0.2727272727272727,
           "rgb(240, 142, 98)"
          ],
          [
           0.36363636363636365,
           "rgb(231, 109, 84)"
          ],
          [
           0.45454545454545453,
           "rgb(216, 80, 83)"
          ],
          [
           0.5454545454545454,
           "rgb(195, 56, 90)"
          ],
          [
           0.6363636363636364,
           "rgb(168, 40, 96)"
          ],
          [
           0.7272727272727273,
           "rgb(138, 29, 99)"
          ],
          [
           0.8181818181818182,
           "rgb(107, 24, 93)"
          ],
          [
           0.9090909090909091,
           "rgb(76, 21, 80)"
          ],
          [
           1,
           "rgb(47, 15, 61)"
          ]
         ]
        },
        "geo": {
         "center": {},
         "domain": {
          "x": [
           0,
           1
          ],
          "y": [
           0,
           1
          ]
         },
         "projection": {
          "type": "natural earth"
         }
        },
        "legend": {
         "tracegroupgap": 0
        },
        "margin": {
         "t": 60
        },
        "sliders": [
         {
          "active": 0,
          "currentvalue": {
           "prefix": "Year="
          },
          "len": 0.9,
          "pad": {
           "b": 10,
           "t": 60
          },
          "steps": [
           {
            "args": [
             [
              "2000"
             ],
             {
              "frame": {
               "duration": 0,
               "redraw": true
              },
              "fromcurrent": true,
              "mode": "immediate",
              "transition": {
               "duration": 0,
               "easing": "linear"
              }
             }
            ],
            "label": "2000",
            "method": "animate"
           },
           {
            "args": [
             [
              "2001"
             ],
             {
              "frame": {
               "duration": 0,
               "redraw": true
              },
              "fromcurrent": true,
              "mode": "immediate",
              "transition": {
               "duration": 0,
               "easing": "linear"
              }
             }
            ],
            "label": "2001",
            "method": "animate"
           },
           {
            "args": [
             [
              "2002"
             ],
             {
              "frame": {
               "duration": 0,
               "redraw": true
              },
              "fromcurrent": true,
              "mode": "immediate",
              "transition": {
               "duration": 0,
               "easing": "linear"
              }
             }
            ],
            "label": "2002",
            "method": "animate"
           },
           {
            "args": [
             [
              "2003"
             ],
             {
              "frame": {
               "duration": 0,
               "redraw": true
              },
              "fromcurrent": true,
              "mode": "immediate",
              "transition": {
               "duration": 0,
               "easing": "linear"
              }
             }
            ],
            "label": "2003",
            "method": "animate"
           },
           {
            "args": [
             [
              "2004"
             ],
             {
              "frame": {
               "duration": 0,
               "redraw": true
              },
              "fromcurrent": true,
              "mode": "immediate",
              "transition": {
               "duration": 0,
               "easing": "linear"
              }
             }
            ],
            "label": "2004",
            "method": "animate"
           },
           {
            "args": [
             [
              "2005"
             ],
             {
              "frame": {
               "duration": 0,
               "redraw": true
              },
              "fromcurrent": true,
              "mode": "immediate",
              "transition": {
               "duration": 0,
               "easing": "linear"
              }
             }
            ],
            "label": "2005",
            "method": "animate"
           },
           {
            "args": [
             [
              "2006"
             ],
             {
              "frame": {
               "duration": 0,
               "redraw": true
              },
              "fromcurrent": true,
              "mode": "immediate",
              "transition": {
               "duration": 0,
               "easing": "linear"
              }
             }
            ],
            "label": "2006",
            "method": "animate"
           },
           {
            "args": [
             [
              "2007"
             ],
             {
              "frame": {
               "duration": 0,
               "redraw": true
              },
              "fromcurrent": true,
              "mode": "immediate",
              "transition": {
               "duration": 0,
               "easing": "linear"
              }
             }
            ],
            "label": "2007",
            "method": "animate"
           },
           {
            "args": [
             [
              "2008"
             ],
             {
              "frame": {
               "duration": 0,
               "redraw": true
              },
              "fromcurrent": true,
              "mode": "immediate",
              "transition": {
               "duration": 0,
               "easing": "linear"
              }
             }
            ],
            "label": "2008",
            "method": "animate"
           },
           {
            "args": [
             [
              "2009"
             ],
             {
              "frame": {
               "duration": 0,
               "redraw": true
              },
              "fromcurrent": true,
              "mode": "immediate",
              "transition": {
               "duration": 0,
               "easing": "linear"
              }
             }
            ],
            "label": "2009",
            "method": "animate"
           },
           {
            "args": [
             [
              "2010"
             ],
             {
              "frame": {
               "duration": 0,
               "redraw": true
              },
              "fromcurrent": true,
              "mode": "immediate",
              "transition": {
               "duration": 0,
               "easing": "linear"
              }
             }
            ],
            "label": "2010",
            "method": "animate"
           },
           {
            "args": [
             [
              "2011"
             ],
             {
              "frame": {
               "duration": 0,
               "redraw": true
              },
              "fromcurrent": true,
              "mode": "immediate",
              "transition": {
               "duration": 0,
               "easing": "linear"
              }
             }
            ],
            "label": "2011",
            "method": "animate"
           },
           {
            "args": [
             [
              "2012"
             ],
             {
              "frame": {
               "duration": 0,
               "redraw": true
              },
              "fromcurrent": true,
              "mode": "immediate",
              "transition": {
               "duration": 0,
               "easing": "linear"
              }
             }
            ],
            "label": "2012",
            "method": "animate"
           },
           {
            "args": [
             [
              "2013"
             ],
             {
              "frame": {
               "duration": 0,
               "redraw": true
              },
              "fromcurrent": true,
              "mode": "immediate",
              "transition": {
               "duration": 0,
               "easing": "linear"
              }
             }
            ],
            "label": "2013",
            "method": "animate"
           },
           {
            "args": [
             [
              "2014"
             ],
             {
              "frame": {
               "duration": 0,
               "redraw": true
              },
              "fromcurrent": true,
              "mode": "immediate",
              "transition": {
               "duration": 0,
               "easing": "linear"
              }
             }
            ],
            "label": "2014",
            "method": "animate"
           },
           {
            "args": [
             [
              "2015"
             ],
             {
              "frame": {
               "duration": 0,
               "redraw": true
              },
              "fromcurrent": true,
              "mode": "immediate",
              "transition": {
               "duration": 0,
               "easing": "linear"
              }
             }
            ],
            "label": "2015",
            "method": "animate"
           },
           {
            "args": [
             [
              "2016"
             ],
             {
              "frame": {
               "duration": 0,
               "redraw": true
              },
              "fromcurrent": true,
              "mode": "immediate",
              "transition": {
               "duration": 0,
               "easing": "linear"
              }
             }
            ],
            "label": "2016",
            "method": "animate"
           },
           {
            "args": [
             [
              "2017"
             ],
             {
              "frame": {
               "duration": 0,
               "redraw": true
              },
              "fromcurrent": true,
              "mode": "immediate",
              "transition": {
               "duration": 0,
               "easing": "linear"
              }
             }
            ],
            "label": "2017",
            "method": "animate"
           },
           {
            "args": [
             [
              "2018"
             ],
             {
              "frame": {
               "duration": 0,
               "redraw": true
              },
              "fromcurrent": true,
              "mode": "immediate",
              "transition": {
               "duration": 0,
               "easing": "linear"
              }
             }
            ],
            "label": "2018",
            "method": "animate"
           },
           {
            "args": [
             [
              "2019"
             ],
             {
              "frame": {
               "duration": 0,
               "redraw": true
              },
              "fromcurrent": true,
              "mode": "immediate",
              "transition": {
               "duration": 0,
               "easing": "linear"
              }
             }
            ],
            "label": "2019",
            "method": "animate"
           },
           {
            "args": [
             [
              "2020"
             ],
             {
              "frame": {
               "duration": 0,
               "redraw": true
              },
              "fromcurrent": true,
              "mode": "immediate",
              "transition": {
               "duration": 0,
               "easing": "linear"
              }
             }
            ],
            "label": "2020",
            "method": "animate"
           },
           {
            "args": [
             [
              "2021"
             ],
             {
              "frame": {
               "duration": 0,
               "redraw": true
              },
              "fromcurrent": true,
              "mode": "immediate",
              "transition": {
               "duration": 0,
               "easing": "linear"
              }
             }
            ],
            "label": "2021",
            "method": "animate"
           }
          ],
          "x": 0.1,
          "xanchor": "left",
          "y": 0,
          "yanchor": "top"
         }
        ],
        "template": {
         "data": {
          "bar": [
           {
            "error_x": {
             "color": "#2a3f5f"
            },
            "error_y": {
             "color": "#2a3f5f"
            },
            "marker": {
             "line": {
              "color": "#E5ECF6",
              "width": 0.5
             },
             "pattern": {
              "fillmode": "overlay",
              "size": 10,
              "solidity": 0.2
             }
            },
            "type": "bar"
           }
          ],
          "barpolar": [
           {
            "marker": {
             "line": {
              "color": "#E5ECF6",
              "width": 0.5
             },
             "pattern": {
              "fillmode": "overlay",
              "size": 10,
              "solidity": 0.2
             }
            },
            "type": "barpolar"
           }
          ],
          "carpet": [
           {
            "aaxis": {
             "endlinecolor": "#2a3f5f",
             "gridcolor": "white",
             "linecolor": "white",
             "minorgridcolor": "white",
             "startlinecolor": "#2a3f5f"
            },
            "baxis": {
             "endlinecolor": "#2a3f5f",
             "gridcolor": "white",
             "linecolor": "white",
             "minorgridcolor": "white",
             "startlinecolor": "#2a3f5f"
            },
            "type": "carpet"
           }
          ],
          "choropleth": [
           {
            "colorbar": {
             "outlinewidth": 0,
             "ticks": ""
            },
            "type": "choropleth"
           }
          ],
          "contour": [
           {
            "colorbar": {
             "outlinewidth": 0,
             "ticks": ""
            },
            "colorscale": [
             [
              0,
              "#0d0887"
             ],
             [
              0.1111111111111111,
              "#46039f"
             ],
             [
              0.2222222222222222,
              "#7201a8"
             ],
             [
              0.3333333333333333,
              "#9c179e"
             ],
             [
              0.4444444444444444,
              "#bd3786"
             ],
             [
              0.5555555555555556,
              "#d8576b"
             ],
             [
              0.6666666666666666,
              "#ed7953"
             ],
             [
              0.7777777777777778,
              "#fb9f3a"
             ],
             [
              0.8888888888888888,
              "#fdca26"
             ],
             [
              1,
              "#f0f921"
             ]
            ],
            "type": "contour"
           }
          ],
          "contourcarpet": [
           {
            "colorbar": {
             "outlinewidth": 0,
             "ticks": ""
            },
            "type": "contourcarpet"
           }
          ],
          "heatmap": [
           {
            "colorbar": {
             "outlinewidth": 0,
             "ticks": ""
            },
            "colorscale": [
             [
              0,
              "#0d0887"
             ],
             [
              0.1111111111111111,
              "#46039f"
             ],
             [
              0.2222222222222222,
              "#7201a8"
             ],
             [
              0.3333333333333333,
              "#9c179e"
             ],
             [
              0.4444444444444444,
              "#bd3786"
             ],
             [
              0.5555555555555556,
              "#d8576b"
             ],
             [
              0.6666666666666666,
              "#ed7953"
             ],
             [
              0.7777777777777778,
              "#fb9f3a"
             ],
             [
              0.8888888888888888,
              "#fdca26"
             ],
             [
              1,
              "#f0f921"
             ]
            ],
            "type": "heatmap"
           }
          ],
          "heatmapgl": [
           {
            "colorbar": {
             "outlinewidth": 0,
             "ticks": ""
            },
            "colorscale": [
             [
              0,
              "#0d0887"
             ],
             [
              0.1111111111111111,
              "#46039f"
             ],
             [
              0.2222222222222222,
              "#7201a8"
             ],
             [
              0.3333333333333333,
              "#9c179e"
             ],
             [
              0.4444444444444444,
              "#bd3786"
             ],
             [
              0.5555555555555556,
              "#d8576b"
             ],
             [
              0.6666666666666666,
              "#ed7953"
             ],
             [
              0.7777777777777778,
              "#fb9f3a"
             ],
             [
              0.8888888888888888,
              "#fdca26"
             ],
             [
              1,
              "#f0f921"
             ]
            ],
            "type": "heatmapgl"
           }
          ],
          "histogram": [
           {
            "marker": {
             "pattern": {
              "fillmode": "overlay",
              "size": 10,
              "solidity": 0.2
             }
            },
            "type": "histogram"
           }
          ],
          "histogram2d": [
           {
            "colorbar": {
             "outlinewidth": 0,
             "ticks": ""
            },
            "colorscale": [
             [
              0,
              "#0d0887"
             ],
             [
              0.1111111111111111,
              "#46039f"
             ],
             [
              0.2222222222222222,
              "#7201a8"
             ],
             [
              0.3333333333333333,
              "#9c179e"
             ],
             [
              0.4444444444444444,
              "#bd3786"
             ],
             [
              0.5555555555555556,
              "#d8576b"
             ],
             [
              0.6666666666666666,
              "#ed7953"
             ],
             [
              0.7777777777777778,
              "#fb9f3a"
             ],
             [
              0.8888888888888888,
              "#fdca26"
             ],
             [
              1,
              "#f0f921"
             ]
            ],
            "type": "histogram2d"
           }
          ],
          "histogram2dcontour": [
           {
            "colorbar": {
             "outlinewidth": 0,
             "ticks": ""
            },
            "colorscale": [
             [
              0,
              "#0d0887"
             ],
             [
              0.1111111111111111,
              "#46039f"
             ],
             [
              0.2222222222222222,
              "#7201a8"
             ],
             [
              0.3333333333333333,
              "#9c179e"
             ],
             [
              0.4444444444444444,
              "#bd3786"
             ],
             [
              0.5555555555555556,
              "#d8576b"
             ],
             [
              0.6666666666666666,
              "#ed7953"
             ],
             [
              0.7777777777777778,
              "#fb9f3a"
             ],
             [
              0.8888888888888888,
              "#fdca26"
             ],
             [
              1,
              "#f0f921"
             ]
            ],
            "type": "histogram2dcontour"
           }
          ],
          "mesh3d": [
           {
            "colorbar": {
             "outlinewidth": 0,
             "ticks": ""
            },
            "type": "mesh3d"
           }
          ],
          "parcoords": [
           {
            "line": {
             "colorbar": {
              "outlinewidth": 0,
              "ticks": ""
             }
            },
            "type": "parcoords"
           }
          ],
          "pie": [
           {
            "automargin": true,
            "type": "pie"
           }
          ],
          "scatter": [
           {
            "fillpattern": {
             "fillmode": "overlay",
             "size": 10,
             "solidity": 0.2
            },
            "type": "scatter"
           }
          ],
          "scatter3d": [
           {
            "line": {
             "colorbar": {
              "outlinewidth": 0,
              "ticks": ""
             }
            },
            "marker": {
             "colorbar": {
              "outlinewidth": 0,
              "ticks": ""
             }
            },
            "type": "scatter3d"
           }
          ],
          "scattercarpet": [
           {
            "marker": {
             "colorbar": {
              "outlinewidth": 0,
              "ticks": ""
             }
            },
            "type": "scattercarpet"
           }
          ],
          "scattergeo": [
           {
            "marker": {
             "colorbar": {
              "outlinewidth": 0,
              "ticks": ""
             }
            },
            "type": "scattergeo"
           }
          ],
          "scattergl": [
           {
            "marker": {
             "colorbar": {
              "outlinewidth": 0,
              "ticks": ""
             }
            },
            "type": "scattergl"
           }
          ],
          "scattermapbox": [
           {
            "marker": {
             "colorbar": {
              "outlinewidth": 0,
              "ticks": ""
             }
            },
            "type": "scattermapbox"
           }
          ],
          "scatterpolar": [
           {
            "marker": {
             "colorbar": {
              "outlinewidth": 0,
              "ticks": ""
             }
            },
            "type": "scatterpolar"
           }
          ],
          "scatterpolargl": [
           {
            "marker": {
             "colorbar": {
              "outlinewidth": 0,
              "ticks": ""
             }
            },
            "type": "scatterpolargl"
           }
          ],
          "scatterternary": [
           {
            "marker": {
             "colorbar": {
              "outlinewidth": 0,
              "ticks": ""
             }
            },
            "type": "scatterternary"
           }
          ],
          "surface": [
           {
            "colorbar": {
             "outlinewidth": 0,
             "ticks": ""
            },
            "colorscale": [
             [
              0,
              "#0d0887"
             ],
             [
              0.1111111111111111,
              "#46039f"
             ],
             [
              0.2222222222222222,
              "#7201a8"
             ],
             [
              0.3333333333333333,
              "#9c179e"
             ],
             [
              0.4444444444444444,
              "#bd3786"
             ],
             [
              0.5555555555555556,
              "#d8576b"
             ],
             [
              0.6666666666666666,
              "#ed7953"
             ],
             [
              0.7777777777777778,
              "#fb9f3a"
             ],
             [
              0.8888888888888888,
              "#fdca26"
             ],
             [
              1,
              "#f0f921"
             ]
            ],
            "type": "surface"
           }
          ],
          "table": [
           {
            "cells": {
             "fill": {
              "color": "#EBF0F8"
             },
             "line": {
              "color": "white"
             }
            },
            "header": {
             "fill": {
              "color": "#C8D4E3"
             },
             "line": {
              "color": "white"
             }
            },
            "type": "table"
           }
          ]
         },
         "layout": {
          "annotationdefaults": {
           "arrowcolor": "#2a3f5f",
           "arrowhead": 0,
           "arrowwidth": 1
          },
          "autotypenumbers": "strict",
          "coloraxis": {
           "colorbar": {
            "outlinewidth": 0,
            "ticks": ""
           }
          },
          "colorscale": {
           "diverging": [
            [
             0,
             "#8e0152"
            ],
            [
             0.1,
             "#c51b7d"
            ],
            [
             0.2,
             "#de77ae"
            ],
            [
             0.3,
             "#f1b6da"
            ],
            [
             0.4,
             "#fde0ef"
            ],
            [
             0.5,
             "#f7f7f7"
            ],
            [
             0.6,
             "#e6f5d0"
            ],
            [
             0.7,
             "#b8e186"
            ],
            [
             0.8,
             "#7fbc41"
            ],
            [
             0.9,
             "#4d9221"
            ],
            [
             1,
             "#276419"
            ]
           ],
           "sequential": [
            [
             0,
             "#0d0887"
            ],
            [
             0.1111111111111111,
             "#46039f"
            ],
            [
             0.2222222222222222,
             "#7201a8"
            ],
            [
             0.3333333333333333,
             "#9c179e"
            ],
            [
             0.4444444444444444,
             "#bd3786"
            ],
            [
             0.5555555555555556,
             "#d8576b"
            ],
            [
             0.6666666666666666,
             "#ed7953"
            ],
            [
             0.7777777777777778,
             "#fb9f3a"
            ],
            [
             0.8888888888888888,
             "#fdca26"
            ],
            [
             1,
             "#f0f921"
            ]
           ],
           "sequentialminus": [
            [
             0,
             "#0d0887"
            ],
            [
             0.1111111111111111,
             "#46039f"
            ],
            [
             0.2222222222222222,
             "#7201a8"
            ],
            [
             0.3333333333333333,
             "#9c179e"
            ],
            [
             0.4444444444444444,
             "#bd3786"
            ],
            [
             0.5555555555555556,
             "#d8576b"
            ],
            [
             0.6666666666666666,
             "#ed7953"
            ],
            [
             0.7777777777777778,
             "#fb9f3a"
            ],
            [
             0.8888888888888888,
             "#fdca26"
            ],
            [
             1,
             "#f0f921"
            ]
           ]
          },
          "colorway": [
           "#636efa",
           "#EF553B",
           "#00cc96",
           "#ab63fa",
           "#FFA15A",
           "#19d3f3",
           "#FF6692",
           "#B6E880",
           "#FF97FF",
           "#FECB52"
          ],
          "font": {
           "color": "#2a3f5f"
          },
          "geo": {
           "bgcolor": "white",
           "lakecolor": "white",
           "landcolor": "#E5ECF6",
           "showlakes": true,
           "showland": true,
           "subunitcolor": "white"
          },
          "hoverlabel": {
           "align": "left"
          },
          "hovermode": "closest",
          "mapbox": {
           "style": "light"
          },
          "paper_bgcolor": "white",
          "plot_bgcolor": "#E5ECF6",
          "polar": {
           "angularaxis": {
            "gridcolor": "white",
            "linecolor": "white",
            "ticks": ""
           },
           "bgcolor": "#E5ECF6",
           "radialaxis": {
            "gridcolor": "white",
            "linecolor": "white",
            "ticks": ""
           }
          },
          "scene": {
           "xaxis": {
            "backgroundcolor": "#E5ECF6",
            "gridcolor": "white",
            "gridwidth": 2,
            "linecolor": "white",
            "showbackground": true,
            "ticks": "",
            "zerolinecolor": "white"
           },
           "yaxis": {
            "backgroundcolor": "#E5ECF6",
            "gridcolor": "white",
            "gridwidth": 2,
            "linecolor": "white",
            "showbackground": true,
            "ticks": "",
            "zerolinecolor": "white"
           },
           "zaxis": {
            "backgroundcolor": "#E5ECF6",
            "gridcolor": "white",
            "gridwidth": 2,
            "linecolor": "white",
            "showbackground": true,
            "ticks": "",
            "zerolinecolor": "white"
           }
          },
          "shapedefaults": {
           "line": {
            "color": "#2a3f5f"
           }
          },
          "ternary": {
           "aaxis": {
            "gridcolor": "white",
            "linecolor": "white",
            "ticks": ""
           },
           "baxis": {
            "gridcolor": "white",
            "linecolor": "white",
            "ticks": ""
           },
           "bgcolor": "#E5ECF6",
           "caxis": {
            "gridcolor": "white",
            "linecolor": "white",
            "ticks": ""
           }
          },
          "title": {
           "x": 0.05
          },
          "xaxis": {
           "automargin": true,
           "gridcolor": "white",
           "linecolor": "white",
           "ticks": "",
           "title": {
            "standoff": 15
           },
           "zerolinecolor": "white",
           "zerolinewidth": 2
          },
          "yaxis": {
           "automargin": true,
           "gridcolor": "white",
           "linecolor": "white",
           "ticks": "",
           "title": {
            "standoff": 15
           },
           "zerolinecolor": "white",
           "zerolinewidth": 2
          }
         }
        },
        "title": {
         "text": "Labor Force of Countries"
        },
        "updatemenus": [
         {
          "buttons": [
           {
            "args": [
             null,
             {
              "frame": {
               "duration": 500,
               "redraw": true
              },
              "fromcurrent": true,
              "mode": "immediate",
              "transition": {
               "duration": 500,
               "easing": "linear"
              }
             }
            ],
            "label": "&#9654;",
            "method": "animate"
           },
           {
            "args": [
             [
              null
             ],
             {
              "frame": {
               "duration": 0,
               "redraw": true
              },
              "fromcurrent": true,
              "mode": "immediate",
              "transition": {
               "duration": 0,
               "easing": "linear"
              }
             }
            ],
            "label": "&#9724;",
            "method": "animate"
           }
          ],
          "direction": "left",
          "pad": {
           "r": 10,
           "t": 70
          },
          "showactive": false,
          "type": "buttons",
          "x": 0.1,
          "xanchor": "right",
          "y": 0,
          "yanchor": "top"
         }
        ]
       }
      }
     },
     "metadata": {},
     "output_type": "display_data"
    }
   ],
   "source": [
    "fig = plt.choropleth(merged_df2,\n",
    "                     locations=\"Alpha-3 code\",\n",
    "                     color=\"Labor force, total\",\n",
    "                     hover_name=\"Country\",\n",
    "                     animation_frame=\"Year\",\n",
    "                     color_continuous_scale=\"matter\", # \"haline\", \"agsunset\", \"icefire\", \"matter\", \"solar\", \"ice\", \"curl\"\n",
    "                     range_color=[1000000, 10000000]) # Define the color scale limits\n",
    "fig.update_layout(\n",
    "    title_text=\"Labor Force of Countries\",\n",
    "    geo=dict(projection={\"type\": \"natural earth\"})\n",
    ")  # This is the line that makes it work\n",
    "fig.show()"
   ]
  },
  {
   "cell_type": "code",
   "execution_count": 176,
   "id": "ba3e8587",
   "metadata": {},
   "outputs": [
    {
     "data": {
      "application/vnd.plotly.v1+json": {
       "config": {
        "plotlyServerURL": "https://plot.ly"
       },
       "data": [
        {
         "coloraxis": "coloraxis",
         "geo": "geo",
         "hovertemplate": "<b>%{hovertext}</b><br><br>Year=2000<br>Alpha-3 code=%{location}<br>Unemployment, total (% of total labor force)=%{z}<extra></extra>",
         "hovertext": [
          "Ireland",
          "Germany",
          "Belgium",
          "Denmark",
          "Greece",
          "Spain",
          "Italy",
          "Netherlands",
          "Norway",
          "Austria",
          "Hungary",
          "Slovak Republic",
          "Slovenia",
          "Poland",
          "Sweden",
          "Finland",
          "Switzerland",
          "Croatia",
          "Serbia",
          "Portugal",
          "Latvia",
          "France",
          "Afghanistan",
          "Albania",
          "Algeria",
          "Argentina",
          "Australia",
          "Azerbaijan",
          "Belarus",
          "Brazil",
          "Bulgaria",
          "Canada",
          "Chile",
          "China",
          "Colombia",
          "Costa Rica",
          "Cyprus",
          "Ecuador",
          "Egypt, Arab Rep.",
          "Estonia",
          "Hong Kong SAR, China",
          "Iceland",
          "India",
          "Indonesia",
          "Israel",
          "Japan",
          "Kazakhstan",
          "Korea, Rep.",
          "Lithuania",
          "Malaysia",
          "Malta",
          "Mexico",
          "New Zealand",
          "Nigeria",
          "North Macedonia",
          "Pakistan",
          "Peru",
          "Philippines",
          "Romania",
          "Russian Federation",
          "Singapore",
          "South Africa",
          "Thailand",
          "Tunisia",
          "Turkiye",
          "Ukraine",
          "United Kingdom",
          "United States"
         ],
         "locations": [
          "IRL",
          "DEU",
          "BEL",
          "DNK",
          "GRC",
          "ESP",
          "ITA",
          "NET",
          "NOR",
          "AUT",
          "HUN",
          "SLO",
          "SVN",
          "POL",
          "SWE",
          "FIN",
          "CHE",
          "HRV",
          "SRB",
          "PRT",
          "LVA",
          "FRA",
          "AFG",
          "ALB",
          "DZA",
          "ARG",
          "AUS",
          "AZE",
          "BLR",
          "BRA",
          "BGR",
          "CAN",
          "CHL",
          "CHN",
          "COL",
          "CRI",
          "CYP",
          "ECU",
          "EGY",
          "EST",
          "HON",
          "ISL",
          "IND",
          "IDN",
          "ISR",
          "JPN",
          "KAZ",
          "KOR",
          "LTU",
          "MYS",
          "MLT",
          "MEX",
          "NZL",
          "NGA",
          "NOR",
          "PAK",
          "PER",
          "PHI",
          "ROU",
          "RUS",
          "SGP",
          "ZAF",
          "THA",
          "TUN",
          "TUR",
          "UKR",
          "GBR",
          "USA"
         ],
         "name": "",
         "type": "choropleth",
         "z": [
          4.3,
          7.9,
          6.6,
          4.5,
          11.3,
          13.8,
          10.8,
          2.7,
          3.5,
          4.7,
          6.6,
          19.1,
          6.9,
          16.3,
          5.5,
          11.1,
          2.7,
          16.1,
          12.6,
          3.8,
          14.2,
          10.2,
          null,
          16.8,
          29.8,
          15,
          6.3,
          11.8,
          2.1,
          null,
          16.2,
          6.8,
          10.5,
          3.1,
          20.5,
          null,
          4.8,
          4.8,
          9,
          13.4,
          4.9,
          1.9,
          2.7,
          6.1,
          11.1,
          4.8,
          12.8,
          4.1,
          15.9,
          3,
          6.3,
          2.7,
          6.1,
          null,
          32.2,
          7.2,
          7.8,
          11.2,
          7,
          10.6,
          3.7,
          29.9,
          2.4,
          14.9,
          6.3,
          11.7,
          5.6,
          4
         ]
        }
       ],
       "frames": [
        {
         "data": [
          {
           "coloraxis": "coloraxis",
           "geo": "geo",
           "hovertemplate": "<b>%{hovertext}</b><br><br>Year=2000<br>Alpha-3 code=%{location}<br>Unemployment, total (% of total labor force)=%{z}<extra></extra>",
           "hovertext": [
            "Ireland",
            "Germany",
            "Belgium",
            "Denmark",
            "Greece",
            "Spain",
            "Italy",
            "Netherlands",
            "Norway",
            "Austria",
            "Hungary",
            "Slovak Republic",
            "Slovenia",
            "Poland",
            "Sweden",
            "Finland",
            "Switzerland",
            "Croatia",
            "Serbia",
            "Portugal",
            "Latvia",
            "France",
            "Afghanistan",
            "Albania",
            "Algeria",
            "Argentina",
            "Australia",
            "Azerbaijan",
            "Belarus",
            "Brazil",
            "Bulgaria",
            "Canada",
            "Chile",
            "China",
            "Colombia",
            "Costa Rica",
            "Cyprus",
            "Ecuador",
            "Egypt, Arab Rep.",
            "Estonia",
            "Hong Kong SAR, China",
            "Iceland",
            "India",
            "Indonesia",
            "Israel",
            "Japan",
            "Kazakhstan",
            "Korea, Rep.",
            "Lithuania",
            "Malaysia",
            "Malta",
            "Mexico",
            "New Zealand",
            "Nigeria",
            "North Macedonia",
            "Pakistan",
            "Peru",
            "Philippines",
            "Romania",
            "Russian Federation",
            "Singapore",
            "South Africa",
            "Thailand",
            "Tunisia",
            "Turkiye",
            "Ukraine",
            "United Kingdom",
            "United States"
           ],
           "locations": [
            "IRL",
            "DEU",
            "BEL",
            "DNK",
            "GRC",
            "ESP",
            "ITA",
            "NET",
            "NOR",
            "AUT",
            "HUN",
            "SLO",
            "SVN",
            "POL",
            "SWE",
            "FIN",
            "CHE",
            "HRV",
            "SRB",
            "PRT",
            "LVA",
            "FRA",
            "AFG",
            "ALB",
            "DZA",
            "ARG",
            "AUS",
            "AZE",
            "BLR",
            "BRA",
            "BGR",
            "CAN",
            "CHL",
            "CHN",
            "COL",
            "CRI",
            "CYP",
            "ECU",
            "EGY",
            "EST",
            "HON",
            "ISL",
            "IND",
            "IDN",
            "ISR",
            "JPN",
            "KAZ",
            "KOR",
            "LTU",
            "MYS",
            "MLT",
            "MEX",
            "NZL",
            "NGA",
            "NOR",
            "PAK",
            "PER",
            "PHI",
            "ROU",
            "RUS",
            "SGP",
            "ZAF",
            "THA",
            "TUN",
            "TUR",
            "UKR",
            "GBR",
            "USA"
           ],
           "name": "",
           "type": "choropleth",
           "z": [
            4.3,
            7.9,
            6.6,
            4.5,
            11.3,
            13.8,
            10.8,
            2.7,
            3.5,
            4.7,
            6.6,
            19.1,
            6.9,
            16.3,
            5.5,
            11.1,
            2.7,
            16.1,
            12.6,
            3.8,
            14.2,
            10.2,
            null,
            16.8,
            29.8,
            15,
            6.3,
            11.8,
            2.1,
            null,
            16.2,
            6.8,
            10.5,
            3.1,
            20.5,
            null,
            4.8,
            4.8,
            9,
            13.4,
            4.9,
            1.9,
            2.7,
            6.1,
            11.1,
            4.8,
            12.8,
            4.1,
            15.9,
            3,
            6.3,
            2.7,
            6.1,
            null,
            32.2,
            7.2,
            7.8,
            11.2,
            7,
            10.6,
            3.7,
            29.9,
            2.4,
            14.9,
            6.3,
            11.7,
            5.6,
            4
           ]
          }
         ],
         "name": "2000"
        },
        {
         "data": [
          {
           "coloraxis": "coloraxis",
           "geo": "geo",
           "hovertemplate": "<b>%{hovertext}</b><br><br>Year=2001<br>Alpha-3 code=%{location}<br>Unemployment, total (% of total labor force)=%{z}<extra></extra>",
           "hovertext": [
            "Ireland",
            "Germany",
            "Belgium",
            "Denmark",
            "Greece",
            "Spain",
            "Italy",
            "Netherlands",
            "Norway",
            "Austria",
            "Hungary",
            "Slovak Republic",
            "Slovenia",
            "Poland",
            "Sweden",
            "Finland",
            "Switzerland",
            "Croatia",
            "Serbia",
            "Portugal",
            "Latvia",
            "France",
            "Afghanistan",
            "Albania",
            "Algeria",
            "Argentina",
            "Australia",
            "Azerbaijan",
            "Belarus",
            "Brazil",
            "Bulgaria",
            "Canada",
            "Chile",
            "China",
            "Colombia",
            "Costa Rica",
            "Cyprus",
            "Ecuador",
            "Egypt, Arab Rep.",
            "Estonia",
            "Hong Kong SAR, China",
            "Iceland",
            "India",
            "Indonesia",
            "Israel",
            "Japan",
            "Kazakhstan",
            "Korea, Rep.",
            "Lithuania",
            "Malaysia",
            "Malta",
            "Mexico",
            "New Zealand",
            "Nigeria",
            "North Macedonia",
            "Pakistan",
            "Peru",
            "Philippines",
            "Romania",
            "Russian Federation",
            "Singapore",
            "South Africa",
            "Thailand",
            "Tunisia",
            "Turkiye",
            "Ukraine",
            "United Kingdom",
            "United States"
           ],
           "locations": [
            "IRL",
            "DEU",
            "BEL",
            "DNK",
            "GRC",
            "ESP",
            "ITA",
            "NET",
            "NOR",
            "AUT",
            "HUN",
            "SLO",
            "SVN",
            "POL",
            "SWE",
            "FIN",
            "CHE",
            "HRV",
            "SRB",
            "PRT",
            "LVA",
            "FRA",
            "AFG",
            "ALB",
            "DZA",
            "ARG",
            "AUS",
            "AZE",
            "BLR",
            "BRA",
            "BGR",
            "CAN",
            "CHL",
            "CHN",
            "COL",
            "CRI",
            "CYP",
            "ECU",
            "EGY",
            "EST",
            "HON",
            "ISL",
            "IND",
            "IDN",
            "ISR",
            "JPN",
            "KAZ",
            "KOR",
            "LTU",
            "MYS",
            "MLT",
            "MEX",
            "NZL",
            "NGA",
            "NOR",
            "PAK",
            "PER",
            "PHI",
            "ROU",
            "RUS",
            "SGP",
            "ZAF",
            "THA",
            "TUN",
            "TUR",
            "UKR",
            "GBR",
            "USA"
           ],
           "name": "",
           "type": "choropleth",
           "z": [
            3.7,
            7.8,
            6.2,
            4.2,
            10.8,
            10.4,
            9.6,
            2.1,
            3.7,
            4,
            5.7,
            19.4,
            6.4,
            18.4,
            4.7,
            10.3,
            2.5,
            15.8,
            12.8,
            3.8,
            13.8,
            8.6,
            null,
            16.4,
            27.3,
            17.3,
            6.8,
            10.9,
            2.3,
            10.7,
            19.9,
            7.2,
            10.4,
            3.6,
            15,
            6.1,
            4,
            4.3,
            9.3,
            13.1,
            5.1,
            1.9,
            null,
            6.1,
            11.8,
            5,
            10.4,
            3.7,
            16.8,
            3.5,
            7.1,
            2.6,
            5.4,
            null,
            30.5,
            6.9,
            7.9,
            3.7,
            6.6,
            9,
            3.8,
            25.4,
            2.6,
            14.4,
            8.4,
            11.1,
            4.7,
            4.7
           ]
          }
         ],
         "name": "2001"
        },
        {
         "data": [
          {
           "coloraxis": "coloraxis",
           "geo": "geo",
           "hovertemplate": "<b>%{hovertext}</b><br><br>Year=2002<br>Alpha-3 code=%{location}<br>Unemployment, total (% of total labor force)=%{z}<extra></extra>",
           "hovertext": [
            "Ireland",
            "Germany",
            "Belgium",
            "Denmark",
            "Greece",
            "Spain",
            "Italy",
            "Netherlands",
            "Norway",
            "Austria",
            "Hungary",
            "Slovak Republic",
            "Slovenia",
            "Poland",
            "Sweden",
            "Finland",
            "Switzerland",
            "Croatia",
            "Serbia",
            "Portugal",
            "Latvia",
            "France",
            "Afghanistan",
            "Albania",
            "Algeria",
            "Argentina",
            "Australia",
            "Azerbaijan",
            "Belarus",
            "Brazil",
            "Bulgaria",
            "Canada",
            "Chile",
            "China",
            "Colombia",
            "Costa Rica",
            "Cyprus",
            "Ecuador",
            "Egypt, Arab Rep.",
            "Estonia",
            "Hong Kong SAR, China",
            "Iceland",
            "India",
            "Indonesia",
            "Israel",
            "Japan",
            "Kazakhstan",
            "Korea, Rep.",
            "Lithuania",
            "Malaysia",
            "Malta",
            "Mexico",
            "New Zealand",
            "Nigeria",
            "North Macedonia",
            "Pakistan",
            "Peru",
            "Philippines",
            "Romania",
            "Russian Federation",
            "Singapore",
            "South Africa",
            "Thailand",
            "Tunisia",
            "Turkiye",
            "Ukraine",
            "United Kingdom",
            "United States"
           ],
           "locations": [
            "IRL",
            "DEU",
            "BEL",
            "DNK",
            "GRC",
            "ESP",
            "ITA",
            "NET",
            "NOR",
            "AUT",
            "HUN",
            "SLO",
            "SVN",
            "POL",
            "SWE",
            "FIN",
            "CHE",
            "HRV",
            "SRB",
            "PRT",
            "LVA",
            "FRA",
            "AFG",
            "ALB",
            "DZA",
            "ARG",
            "AUS",
            "AZE",
            "BLR",
            "BRA",
            "BGR",
            "CAN",
            "CHL",
            "CHN",
            "COL",
            "CRI",
            "CYP",
            "ECU",
            "EGY",
            "EST",
            "HON",
            "ISL",
            "IND",
            "IDN",
            "ISR",
            "JPN",
            "KAZ",
            "KOR",
            "LTU",
            "MYS",
            "MLT",
            "MEX",
            "NZL",
            "NGA",
            "NOR",
            "PAK",
            "PER",
            "PHI",
            "ROU",
            "RUS",
            "SGP",
            "ZAF",
            "THA",
            "TUN",
            "TUR",
            "UKR",
            "GBR",
            "USA"
           ],
           "name": "",
           "type": "choropleth",
           "z": [
            4.2,
            8.5,
            6.9,
            4.3,
            10.4,
            11.2,
            9.2,
            2.6,
            4,
            4.9,
            5.6,
            18.7,
            6.4,
            19.9,
            5,
            10.4,
            2.9,
            15.1,
            13.8,
            4.5,
            13.8,
            8.7,
            null,
            4.6,
            25.9,
            19.6,
            6.4,
            10,
            3,
            10.6,
            18.1,
            7.7,
            10.2,
            4,
            14.5,
            6.4,
            3.3,
            null,
            10,
            10,
            7.3,
            3,
            null,
            6.6,
            12.9,
            5.4,
            9.3,
            3.1,
            13,
            3.5,
            6.9,
            3,
            5.3,
            null,
            31.9,
            7.8,
            4.8,
            null,
            8.1,
            7.9,
            5.7,
            27.2,
            null,
            14.6,
            10.4,
            10.1,
            5,
            5.8
           ]
          }
         ],
         "name": "2002"
        },
        {
         "data": [
          {
           "coloraxis": "coloraxis",
           "geo": "geo",
           "hovertemplate": "<b>%{hovertext}</b><br><br>Year=2003<br>Alpha-3 code=%{location}<br>Unemployment, total (% of total labor force)=%{z}<extra></extra>",
           "hovertext": [
            "Ireland",
            "Germany",
            "Belgium",
            "Denmark",
            "Greece",
            "Spain",
            "Italy",
            "Netherlands",
            "Norway",
            "Austria",
            "Hungary",
            "Slovak Republic",
            "Slovenia",
            "Poland",
            "Sweden",
            "Finland",
            "Switzerland",
            "Croatia",
            "Serbia",
            "Portugal",
            "Latvia",
            "France",
            "Afghanistan",
            "Albania",
            "Algeria",
            "Argentina",
            "Australia",
            "Azerbaijan",
            "Belarus",
            "Brazil",
            "Bulgaria",
            "Canada",
            "Chile",
            "China",
            "Colombia",
            "Costa Rica",
            "Cyprus",
            "Ecuador",
            "Egypt, Arab Rep.",
            "Estonia",
            "Hong Kong SAR, China",
            "Iceland",
            "India",
            "Indonesia",
            "Israel",
            "Japan",
            "Kazakhstan",
            "Korea, Rep.",
            "Lithuania",
            "Malaysia",
            "Malta",
            "Mexico",
            "New Zealand",
            "Nigeria",
            "North Macedonia",
            "Pakistan",
            "Peru",
            "Philippines",
            "Romania",
            "Russian Federation",
            "Singapore",
            "South Africa",
            "Thailand",
            "Tunisia",
            "Turkiye",
            "Ukraine",
            "United Kingdom",
            "United States"
           ],
           "locations": [
            "IRL",
            "DEU",
            "BEL",
            "DNK",
            "GRC",
            "ESP",
            "ITA",
            "NET",
            "NOR",
            "AUT",
            "HUN",
            "SLO",
            "SVN",
            "POL",
            "SWE",
            "FIN",
            "CHE",
            "HRV",
            "SRB",
            "PRT",
            "LVA",
            "FRA",
            "AFG",
            "ALB",
            "DZA",
            "ARG",
            "AUS",
            "AZE",
            "BLR",
            "BRA",
            "BGR",
            "CAN",
            "CHL",
            "CHN",
            "COL",
            "CRI",
            "CYP",
            "ECU",
            "EGY",
            "EST",
            "HON",
            "ISL",
            "IND",
            "IDN",
            "ISR",
            "JPN",
            "KAZ",
            "KOR",
            "LTU",
            "MYS",
            "MLT",
            "MEX",
            "NZL",
            "NGA",
            "NOR",
            "PAK",
            "PER",
            "PHI",
            "ROU",
            "RUS",
            "SGP",
            "ZAF",
            "THA",
            "TUN",
            "TUR",
            "UKR",
            "GBR",
            "USA"
           ],
           "name": "",
           "type": "choropleth",
           "z": [
            4.5,
            9.8,
            7.7,
            5.4,
            9.8,
            11.3,
            8.9,
            3.6,
            4.2,
            4.8,
            5.8,
            17.6,
            6.7,
            19.4,
            5.6,
            10.5,
            4.1,
            13.9,
            15.2,
            6.1,
            12.1,
            8.3,
            null,
            15,
            23.7,
            15.4,
            5.9,
            9.2,
            3.1,
            11.2,
            13.7,
            7.6,
            9.8,
            4.3,
            13.2,
            6.7,
            4.2,
            5.7,
            10.9,
            11.3,
            7.9,
            4,
            null,
            6.7,
            13.5,
            5.3,
            8.8,
            3.4,
            12.9,
            3.6,
            7.5,
            3.5,
            4.8,
            null,
            36.7,
            7.5,
            4.2,
            3.5,
            7,
            8.2,
            5.9,
            27.1,
            1.5,
            14.5,
            10.6,
            9.1,
            4.8,
            6
           ]
          }
         ],
         "name": "2003"
        },
        {
         "data": [
          {
           "coloraxis": "coloraxis",
           "geo": "geo",
           "hovertemplate": "<b>%{hovertext}</b><br><br>Year=2004<br>Alpha-3 code=%{location}<br>Unemployment, total (% of total labor force)=%{z}<extra></extra>",
           "hovertext": [
            "Ireland",
            "Germany",
            "Belgium",
            "Denmark",
            "Greece",
            "Spain",
            "Italy",
            "Netherlands",
            "Norway",
            "Austria",
            "Hungary",
            "Slovak Republic",
            "Slovenia",
            "Poland",
            "Sweden",
            "Finland",
            "Switzerland",
            "Croatia",
            "Serbia",
            "Portugal",
            "Latvia",
            "France",
            "Afghanistan",
            "Albania",
            "Algeria",
            "Argentina",
            "Australia",
            "Azerbaijan",
            "Belarus",
            "Brazil",
            "Bulgaria",
            "Canada",
            "Chile",
            "China",
            "Colombia",
            "Costa Rica",
            "Cyprus",
            "Ecuador",
            "Egypt, Arab Rep.",
            "Estonia",
            "Hong Kong SAR, China",
            "Iceland",
            "India",
            "Indonesia",
            "Israel",
            "Japan",
            "Kazakhstan",
            "Korea, Rep.",
            "Lithuania",
            "Malaysia",
            "Malta",
            "Mexico",
            "New Zealand",
            "Nigeria",
            "North Macedonia",
            "Pakistan",
            "Peru",
            "Philippines",
            "Romania",
            "Russian Federation",
            "Singapore",
            "South Africa",
            "Thailand",
            "Tunisia",
            "Turkiye",
            "Ukraine",
            "United Kingdom",
            "United States"
           ],
           "locations": [
            "IRL",
            "DEU",
            "BEL",
            "DNK",
            "GRC",
            "ESP",
            "ITA",
            "NET",
            "NOR",
            "AUT",
            "HUN",
            "SLO",
            "SVN",
            "POL",
            "SWE",
            "FIN",
            "CHE",
            "HRV",
            "SRB",
            "PRT",
            "LVA",
            "FRA",
            "AFG",
            "ALB",
            "DZA",
            "ARG",
            "AUS",
            "AZE",
            "BLR",
            "BRA",
            "BGR",
            "CAN",
            "CHL",
            "CHN",
            "COL",
            "CRI",
            "CYP",
            "ECU",
            "EGY",
            "EST",
            "HON",
            "ISL",
            "IND",
            "IDN",
            "ISR",
            "JPN",
            "KAZ",
            "KOR",
            "LTU",
            "MYS",
            "MLT",
            "MEX",
            "NZL",
            "NGA",
            "NOR",
            "PAK",
            "PER",
            "PHI",
            "ROU",
            "RUS",
            "SGP",
            "ZAF",
            "THA",
            "TUN",
            "TUR",
            "UKR",
            "GBR",
            "USA"
           ],
           "name": "",
           "type": "choropleth",
           "z": [
            4.5,
            10.7,
            7.4,
            5.2,
            10.6,
            11.1,
            7.9,
            4.7,
            4.3,
            6,
            5.8,
            18.2,
            6.3,
            19.1,
            6.7,
            10.4,
            4.3,
            13.7,
            18.5,
            6.3,
            11.7,
            8.9,
            null,
            14.4,
            17.7,
            13.5,
            5.4,
            8,
            1.9,
            10.1,
            12,
            7.2,
            10.2,
            4.2,
            13.7,
            6.4,
            4.8,
            5,
            10.3,
            10.3,
            6.7,
            4,
            null,
            7.3,
            13,
            4.7,
            8.4,
            3.4,
            10.7,
            3.5,
            7.3,
            3.9,
            4,
            null,
            37.2,
            7.4,
            4.7,
            3.6,
            7.7,
            7.8,
            5.8,
            24.7,
            1.5,
            14.2,
            10.8,
            8.6,
            4.6,
            5.5
           ]
          }
         ],
         "name": "2004"
        },
        {
         "data": [
          {
           "coloraxis": "coloraxis",
           "geo": "geo",
           "hovertemplate": "<b>%{hovertext}</b><br><br>Year=2005<br>Alpha-3 code=%{location}<br>Unemployment, total (% of total labor force)=%{z}<extra></extra>",
           "hovertext": [
            "Ireland",
            "Germany",
            "Belgium",
            "Denmark",
            "Greece",
            "Spain",
            "Italy",
            "Netherlands",
            "Norway",
            "Austria",
            "Hungary",
            "Slovak Republic",
            "Slovenia",
            "Poland",
            "Sweden",
            "Finland",
            "Switzerland",
            "Croatia",
            "Serbia",
            "Portugal",
            "Latvia",
            "France",
            "Afghanistan",
            "Albania",
            "Algeria",
            "Argentina",
            "Australia",
            "Azerbaijan",
            "Belarus",
            "Brazil",
            "Bulgaria",
            "Canada",
            "Chile",
            "China",
            "Colombia",
            "Costa Rica",
            "Cyprus",
            "Ecuador",
            "Egypt, Arab Rep.",
            "Estonia",
            "Hong Kong SAR, China",
            "Iceland",
            "India",
            "Indonesia",
            "Israel",
            "Japan",
            "Kazakhstan",
            "Korea, Rep.",
            "Lithuania",
            "Malaysia",
            "Malta",
            "Mexico",
            "New Zealand",
            "Nigeria",
            "North Macedonia",
            "Pakistan",
            "Peru",
            "Philippines",
            "Romania",
            "Russian Federation",
            "Singapore",
            "South Africa",
            "Thailand",
            "Tunisia",
            "Turkiye",
            "Ukraine",
            "United Kingdom",
            "United States"
           ],
           "locations": [
            "IRL",
            "DEU",
            "BEL",
            "DNK",
            "GRC",
            "ESP",
            "ITA",
            "NET",
            "NOR",
            "AUT",
            "HUN",
            "SLO",
            "SVN",
            "POL",
            "SWE",
            "FIN",
            "CHE",
            "HRV",
            "SRB",
            "PRT",
            "LVA",
            "FRA",
            "AFG",
            "ALB",
            "DZA",
            "ARG",
            "AUS",
            "AZE",
            "BLR",
            "BRA",
            "BGR",
            "CAN",
            "CHL",
            "CHN",
            "COL",
            "CRI",
            "CYP",
            "ECU",
            "EGY",
            "EST",
            "HON",
            "ISL",
            "IND",
            "IDN",
            "ISR",
            "JPN",
            "KAZ",
            "KOR",
            "LTU",
            "MYS",
            "MLT",
            "MEX",
            "NZL",
            "NGA",
            "NOR",
            "PAK",
            "PER",
            "PHI",
            "ROU",
            "RUS",
            "SGP",
            "ZAF",
            "THA",
            "TUN",
            "TUR",
            "UKR",
            "GBR",
            "USA"
           ],
           "name": "",
           "type": "choropleth",
           "z": [
            4.3,
            11.2,
            8.4,
            4.8,
            10.1,
            9.2,
            7.7,
            5.9,
            4.4,
            5.7,
            7.2,
            16.3,
            6.6,
            17.8,
            7.5,
            8.4,
            4.4,
            12.6,
            20.9,
            7.6,
            10,
            8.9,
            null,
            6.6,
            15.3,
            11.5,
            5,
            7.3,
            1.5,
            10.6,
            10.1,
            6.8,
            9.3,
            4.2,
            11.1,
            6.8,
            5.5,
            3.8,
            11.1,
            8,
            5.6,
            2.6,
            8.7,
            7.9,
            11.3,
            4.5,
            8.1,
            3.5,
            8.3,
            3.5,
            6.9,
            3.6,
            3.8,
            null,
            37.3,
            7.1,
            4.9,
            3.8,
            7.2,
            7.1,
            5.6,
            23.8,
            1.4,
            12.9,
            10.6,
            7.2,
            4.8,
            5.1
           ]
          }
         ],
         "name": "2005"
        },
        {
         "data": [
          {
           "coloraxis": "coloraxis",
           "geo": "geo",
           "hovertemplate": "<b>%{hovertext}</b><br><br>Year=2006<br>Alpha-3 code=%{location}<br>Unemployment, total (% of total labor force)=%{z}<extra></extra>",
           "hovertext": [
            "Ireland",
            "Germany",
            "Belgium",
            "Denmark",
            "Greece",
            "Spain",
            "Italy",
            "Netherlands",
            "Norway",
            "Austria",
            "Hungary",
            "Slovak Republic",
            "Slovenia",
            "Poland",
            "Sweden",
            "Finland",
            "Switzerland",
            "Croatia",
            "Serbia",
            "Portugal",
            "Latvia",
            "France",
            "Afghanistan",
            "Albania",
            "Algeria",
            "Argentina",
            "Australia",
            "Azerbaijan",
            "Belarus",
            "Brazil",
            "Bulgaria",
            "Canada",
            "Chile",
            "China",
            "Colombia",
            "Costa Rica",
            "Cyprus",
            "Ecuador",
            "Egypt, Arab Rep.",
            "Estonia",
            "Hong Kong SAR, China",
            "Iceland",
            "India",
            "Indonesia",
            "Israel",
            "Japan",
            "Kazakhstan",
            "Korea, Rep.",
            "Lithuania",
            "Malaysia",
            "Malta",
            "Mexico",
            "New Zealand",
            "Nigeria",
            "North Macedonia",
            "Pakistan",
            "Peru",
            "Philippines",
            "Romania",
            "Russian Federation",
            "Singapore",
            "South Africa",
            "Thailand",
            "Tunisia",
            "Turkiye",
            "Ukraine",
            "United Kingdom",
            "United States"
           ],
           "locations": [
            "IRL",
            "DEU",
            "BEL",
            "DNK",
            "GRC",
            "ESP",
            "ITA",
            "NET",
            "NOR",
            "AUT",
            "HUN",
            "SLO",
            "SVN",
            "POL",
            "SWE",
            "FIN",
            "CHE",
            "HRV",
            "SRB",
            "PRT",
            "LVA",
            "FRA",
            "AFG",
            "ALB",
            "DZA",
            "ARG",
            "AUS",
            "AZE",
            "BLR",
            "BRA",
            "BGR",
            "CAN",
            "CHL",
            "CHN",
            "COL",
            "CRI",
            "CYP",
            "ECU",
            "EGY",
            "EST",
            "HON",
            "ISL",
            "IND",
            "IDN",
            "ISR",
            "JPN",
            "KAZ",
            "KOR",
            "LTU",
            "MYS",
            "MLT",
            "MEX",
            "NZL",
            "NGA",
            "NOR",
            "PAK",
            "PER",
            "PHI",
            "ROU",
            "RUS",
            "SGP",
            "ZAF",
            "THA",
            "TUN",
            "TUR",
            "UKR",
            "GBR",
            "USA"
           ],
           "name": "",
           "type": "choropleth",
           "z": [
            4.4,
            10.3,
            8.3,
            3.9,
            8.9,
            8.5,
            6.8,
            5,
            3.4,
            5.3,
            7.5,
            13.4,
            6,
            13.8,
            7.1,
            7.7,
            4,
            11.1,
            20.9,
            7.7,
            7,
            8.8,
            null,
            13.8,
            12.3,
            10.1,
            4.8,
            6.6,
            1.2,
            9.7,
            9,
            6.3,
            9,
            4.1,
            null,
            5.9,
            4.6,
            3.6,
            10.5,
            5.9,
            4.8,
            2.8,
            null,
            7.6,
            10.7,
            4.2,
            7.8,
            3.3,
            5.8,
            null,
            6.8,
            3.6,
            3.9,
            null,
            36.4,
            0.6,
            4.2,
            4.1,
            7.3,
            7.1,
            4.5,
            22.6,
            1.2,
            12.5,
            8.7,
            6.8,
            5.4,
            4.6
           ]
          }
         ],
         "name": "2006"
        },
        {
         "data": [
          {
           "coloraxis": "coloraxis",
           "geo": "geo",
           "hovertemplate": "<b>%{hovertext}</b><br><br>Year=2007<br>Alpha-3 code=%{location}<br>Unemployment, total (% of total labor force)=%{z}<extra></extra>",
           "hovertext": [
            "Ireland",
            "Germany",
            "Belgium",
            "Denmark",
            "Greece",
            "Spain",
            "Italy",
            "Netherlands",
            "Norway",
            "Austria",
            "Hungary",
            "Slovak Republic",
            "Slovenia",
            "Poland",
            "Sweden",
            "Finland",
            "Switzerland",
            "Croatia",
            "Serbia",
            "Portugal",
            "Latvia",
            "France",
            "Afghanistan",
            "Albania",
            "Algeria",
            "Argentina",
            "Australia",
            "Azerbaijan",
            "Belarus",
            "Brazil",
            "Bulgaria",
            "Canada",
            "Chile",
            "China",
            "Colombia",
            "Costa Rica",
            "Cyprus",
            "Ecuador",
            "Egypt, Arab Rep.",
            "Estonia",
            "Hong Kong SAR, China",
            "Iceland",
            "India",
            "Indonesia",
            "Israel",
            "Japan",
            "Kazakhstan",
            "Korea, Rep.",
            "Lithuania",
            "Malaysia",
            "Malta",
            "Mexico",
            "New Zealand",
            "Nigeria",
            "North Macedonia",
            "Pakistan",
            "Peru",
            "Philippines",
            "Romania",
            "Russian Federation",
            "Singapore",
            "South Africa",
            "Thailand",
            "Tunisia",
            "Turkiye",
            "Ukraine",
            "United Kingdom",
            "United States"
           ],
           "locations": [
            "IRL",
            "DEU",
            "BEL",
            "DNK",
            "GRC",
            "ESP",
            "ITA",
            "NET",
            "NOR",
            "AUT",
            "HUN",
            "SLO",
            "SVN",
            "POL",
            "SWE",
            "FIN",
            "CHE",
            "HRV",
            "SRB",
            "PRT",
            "LVA",
            "FRA",
            "AFG",
            "ALB",
            "DZA",
            "ARG",
            "AUS",
            "AZE",
            "BLR",
            "BRA",
            "BGR",
            "CAN",
            "CHL",
            "CHN",
            "COL",
            "CRI",
            "CYP",
            "ECU",
            "EGY",
            "EST",
            "HON",
            "ISL",
            "IND",
            "IDN",
            "ISR",
            "JPN",
            "KAZ",
            "KOR",
            "LTU",
            "MYS",
            "MLT",
            "MEX",
            "NZL",
            "NGA",
            "NOR",
            "PAK",
            "PER",
            "PHI",
            "ROU",
            "RUS",
            "SGP",
            "ZAF",
            "THA",
            "TUN",
            "TUR",
            "UKR",
            "GBR",
            "USA"
           ],
           "name": "",
           "type": "choropleth",
           "z": [
            5,
            8.7,
            7.5,
            3.8,
            8.4,
            8.2,
            6.1,
            4.2,
            2.5,
            4.9,
            7.4,
            11.2,
            4.9,
            9.6,
            6.2,
            6.9,
            3.6,
            9.9,
            18.1,
            8,
            6.1,
            8,
            null,
            16,
            13.8,
            8.5,
            4.4,
            6.3,
            1,
            9.3,
            6.9,
            6,
            8.4,
            4,
            11.2,
            4.6,
            4,
            3.1,
            8.8,
            4.6,
            4,
            2.3,
            null,
            8.1,
            9.4,
            3.9,
            7.3,
            3,
            4.3,
            3.2,
            6.5,
            3.6,
            3.7,
            null,
            35.2,
            0.4,
            4.1,
            3.4,
            6.4,
            6,
            3.9,
            22.3,
            1.2,
            12.4,
            8.9,
            6.4,
            5.3,
            4.6
           ]
          }
         ],
         "name": "2007"
        },
        {
         "data": [
          {
           "coloraxis": "coloraxis",
           "geo": "geo",
           "hovertemplate": "<b>%{hovertext}</b><br><br>Year=2008<br>Alpha-3 code=%{location}<br>Unemployment, total (% of total labor force)=%{z}<extra></extra>",
           "hovertext": [
            "Ireland",
            "Germany",
            "Belgium",
            "Denmark",
            "Greece",
            "Spain",
            "Italy",
            "Netherlands",
            "Norway",
            "Austria",
            "Hungary",
            "Slovak Republic",
            "Slovenia",
            "Poland",
            "Sweden",
            "Finland",
            "Switzerland",
            "Croatia",
            "Serbia",
            "Portugal",
            "Latvia",
            "France",
            "Afghanistan",
            "Albania",
            "Algeria",
            "Argentina",
            "Australia",
            "Azerbaijan",
            "Belarus",
            "Brazil",
            "Bulgaria",
            "Canada",
            "Chile",
            "China",
            "Colombia",
            "Costa Rica",
            "Cyprus",
            "Ecuador",
            "Egypt, Arab Rep.",
            "Estonia",
            "Hong Kong SAR, China",
            "Iceland",
            "India",
            "Indonesia",
            "Israel",
            "Japan",
            "Kazakhstan",
            "Korea, Rep.",
            "Lithuania",
            "Malaysia",
            "Malta",
            "Mexico",
            "New Zealand",
            "Nigeria",
            "North Macedonia",
            "Pakistan",
            "Peru",
            "Philippines",
            "Romania",
            "Russian Federation",
            "Singapore",
            "South Africa",
            "Thailand",
            "Tunisia",
            "Turkiye",
            "Ukraine",
            "United Kingdom",
            "United States"
           ],
           "locations": [
            "IRL",
            "DEU",
            "BEL",
            "DNK",
            "GRC",
            "ESP",
            "ITA",
            "NET",
            "NOR",
            "AUT",
            "HUN",
            "SLO",
            "SVN",
            "POL",
            "SWE",
            "FIN",
            "CHE",
            "HRV",
            "SRB",
            "PRT",
            "LVA",
            "FRA",
            "AFG",
            "ALB",
            "DZA",
            "ARG",
            "AUS",
            "AZE",
            "BLR",
            "BRA",
            "BGR",
            "CAN",
            "CHL",
            "CHN",
            "COL",
            "CRI",
            "CYP",
            "ECU",
            "EGY",
            "EST",
            "HON",
            "ISL",
            "IND",
            "IDN",
            "ISR",
            "JPN",
            "KAZ",
            "KOR",
            "LTU",
            "MYS",
            "MLT",
            "MEX",
            "NZL",
            "NGA",
            "NOR",
            "PAK",
            "PER",
            "PHI",
            "ROU",
            "RUS",
            "SGP",
            "ZAF",
            "THA",
            "TUN",
            "TUR",
            "UKR",
            "GBR",
            "USA"
           ],
           "name": "",
           "type": "choropleth",
           "z": [
            6.8,
            7.5,
            7,
            3.7,
            7.7,
            11.3,
            6.7,
            3.7,
            2.6,
            4.2,
            7.8,
            9.5,
            4.4,
            7.1,
            6.2,
            6.4,
            3.4,
            8.5,
            13.7,
            7.6,
            7.7,
            7.4,
            2.5,
            13.1,
            11.3,
            7.8,
            4.2,
            5.9,
            0.8,
            8.3,
            5.6,
            6.1,
            9.3,
            4.2,
            11.3,
            4.9,
            3.8,
            3.9,
            8.5,
            5.5,
            3.6,
            3,
            null,
            7.2,
            7.7,
            4,
            6.6,
            3,
            5.8,
            3.3,
            6,
            3.9,
            4.2,
            null,
            33.9,
            0.4,
            4,
            3.7,
            5.8,
            6.2,
            4,
            19.5,
            1.2,
            12.4,
            9.7,
            6.4,
            5.6,
            5.8
           ]
          }
         ],
         "name": "2008"
        },
        {
         "data": [
          {
           "coloraxis": "coloraxis",
           "geo": "geo",
           "hovertemplate": "<b>%{hovertext}</b><br><br>Year=2009<br>Alpha-3 code=%{location}<br>Unemployment, total (% of total labor force)=%{z}<extra></extra>",
           "hovertext": [
            "Ireland",
            "Germany",
            "Belgium",
            "Denmark",
            "Greece",
            "Spain",
            "Italy",
            "Netherlands",
            "Norway",
            "Austria",
            "Hungary",
            "Slovak Republic",
            "Slovenia",
            "Poland",
            "Sweden",
            "Finland",
            "Switzerland",
            "Croatia",
            "Serbia",
            "Portugal",
            "Latvia",
            "France",
            "Afghanistan",
            "Albania",
            "Algeria",
            "Argentina",
            "Australia",
            "Azerbaijan",
            "Belarus",
            "Brazil",
            "Bulgaria",
            "Canada",
            "Chile",
            "China",
            "Colombia",
            "Costa Rica",
            "Cyprus",
            "Ecuador",
            "Egypt, Arab Rep.",
            "Estonia",
            "Hong Kong SAR, China",
            "Iceland",
            "India",
            "Indonesia",
            "Israel",
            "Japan",
            "Kazakhstan",
            "Korea, Rep.",
            "Lithuania",
            "Malaysia",
            "Malta",
            "Mexico",
            "New Zealand",
            "Nigeria",
            "North Macedonia",
            "Pakistan",
            "Peru",
            "Philippines",
            "Romania",
            "Russian Federation",
            "Singapore",
            "South Africa",
            "Thailand",
            "Tunisia",
            "Turkiye",
            "Ukraine",
            "United Kingdom",
            "United States"
           ],
           "locations": [
            "IRL",
            "DEU",
            "BEL",
            "DNK",
            "GRC",
            "ESP",
            "ITA",
            "NET",
            "NOR",
            "AUT",
            "HUN",
            "SLO",
            "SVN",
            "POL",
            "SWE",
            "FIN",
            "CHE",
            "HRV",
            "SRB",
            "PRT",
            "LVA",
            "FRA",
            "AFG",
            "ALB",
            "DZA",
            "ARG",
            "AUS",
            "AZE",
            "BLR",
            "BRA",
            "BGR",
            "CAN",
            "CHL",
            "CHN",
            "COL",
            "CRI",
            "CYP",
            "ECU",
            "EGY",
            "EST",
            "HON",
            "ISL",
            "IND",
            "IDN",
            "ISR",
            "JPN",
            "KAZ",
            "KOR",
            "LTU",
            "MYS",
            "MLT",
            "MEX",
            "NZL",
            "NGA",
            "NOR",
            "PAK",
            "PER",
            "PHI",
            "ROU",
            "RUS",
            "SGP",
            "ZAF",
            "THA",
            "TUN",
            "TUR",
            "UKR",
            "GBR",
            "USA"
           ],
           "name": "",
           "type": "choropleth",
           "z": [
            12.6,
            7.7,
            7.9,
            6.4,
            9.6,
            17.9,
            7.8,
            4.4,
            3.1,
            5.4,
            10,
            12,
            5.9,
            8.2,
            8.4,
            8.3,
            4.1,
            9.2,
            16.1,
            9.4,
            17.5,
            9.1,
            null,
            13.7,
            10.2,
            8.7,
            5.6,
            5.7,
            6.1,
            9.4,
            6.8,
            8.3,
            11.3,
            4.3,
            12.1,
            7.8,
            5.6,
            4.6,
            9.1,
            13.6,
            5.3,
            7.2,
            null,
            6.1,
            9.5,
            5.1,
            6.6,
            3.4,
            13.8,
            3.7,
            6.9,
            5.4,
            6.1,
            null,
            32.4,
            0.5,
            4,
            3.9,
            6.9,
            8.3,
            5.9,
            20.5,
            1.5,
            13.3,
            12.6,
            8.8,
            7.5,
            9.3
           ]
          }
         ],
         "name": "2009"
        },
        {
         "data": [
          {
           "coloraxis": "coloraxis",
           "geo": "geo",
           "hovertemplate": "<b>%{hovertext}</b><br><br>Year=2010<br>Alpha-3 code=%{location}<br>Unemployment, total (% of total labor force)=%{z}<extra></extra>",
           "hovertext": [
            "Ireland",
            "Germany",
            "Belgium",
            "Denmark",
            "Greece",
            "Spain",
            "Italy",
            "Netherlands",
            "Norway",
            "Austria",
            "Hungary",
            "Slovak Republic",
            "Slovenia",
            "Poland",
            "Sweden",
            "Finland",
            "Switzerland",
            "Croatia",
            "Serbia",
            "Portugal",
            "Latvia",
            "France",
            "Afghanistan",
            "Albania",
            "Algeria",
            "Argentina",
            "Australia",
            "Azerbaijan",
            "Belarus",
            "Brazil",
            "Bulgaria",
            "Canada",
            "Chile",
            "China",
            "Colombia",
            "Costa Rica",
            "Cyprus",
            "Ecuador",
            "Egypt, Arab Rep.",
            "Estonia",
            "Hong Kong SAR, China",
            "Iceland",
            "India",
            "Indonesia",
            "Israel",
            "Japan",
            "Kazakhstan",
            "Korea, Rep.",
            "Lithuania",
            "Malaysia",
            "Malta",
            "Mexico",
            "New Zealand",
            "Nigeria",
            "North Macedonia",
            "Pakistan",
            "Peru",
            "Philippines",
            "Romania",
            "Russian Federation",
            "Singapore",
            "South Africa",
            "Thailand",
            "Tunisia",
            "Turkiye",
            "Ukraine",
            "United Kingdom",
            "United States"
           ],
           "locations": [
            "IRL",
            "DEU",
            "BEL",
            "DNK",
            "GRC",
            "ESP",
            "ITA",
            "NET",
            "NOR",
            "AUT",
            "HUN",
            "SLO",
            "SVN",
            "POL",
            "SWE",
            "FIN",
            "CHE",
            "HRV",
            "SRB",
            "PRT",
            "LVA",
            "FRA",
            "AFG",
            "ALB",
            "DZA",
            "ARG",
            "AUS",
            "AZE",
            "BLR",
            "BRA",
            "BGR",
            "CAN",
            "CHL",
            "CHN",
            "COL",
            "CRI",
            "CYP",
            "ECU",
            "EGY",
            "EST",
            "HON",
            "ISL",
            "IND",
            "IDN",
            "ISR",
            "JPN",
            "KAZ",
            "KOR",
            "LTU",
            "MYS",
            "MLT",
            "MEX",
            "NZL",
            "NGA",
            "NOR",
            "PAK",
            "PER",
            "PHI",
            "ROU",
            "RUS",
            "SGP",
            "ZAF",
            "THA",
            "TUN",
            "TUR",
            "UKR",
            "GBR",
            "USA"
           ],
           "name": "",
           "type": "choropleth",
           "z": [
            14.5,
            7,
            8.3,
            7.8,
            12.7,
            19.9,
            8.4,
            5,
            3.5,
            4.9,
            11.2,
            14.4,
            7.3,
            9.6,
            8.6,
            8.4,
            4.8,
            11.6,
            19.2,
            10.8,
            19.5,
            9.3,
            null,
            14.1,
            10,
            7.7,
            5.2,
            5.6,
            null,
            null,
            10.3,
            8.1,
            8.4,
            4.1,
            11.2,
            7.2,
            6.4,
            4.1,
            8.8,
            16.7,
            4.3,
            7.6,
            3.1,
            5.6,
            8.5,
            5.1,
            5.8,
            3.3,
            17.8,
            3.4,
            6.9,
            5.3,
            6.6,
            null,
            33.1,
            0.7,
            3.6,
            3.6,
            7,
            7.4,
            4.1,
            23.2,
            0.6,
            13.1,
            10.7,
            8.1,
            7.8,
            9.6
           ]
          }
         ],
         "name": "2010"
        },
        {
         "data": [
          {
           "coloraxis": "coloraxis",
           "geo": "geo",
           "hovertemplate": "<b>%{hovertext}</b><br><br>Year=2011<br>Alpha-3 code=%{location}<br>Unemployment, total (% of total labor force)=%{z}<extra></extra>",
           "hovertext": [
            "Ireland",
            "Germany",
            "Belgium",
            "Denmark",
            "Greece",
            "Spain",
            "Italy",
            "Netherlands",
            "Norway",
            "Austria",
            "Hungary",
            "Slovak Republic",
            "Slovenia",
            "Poland",
            "Sweden",
            "Finland",
            "Switzerland",
            "Croatia",
            "Serbia",
            "Portugal",
            "Latvia",
            "France",
            "Afghanistan",
            "Albania",
            "Algeria",
            "Argentina",
            "Australia",
            "Azerbaijan",
            "Belarus",
            "Brazil",
            "Bulgaria",
            "Canada",
            "Chile",
            "China",
            "Colombia",
            "Costa Rica",
            "Cyprus",
            "Ecuador",
            "Egypt, Arab Rep.",
            "Estonia",
            "Hong Kong SAR, China",
            "Iceland",
            "India",
            "Indonesia",
            "Israel",
            "Japan",
            "Kazakhstan",
            "Korea, Rep.",
            "Lithuania",
            "Malaysia",
            "Malta",
            "Mexico",
            "New Zealand",
            "Nigeria",
            "North Macedonia",
            "Pakistan",
            "Peru",
            "Philippines",
            "Romania",
            "Russian Federation",
            "Singapore",
            "South Africa",
            "Thailand",
            "Tunisia",
            "Turkiye",
            "Ukraine",
            "United Kingdom",
            "United States"
           ],
           "locations": [
            "IRL",
            "DEU",
            "BEL",
            "DNK",
            "GRC",
            "ESP",
            "ITA",
            "NET",
            "NOR",
            "AUT",
            "HUN",
            "SLO",
            "SVN",
            "POL",
            "SWE",
            "FIN",
            "CHE",
            "HRV",
            "SRB",
            "PRT",
            "LVA",
            "FRA",
            "AFG",
            "ALB",
            "DZA",
            "ARG",
            "AUS",
            "AZE",
            "BLR",
            "BRA",
            "BGR",
            "CAN",
            "CHL",
            "CHN",
            "COL",
            "CRI",
            "CYP",
            "ECU",
            "EGY",
            "EST",
            "HON",
            "ISL",
            "IND",
            "IDN",
            "ISR",
            "JPN",
            "KAZ",
            "KOR",
            "LTU",
            "MYS",
            "MLT",
            "MEX",
            "NZL",
            "NGA",
            "NOR",
            "PAK",
            "PER",
            "PHI",
            "ROU",
            "RUS",
            "SGP",
            "ZAF",
            "THA",
            "TUN",
            "TUR",
            "UKR",
            "GBR",
            "USA"
           ],
           "name": "",
           "type": "choropleth",
           "z": [
            15.4,
            5.8,
            7.1,
            7.8,
            18,
            21.4,
            8.4,
            5,
            3.2,
            4.6,
            11,
            13.6,
            8.2,
            9.6,
            7.8,
            7.8,
            4.4,
            13.7,
            23,
            12.7,
            16.2,
            9.2,
            null,
            13.5,
            10,
            7.2,
            5.1,
            5.4,
            0.6,
            7.6,
            11.3,
            7.5,
            7.3,
            4.1,
            10.3,
            9.5,
            7.9,
            3.5,
            11.9,
            12.3,
            3.4,
            7,
            null,
            5.2,
            7.1,
            4.6,
            5.4,
            3,
            15.4,
            3.1,
            6.4,
            5.2,
            6.5,
            3.8,
            31.5,
            0.8,
            3.5,
            3.6,
            7.2,
            6.5,
            3.9,
            21.4,
            0.7,
            18.3,
            8.8,
            7.9,
            8,
            9
           ]
          }
         ],
         "name": "2011"
        },
        {
         "data": [
          {
           "coloraxis": "coloraxis",
           "geo": "geo",
           "hovertemplate": "<b>%{hovertext}</b><br><br>Year=2012<br>Alpha-3 code=%{location}<br>Unemployment, total (% of total labor force)=%{z}<extra></extra>",
           "hovertext": [
            "Ireland",
            "Germany",
            "Belgium",
            "Denmark",
            "Greece",
            "Spain",
            "Italy",
            "Netherlands",
            "Norway",
            "Austria",
            "Hungary",
            "Slovak Republic",
            "Slovenia",
            "Poland",
            "Sweden",
            "Finland",
            "Switzerland",
            "Croatia",
            "Serbia",
            "Portugal",
            "Latvia",
            "France",
            "Afghanistan",
            "Albania",
            "Algeria",
            "Argentina",
            "Australia",
            "Azerbaijan",
            "Belarus",
            "Brazil",
            "Bulgaria",
            "Canada",
            "Chile",
            "China",
            "Colombia",
            "Costa Rica",
            "Cyprus",
            "Ecuador",
            "Egypt, Arab Rep.",
            "Estonia",
            "Hong Kong SAR, China",
            "Iceland",
            "India",
            "Indonesia",
            "Israel",
            "Japan",
            "Kazakhstan",
            "Korea, Rep.",
            "Lithuania",
            "Malaysia",
            "Malta",
            "Mexico",
            "New Zealand",
            "Nigeria",
            "North Macedonia",
            "Pakistan",
            "Peru",
            "Philippines",
            "Romania",
            "Russian Federation",
            "Singapore",
            "South Africa",
            "Thailand",
            "Tunisia",
            "Turkiye",
            "Ukraine",
            "United Kingdom",
            "United States"
           ],
           "locations": [
            "IRL",
            "DEU",
            "BEL",
            "DNK",
            "GRC",
            "ESP",
            "ITA",
            "NET",
            "NOR",
            "AUT",
            "HUN",
            "SLO",
            "SVN",
            "POL",
            "SWE",
            "FIN",
            "CHE",
            "HRV",
            "SRB",
            "PRT",
            "LVA",
            "FRA",
            "AFG",
            "ALB",
            "DZA",
            "ARG",
            "AUS",
            "AZE",
            "BLR",
            "BRA",
            "BGR",
            "CAN",
            "CHL",
            "CHN",
            "COL",
            "CRI",
            "CYP",
            "ECU",
            "EGY",
            "EST",
            "HON",
            "ISL",
            "IND",
            "IDN",
            "ISR",
            "JPN",
            "KAZ",
            "KOR",
            "LTU",
            "MYS",
            "MLT",
            "MEX",
            "NZL",
            "NGA",
            "NOR",
            "PAK",
            "PER",
            "PHI",
            "ROU",
            "RUS",
            "SGP",
            "ZAF",
            "THA",
            "TUN",
            "TUR",
            "UKR",
            "GBR",
            "USA"
           ],
           "name": "",
           "type": "choropleth",
           "z": [
            15.5,
            5.4,
            7.5,
            7.8,
            24.7,
            24.8,
            10.7,
            5.8,
            3.1,
            4.9,
            11,
            14,
            8.9,
            10.1,
            8,
            7.7,
            4.5,
            15.9,
            24,
            15.5,
            15.1,
            9.8,
            1.7,
            13.4,
            11,
            7.2,
            5.2,
            5.2,
            0.5,
            7.3,
            12.3,
            7.3,
            6.6,
            4.1,
            10,
            9.1,
            12.1,
            3.2,
            12.6,
            10,
            3.3,
            6,
            3.2,
            4.5,
            6.8,
            4.4,
            5.3,
            2.8,
            13.4,
            3.1,
            6.2,
            4.9,
            6.9,
            null,
            31.2,
            null,
            3.2,
            3.5,
            6.8,
            5.4,
            3.7,
            21.8,
            0.6,
            17.6,
            8.2,
            7.5,
            7.9,
            8.1
           ]
          }
         ],
         "name": "2012"
        },
        {
         "data": [
          {
           "coloraxis": "coloraxis",
           "geo": "geo",
           "hovertemplate": "<b>%{hovertext}</b><br><br>Year=2013<br>Alpha-3 code=%{location}<br>Unemployment, total (% of total labor force)=%{z}<extra></extra>",
           "hovertext": [
            "Ireland",
            "Germany",
            "Belgium",
            "Denmark",
            "Greece",
            "Spain",
            "Italy",
            "Netherlands",
            "Norway",
            "Austria",
            "Hungary",
            "Slovak Republic",
            "Slovenia",
            "Poland",
            "Sweden",
            "Finland",
            "Switzerland",
            "Croatia",
            "Serbia",
            "Portugal",
            "Latvia",
            "France",
            "Afghanistan",
            "Albania",
            "Algeria",
            "Argentina",
            "Australia",
            "Azerbaijan",
            "Belarus",
            "Brazil",
            "Bulgaria",
            "Canada",
            "Chile",
            "China",
            "Colombia",
            "Costa Rica",
            "Cyprus",
            "Ecuador",
            "Egypt, Arab Rep.",
            "Estonia",
            "Hong Kong SAR, China",
            "Iceland",
            "India",
            "Indonesia",
            "Israel",
            "Japan",
            "Kazakhstan",
            "Korea, Rep.",
            "Lithuania",
            "Malaysia",
            "Malta",
            "Mexico",
            "New Zealand",
            "Nigeria",
            "North Macedonia",
            "Pakistan",
            "Peru",
            "Philippines",
            "Romania",
            "Russian Federation",
            "Singapore",
            "South Africa",
            "Thailand",
            "Tunisia",
            "Turkiye",
            "Ukraine",
            "United Kingdom",
            "United States"
           ],
           "locations": [
            "IRL",
            "DEU",
            "BEL",
            "DNK",
            "GRC",
            "ESP",
            "ITA",
            "NET",
            "NOR",
            "AUT",
            "HUN",
            "SLO",
            "SVN",
            "POL",
            "SWE",
            "FIN",
            "CHE",
            "HRV",
            "SRB",
            "PRT",
            "LVA",
            "FRA",
            "AFG",
            "ALB",
            "DZA",
            "ARG",
            "AUS",
            "AZE",
            "BLR",
            "BRA",
            "BGR",
            "CAN",
            "CHL",
            "CHN",
            "COL",
            "CRI",
            "CYP",
            "ECU",
            "EGY",
            "EST",
            "HON",
            "ISL",
            "IND",
            "IDN",
            "ISR",
            "JPN",
            "KAZ",
            "KOR",
            "LTU",
            "MYS",
            "MLT",
            "MEX",
            "NZL",
            "NGA",
            "NOR",
            "PAK",
            "PER",
            "PHI",
            "ROU",
            "RUS",
            "SGP",
            "ZAF",
            "THA",
            "TUN",
            "TUR",
            "UKR",
            "GBR",
            "USA"
           ],
           "name": "",
           "type": "choropleth",
           "z": [
            13.7,
            5.2,
            8.4,
            7.4,
            27.7,
            26.1,
            12.2,
            7.2,
            3.4,
            5.4,
            10.2,
            14.2,
            10.1,
            10.3,
            8.1,
            8.2,
            4.8,
            17.3,
            22.2,
            16.2,
            11.9,
            9.9,
            null,
            15.9,
            9.8,
            7.1,
            5.7,
            5,
            0.5,
            7.1,
            12.9,
            7.1,
            6.2,
            4.1,
            9.3,
            8.2,
            16.1,
            3.1,
            13.2,
            8.6,
            3.4,
            5.4,
            null,
            4.3,
            6.1,
            4,
            5.2,
            2.8,
            11.8,
            3.2,
            6.1,
            4.9,
            5.8,
            3.7,
            29.1,
            3,
            3.6,
            3.5,
            7.1,
            5.5,
            3.9,
            22,
            0.3,
            15.9,
            8.7,
            7.2,
            7.5,
            7.4
           ]
          }
         ],
         "name": "2013"
        },
        {
         "data": [
          {
           "coloraxis": "coloraxis",
           "geo": "geo",
           "hovertemplate": "<b>%{hovertext}</b><br><br>Year=2014<br>Alpha-3 code=%{location}<br>Unemployment, total (% of total labor force)=%{z}<extra></extra>",
           "hovertext": [
            "Ireland",
            "Germany",
            "Belgium",
            "Denmark",
            "Greece",
            "Spain",
            "Italy",
            "Netherlands",
            "Norway",
            "Austria",
            "Hungary",
            "Slovak Republic",
            "Slovenia",
            "Poland",
            "Sweden",
            "Finland",
            "Switzerland",
            "Croatia",
            "Serbia",
            "Portugal",
            "Latvia",
            "France",
            "Afghanistan",
            "Albania",
            "Algeria",
            "Argentina",
            "Australia",
            "Azerbaijan",
            "Belarus",
            "Brazil",
            "Bulgaria",
            "Canada",
            "Chile",
            "China",
            "Colombia",
            "Costa Rica",
            "Cyprus",
            "Ecuador",
            "Egypt, Arab Rep.",
            "Estonia",
            "Hong Kong SAR, China",
            "Iceland",
            "India",
            "Indonesia",
            "Israel",
            "Japan",
            "Kazakhstan",
            "Korea, Rep.",
            "Lithuania",
            "Malaysia",
            "Malta",
            "Mexico",
            "New Zealand",
            "Nigeria",
            "North Macedonia",
            "Pakistan",
            "Peru",
            "Philippines",
            "Romania",
            "Russian Federation",
            "Singapore",
            "South Africa",
            "Thailand",
            "Tunisia",
            "Turkiye",
            "Ukraine",
            "United Kingdom",
            "United States"
           ],
           "locations": [
            "IRL",
            "DEU",
            "BEL",
            "DNK",
            "GRC",
            "ESP",
            "ITA",
            "NET",
            "NOR",
            "AUT",
            "HUN",
            "SLO",
            "SVN",
            "POL",
            "SWE",
            "FIN",
            "CHE",
            "HRV",
            "SRB",
            "PRT",
            "LVA",
            "FRA",
            "AFG",
            "ALB",
            "DZA",
            "ARG",
            "AUS",
            "AZE",
            "BLR",
            "BRA",
            "BGR",
            "CAN",
            "CHL",
            "CHN",
            "COL",
            "CRI",
            "CYP",
            "ECU",
            "EGY",
            "EST",
            "HON",
            "ISL",
            "IND",
            "IDN",
            "ISR",
            "JPN",
            "KAZ",
            "KOR",
            "LTU",
            "MYS",
            "MLT",
            "MEX",
            "NZL",
            "NGA",
            "NOR",
            "PAK",
            "PER",
            "PHI",
            "ROU",
            "RUS",
            "SGP",
            "ZAF",
            "THA",
            "TUN",
            "TUR",
            "UKR",
            "GBR",
            "USA"
           ],
           "name": "",
           "type": "choropleth",
           "z": [
            11.9,
            5,
            8.5,
            6.9,
            26.7,
            24.4,
            12.7,
            7.4,
            3.5,
            5.7,
            7.7,
            11.5,
            9.7,
            9,
            8,
            8.7,
            4.8,
            17.3,
            19.2,
            13.9,
            10.9,
            10.3,
            7.9,
            18.1,
            10.2,
            7.3,
            6.1,
            4.9,
            0.5,
            6.8,
            11.4,
            6.9,
            6.7,
            4.1,
            8.8,
            8.5,
            16.3,
            3.5,
            13.1,
            7.4,
            3.3,
            4.9,
            null,
            4.1,
            5.8,
            3.6,
            5.1,
            3.1,
            10.7,
            2.9,
            5.7,
            4.8,
            5.4,
            4.6,
            28.4,
            1.8,
            3.2,
            3.6,
            6.8,
            5.2,
            3.7,
            22.6,
            0.6,
            14.3,
            9.9,
            9.3,
            6.1,
            6.2
           ]
          }
         ],
         "name": "2014"
        },
        {
         "data": [
          {
           "coloraxis": "coloraxis",
           "geo": "geo",
           "hovertemplate": "<b>%{hovertext}</b><br><br>Year=2015<br>Alpha-3 code=%{location}<br>Unemployment, total (% of total labor force)=%{z}<extra></extra>",
           "hovertext": [
            "Ireland",
            "Germany",
            "Belgium",
            "Denmark",
            "Greece",
            "Spain",
            "Italy",
            "Netherlands",
            "Norway",
            "Austria",
            "Hungary",
            "Slovak Republic",
            "Slovenia",
            "Poland",
            "Sweden",
            "Finland",
            "Switzerland",
            "Croatia",
            "Serbia",
            "Portugal",
            "Latvia",
            "France",
            "Afghanistan",
            "Albania",
            "Algeria",
            "Argentina",
            "Australia",
            "Azerbaijan",
            "Belarus",
            "Brazil",
            "Bulgaria",
            "Canada",
            "Chile",
            "China",
            "Colombia",
            "Costa Rica",
            "Cyprus",
            "Ecuador",
            "Egypt, Arab Rep.",
            "Estonia",
            "Hong Kong SAR, China",
            "Iceland",
            "India",
            "Indonesia",
            "Israel",
            "Japan",
            "Kazakhstan",
            "Korea, Rep.",
            "Lithuania",
            "Malaysia",
            "Malta",
            "Mexico",
            "New Zealand",
            "Nigeria",
            "North Macedonia",
            "Pakistan",
            "Peru",
            "Philippines",
            "Romania",
            "Russian Federation",
            "Singapore",
            "South Africa",
            "Thailand",
            "Tunisia",
            "Turkiye",
            "Ukraine",
            "United Kingdom",
            "United States"
           ],
           "locations": [
            "IRL",
            "DEU",
            "BEL",
            "DNK",
            "GRC",
            "ESP",
            "ITA",
            "NET",
            "NOR",
            "AUT",
            "HUN",
            "SLO",
            "SVN",
            "POL",
            "SWE",
            "FIN",
            "CHE",
            "HRV",
            "SRB",
            "PRT",
            "LVA",
            "FRA",
            "AFG",
            "ALB",
            "DZA",
            "ARG",
            "AUS",
            "AZE",
            "BLR",
            "BRA",
            "BGR",
            "CAN",
            "CHL",
            "CHN",
            "COL",
            "CRI",
            "CYP",
            "ECU",
            "EGY",
            "EST",
            "HON",
            "ISL",
            "IND",
            "IDN",
            "ISR",
            "JPN",
            "KAZ",
            "KOR",
            "LTU",
            "MYS",
            "MLT",
            "MEX",
            "NZL",
            "NGA",
            "NOR",
            "PAK",
            "PER",
            "PHI",
            "ROU",
            "RUS",
            "SGP",
            "ZAF",
            "THA",
            "TUN",
            "TUR",
            "UKR",
            "GBR",
            "USA"
           ],
           "name": "",
           "type": "choropleth",
           "z": [
            9.9,
            4.6,
            8.5,
            6.3,
            25,
            22.1,
            11.9,
            6.9,
            4.3,
            5.8,
            6.8,
            11.5,
            9,
            7.5,
            7.4,
            9.4,
            4.8,
            16.2,
            17.7,
            12.5,
            9.9,
            10.4,
            null,
            17.2,
            11.2,
            null,
            6.1,
            5,
            1,
            8.5,
            9.1,
            6.9,
            6.5,
            null,
            8.6,
            8.4,
            15,
            3.6,
            13.1,
            6.2,
            3.3,
            4,
            null,
            4.5,
            5.2,
            3.4,
            4.9,
            3.6,
            9.1,
            3.1,
            5.4,
            4.3,
            5.4,
            4.3,
            26.4,
            3.6,
            3.3,
            3.1,
            6.8,
            5.6,
            3.8,
            22.9,
            0.6,
            15.2,
            10.2,
            9.1,
            5.3,
            5.3
           ]
          }
         ],
         "name": "2015"
        },
        {
         "data": [
          {
           "coloraxis": "coloraxis",
           "geo": "geo",
           "hovertemplate": "<b>%{hovertext}</b><br><br>Year=2016<br>Alpha-3 code=%{location}<br>Unemployment, total (% of total labor force)=%{z}<extra></extra>",
           "hovertext": [
            "Ireland",
            "Germany",
            "Belgium",
            "Denmark",
            "Greece",
            "Spain",
            "Italy",
            "Netherlands",
            "Norway",
            "Austria",
            "Hungary",
            "Slovak Republic",
            "Slovenia",
            "Poland",
            "Sweden",
            "Finland",
            "Switzerland",
            "Croatia",
            "Serbia",
            "Portugal",
            "Latvia",
            "France",
            "Afghanistan",
            "Albania",
            "Algeria",
            "Argentina",
            "Australia",
            "Azerbaijan",
            "Belarus",
            "Brazil",
            "Bulgaria",
            "Canada",
            "Chile",
            "China",
            "Colombia",
            "Costa Rica",
            "Cyprus",
            "Ecuador",
            "Egypt, Arab Rep.",
            "Estonia",
            "Hong Kong SAR, China",
            "Iceland",
            "India",
            "Indonesia",
            "Israel",
            "Japan",
            "Kazakhstan",
            "Korea, Rep.",
            "Lithuania",
            "Malaysia",
            "Malta",
            "Mexico",
            "New Zealand",
            "Nigeria",
            "North Macedonia",
            "Pakistan",
            "Peru",
            "Philippines",
            "Romania",
            "Russian Federation",
            "Singapore",
            "South Africa",
            "Thailand",
            "Tunisia",
            "Turkiye",
            "Ukraine",
            "United Kingdom",
            "United States"
           ],
           "locations": [
            "IRL",
            "DEU",
            "BEL",
            "DNK",
            "GRC",
            "ESP",
            "ITA",
            "NET",
            "NOR",
            "AUT",
            "HUN",
            "SLO",
            "SVN",
            "POL",
            "SWE",
            "FIN",
            "CHE",
            "HRV",
            "SRB",
            "PRT",
            "LVA",
            "FRA",
            "AFG",
            "ALB",
            "DZA",
            "ARG",
            "AUS",
            "AZE",
            "BLR",
            "BRA",
            "BGR",
            "CAN",
            "CHL",
            "CHN",
            "COL",
            "CRI",
            "CYP",
            "ECU",
            "EGY",
            "EST",
            "HON",
            "ISL",
            "IND",
            "IDN",
            "ISR",
            "JPN",
            "KAZ",
            "KOR",
            "LTU",
            "MYS",
            "MLT",
            "MEX",
            "NZL",
            "NGA",
            "NOR",
            "PAK",
            "PER",
            "PHI",
            "ROU",
            "RUS",
            "SGP",
            "ZAF",
            "THA",
            "TUN",
            "TUR",
            "UKR",
            "GBR",
            "USA"
           ],
           "name": "",
           "type": "choropleth",
           "z": [
            8.4,
            4.1,
            7.8,
            6,
            23.5,
            19.6,
            11.7,
            6,
            4.7,
            6.1,
            5.1,
            9.7,
            8,
            6.2,
            7,
            8.8,
            4.9,
            13.1,
            15.3,
            11.1,
            9.6,
            10.1,
            null,
            15.4,
            10.2,
            null,
            5.7,
            5,
            5.8,
            11.6,
            7.6,
            7,
            6.7,
            null,
            8.9,
            8.1,
            13,
            4.6,
            12.5,
            6.8,
            3.4,
            3,
            null,
            4.3,
            4.7,
            3.1,
            5,
            3.7,
            7.9,
            3.4,
            4.7,
            3.9,
            5.2,
            7.1,
            24.3,
            null,
            3.7,
            2.7,
            5.9,
            5.6,
            4.1,
            24,
            0.7,
            15.6,
            10.8,
            9.4,
            4.8,
            4.9
           ]
          }
         ],
         "name": "2016"
        },
        {
         "data": [
          {
           "coloraxis": "coloraxis",
           "geo": "geo",
           "hovertemplate": "<b>%{hovertext}</b><br><br>Year=2017<br>Alpha-3 code=%{location}<br>Unemployment, total (% of total labor force)=%{z}<extra></extra>",
           "hovertext": [
            "Ireland",
            "Germany",
            "Belgium",
            "Denmark",
            "Greece",
            "Spain",
            "Italy",
            "Netherlands",
            "Norway",
            "Austria",
            "Hungary",
            "Slovak Republic",
            "Slovenia",
            "Poland",
            "Sweden",
            "Finland",
            "Switzerland",
            "Croatia",
            "Serbia",
            "Portugal",
            "Latvia",
            "France",
            "Afghanistan",
            "Albania",
            "Algeria",
            "Argentina",
            "Australia",
            "Azerbaijan",
            "Belarus",
            "Brazil",
            "Bulgaria",
            "Canada",
            "Chile",
            "China",
            "Colombia",
            "Costa Rica",
            "Cyprus",
            "Ecuador",
            "Egypt, Arab Rep.",
            "Estonia",
            "Hong Kong SAR, China",
            "Iceland",
            "India",
            "Indonesia",
            "Israel",
            "Japan",
            "Kazakhstan",
            "Korea, Rep.",
            "Lithuania",
            "Malaysia",
            "Malta",
            "Mexico",
            "New Zealand",
            "Nigeria",
            "North Macedonia",
            "Pakistan",
            "Peru",
            "Philippines",
            "Romania",
            "Russian Federation",
            "Singapore",
            "South Africa",
            "Thailand",
            "Tunisia",
            "Turkiye",
            "Ukraine",
            "United Kingdom",
            "United States"
           ],
           "locations": [
            "IRL",
            "DEU",
            "BEL",
            "DNK",
            "GRC",
            "ESP",
            "ITA",
            "NET",
            "NOR",
            "AUT",
            "HUN",
            "SLO",
            "SVN",
            "POL",
            "SWE",
            "FIN",
            "CHE",
            "HRV",
            "SRB",
            "PRT",
            "LVA",
            "FRA",
            "AFG",
            "ALB",
            "DZA",
            "ARG",
            "AUS",
            "AZE",
            "BLR",
            "BRA",
            "BGR",
            "CAN",
            "CHL",
            "CHN",
            "COL",
            "CRI",
            "CYP",
            "ECU",
            "EGY",
            "EST",
            "HON",
            "ISL",
            "IND",
            "IDN",
            "ISR",
            "JPN",
            "KAZ",
            "KOR",
            "LTU",
            "MYS",
            "MLT",
            "MEX",
            "NZL",
            "NGA",
            "NOR",
            "PAK",
            "PER",
            "PHI",
            "ROU",
            "RUS",
            "SGP",
            "ZAF",
            "THA",
            "TUN",
            "TUR",
            "UKR",
            "GBR",
            "USA"
           ],
           "name": "",
           "type": "choropleth",
           "z": [
            6.7,
            3.8,
            7.1,
            5.8,
            21.4,
            17.2,
            11.2,
            4.8,
            4.2,
            5.6,
            4.2,
            8.1,
            6.6,
            4.9,
            6.7,
            8.6,
            4.8,
            11.2,
            13.5,
            8.9,
            8.7,
            9.4,
            11.2,
            13.6,
            12,
            8.4,
            5.6,
            5,
            5.7,
            12.8,
            6.2,
            6.3,
            7,
            3.9,
            9.1,
            7.7,
            11.2,
            3.8,
            11.8,
            5.8,
            3.1,
            2.7,
            null,
            3.8,
            4.1,
            2.8,
            4.9,
            3.7,
            7.1,
            3.4,
            4,
            3.4,
            4.7,
            8.4,
            22.8,
            null,
            3.7,
            2.6,
            4.9,
            5.2,
            4.2,
            24,
            0.8,
            15.3,
            10.8,
            9.5,
            4.3,
            4.4
           ]
          }
         ],
         "name": "2017"
        },
        {
         "data": [
          {
           "coloraxis": "coloraxis",
           "geo": "geo",
           "hovertemplate": "<b>%{hovertext}</b><br><br>Year=2018<br>Alpha-3 code=%{location}<br>Unemployment, total (% of total labor force)=%{z}<extra></extra>",
           "hovertext": [
            "Ireland",
            "Germany",
            "Belgium",
            "Denmark",
            "Greece",
            "Spain",
            "Italy",
            "Netherlands",
            "Norway",
            "Austria",
            "Hungary",
            "Slovak Republic",
            "Slovenia",
            "Poland",
            "Sweden",
            "Finland",
            "Switzerland",
            "Croatia",
            "Serbia",
            "Portugal",
            "Latvia",
            "France",
            "Afghanistan",
            "Albania",
            "Algeria",
            "Argentina",
            "Australia",
            "Azerbaijan",
            "Belarus",
            "Brazil",
            "Bulgaria",
            "Canada",
            "Chile",
            "China",
            "Colombia",
            "Costa Rica",
            "Cyprus",
            "Ecuador",
            "Egypt, Arab Rep.",
            "Estonia",
            "Hong Kong SAR, China",
            "Iceland",
            "India",
            "Indonesia",
            "Israel",
            "Japan",
            "Kazakhstan",
            "Korea, Rep.",
            "Lithuania",
            "Malaysia",
            "Malta",
            "Mexico",
            "New Zealand",
            "Nigeria",
            "North Macedonia",
            "Pakistan",
            "Peru",
            "Philippines",
            "Romania",
            "Russian Federation",
            "Singapore",
            "South Africa",
            "Thailand",
            "Tunisia",
            "Turkiye",
            "Ukraine",
            "United Kingdom",
            "United States"
           ],
           "locations": [
            "IRL",
            "DEU",
            "BEL",
            "DNK",
            "GRC",
            "ESP",
            "ITA",
            "NET",
            "NOR",
            "AUT",
            "HUN",
            "SLO",
            "SVN",
            "POL",
            "SWE",
            "FIN",
            "CHE",
            "HRV",
            "SRB",
            "PRT",
            "LVA",
            "FRA",
            "AFG",
            "ALB",
            "DZA",
            "ARG",
            "AUS",
            "AZE",
            "BLR",
            "BRA",
            "BGR",
            "CAN",
            "CHL",
            "CHN",
            "COL",
            "CRI",
            "CYP",
            "ECU",
            "EGY",
            "EST",
            "HON",
            "ISL",
            "IND",
            "IDN",
            "ISR",
            "JPN",
            "KAZ",
            "KOR",
            "LTU",
            "MYS",
            "MLT",
            "MEX",
            "NZL",
            "NGA",
            "NOR",
            "PAK",
            "PER",
            "PHI",
            "ROU",
            "RUS",
            "SGP",
            "ZAF",
            "THA",
            "TUN",
            "TUR",
            "UKR",
            "GBR",
            "USA"
           ],
           "name": "",
           "type": "choropleth",
           "z": [
            5.7,
            3.4,
            6,
            5.1,
            19.2,
            15.3,
            10.6,
            3.8,
            3.8,
            4.9,
            3.7,
            6.5,
            5.1,
            3.9,
            6.4,
            7.4,
            4.7,
            8.4,
            12.7,
            7,
            7.4,
            9,
            null,
            12.3,
            null,
            9.2,
            5.3,
            4.9,
            4.8,
            12.3,
            5.2,
            5.8,
            7.2,
            4.9,
            9.4,
            9,
            8.5,
            3.5,
            9.9,
            5.4,
            2.8,
            2.7,
            7.7,
            4.4,
            3.9,
            2.5,
            4.9,
            3.8,
            6.2,
            3.3,
            3.7,
            3.3,
            4.3,
            null,
            21.2,
            4.1,
            3.5,
            2.3,
            4.2,
            4.9,
            null,
            24.2,
            0.8,
            15.5,
            10.9,
            8.8,
            4,
            3.9
           ]
          }
         ],
         "name": "2018"
        },
        {
         "data": [
          {
           "coloraxis": "coloraxis",
           "geo": "geo",
           "hovertemplate": "<b>%{hovertext}</b><br><br>Year=2019<br>Alpha-3 code=%{location}<br>Unemployment, total (% of total labor force)=%{z}<extra></extra>",
           "hovertext": [
            "Ireland",
            "Germany",
            "Belgium",
            "Denmark",
            "Greece",
            "Spain",
            "Italy",
            "Netherlands",
            "Norway",
            "Austria",
            "Hungary",
            "Slovak Republic",
            "Slovenia",
            "Poland",
            "Sweden",
            "Finland",
            "Switzerland",
            "Croatia",
            "Serbia",
            "Portugal",
            "Latvia",
            "France",
            "Afghanistan",
            "Albania",
            "Algeria",
            "Argentina",
            "Australia",
            "Azerbaijan",
            "Belarus",
            "Brazil",
            "Bulgaria",
            "Canada",
            "Chile",
            "China",
            "Colombia",
            "Costa Rica",
            "Cyprus",
            "Ecuador",
            "Egypt, Arab Rep.",
            "Estonia",
            "Hong Kong SAR, China",
            "Iceland",
            "India",
            "Indonesia",
            "Israel",
            "Japan",
            "Kazakhstan",
            "Korea, Rep.",
            "Lithuania",
            "Malaysia",
            "Malta",
            "Mexico",
            "New Zealand",
            "Nigeria",
            "North Macedonia",
            "Pakistan",
            "Peru",
            "Philippines",
            "Romania",
            "Russian Federation",
            "Singapore",
            "South Africa",
            "Thailand",
            "Tunisia",
            "Turkiye",
            "Ukraine",
            "United Kingdom",
            "United States"
           ],
           "locations": [
            "IRL",
            "DEU",
            "BEL",
            "DNK",
            "GRC",
            "ESP",
            "ITA",
            "NET",
            "NOR",
            "AUT",
            "HUN",
            "SLO",
            "SVN",
            "POL",
            "SWE",
            "FIN",
            "CHE",
            "HRV",
            "SRB",
            "PRT",
            "LVA",
            "FRA",
            "AFG",
            "ALB",
            "DZA",
            "ARG",
            "AUS",
            "AZE",
            "BLR",
            "BRA",
            "BGR",
            "CAN",
            "CHL",
            "CHN",
            "COL",
            "CRI",
            "CYP",
            "ECU",
            "EGY",
            "EST",
            "HON",
            "ISL",
            "IND",
            "IDN",
            "ISR",
            "JPN",
            "KAZ",
            "KOR",
            "LTU",
            "MYS",
            "MLT",
            "MEX",
            "NZL",
            "NGA",
            "NOR",
            "PAK",
            "PER",
            "PHI",
            "ROU",
            "RUS",
            "SGP",
            "ZAF",
            "THA",
            "TUN",
            "TUR",
            "UKR",
            "GBR",
            "USA"
           ],
           "name": "",
           "type": "choropleth",
           "z": [
            5,
            3.1,
            5.4,
            5,
            17,
            14.1,
            10,
            3.4,
            3.7,
            4.6,
            3.4,
            5.8,
            4.5,
            3.3,
            6.8,
            6.7,
            4.4,
            6.6,
            10.4,
            6.5,
            6.3,
            8.4,
            null,
            11.5,
            null,
            9.8,
            5.2,
            4.9,
            4.2,
            11.9,
            4.2,
            5.7,
            7.3,
            5.2,
            10.3,
            10.8,
            7.2,
            3.8,
            7.9,
            4.5,
            2.9,
            3.5,
            6.5,
            3.6,
            3.7,
            2.4,
            4.8,
            3.8,
            6.3,
            3.3,
            3.6,
            3.5,
            4.1,
            10.7,
            17.4,
            4.8,
            3.4,
            2.2,
            3.9,
            4.5,
            3.1,
            25.5,
            0.7,
            15.1,
            13.7,
            8.2,
            3.7,
            3.7
           ]
          }
         ],
         "name": "2019"
        },
        {
         "data": [
          {
           "coloraxis": "coloraxis",
           "geo": "geo",
           "hovertemplate": "<b>%{hovertext}</b><br><br>Year=2020<br>Alpha-3 code=%{location}<br>Unemployment, total (% of total labor force)=%{z}<extra></extra>",
           "hovertext": [
            "Ireland",
            "Germany",
            "Belgium",
            "Denmark",
            "Greece",
            "Spain",
            "Italy",
            "Netherlands",
            "Norway",
            "Austria",
            "Hungary",
            "Slovak Republic",
            "Slovenia",
            "Poland",
            "Sweden",
            "Finland",
            "Switzerland",
            "Croatia",
            "Serbia",
            "Portugal",
            "Latvia",
            "France",
            "Afghanistan",
            "Albania",
            "Algeria",
            "Argentina",
            "Australia",
            "Azerbaijan",
            "Belarus",
            "Brazil",
            "Bulgaria",
            "Canada",
            "Chile",
            "China",
            "Colombia",
            "Costa Rica",
            "Cyprus",
            "Ecuador",
            "Egypt, Arab Rep.",
            "Estonia",
            "Hong Kong SAR, China",
            "Iceland",
            "India",
            "Indonesia",
            "Israel",
            "Japan",
            "Kazakhstan",
            "Korea, Rep.",
            "Lithuania",
            "Malaysia",
            "Malta",
            "Mexico",
            "New Zealand",
            "Nigeria",
            "North Macedonia",
            "Pakistan",
            "Peru",
            "Philippines",
            "Romania",
            "Russian Federation",
            "Singapore",
            "South Africa",
            "Thailand",
            "Tunisia",
            "Turkiye",
            "Ukraine",
            "United Kingdom",
            "United States"
           ],
           "locations": [
            "IRL",
            "DEU",
            "BEL",
            "DNK",
            "GRC",
            "ESP",
            "ITA",
            "NET",
            "NOR",
            "AUT",
            "HUN",
            "SLO",
            "SVN",
            "POL",
            "SWE",
            "FIN",
            "CHE",
            "HRV",
            "SRB",
            "PRT",
            "LVA",
            "FRA",
            "AFG",
            "ALB",
            "DZA",
            "ARG",
            "AUS",
            "AZE",
            "BLR",
            "BRA",
            "BGR",
            "CAN",
            "CHL",
            "CHN",
            "COL",
            "CRI",
            "CYP",
            "ECU",
            "EGY",
            "EST",
            "HON",
            "ISL",
            "IND",
            "IDN",
            "ISR",
            "JPN",
            "KAZ",
            "KOR",
            "LTU",
            "MYS",
            "MLT",
            "MEX",
            "NZL",
            "NGA",
            "NOR",
            "PAK",
            "PER",
            "PHI",
            "ROU",
            "RUS",
            "SGP",
            "ZAF",
            "THA",
            "TUN",
            "TUR",
            "UKR",
            "GBR",
            "USA"
           ],
           "name": "",
           "type": "choropleth",
           "z": [
            5.6,
            3.9,
            5.6,
            5.6,
            15.9,
            15.5,
            9.2,
            3.8,
            4.4,
            5.2,
            4.3,
            6.7,
            5,
            3.2,
            8.3,
            7.8,
            4.8,
            7.5,
            9,
            6.8,
            8.1,
            8,
            11.7,
            null,
            null,
            11.5,
            6.5,
            7.2,
            4.1,
            13.7,
            5.1,
            9.5,
            10.9,
            5.6,
            16,
            16.4,
            7.8,
            6.1,
            8,
            6.8,
            5.8,
            5.5,
            7.9,
            4.3,
            4.2,
            2.8,
            4.9,
            3.9,
            8.5,
            4.5,
            4.4,
            4.4,
            4.6,
            null,
            16.6,
            null,
            7.2,
            2.5,
            5,
            5.6,
            4.1,
            24.3,
            1.1,
            null,
            13.1,
            9.5,
            null,
            8.1
           ]
          }
         ],
         "name": "2020"
        },
        {
         "data": [
          {
           "coloraxis": "coloraxis",
           "geo": "geo",
           "hovertemplate": "<b>%{hovertext}</b><br><br>Year=2021<br>Alpha-3 code=%{location}<br>Unemployment, total (% of total labor force)=%{z}<extra></extra>",
           "hovertext": [
            "Ireland",
            "Germany",
            "Belgium",
            "Denmark",
            "Greece",
            "Spain",
            "Italy",
            "Netherlands",
            "Norway",
            "Austria",
            "Hungary",
            "Slovak Republic",
            "Slovenia",
            "Poland",
            "Sweden",
            "Finland",
            "Switzerland",
            "Croatia",
            "Serbia",
            "Portugal",
            "Latvia",
            "France",
            "Afghanistan",
            "Albania",
            "Algeria",
            "Argentina",
            "Australia",
            "Azerbaijan",
            "Belarus",
            "Brazil",
            "Bulgaria",
            "Canada",
            "Chile",
            "China",
            "Colombia",
            "Costa Rica",
            "Cyprus",
            "Ecuador",
            "Egypt, Arab Rep.",
            "Estonia",
            "Hong Kong SAR, China",
            "Iceland",
            "India",
            "Indonesia",
            "Israel",
            "Japan",
            "Kazakhstan",
            "Korea, Rep.",
            "Lithuania",
            "Malaysia",
            "Malta",
            "Mexico",
            "New Zealand",
            "Nigeria",
            "North Macedonia",
            "Pakistan",
            "Peru",
            "Philippines",
            "Romania",
            "Russian Federation",
            "Singapore",
            "South Africa",
            "Thailand",
            "Tunisia",
            "Turkiye",
            "Ukraine",
            "United Kingdom",
            "United States"
           ],
           "locations": [
            "IRL",
            "DEU",
            "BEL",
            "DNK",
            "GRC",
            "ESP",
            "ITA",
            "NET",
            "NOR",
            "AUT",
            "HUN",
            "SLO",
            "SVN",
            "POL",
            "SWE",
            "FIN",
            "CHE",
            "HRV",
            "SRB",
            "PRT",
            "LVA",
            "FRA",
            "AFG",
            "ALB",
            "DZA",
            "ARG",
            "AUS",
            "AZE",
            "BLR",
            "BRA",
            "BGR",
            "CAN",
            "CHL",
            "CHN",
            "COL",
            "CRI",
            "CYP",
            "ECU",
            "EGY",
            "EST",
            "HON",
            "ISL",
            "IND",
            "IDN",
            "ISR",
            "JPN",
            "KAZ",
            "KOR",
            "LTU",
            "MYS",
            "MLT",
            "MEX",
            "NZL",
            "NGA",
            "NOR",
            "PAK",
            "PER",
            "PHI",
            "ROU",
            "RUS",
            "SGP",
            "ZAF",
            "THA",
            "TUN",
            "TUR",
            "UKR",
            "GBR",
            "USA"
           ],
           "name": "",
           "type": "choropleth",
           "z": [
            6.2,
            3.6,
            6.3,
            5.1,
            14.7,
            14.8,
            9.5,
            4.2,
            4.4,
            6.5,
            4.1,
            6.9,
            4.7,
            3.4,
            8.7,
            7.6,
            5.1,
            7.6,
            10.1,
            6.6,
            7.5,
            7.9,
            5.6,
            null,
            null,
            8.7,
            5.1,
            6,
            3.9,
            13.2,
            5.3,
            7.5,
            9.3,
            5.1,
            13.9,
            15.1,
            7.5,
            4.5,
            7.4,
            6.2,
            5.2,
            6,
            6.4,
            3.8,
            4.8,
            2.8,
            null,
            3.6,
            7.1,
            null,
            3.4,
            4.1,
            3.8,
            null,
            15.8,
            6.3,
            5.1,
            3.4,
            5.6,
            4.7,
            3.5,
            28.8,
            1.2,
            null,
            12,
            9.8,
            null,
            5.4
           ]
          }
         ],
         "name": "2021"
        }
       ],
       "layout": {
        "coloraxis": {
         "cmax": 30,
         "cmin": 1,
         "colorbar": {
          "title": {
           "text": "Unemployment, total (% of total labor force)"
          }
         },
         "colorscale": [
          [
           0,
           "rgb(253, 237, 176)"
          ],
          [
           0.09090909090909091,
           "rgb(250, 205, 145)"
          ],
          [
           0.18181818181818182,
           "rgb(246, 173, 119)"
          ],
          [
           0.2727272727272727,
           "rgb(240, 142, 98)"
          ],
          [
           0.36363636363636365,
           "rgb(231, 109, 84)"
          ],
          [
           0.45454545454545453,
           "rgb(216, 80, 83)"
          ],
          [
           0.5454545454545454,
           "rgb(195, 56, 90)"
          ],
          [
           0.6363636363636364,
           "rgb(168, 40, 96)"
          ],
          [
           0.7272727272727273,
           "rgb(138, 29, 99)"
          ],
          [
           0.8181818181818182,
           "rgb(107, 24, 93)"
          ],
          [
           0.9090909090909091,
           "rgb(76, 21, 80)"
          ],
          [
           1,
           "rgb(47, 15, 61)"
          ]
         ]
        },
        "geo": {
         "center": {},
         "domain": {
          "x": [
           0,
           1
          ],
          "y": [
           0,
           1
          ]
         },
         "projection": {
          "type": "natural earth"
         }
        },
        "legend": {
         "tracegroupgap": 0
        },
        "margin": {
         "t": 60
        },
        "sliders": [
         {
          "active": 0,
          "currentvalue": {
           "prefix": "Year="
          },
          "len": 0.9,
          "pad": {
           "b": 10,
           "t": 60
          },
          "steps": [
           {
            "args": [
             [
              "2000"
             ],
             {
              "frame": {
               "duration": 0,
               "redraw": true
              },
              "fromcurrent": true,
              "mode": "immediate",
              "transition": {
               "duration": 0,
               "easing": "linear"
              }
             }
            ],
            "label": "2000",
            "method": "animate"
           },
           {
            "args": [
             [
              "2001"
             ],
             {
              "frame": {
               "duration": 0,
               "redraw": true
              },
              "fromcurrent": true,
              "mode": "immediate",
              "transition": {
               "duration": 0,
               "easing": "linear"
              }
             }
            ],
            "label": "2001",
            "method": "animate"
           },
           {
            "args": [
             [
              "2002"
             ],
             {
              "frame": {
               "duration": 0,
               "redraw": true
              },
              "fromcurrent": true,
              "mode": "immediate",
              "transition": {
               "duration": 0,
               "easing": "linear"
              }
             }
            ],
            "label": "2002",
            "method": "animate"
           },
           {
            "args": [
             [
              "2003"
             ],
             {
              "frame": {
               "duration": 0,
               "redraw": true
              },
              "fromcurrent": true,
              "mode": "immediate",
              "transition": {
               "duration": 0,
               "easing": "linear"
              }
             }
            ],
            "label": "2003",
            "method": "animate"
           },
           {
            "args": [
             [
              "2004"
             ],
             {
              "frame": {
               "duration": 0,
               "redraw": true
              },
              "fromcurrent": true,
              "mode": "immediate",
              "transition": {
               "duration": 0,
               "easing": "linear"
              }
             }
            ],
            "label": "2004",
            "method": "animate"
           },
           {
            "args": [
             [
              "2005"
             ],
             {
              "frame": {
               "duration": 0,
               "redraw": true
              },
              "fromcurrent": true,
              "mode": "immediate",
              "transition": {
               "duration": 0,
               "easing": "linear"
              }
             }
            ],
            "label": "2005",
            "method": "animate"
           },
           {
            "args": [
             [
              "2006"
             ],
             {
              "frame": {
               "duration": 0,
               "redraw": true
              },
              "fromcurrent": true,
              "mode": "immediate",
              "transition": {
               "duration": 0,
               "easing": "linear"
              }
             }
            ],
            "label": "2006",
            "method": "animate"
           },
           {
            "args": [
             [
              "2007"
             ],
             {
              "frame": {
               "duration": 0,
               "redraw": true
              },
              "fromcurrent": true,
              "mode": "immediate",
              "transition": {
               "duration": 0,
               "easing": "linear"
              }
             }
            ],
            "label": "2007",
            "method": "animate"
           },
           {
            "args": [
             [
              "2008"
             ],
             {
              "frame": {
               "duration": 0,
               "redraw": true
              },
              "fromcurrent": true,
              "mode": "immediate",
              "transition": {
               "duration": 0,
               "easing": "linear"
              }
             }
            ],
            "label": "2008",
            "method": "animate"
           },
           {
            "args": [
             [
              "2009"
             ],
             {
              "frame": {
               "duration": 0,
               "redraw": true
              },
              "fromcurrent": true,
              "mode": "immediate",
              "transition": {
               "duration": 0,
               "easing": "linear"
              }
             }
            ],
            "label": "2009",
            "method": "animate"
           },
           {
            "args": [
             [
              "2010"
             ],
             {
              "frame": {
               "duration": 0,
               "redraw": true
              },
              "fromcurrent": true,
              "mode": "immediate",
              "transition": {
               "duration": 0,
               "easing": "linear"
              }
             }
            ],
            "label": "2010",
            "method": "animate"
           },
           {
            "args": [
             [
              "2011"
             ],
             {
              "frame": {
               "duration": 0,
               "redraw": true
              },
              "fromcurrent": true,
              "mode": "immediate",
              "transition": {
               "duration": 0,
               "easing": "linear"
              }
             }
            ],
            "label": "2011",
            "method": "animate"
           },
           {
            "args": [
             [
              "2012"
             ],
             {
              "frame": {
               "duration": 0,
               "redraw": true
              },
              "fromcurrent": true,
              "mode": "immediate",
              "transition": {
               "duration": 0,
               "easing": "linear"
              }
             }
            ],
            "label": "2012",
            "method": "animate"
           },
           {
            "args": [
             [
              "2013"
             ],
             {
              "frame": {
               "duration": 0,
               "redraw": true
              },
              "fromcurrent": true,
              "mode": "immediate",
              "transition": {
               "duration": 0,
               "easing": "linear"
              }
             }
            ],
            "label": "2013",
            "method": "animate"
           },
           {
            "args": [
             [
              "2014"
             ],
             {
              "frame": {
               "duration": 0,
               "redraw": true
              },
              "fromcurrent": true,
              "mode": "immediate",
              "transition": {
               "duration": 0,
               "easing": "linear"
              }
             }
            ],
            "label": "2014",
            "method": "animate"
           },
           {
            "args": [
             [
              "2015"
             ],
             {
              "frame": {
               "duration": 0,
               "redraw": true
              },
              "fromcurrent": true,
              "mode": "immediate",
              "transition": {
               "duration": 0,
               "easing": "linear"
              }
             }
            ],
            "label": "2015",
            "method": "animate"
           },
           {
            "args": [
             [
              "2016"
             ],
             {
              "frame": {
               "duration": 0,
               "redraw": true
              },
              "fromcurrent": true,
              "mode": "immediate",
              "transition": {
               "duration": 0,
               "easing": "linear"
              }
             }
            ],
            "label": "2016",
            "method": "animate"
           },
           {
            "args": [
             [
              "2017"
             ],
             {
              "frame": {
               "duration": 0,
               "redraw": true
              },
              "fromcurrent": true,
              "mode": "immediate",
              "transition": {
               "duration": 0,
               "easing": "linear"
              }
             }
            ],
            "label": "2017",
            "method": "animate"
           },
           {
            "args": [
             [
              "2018"
             ],
             {
              "frame": {
               "duration": 0,
               "redraw": true
              },
              "fromcurrent": true,
              "mode": "immediate",
              "transition": {
               "duration": 0,
               "easing": "linear"
              }
             }
            ],
            "label": "2018",
            "method": "animate"
           },
           {
            "args": [
             [
              "2019"
             ],
             {
              "frame": {
               "duration": 0,
               "redraw": true
              },
              "fromcurrent": true,
              "mode": "immediate",
              "transition": {
               "duration": 0,
               "easing": "linear"
              }
             }
            ],
            "label": "2019",
            "method": "animate"
           },
           {
            "args": [
             [
              "2020"
             ],
             {
              "frame": {
               "duration": 0,
               "redraw": true
              },
              "fromcurrent": true,
              "mode": "immediate",
              "transition": {
               "duration": 0,
               "easing": "linear"
              }
             }
            ],
            "label": "2020",
            "method": "animate"
           },
           {
            "args": [
             [
              "2021"
             ],
             {
              "frame": {
               "duration": 0,
               "redraw": true
              },
              "fromcurrent": true,
              "mode": "immediate",
              "transition": {
               "duration": 0,
               "easing": "linear"
              }
             }
            ],
            "label": "2021",
            "method": "animate"
           }
          ],
          "x": 0.1,
          "xanchor": "left",
          "y": 0,
          "yanchor": "top"
         }
        ],
        "template": {
         "data": {
          "bar": [
           {
            "error_x": {
             "color": "#2a3f5f"
            },
            "error_y": {
             "color": "#2a3f5f"
            },
            "marker": {
             "line": {
              "color": "#E5ECF6",
              "width": 0.5
             },
             "pattern": {
              "fillmode": "overlay",
              "size": 10,
              "solidity": 0.2
             }
            },
            "type": "bar"
           }
          ],
          "barpolar": [
           {
            "marker": {
             "line": {
              "color": "#E5ECF6",
              "width": 0.5
             },
             "pattern": {
              "fillmode": "overlay",
              "size": 10,
              "solidity": 0.2
             }
            },
            "type": "barpolar"
           }
          ],
          "carpet": [
           {
            "aaxis": {
             "endlinecolor": "#2a3f5f",
             "gridcolor": "white",
             "linecolor": "white",
             "minorgridcolor": "white",
             "startlinecolor": "#2a3f5f"
            },
            "baxis": {
             "endlinecolor": "#2a3f5f",
             "gridcolor": "white",
             "linecolor": "white",
             "minorgridcolor": "white",
             "startlinecolor": "#2a3f5f"
            },
            "type": "carpet"
           }
          ],
          "choropleth": [
           {
            "colorbar": {
             "outlinewidth": 0,
             "ticks": ""
            },
            "type": "choropleth"
           }
          ],
          "contour": [
           {
            "colorbar": {
             "outlinewidth": 0,
             "ticks": ""
            },
            "colorscale": [
             [
              0,
              "#0d0887"
             ],
             [
              0.1111111111111111,
              "#46039f"
             ],
             [
              0.2222222222222222,
              "#7201a8"
             ],
             [
              0.3333333333333333,
              "#9c179e"
             ],
             [
              0.4444444444444444,
              "#bd3786"
             ],
             [
              0.5555555555555556,
              "#d8576b"
             ],
             [
              0.6666666666666666,
              "#ed7953"
             ],
             [
              0.7777777777777778,
              "#fb9f3a"
             ],
             [
              0.8888888888888888,
              "#fdca26"
             ],
             [
              1,
              "#f0f921"
             ]
            ],
            "type": "contour"
           }
          ],
          "contourcarpet": [
           {
            "colorbar": {
             "outlinewidth": 0,
             "ticks": ""
            },
            "type": "contourcarpet"
           }
          ],
          "heatmap": [
           {
            "colorbar": {
             "outlinewidth": 0,
             "ticks": ""
            },
            "colorscale": [
             [
              0,
              "#0d0887"
             ],
             [
              0.1111111111111111,
              "#46039f"
             ],
             [
              0.2222222222222222,
              "#7201a8"
             ],
             [
              0.3333333333333333,
              "#9c179e"
             ],
             [
              0.4444444444444444,
              "#bd3786"
             ],
             [
              0.5555555555555556,
              "#d8576b"
             ],
             [
              0.6666666666666666,
              "#ed7953"
             ],
             [
              0.7777777777777778,
              "#fb9f3a"
             ],
             [
              0.8888888888888888,
              "#fdca26"
             ],
             [
              1,
              "#f0f921"
             ]
            ],
            "type": "heatmap"
           }
          ],
          "heatmapgl": [
           {
            "colorbar": {
             "outlinewidth": 0,
             "ticks": ""
            },
            "colorscale": [
             [
              0,
              "#0d0887"
             ],
             [
              0.1111111111111111,
              "#46039f"
             ],
             [
              0.2222222222222222,
              "#7201a8"
             ],
             [
              0.3333333333333333,
              "#9c179e"
             ],
             [
              0.4444444444444444,
              "#bd3786"
             ],
             [
              0.5555555555555556,
              "#d8576b"
             ],
             [
              0.6666666666666666,
              "#ed7953"
             ],
             [
              0.7777777777777778,
              "#fb9f3a"
             ],
             [
              0.8888888888888888,
              "#fdca26"
             ],
             [
              1,
              "#f0f921"
             ]
            ],
            "type": "heatmapgl"
           }
          ],
          "histogram": [
           {
            "marker": {
             "pattern": {
              "fillmode": "overlay",
              "size": 10,
              "solidity": 0.2
             }
            },
            "type": "histogram"
           }
          ],
          "histogram2d": [
           {
            "colorbar": {
             "outlinewidth": 0,
             "ticks": ""
            },
            "colorscale": [
             [
              0,
              "#0d0887"
             ],
             [
              0.1111111111111111,
              "#46039f"
             ],
             [
              0.2222222222222222,
              "#7201a8"
             ],
             [
              0.3333333333333333,
              "#9c179e"
             ],
             [
              0.4444444444444444,
              "#bd3786"
             ],
             [
              0.5555555555555556,
              "#d8576b"
             ],
             [
              0.6666666666666666,
              "#ed7953"
             ],
             [
              0.7777777777777778,
              "#fb9f3a"
             ],
             [
              0.8888888888888888,
              "#fdca26"
             ],
             [
              1,
              "#f0f921"
             ]
            ],
            "type": "histogram2d"
           }
          ],
          "histogram2dcontour": [
           {
            "colorbar": {
             "outlinewidth": 0,
             "ticks": ""
            },
            "colorscale": [
             [
              0,
              "#0d0887"
             ],
             [
              0.1111111111111111,
              "#46039f"
             ],
             [
              0.2222222222222222,
              "#7201a8"
             ],
             [
              0.3333333333333333,
              "#9c179e"
             ],
             [
              0.4444444444444444,
              "#bd3786"
             ],
             [
              0.5555555555555556,
              "#d8576b"
             ],
             [
              0.6666666666666666,
              "#ed7953"
             ],
             [
              0.7777777777777778,
              "#fb9f3a"
             ],
             [
              0.8888888888888888,
              "#fdca26"
             ],
             [
              1,
              "#f0f921"
             ]
            ],
            "type": "histogram2dcontour"
           }
          ],
          "mesh3d": [
           {
            "colorbar": {
             "outlinewidth": 0,
             "ticks": ""
            },
            "type": "mesh3d"
           }
          ],
          "parcoords": [
           {
            "line": {
             "colorbar": {
              "outlinewidth": 0,
              "ticks": ""
             }
            },
            "type": "parcoords"
           }
          ],
          "pie": [
           {
            "automargin": true,
            "type": "pie"
           }
          ],
          "scatter": [
           {
            "fillpattern": {
             "fillmode": "overlay",
             "size": 10,
             "solidity": 0.2
            },
            "type": "scatter"
           }
          ],
          "scatter3d": [
           {
            "line": {
             "colorbar": {
              "outlinewidth": 0,
              "ticks": ""
             }
            },
            "marker": {
             "colorbar": {
              "outlinewidth": 0,
              "ticks": ""
             }
            },
            "type": "scatter3d"
           }
          ],
          "scattercarpet": [
           {
            "marker": {
             "colorbar": {
              "outlinewidth": 0,
              "ticks": ""
             }
            },
            "type": "scattercarpet"
           }
          ],
          "scattergeo": [
           {
            "marker": {
             "colorbar": {
              "outlinewidth": 0,
              "ticks": ""
             }
            },
            "type": "scattergeo"
           }
          ],
          "scattergl": [
           {
            "marker": {
             "colorbar": {
              "outlinewidth": 0,
              "ticks": ""
             }
            },
            "type": "scattergl"
           }
          ],
          "scattermapbox": [
           {
            "marker": {
             "colorbar": {
              "outlinewidth": 0,
              "ticks": ""
             }
            },
            "type": "scattermapbox"
           }
          ],
          "scatterpolar": [
           {
            "marker": {
             "colorbar": {
              "outlinewidth": 0,
              "ticks": ""
             }
            },
            "type": "scatterpolar"
           }
          ],
          "scatterpolargl": [
           {
            "marker": {
             "colorbar": {
              "outlinewidth": 0,
              "ticks": ""
             }
            },
            "type": "scatterpolargl"
           }
          ],
          "scatterternary": [
           {
            "marker": {
             "colorbar": {
              "outlinewidth": 0,
              "ticks": ""
             }
            },
            "type": "scatterternary"
           }
          ],
          "surface": [
           {
            "colorbar": {
             "outlinewidth": 0,
             "ticks": ""
            },
            "colorscale": [
             [
              0,
              "#0d0887"
             ],
             [
              0.1111111111111111,
              "#46039f"
             ],
             [
              0.2222222222222222,
              "#7201a8"
             ],
             [
              0.3333333333333333,
              "#9c179e"
             ],
             [
              0.4444444444444444,
              "#bd3786"
             ],
             [
              0.5555555555555556,
              "#d8576b"
             ],
             [
              0.6666666666666666,
              "#ed7953"
             ],
             [
              0.7777777777777778,
              "#fb9f3a"
             ],
             [
              0.8888888888888888,
              "#fdca26"
             ],
             [
              1,
              "#f0f921"
             ]
            ],
            "type": "surface"
           }
          ],
          "table": [
           {
            "cells": {
             "fill": {
              "color": "#EBF0F8"
             },
             "line": {
              "color": "white"
             }
            },
            "header": {
             "fill": {
              "color": "#C8D4E3"
             },
             "line": {
              "color": "white"
             }
            },
            "type": "table"
           }
          ]
         },
         "layout": {
          "annotationdefaults": {
           "arrowcolor": "#2a3f5f",
           "arrowhead": 0,
           "arrowwidth": 1
          },
          "autotypenumbers": "strict",
          "coloraxis": {
           "colorbar": {
            "outlinewidth": 0,
            "ticks": ""
           }
          },
          "colorscale": {
           "diverging": [
            [
             0,
             "#8e0152"
            ],
            [
             0.1,
             "#c51b7d"
            ],
            [
             0.2,
             "#de77ae"
            ],
            [
             0.3,
             "#f1b6da"
            ],
            [
             0.4,
             "#fde0ef"
            ],
            [
             0.5,
             "#f7f7f7"
            ],
            [
             0.6,
             "#e6f5d0"
            ],
            [
             0.7,
             "#b8e186"
            ],
            [
             0.8,
             "#7fbc41"
            ],
            [
             0.9,
             "#4d9221"
            ],
            [
             1,
             "#276419"
            ]
           ],
           "sequential": [
            [
             0,
             "#0d0887"
            ],
            [
             0.1111111111111111,
             "#46039f"
            ],
            [
             0.2222222222222222,
             "#7201a8"
            ],
            [
             0.3333333333333333,
             "#9c179e"
            ],
            [
             0.4444444444444444,
             "#bd3786"
            ],
            [
             0.5555555555555556,
             "#d8576b"
            ],
            [
             0.6666666666666666,
             "#ed7953"
            ],
            [
             0.7777777777777778,
             "#fb9f3a"
            ],
            [
             0.8888888888888888,
             "#fdca26"
            ],
            [
             1,
             "#f0f921"
            ]
           ],
           "sequentialminus": [
            [
             0,
             "#0d0887"
            ],
            [
             0.1111111111111111,
             "#46039f"
            ],
            [
             0.2222222222222222,
             "#7201a8"
            ],
            [
             0.3333333333333333,
             "#9c179e"
            ],
            [
             0.4444444444444444,
             "#bd3786"
            ],
            [
             0.5555555555555556,
             "#d8576b"
            ],
            [
             0.6666666666666666,
             "#ed7953"
            ],
            [
             0.7777777777777778,
             "#fb9f3a"
            ],
            [
             0.8888888888888888,
             "#fdca26"
            ],
            [
             1,
             "#f0f921"
            ]
           ]
          },
          "colorway": [
           "#636efa",
           "#EF553B",
           "#00cc96",
           "#ab63fa",
           "#FFA15A",
           "#19d3f3",
           "#FF6692",
           "#B6E880",
           "#FF97FF",
           "#FECB52"
          ],
          "font": {
           "color": "#2a3f5f"
          },
          "geo": {
           "bgcolor": "white",
           "lakecolor": "white",
           "landcolor": "#E5ECF6",
           "showlakes": true,
           "showland": true,
           "subunitcolor": "white"
          },
          "hoverlabel": {
           "align": "left"
          },
          "hovermode": "closest",
          "mapbox": {
           "style": "light"
          },
          "paper_bgcolor": "white",
          "plot_bgcolor": "#E5ECF6",
          "polar": {
           "angularaxis": {
            "gridcolor": "white",
            "linecolor": "white",
            "ticks": ""
           },
           "bgcolor": "#E5ECF6",
           "radialaxis": {
            "gridcolor": "white",
            "linecolor": "white",
            "ticks": ""
           }
          },
          "scene": {
           "xaxis": {
            "backgroundcolor": "#E5ECF6",
            "gridcolor": "white",
            "gridwidth": 2,
            "linecolor": "white",
            "showbackground": true,
            "ticks": "",
            "zerolinecolor": "white"
           },
           "yaxis": {
            "backgroundcolor": "#E5ECF6",
            "gridcolor": "white",
            "gridwidth": 2,
            "linecolor": "white",
            "showbackground": true,
            "ticks": "",
            "zerolinecolor": "white"
           },
           "zaxis": {
            "backgroundcolor": "#E5ECF6",
            "gridcolor": "white",
            "gridwidth": 2,
            "linecolor": "white",
            "showbackground": true,
            "ticks": "",
            "zerolinecolor": "white"
           }
          },
          "shapedefaults": {
           "line": {
            "color": "#2a3f5f"
           }
          },
          "ternary": {
           "aaxis": {
            "gridcolor": "white",
            "linecolor": "white",
            "ticks": ""
           },
           "baxis": {
            "gridcolor": "white",
            "linecolor": "white",
            "ticks": ""
           },
           "bgcolor": "#E5ECF6",
           "caxis": {
            "gridcolor": "white",
            "linecolor": "white",
            "ticks": ""
           }
          },
          "title": {
           "x": 0.05
          },
          "xaxis": {
           "automargin": true,
           "gridcolor": "white",
           "linecolor": "white",
           "ticks": "",
           "title": {
            "standoff": 15
           },
           "zerolinecolor": "white",
           "zerolinewidth": 2
          },
          "yaxis": {
           "automargin": true,
           "gridcolor": "white",
           "linecolor": "white",
           "ticks": "",
           "title": {
            "standoff": 15
           },
           "zerolinecolor": "white",
           "zerolinewidth": 2
          }
         }
        },
        "title": {
         "text": "Unemployment, total (% of total labor force)"
        },
        "updatemenus": [
         {
          "buttons": [
           {
            "args": [
             null,
             {
              "frame": {
               "duration": 500,
               "redraw": true
              },
              "fromcurrent": true,
              "mode": "immediate",
              "transition": {
               "duration": 500,
               "easing": "linear"
              }
             }
            ],
            "label": "&#9654;",
            "method": "animate"
           },
           {
            "args": [
             [
              null
             ],
             {
              "frame": {
               "duration": 0,
               "redraw": true
              },
              "fromcurrent": true,
              "mode": "immediate",
              "transition": {
               "duration": 0,
               "easing": "linear"
              }
             }
            ],
            "label": "&#9724;",
            "method": "animate"
           }
          ],
          "direction": "left",
          "pad": {
           "r": 10,
           "t": 70
          },
          "showactive": false,
          "type": "buttons",
          "x": 0.1,
          "xanchor": "right",
          "y": 0,
          "yanchor": "top"
         }
        ]
       }
      }
     },
     "metadata": {},
     "output_type": "display_data"
    }
   ],
   "source": [
    "fig = plt.choropleth(merged_df3,\n",
    "                     locations=\"Alpha-3 code\",\n",
    "                     color=\"Unemployment, total (% of total labor force)\",\n",
    "                     hover_name=\"Country\",\n",
    "                     animation_frame=\"Year\",\n",
    "                     color_continuous_scale=\"matter\", # \"haline\", \"agsunset\", \"icefire\", \"matter\", \"solar\", \"ice\", \"curl\"\n",
    "                     range_color=[1, 30]) # Define the color scale limits\n",
    "fig.update_layout(\n",
    "    title_text=\"Unemployment, total (% of total labor force)\",\n",
    "    geo=dict(projection={\"type\": \"natural earth\"})\n",
    ")  # This is the line that makes it work\n",
    "fig.show()"
   ]
  },
  {
   "cell_type": "code",
   "execution_count": 177,
   "id": "59e0d9ee",
   "metadata": {},
   "outputs": [
    {
     "data": {
      "application/vnd.plotly.v1+json": {
       "config": {
        "plotlyServerURL": "https://plot.ly"
       },
       "data": [
        {
         "coloraxis": "coloraxis",
         "geo": "geo",
         "hovertemplate": "<b>%{hovertext}</b><br><br>Year=2000<br>Alpha-3 code=%{location}<br>Contribution of the construction sector to the GBD %=%{z}<extra></extra>",
         "hovertext": [
          "Ireland",
          "Germany",
          "Belgium",
          "Denmark",
          "Greece",
          "Spain",
          "Italy",
          "Netherlands",
          "Norway",
          "Austria",
          "Hungary",
          "Slovak Republic",
          "Slovenia",
          "Poland",
          "Sweden",
          "Finland",
          "Switzerland",
          "Croatia",
          "Serbia",
          "Portugal",
          "Latvia",
          "France",
          "Afghanistan",
          "Albania",
          "Algeria",
          "Argentina",
          "Australia",
          "Azerbaijan",
          "Belarus",
          "Brazil",
          "Bulgaria",
          "Canada",
          "Chile",
          "China",
          "Colombia",
          "Costa Rica",
          "Cyprus",
          "Ecuador",
          "Egypt, Arab Rep.",
          "Estonia",
          "Hong Kong SAR, China",
          "Iceland",
          "India",
          "Indonesia",
          "Israel",
          "Japan",
          "Kazakhstan",
          "Korea, Rep.",
          "Lithuania",
          "Malaysia",
          "Malta",
          "Mexico",
          "New Zealand",
          "Nigeria",
          "North Macedonia",
          "Pakistan",
          "Peru",
          "Philippines",
          "Romania",
          "Russian Federation",
          "Singapore",
          "South Africa",
          "Thailand",
          "Tunisia",
          "Turkiye",
          "Ukraine",
          "United Kingdom",
          "United States"
         ],
         "locations": [
          "IRL",
          "DEU",
          "BEL",
          "DNK",
          "GRC",
          "ESP",
          "ITA",
          "NET",
          "NOR",
          "AUT",
          "HUN",
          "SLO",
          "SVN",
          "POL",
          "SWE",
          "FIN",
          "CHE",
          "HRV",
          "SRB",
          "PRT",
          "LVA",
          "FRA",
          "AFG",
          "ALB",
          "DZA",
          "ARG",
          "AUS",
          "AZE",
          "BLR",
          "BRA",
          "BGR",
          "CAN",
          "CHL",
          "CHN",
          "COL",
          "CRI",
          "CYP",
          "ECU",
          "EGY",
          "EST",
          "HON",
          "ISL",
          "IND",
          "IDN",
          "ISR",
          "JPN",
          "KAZ",
          "KOR",
          "LTU",
          "MYS",
          "MLT",
          "MEX",
          "NZL",
          "NGA",
          "NOR",
          "PAK",
          "PER",
          "PHI",
          "ROU",
          "RUS",
          "SGP",
          "ZAF",
          "THA",
          "TUN",
          "TUR",
          "UKR",
          "GBR",
          "USA"
         ],
         "name": "",
         "type": "choropleth",
         "z": [
          31.5,
          27.7,
          24.9,
          23.7,
          18.7,
          28,
          24.3,
          21.7,
          36.5,
          28.3,
          27,
          29.4,
          30.5,
          28.8,
          26.4,
          31.6,
          25.5,
          24.2,
          35.3,
          24.5,
          23.6,
          21.3,
          null,
          19.4,
          53.3,
          26,
          24.6,
          42.5,
          33.5,
          23,
          22.7,
          29.5,
          27.8,
          45.5,
          27.3,
          25.4,
          17.7,
          33.6,
          30.8,
          24.9,
          12.1,
          22.9,
          27.3,
          42,
          23.1,
          32.5,
          37.8,
          34.8,
          26.3,
          48.3,
          26.9,
          34.2,
          23.6,
          33.8,
          21.4,
          17.5,
          29,
          35,
          30.3,
          33.9,
          32.5,
          28.2,
          36.7,
          26.8,
          26.8,
          31.7,
          22.6,
          22.5
         ]
        }
       ],
       "frames": [
        {
         "data": [
          {
           "coloraxis": "coloraxis",
           "geo": "geo",
           "hovertemplate": "<b>%{hovertext}</b><br><br>Year=2000<br>Alpha-3 code=%{location}<br>Contribution of the construction sector to the GBD %=%{z}<extra></extra>",
           "hovertext": [
            "Ireland",
            "Germany",
            "Belgium",
            "Denmark",
            "Greece",
            "Spain",
            "Italy",
            "Netherlands",
            "Norway",
            "Austria",
            "Hungary",
            "Slovak Republic",
            "Slovenia",
            "Poland",
            "Sweden",
            "Finland",
            "Switzerland",
            "Croatia",
            "Serbia",
            "Portugal",
            "Latvia",
            "France",
            "Afghanistan",
            "Albania",
            "Algeria",
            "Argentina",
            "Australia",
            "Azerbaijan",
            "Belarus",
            "Brazil",
            "Bulgaria",
            "Canada",
            "Chile",
            "China",
            "Colombia",
            "Costa Rica",
            "Cyprus",
            "Ecuador",
            "Egypt, Arab Rep.",
            "Estonia",
            "Hong Kong SAR, China",
            "Iceland",
            "India",
            "Indonesia",
            "Israel",
            "Japan",
            "Kazakhstan",
            "Korea, Rep.",
            "Lithuania",
            "Malaysia",
            "Malta",
            "Mexico",
            "New Zealand",
            "Nigeria",
            "North Macedonia",
            "Pakistan",
            "Peru",
            "Philippines",
            "Romania",
            "Russian Federation",
            "Singapore",
            "South Africa",
            "Thailand",
            "Tunisia",
            "Turkiye",
            "Ukraine",
            "United Kingdom",
            "United States"
           ],
           "locations": [
            "IRL",
            "DEU",
            "BEL",
            "DNK",
            "GRC",
            "ESP",
            "ITA",
            "NET",
            "NOR",
            "AUT",
            "HUN",
            "SLO",
            "SVN",
            "POL",
            "SWE",
            "FIN",
            "CHE",
            "HRV",
            "SRB",
            "PRT",
            "LVA",
            "FRA",
            "AFG",
            "ALB",
            "DZA",
            "ARG",
            "AUS",
            "AZE",
            "BLR",
            "BRA",
            "BGR",
            "CAN",
            "CHL",
            "CHN",
            "COL",
            "CRI",
            "CYP",
            "ECU",
            "EGY",
            "EST",
            "HON",
            "ISL",
            "IND",
            "IDN",
            "ISR",
            "JPN",
            "KAZ",
            "KOR",
            "LTU",
            "MYS",
            "MLT",
            "MEX",
            "NZL",
            "NGA",
            "NOR",
            "PAK",
            "PER",
            "PHI",
            "ROU",
            "RUS",
            "SGP",
            "ZAF",
            "THA",
            "TUN",
            "TUR",
            "UKR",
            "GBR",
            "USA"
           ],
           "name": "",
           "type": "choropleth",
           "z": [
            31.5,
            27.7,
            24.9,
            23.7,
            18.7,
            28,
            24.3,
            21.7,
            36.5,
            28.3,
            27,
            29.4,
            30.5,
            28.8,
            26.4,
            31.6,
            25.5,
            24.2,
            35.3,
            24.5,
            23.6,
            21.3,
            null,
            19.4,
            53.3,
            26,
            24.6,
            42.5,
            33.5,
            23,
            22.7,
            29.5,
            27.8,
            45.5,
            27.3,
            25.4,
            17.7,
            33.6,
            30.8,
            24.9,
            12.1,
            22.9,
            27.3,
            42,
            23.1,
            32.5,
            37.8,
            34.8,
            26.3,
            48.3,
            26.9,
            34.2,
            23.6,
            33.8,
            21.4,
            17.5,
            29,
            35,
            30.3,
            33.9,
            32.5,
            28.2,
            36.7,
            26.8,
            26.8,
            31.7,
            22.6,
            22.5
           ]
          }
         ],
         "name": "2000"
        },
        {
         "data": [
          {
           "coloraxis": "coloraxis",
           "geo": "geo",
           "hovertemplate": "<b>%{hovertext}</b><br><br>Year=2001<br>Alpha-3 code=%{location}<br>Contribution of the construction sector to the GBD %=%{z}<extra></extra>",
           "hovertext": [
            "Ireland",
            "Germany",
            "Belgium",
            "Denmark",
            "Greece",
            "Spain",
            "Italy",
            "Netherlands",
            "Norway",
            "Austria",
            "Hungary",
            "Slovak Republic",
            "Slovenia",
            "Poland",
            "Sweden",
            "Finland",
            "Switzerland",
            "Croatia",
            "Serbia",
            "Portugal",
            "Latvia",
            "France",
            "Afghanistan",
            "Albania",
            "Algeria",
            "Argentina",
            "Australia",
            "Azerbaijan",
            "Belarus",
            "Brazil",
            "Bulgaria",
            "Canada",
            "Chile",
            "China",
            "Colombia",
            "Costa Rica",
            "Cyprus",
            "Ecuador",
            "Egypt, Arab Rep.",
            "Estonia",
            "Hong Kong SAR, China",
            "Iceland",
            "India",
            "Indonesia",
            "Israel",
            "Japan",
            "Kazakhstan",
            "Korea, Rep.",
            "Lithuania",
            "Malaysia",
            "Malta",
            "Mexico",
            "New Zealand",
            "Nigeria",
            "North Macedonia",
            "Pakistan",
            "Peru",
            "Philippines",
            "Romania",
            "Russian Federation",
            "Singapore",
            "South Africa",
            "Thailand",
            "Tunisia",
            "Turkiye",
            "Ukraine",
            "United Kingdom",
            "United States"
           ],
           "locations": [
            "IRL",
            "DEU",
            "BEL",
            "DNK",
            "GRC",
            "ESP",
            "ITA",
            "NET",
            "NOR",
            "AUT",
            "HUN",
            "SLO",
            "SVN",
            "POL",
            "SWE",
            "FIN",
            "CHE",
            "HRV",
            "SRB",
            "PRT",
            "LVA",
            "FRA",
            "AFG",
            "ALB",
            "DZA",
            "ARG",
            "AUS",
            "AZE",
            "BLR",
            "BRA",
            "BGR",
            "CAN",
            "CHL",
            "CHN",
            "COL",
            "CRI",
            "CYP",
            "ECU",
            "EGY",
            "EST",
            "HON",
            "ISL",
            "IND",
            "IDN",
            "ISR",
            "JPN",
            "KAZ",
            "KOR",
            "LTU",
            "MYS",
            "MLT",
            "MEX",
            "NZL",
            "NGA",
            "NOR",
            "PAK",
            "PER",
            "PHI",
            "ROU",
            "RUS",
            "SGP",
            "ZAF",
            "THA",
            "TUN",
            "TUR",
            "UKR",
            "GBR",
            "USA"
           ],
           "name": "",
           "type": "choropleth",
           "z": [
            34.1,
            27.1,
            24.3,
            22.9,
            19.3,
            28,
            24.1,
            21.9,
            35.2,
            28.2,
            27.1,
            29.8,
            30.6,
            27.4,
            26,
            30.9,
            26.2,
            23.8,
            32.9,
            24.1,
            22.8,
            20.9,
            null,
            21.7,
            49.2,
            25.2,
            23.7,
            43.5,
            32.5,
            22.6,
            24,
            28.4,
            28.5,
            44.8,
            27.2,
            25.2,
            17.4,
            29,
            30.9,
            25.5,
            11.3,
            24.5,
            26.5,
            47.9,
            21.7,
            31,
            36.1,
            33.2,
            27.1,
            46.2,
            23.9,
            33.2,
            23.1,
            28.3,
            20.6,
            18,
            29,
            34.9,
            32.3,
            31.8,
            30.4,
            28.5,
            36.3,
            26.4,
            25.5,
            29.9,
            21.6,
            21.5
           ]
          }
         ],
         "name": "2001"
        },
        {
         "data": [
          {
           "coloraxis": "coloraxis",
           "geo": "geo",
           "hovertemplate": "<b>%{hovertext}</b><br><br>Year=2002<br>Alpha-3 code=%{location}<br>Contribution of the construction sector to the GBD %=%{z}<extra></extra>",
           "hovertext": [
            "Ireland",
            "Germany",
            "Belgium",
            "Denmark",
            "Greece",
            "Spain",
            "Italy",
            "Netherlands",
            "Norway",
            "Austria",
            "Hungary",
            "Slovak Republic",
            "Slovenia",
            "Poland",
            "Sweden",
            "Finland",
            "Switzerland",
            "Croatia",
            "Serbia",
            "Portugal",
            "Latvia",
            "France",
            "Afghanistan",
            "Albania",
            "Algeria",
            "Argentina",
            "Australia",
            "Azerbaijan",
            "Belarus",
            "Brazil",
            "Bulgaria",
            "Canada",
            "Chile",
            "China",
            "Colombia",
            "Costa Rica",
            "Cyprus",
            "Ecuador",
            "Egypt, Arab Rep.",
            "Estonia",
            "Hong Kong SAR, China",
            "Iceland",
            "India",
            "Indonesia",
            "Israel",
            "Japan",
            "Kazakhstan",
            "Korea, Rep.",
            "Lithuania",
            "Malaysia",
            "Malta",
            "Mexico",
            "New Zealand",
            "Nigeria",
            "North Macedonia",
            "Pakistan",
            "Peru",
            "Philippines",
            "Romania",
            "Russian Federation",
            "Singapore",
            "South Africa",
            "Thailand",
            "Tunisia",
            "Turkiye",
            "Ukraine",
            "United Kingdom",
            "United States"
           ],
           "locations": [
            "IRL",
            "DEU",
            "BEL",
            "DNK",
            "GRC",
            "ESP",
            "ITA",
            "NET",
            "NOR",
            "AUT",
            "HUN",
            "SLO",
            "SVN",
            "POL",
            "SWE",
            "FIN",
            "CHE",
            "HRV",
            "SRB",
            "PRT",
            "LVA",
            "FRA",
            "AFG",
            "ALB",
            "DZA",
            "ARG",
            "AUS",
            "AZE",
            "BLR",
            "BRA",
            "BGR",
            "CAN",
            "CHL",
            "CHN",
            "COL",
            "CRI",
            "CYP",
            "ECU",
            "EGY",
            "EST",
            "HON",
            "ISL",
            "IND",
            "IDN",
            "ISR",
            "JPN",
            "KAZ",
            "KOR",
            "LTU",
            "MYS",
            "MLT",
            "MEX",
            "NZL",
            "NGA",
            "NOR",
            "PAK",
            "PER",
            "PHI",
            "ROU",
            "RUS",
            "SGP",
            "ZAF",
            "THA",
            "TUN",
            "TUR",
            "UKR",
            "GBR",
            "USA"
           ],
           "name": "",
           "type": "choropleth",
           "z": [
            35.1,
            26.4,
            23.8,
            22.7,
            19.4,
            27.7,
            24,
            21.1,
            33.2,
            27.4,
            26.8,
            29.2,
            30,
            26.6,
            25.6,
            30.1,
            26.4,
            22.9,
            31.7,
            23.5,
            22.6,
            20.6,
            23.8,
            23.1,
            48.3,
            30.6,
            23.6,
            46.2,
            31.8,
            22.5,
            24,
            27.6,
            28.5,
            44.5,
            27.5,
            24.6,
            17.9,
            28.8,
            32.2,
            25.5,
            10.6,
            22.2,
            27.7,
            47.7,
            21.4,
            30.2,
            35.8,
            32.8,
            26.3,
            45.1,
            24.8,
            32.7,
            23.9,
            23,
            19.4,
            17.7,
            29.4,
            34.8,
            33.3,
            29.1,
            30.7,
            28.5,
            36.9,
            26.6,
            24.6,
            30.2,
            21.2,
            20.7
           ]
          }
         ],
         "name": "2002"
        },
        {
         "data": [
          {
           "coloraxis": "coloraxis",
           "geo": "geo",
           "hovertemplate": "<b>%{hovertext}</b><br><br>Year=2003<br>Alpha-3 code=%{location}<br>Contribution of the construction sector to the GBD %=%{z}<extra></extra>",
           "hovertext": [
            "Ireland",
            "Germany",
            "Belgium",
            "Denmark",
            "Greece",
            "Spain",
            "Italy",
            "Netherlands",
            "Norway",
            "Austria",
            "Hungary",
            "Slovak Republic",
            "Slovenia",
            "Poland",
            "Sweden",
            "Finland",
            "Switzerland",
            "Croatia",
            "Serbia",
            "Portugal",
            "Latvia",
            "France",
            "Afghanistan",
            "Albania",
            "Algeria",
            "Argentina",
            "Australia",
            "Azerbaijan",
            "Belarus",
            "Brazil",
            "Bulgaria",
            "Canada",
            "Chile",
            "China",
            "Colombia",
            "Costa Rica",
            "Cyprus",
            "Ecuador",
            "Egypt, Arab Rep.",
            "Estonia",
            "Hong Kong SAR, China",
            "Iceland",
            "India",
            "Indonesia",
            "Israel",
            "Japan",
            "Kazakhstan",
            "Korea, Rep.",
            "Lithuania",
            "Malaysia",
            "Malta",
            "Mexico",
            "New Zealand",
            "Nigeria",
            "North Macedonia",
            "Pakistan",
            "Peru",
            "Philippines",
            "Romania",
            "Russian Federation",
            "Singapore",
            "South Africa",
            "Thailand",
            "Tunisia",
            "Turkiye",
            "Ukraine",
            "United Kingdom",
            "United States"
           ],
           "locations": [
            "IRL",
            "DEU",
            "BEL",
            "DNK",
            "GRC",
            "ESP",
            "ITA",
            "NET",
            "NOR",
            "AUT",
            "HUN",
            "SLO",
            "SVN",
            "POL",
            "SWE",
            "FIN",
            "CHE",
            "HRV",
            "SRB",
            "PRT",
            "LVA",
            "FRA",
            "AFG",
            "ALB",
            "DZA",
            "ARG",
            "AUS",
            "AZE",
            "BLR",
            "BRA",
            "BGR",
            "CAN",
            "CHL",
            "CHN",
            "COL",
            "CRI",
            "CYP",
            "ECU",
            "EGY",
            "EST",
            "HON",
            "ISL",
            "IND",
            "IDN",
            "ISR",
            "JPN",
            "KAZ",
            "KOR",
            "LTU",
            "MYS",
            "MLT",
            "MEX",
            "NZL",
            "NGA",
            "NOR",
            "PAK",
            "PER",
            "PHI",
            "ROU",
            "RUS",
            "SGP",
            "ZAF",
            "THA",
            "TUN",
            "TUR",
            "UKR",
            "GBR",
            "USA"
           ],
           "name": "",
           "type": "choropleth",
           "z": [
            32.3,
            26.2,
            23.2,
            22.2,
            20.5,
            27.4,
            23.5,
            20.8,
            33.4,
            27.5,
            26.4,
            30.6,
            30.2,
            27.5,
            25.2,
            29.5,
            26,
            23.3,
            30,
            22.6,
            21.3,
            20.2,
            22.7,
            24.1,
            50,
            32.6,
            24.1,
            48.5,
            32.7,
            23.1,
            24.3,
            27.9,
            29.7,
            45.6,
            28.9,
            24.2,
            18,
            28,
            33.4,
            26.1,
            9.9,
            21.3,
            27.5,
            43.7,
            21.2,
            30.1,
            35.1,
            33.1,
            27.9,
            46.6,
            24.8,
            31.2,
            23.3,
            26,
            22.5,
            18,
            29.9,
            34.5,
            32,
            28.7,
            30.2,
            26.9,
            37.9,
            25.6,
            24.8,
            30.4,
            20.8,
            20.7
           ]
          }
         ],
         "name": "2003"
        },
        {
         "data": [
          {
           "coloraxis": "coloraxis",
           "geo": "geo",
           "hovertemplate": "<b>%{hovertext}</b><br><br>Year=2004<br>Alpha-3 code=%{location}<br>Contribution of the construction sector to the GBD %=%{z}<extra></extra>",
           "hovertext": [
            "Ireland",
            "Germany",
            "Belgium",
            "Denmark",
            "Greece",
            "Spain",
            "Italy",
            "Netherlands",
            "Norway",
            "Austria",
            "Hungary",
            "Slovak Republic",
            "Slovenia",
            "Poland",
            "Sweden",
            "Finland",
            "Switzerland",
            "Croatia",
            "Serbia",
            "Portugal",
            "Latvia",
            "France",
            "Afghanistan",
            "Albania",
            "Algeria",
            "Argentina",
            "Australia",
            "Azerbaijan",
            "Belarus",
            "Brazil",
            "Bulgaria",
            "Canada",
            "Chile",
            "China",
            "Colombia",
            "Costa Rica",
            "Cyprus",
            "Ecuador",
            "Egypt, Arab Rep.",
            "Estonia",
            "Hong Kong SAR, China",
            "Iceland",
            "India",
            "Indonesia",
            "Israel",
            "Japan",
            "Kazakhstan",
            "Korea, Rep.",
            "Lithuania",
            "Malaysia",
            "Malta",
            "Mexico",
            "New Zealand",
            "Nigeria",
            "North Macedonia",
            "Pakistan",
            "Peru",
            "Philippines",
            "Romania",
            "Russian Federation",
            "Singapore",
            "South Africa",
            "Thailand",
            "Tunisia",
            "Turkiye",
            "Ukraine",
            "United Kingdom",
            "United States"
           ],
           "locations": [
            "IRL",
            "DEU",
            "BEL",
            "DNK",
            "GRC",
            "ESP",
            "ITA",
            "NET",
            "NOR",
            "AUT",
            "HUN",
            "SLO",
            "SVN",
            "POL",
            "SWE",
            "FIN",
            "CHE",
            "HRV",
            "SRB",
            "PRT",
            "LVA",
            "FRA",
            "AFG",
            "ALB",
            "DZA",
            "ARG",
            "AUS",
            "AZE",
            "BLR",
            "BRA",
            "BGR",
            "CAN",
            "CHL",
            "CHN",
            "COL",
            "CRI",
            "CYP",
            "ECU",
            "EGY",
            "EST",
            "HON",
            "ISL",
            "IND",
            "IDN",
            "ISR",
            "JPN",
            "KAZ",
            "KOR",
            "LTU",
            "MYS",
            "MLT",
            "MEX",
            "NZL",
            "NGA",
            "NOR",
            "PAK",
            "PER",
            "PHI",
            "ROU",
            "RUS",
            "SGP",
            "ZAF",
            "THA",
            "TUN",
            "TUR",
            "UKR",
            "GBR",
            "USA"
           ],
           "name": "",
           "type": "choropleth",
           "z": [
            30.8,
            26.4,
            23,
            22.1,
            20.3,
            27,
            23.4,
            20.7,
            35,
            27.4,
            26.9,
            32,
            30.3,
            28.8,
            25.1,
            29.4,
            25.6,
            24.1,
            30.3,
            22.2,
            21.4,
            20,
            26.2,
            24.7,
            51.5,
            28.8,
            23.9,
            50.8,
            35,
            24.3,
            23.1,
            28.4,
            32.8,
            45.9,
            29.7,
            24.7,
            18.1,
            29.7,
            34.7,
            25.4,
            9.2,
            21.6,
            29.2,
            44.6,
            20.5,
            30,
            35.4,
            34.7,
            29.6,
            48.5,
            22.3,
            32.9,
            23.6,
            28.4,
            21,
            19.6,
            32.7,
            33.6,
            31.8,
            31.7,
            31.9,
            26.3,
            37.9,
            25.6,
            25.1,
            29.4,
            20.2,
            21
           ]
          }
         ],
         "name": "2004"
        },
        {
         "data": [
          {
           "coloraxis": "coloraxis",
           "geo": "geo",
           "hovertemplate": "<b>%{hovertext}</b><br><br>Year=2005<br>Alpha-3 code=%{location}<br>Contribution of the construction sector to the GBD %=%{z}<extra></extra>",
           "hovertext": [
            "Ireland",
            "Germany",
            "Belgium",
            "Denmark",
            "Greece",
            "Spain",
            "Italy",
            "Netherlands",
            "Norway",
            "Austria",
            "Hungary",
            "Slovak Republic",
            "Slovenia",
            "Poland",
            "Sweden",
            "Finland",
            "Switzerland",
            "Croatia",
            "Serbia",
            "Portugal",
            "Latvia",
            "France",
            "Afghanistan",
            "Albania",
            "Algeria",
            "Argentina",
            "Australia",
            "Azerbaijan",
            "Belarus",
            "Brazil",
            "Bulgaria",
            "Canada",
            "Chile",
            "China",
            "Colombia",
            "Costa Rica",
            "Cyprus",
            "Ecuador",
            "Egypt, Arab Rep.",
            "Estonia",
            "Hong Kong SAR, China",
            "Iceland",
            "India",
            "Indonesia",
            "Israel",
            "Japan",
            "Kazakhstan",
            "Korea, Rep.",
            "Lithuania",
            "Malaysia",
            "Malta",
            "Mexico",
            "New Zealand",
            "Nigeria",
            "North Macedonia",
            "Pakistan",
            "Peru",
            "Philippines",
            "Romania",
            "Russian Federation",
            "Singapore",
            "South Africa",
            "Thailand",
            "Tunisia",
            "Turkiye",
            "Ukraine",
            "United Kingdom",
            "United States"
           ],
           "locations": [
            "IRL",
            "DEU",
            "BEL",
            "DNK",
            "GRC",
            "ESP",
            "ITA",
            "NET",
            "NOR",
            "AUT",
            "HUN",
            "SLO",
            "SVN",
            "POL",
            "SWE",
            "FIN",
            "CHE",
            "HRV",
            "SRB",
            "PRT",
            "LVA",
            "FRA",
            "AFG",
            "ALB",
            "DZA",
            "ARG",
            "AUS",
            "AZE",
            "BLR",
            "BRA",
            "BGR",
            "CAN",
            "CHL",
            "CHN",
            "COL",
            "CRI",
            "CYP",
            "ECU",
            "EGY",
            "EST",
            "HON",
            "ISL",
            "IND",
            "IDN",
            "ISR",
            "JPN",
            "KAZ",
            "KOR",
            "LTU",
            "MYS",
            "MLT",
            "MEX",
            "NZL",
            "NGA",
            "NOR",
            "PAK",
            "PER",
            "PHI",
            "ROU",
            "RUS",
            "SGP",
            "ZAF",
            "THA",
            "TUN",
            "TUR",
            "UKR",
            "GBR",
            "USA"
           ],
           "name": "",
           "type": "choropleth",
           "z": [
            30,
            26.4,
            22.6,
            22.2,
            17.8,
            27.2,
            23.3,
            21,
            38,
            27.1,
            27.2,
            31.9,
            29.8,
            28.6,
            24.9,
            29.3,
            25.8,
            23.7,
            29.1,
            21.4,
            20.2,
            19.6,
            26.8,
            25.1,
            56.6,
            28.6,
            24.6,
            58.5,
            37.8,
            24.2,
            24.2,
            29.2,
            34,
            47,
            30.3,
            24.3,
            17.9,
            31.5,
            34.1,
            26.3,
            8.5,
            20.5,
            29.5,
            46.5,
            21.2,
            29.9,
            37.6,
            34.2,
            29.6,
            46.4,
            21,
            32.8,
            23.9,
            28.2,
            20.4,
            19.9,
            34.4,
            33.8,
            32.3,
            32.6,
            31.4,
            26,
            38.5,
            26.4,
            25.2,
            30.2,
            20.2,
            21.2
           ]
          }
         ],
         "name": "2005"
        },
        {
         "data": [
          {
           "coloraxis": "coloraxis",
           "geo": "geo",
           "hovertemplate": "<b>%{hovertext}</b><br><br>Year=2006<br>Alpha-3 code=%{location}<br>Contribution of the construction sector to the GBD %=%{z}<extra></extra>",
           "hovertext": [
            "Ireland",
            "Germany",
            "Belgium",
            "Denmark",
            "Greece",
            "Spain",
            "Italy",
            "Netherlands",
            "Norway",
            "Austria",
            "Hungary",
            "Slovak Republic",
            "Slovenia",
            "Poland",
            "Sweden",
            "Finland",
            "Switzerland",
            "Croatia",
            "Serbia",
            "Portugal",
            "Latvia",
            "France",
            "Afghanistan",
            "Albania",
            "Algeria",
            "Argentina",
            "Australia",
            "Azerbaijan",
            "Belarus",
            "Brazil",
            "Bulgaria",
            "Canada",
            "Chile",
            "China",
            "Colombia",
            "Costa Rica",
            "Cyprus",
            "Ecuador",
            "Egypt, Arab Rep.",
            "Estonia",
            "Hong Kong SAR, China",
            "Iceland",
            "India",
            "Indonesia",
            "Israel",
            "Japan",
            "Kazakhstan",
            "Korea, Rep.",
            "Lithuania",
            "Malaysia",
            "Malta",
            "Mexico",
            "New Zealand",
            "Nigeria",
            "North Macedonia",
            "Pakistan",
            "Peru",
            "Philippines",
            "Romania",
            "Russian Federation",
            "Singapore",
            "South Africa",
            "Thailand",
            "Tunisia",
            "Turkiye",
            "Ukraine",
            "United Kingdom",
            "United States"
           ],
           "locations": [
            "IRL",
            "DEU",
            "BEL",
            "DNK",
            "GRC",
            "ESP",
            "ITA",
            "NET",
            "NOR",
            "AUT",
            "HUN",
            "SLO",
            "SVN",
            "POL",
            "SWE",
            "FIN",
            "CHE",
            "HRV",
            "SRB",
            "PRT",
            "LVA",
            "FRA",
            "AFG",
            "ALB",
            "DZA",
            "ARG",
            "AUS",
            "AZE",
            "BLR",
            "BRA",
            "BGR",
            "CAN",
            "CHL",
            "CHN",
            "COL",
            "CRI",
            "CYP",
            "ECU",
            "EGY",
            "EST",
            "HON",
            "ISL",
            "IND",
            "IDN",
            "ISR",
            "JPN",
            "KAZ",
            "KOR",
            "LTU",
            "MYS",
            "MLT",
            "MEX",
            "NZL",
            "NGA",
            "NOR",
            "PAK",
            "PER",
            "PHI",
            "ROU",
            "RUS",
            "SGP",
            "ZAF",
            "THA",
            "TUN",
            "TUR",
            "UKR",
            "GBR",
            "USA"
           ],
           "name": "",
           "type": "choropleth",
           "z": [
            30.1,
            27,
            22.1,
            22.8,
            20,
            26.9,
            23.4,
            21.2,
            39.7,
            27.3,
            27.2,
            34.3,
            30.1,
            28.8,
            25.3,
            30.2,
            26,
            23.4,
            28.7,
            21.1,
            20.8,
            19.3,
            28.2,
            25.3,
            58.1,
            29.2,
            25.6,
            65.2,
            37.2,
            23.5,
            25.4,
            28.8,
            38.7,
            47.6,
            30.9,
            23.7,
            17.8,
            33.9,
            36.2,
            26.9,
            8,
            22,
            30.9,
            46.9,
            21.5,
            29.7,
            39.4,
            33.5,
            30,
            46.5,
            19.9,
            34.2,
            23,
            25.8,
            21.7,
            19.7,
            37.5,
            33.5,
            33,
            31.8,
            30.9,
            24.9,
            39.1,
            27.2,
            26,
            30.5,
            20.1,
            21.6
           ]
          }
         ],
         "name": "2006"
        },
        {
         "data": [
          {
           "coloraxis": "coloraxis",
           "geo": "geo",
           "hovertemplate": "<b>%{hovertext}</b><br><br>Year=2007<br>Alpha-3 code=%{location}<br>Contribution of the construction sector to the GBD %=%{z}<extra></extra>",
           "hovertext": [
            "Ireland",
            "Germany",
            "Belgium",
            "Denmark",
            "Greece",
            "Spain",
            "Italy",
            "Netherlands",
            "Norway",
            "Austria",
            "Hungary",
            "Slovak Republic",
            "Slovenia",
            "Poland",
            "Sweden",
            "Finland",
            "Switzerland",
            "Croatia",
            "Serbia",
            "Portugal",
            "Latvia",
            "France",
            "Afghanistan",
            "Albania",
            "Algeria",
            "Argentina",
            "Australia",
            "Azerbaijan",
            "Belarus",
            "Brazil",
            "Bulgaria",
            "Canada",
            "Chile",
            "China",
            "Colombia",
            "Costa Rica",
            "Cyprus",
            "Ecuador",
            "Egypt, Arab Rep.",
            "Estonia",
            "Hong Kong SAR, China",
            "Iceland",
            "India",
            "Indonesia",
            "Israel",
            "Japan",
            "Kazakhstan",
            "Korea, Rep.",
            "Lithuania",
            "Malaysia",
            "Malta",
            "Mexico",
            "New Zealand",
            "Nigeria",
            "North Macedonia",
            "Pakistan",
            "Peru",
            "Philippines",
            "Romania",
            "Russian Federation",
            "Singapore",
            "South Africa",
            "Thailand",
            "Tunisia",
            "Turkiye",
            "Ukraine",
            "United Kingdom",
            "United States"
           ],
           "locations": [
            "IRL",
            "DEU",
            "BEL",
            "DNK",
            "GRC",
            "ESP",
            "ITA",
            "NET",
            "NOR",
            "AUT",
            "HUN",
            "SLO",
            "SVN",
            "POL",
            "SWE",
            "FIN",
            "CHE",
            "HRV",
            "SRB",
            "PRT",
            "LVA",
            "FRA",
            "AFG",
            "ALB",
            "DZA",
            "ARG",
            "AUS",
            "AZE",
            "BLR",
            "BRA",
            "BGR",
            "CAN",
            "CHL",
            "CHN",
            "COL",
            "CRI",
            "CYP",
            "ECU",
            "EGY",
            "EST",
            "HON",
            "ISL",
            "IND",
            "IDN",
            "ISR",
            "JPN",
            "KAZ",
            "KOR",
            "LTU",
            "MYS",
            "MLT",
            "MEX",
            "NZL",
            "NGA",
            "NOR",
            "PAK",
            "PER",
            "PHI",
            "ROU",
            "RUS",
            "SGP",
            "ZAF",
            "THA",
            "TUN",
            "TUR",
            "UKR",
            "GBR",
            "USA"
           ],
           "name": "",
           "type": "choropleth",
           "z": [
            28.5,
            27.2,
            22.3,
            22.2,
            18,
            26.3,
            23.8,
            21.2,
            37.2,
            27.6,
            26.7,
            33.5,
            30.7,
            28.7,
            25.4,
            30.7,
            25.9,
            23,
            28.2,
            21.2,
            21.6,
            19.1,
            26.9,
            25.3,
            56.7,
            27.4,
            25.7,
            66.1,
            37,
            23.1,
            26.3,
            28.7,
            37.5,
            46.9,
            30.6,
            23.9,
            18.2,
            34.5,
            35.1,
            26.9,
            6.9,
            19.9,
            30.9,
            46.8,
            21.8,
            29.6,
            37.7,
            33.5,
            29.6,
            44.6,
            18.3,
            33.8,
            23,
            24.3,
            20.6,
            20,
            37.7,
            33,
            34.3,
            31.2,
            28.2,
            25.3,
            39.4,
            28.9,
            26.4,
            30.7,
            19.7,
            21.4
           ]
          }
         ],
         "name": "2007"
        },
        {
         "data": [
          {
           "coloraxis": "coloraxis",
           "geo": "geo",
           "hovertemplate": "<b>%{hovertext}</b><br><br>Year=2008<br>Alpha-3 code=%{location}<br>Contribution of the construction sector to the GBD %=%{z}<extra></extra>",
           "hovertext": [
            "Ireland",
            "Germany",
            "Belgium",
            "Denmark",
            "Greece",
            "Spain",
            "Italy",
            "Netherlands",
            "Norway",
            "Austria",
            "Hungary",
            "Slovak Republic",
            "Slovenia",
            "Poland",
            "Sweden",
            "Finland",
            "Switzerland",
            "Croatia",
            "Serbia",
            "Portugal",
            "Latvia",
            "France",
            "Afghanistan",
            "Albania",
            "Algeria",
            "Argentina",
            "Australia",
            "Azerbaijan",
            "Belarus",
            "Brazil",
            "Bulgaria",
            "Canada",
            "Chile",
            "China",
            "Colombia",
            "Costa Rica",
            "Cyprus",
            "Ecuador",
            "Egypt, Arab Rep.",
            "Estonia",
            "Hong Kong SAR, China",
            "Iceland",
            "India",
            "Indonesia",
            "Israel",
            "Japan",
            "Kazakhstan",
            "Korea, Rep.",
            "Lithuania",
            "Malaysia",
            "Malta",
            "Mexico",
            "New Zealand",
            "Nigeria",
            "North Macedonia",
            "Pakistan",
            "Peru",
            "Philippines",
            "Romania",
            "Russian Federation",
            "Singapore",
            "South Africa",
            "Thailand",
            "Tunisia",
            "Turkiye",
            "Ukraine",
            "United Kingdom",
            "United States"
           ],
           "locations": [
            "IRL",
            "DEU",
            "BEL",
            "DNK",
            "GRC",
            "ESP",
            "ITA",
            "NET",
            "NOR",
            "AUT",
            "HUN",
            "SLO",
            "SVN",
            "POL",
            "SWE",
            "FIN",
            "CHE",
            "HRV",
            "SRB",
            "PRT",
            "LVA",
            "FRA",
            "AFG",
            "ALB",
            "DZA",
            "ARG",
            "AUS",
            "AZE",
            "BLR",
            "BRA",
            "BGR",
            "CAN",
            "CHL",
            "CHN",
            "COL",
            "CRI",
            "CYP",
            "ECU",
            "EGY",
            "EST",
            "HON",
            "ISL",
            "IND",
            "IDN",
            "ISR",
            "JPN",
            "KAZ",
            "KOR",
            "LTU",
            "MYS",
            "MLT",
            "MEX",
            "NZL",
            "NGA",
            "NOR",
            "PAK",
            "PER",
            "PHI",
            "ROU",
            "RUS",
            "SGP",
            "ZAF",
            "THA",
            "TUN",
            "TUR",
            "UKR",
            "GBR",
            "USA"
           ],
           "name": "",
           "type": "choropleth",
           "z": [
            25.9,
            26.8,
            21.6,
            22.6,
            15.7,
            26.3,
            23.6,
            21.5,
            40.3,
            27,
            25.8,
            33.1,
            29.8,
            28.7,
            24.5,
            29.6,
            25.9,
            22.8,
            27.6,
            20.4,
            21.8,
            18.8,
            26.9,
            25.2,
            57.8,
            26.3,
            25.6,
            65.7,
            38.8,
            23.1,
            25,
            29.3,
            32,
            47,
            32.1,
            23.6,
            17.9,
            37.9,
            36.2,
            26.2,
            7,
            22.9,
            31.1,
            48.1,
            21.3,
            28.8,
            40.3,
            32.5,
            29.2,
            45.1,
            19.3,
            34.8,
            23.2,
            24.7,
            19.5,
            21.7,
            36.3,
            32.8,
            36.8,
            30.8,
            26.4,
            26.9,
            39.5,
            31.4,
            26.1,
            28.1,
            19.9,
            20.8
           ]
          }
         ],
         "name": "2008"
        },
        {
         "data": [
          {
           "coloraxis": "coloraxis",
           "geo": "geo",
           "hovertemplate": "<b>%{hovertext}</b><br><br>Year=2009<br>Alpha-3 code=%{location}<br>Contribution of the construction sector to the GBD %=%{z}<extra></extra>",
           "hovertext": [
            "Ireland",
            "Germany",
            "Belgium",
            "Denmark",
            "Greece",
            "Spain",
            "Italy",
            "Netherlands",
            "Norway",
            "Austria",
            "Hungary",
            "Slovak Republic",
            "Slovenia",
            "Poland",
            "Sweden",
            "Finland",
            "Switzerland",
            "Croatia",
            "Serbia",
            "Portugal",
            "Latvia",
            "France",
            "Afghanistan",
            "Albania",
            "Algeria",
            "Argentina",
            "Australia",
            "Azerbaijan",
            "Belarus",
            "Brazil",
            "Bulgaria",
            "Canada",
            "Chile",
            "China",
            "Colombia",
            "Costa Rica",
            "Cyprus",
            "Ecuador",
            "Egypt, Arab Rep.",
            "Estonia",
            "Hong Kong SAR, China",
            "Iceland",
            "India",
            "Indonesia",
            "Israel",
            "Japan",
            "Kazakhstan",
            "Korea, Rep.",
            "Lithuania",
            "Malaysia",
            "Malta",
            "Mexico",
            "New Zealand",
            "Nigeria",
            "North Macedonia",
            "Pakistan",
            "Peru",
            "Philippines",
            "Romania",
            "Russian Federation",
            "Singapore",
            "South Africa",
            "Thailand",
            "Tunisia",
            "Turkiye",
            "Ukraine",
            "United Kingdom",
            "United States"
           ],
           "locations": [
            "IRL",
            "DEU",
            "BEL",
            "DNK",
            "GRC",
            "ESP",
            "ITA",
            "NET",
            "NOR",
            "AUT",
            "HUN",
            "SLO",
            "SVN",
            "POL",
            "SWE",
            "FIN",
            "CHE",
            "HRV",
            "SRB",
            "PRT",
            "LVA",
            "FRA",
            "AFG",
            "ALB",
            "DZA",
            "ARG",
            "AUS",
            "AZE",
            "BLR",
            "BRA",
            "BGR",
            "CAN",
            "CHL",
            "CHN",
            "COL",
            "CRI",
            "CYP",
            "ECU",
            "EGY",
            "EST",
            "HON",
            "ISL",
            "IND",
            "IDN",
            "ISR",
            "JPN",
            "KAZ",
            "KOR",
            "LTU",
            "MYS",
            "MLT",
            "MEX",
            "NZL",
            "NGA",
            "NOR",
            "PAK",
            "PER",
            "PHI",
            "ROU",
            "RUS",
            "SGP",
            "ZAF",
            "THA",
            "TUN",
            "TUR",
            "UKR",
            "GBR",
            "USA"
           ],
           "name": "",
           "type": "choropleth",
           "z": [
            25.6,
            24.7,
            20.6,
            20,
            15.3,
            24.9,
            21.9,
            20.3,
            34.3,
            25.8,
            25.1,
            29.4,
            27.4,
            29.5,
            22.4,
            25.7,
            24.7,
            22.7,
            24.9,
            19.9,
            20.9,
            18.3,
            21.9,
            24.4,
            46.9,
            25.3,
            27,
            56.4,
            36.1,
            21.9,
            26.6,
            25.1,
            31.9,
            46,
            31.2,
            23.5,
            16,
            32.4,
            35.8,
            23.5,
            6.9,
            19.9,
            31.1,
            47.7,
            20.5,
            27.1,
            38.4,
            32.9,
            25.1,
            41,
            17.5,
            31.9,
            21.4,
            21.2,
            19,
            19.2,
            33.6,
            31.5,
            36.4,
            29.3,
            27,
            25.7,
            38.6,
            28,
            24,
            24.8,
            18.6,
            19.3
           ]
          }
         ],
         "name": "2009"
        },
        {
         "data": [
          {
           "coloraxis": "coloraxis",
           "geo": "geo",
           "hovertemplate": "<b>%{hovertext}</b><br><br>Year=2010<br>Alpha-3 code=%{location}<br>Contribution of the construction sector to the GBD %=%{z}<extra></extra>",
           "hovertext": [
            "Ireland",
            "Germany",
            "Belgium",
            "Denmark",
            "Greece",
            "Spain",
            "Italy",
            "Netherlands",
            "Norway",
            "Austria",
            "Hungary",
            "Slovak Republic",
            "Slovenia",
            "Poland",
            "Sweden",
            "Finland",
            "Switzerland",
            "Croatia",
            "Serbia",
            "Portugal",
            "Latvia",
            "France",
            "Afghanistan",
            "Albania",
            "Algeria",
            "Argentina",
            "Australia",
            "Azerbaijan",
            "Belarus",
            "Brazil",
            "Bulgaria",
            "Canada",
            "Chile",
            "China",
            "Colombia",
            "Costa Rica",
            "Cyprus",
            "Ecuador",
            "Egypt, Arab Rep.",
            "Estonia",
            "Hong Kong SAR, China",
            "Iceland",
            "India",
            "Indonesia",
            "Israel",
            "Japan",
            "Kazakhstan",
            "Korea, Rep.",
            "Lithuania",
            "Malaysia",
            "Malta",
            "Mexico",
            "New Zealand",
            "Nigeria",
            "North Macedonia",
            "Pakistan",
            "Peru",
            "Philippines",
            "Romania",
            "Russian Federation",
            "Singapore",
            "South Africa",
            "Thailand",
            "Tunisia",
            "Turkiye",
            "Ukraine",
            "United Kingdom",
            "United States"
           ],
           "locations": [
            "IRL",
            "DEU",
            "BEL",
            "DNK",
            "GRC",
            "ESP",
            "ITA",
            "NET",
            "NOR",
            "AUT",
            "HUN",
            "SLO",
            "SVN",
            "POL",
            "SWE",
            "FIN",
            "CHE",
            "HRV",
            "SRB",
            "PRT",
            "LVA",
            "FRA",
            "AFG",
            "ALB",
            "DZA",
            "ARG",
            "AUS",
            "AZE",
            "BLR",
            "BRA",
            "BGR",
            "CAN",
            "CHL",
            "CHN",
            "COL",
            "CRI",
            "CYP",
            "ECU",
            "EGY",
            "EST",
            "HON",
            "ISL",
            "IND",
            "IDN",
            "ISR",
            "JPN",
            "KAZ",
            "KOR",
            "LTU",
            "MYS",
            "MLT",
            "MEX",
            "NZL",
            "NGA",
            "NOR",
            "PAK",
            "PER",
            "PHI",
            "ROU",
            "RUS",
            "SGP",
            "ZAF",
            "THA",
            "TUN",
            "TUR",
            "UKR",
            "GBR",
            "USA"
           ],
           "name": "",
           "type": "choropleth",
           "z": [
            23.3,
            26.8,
            20.9,
            19.7,
            14.9,
            23.2,
            21.9,
            19.7,
            34.8,
            25.5,
            25.2,
            30.6,
            26.5,
            29.7,
            23.8,
            26.2,
            24.7,
            21.4,
            25.3,
            20,
            20.4,
            17.8,
            21.2,
            24.9,
            50,
            25.3,
            25.2,
            59.8,
            35.4,
            23.3,
            23.8,
            26.4,
            33.5,
            46.5,
            31.4,
            23.3,
            14.5,
            34.7,
            35.8,
            24.4,
            6.8,
            22,
            30.7,
            42.8,
            20.7,
            28.3,
            40.6,
            34.1,
            26.2,
            40.5,
            17.6,
            32.4,
            21.2,
            25.3,
            21,
            19.7,
            35.8,
            32.3,
            38.3,
            30,
            26.6,
            25.3,
            39.9,
            29.5,
            24.5,
            25.6,
            18.8,
            19.3
           ]
          }
         ],
         "name": "2010"
        },
        {
         "data": [
          {
           "coloraxis": "coloraxis",
           "geo": "geo",
           "hovertemplate": "<b>%{hovertext}</b><br><br>Year=2011<br>Alpha-3 code=%{location}<br>Contribution of the construction sector to the GBD %=%{z}<extra></extra>",
           "hovertext": [
            "Ireland",
            "Germany",
            "Belgium",
            "Denmark",
            "Greece",
            "Spain",
            "Italy",
            "Netherlands",
            "Norway",
            "Austria",
            "Hungary",
            "Slovak Republic",
            "Slovenia",
            "Poland",
            "Sweden",
            "Finland",
            "Switzerland",
            "Croatia",
            "Serbia",
            "Portugal",
            "Latvia",
            "France",
            "Afghanistan",
            "Albania",
            "Algeria",
            "Argentina",
            "Australia",
            "Azerbaijan",
            "Belarus",
            "Brazil",
            "Bulgaria",
            "Canada",
            "Chile",
            "China",
            "Colombia",
            "Costa Rica",
            "Cyprus",
            "Ecuador",
            "Egypt, Arab Rep.",
            "Estonia",
            "Hong Kong SAR, China",
            "Iceland",
            "India",
            "Indonesia",
            "Israel",
            "Japan",
            "Kazakhstan",
            "Korea, Rep.",
            "Lithuania",
            "Malaysia",
            "Malta",
            "Mexico",
            "New Zealand",
            "Nigeria",
            "North Macedonia",
            "Pakistan",
            "Peru",
            "Philippines",
            "Romania",
            "Russian Federation",
            "Singapore",
            "South Africa",
            "Thailand",
            "Tunisia",
            "Turkiye",
            "Ukraine",
            "United Kingdom",
            "United States"
           ],
           "locations": [
            "IRL",
            "DEU",
            "BEL",
            "DNK",
            "GRC",
            "ESP",
            "ITA",
            "NET",
            "NOR",
            "AUT",
            "HUN",
            "SLO",
            "SVN",
            "POL",
            "SWE",
            "FIN",
            "CHE",
            "HRV",
            "SRB",
            "PRT",
            "LVA",
            "FRA",
            "AFG",
            "ALB",
            "DZA",
            "ARG",
            "AUS",
            "AZE",
            "BLR",
            "BRA",
            "BGR",
            "CAN",
            "CHL",
            "CHN",
            "COL",
            "CRI",
            "CYP",
            "ECU",
            "EGY",
            "EST",
            "HON",
            "ISL",
            "IND",
            "IDN",
            "ISR",
            "JPN",
            "KAZ",
            "KOR",
            "LTU",
            "MYS",
            "MLT",
            "MEX",
            "NZL",
            "NGA",
            "NOR",
            "PAK",
            "PER",
            "PHI",
            "ROU",
            "RUS",
            "SGP",
            "ZAF",
            "THA",
            "TUN",
            "TUR",
            "UKR",
            "GBR",
            "USA"
           ],
           "name": "",
           "type": "choropleth",
           "z": [
            24,
            27.1,
            20.8,
            20.3,
            14.4,
            22.1,
            21.7,
            20.1,
            37,
            25.4,
            25.1,
            30.5,
            26.8,
            30.5,
            23.6,
            25,
            25,
            21.5,
            26.7,
            19.3,
            20.7,
            18,
            22.7,
            24.5,
            49.1,
            25.2,
            26.5,
            61.7,
            36.1,
            23.1,
            25,
            27.1,
            32.4,
            46.5,
            33.3,
            22.6,
            12.7,
            37.6,
            36,
            25.7,
            6.7,
            22.4,
            30.2,
            43.9,
            20,
            26.7,
            37.3,
            34.5,
            28.1,
            39.8,
            16.3,
            33.6,
            21,
            28.3,
            21.6,
            20.5,
            37.2,
            31.3,
            40.2,
            29.4,
            25.3,
            24.8,
            38,
            30.5,
            26.8,
            24.8,
            18.3,
            19.4
           ]
          }
         ],
         "name": "2011"
        },
        {
         "data": [
          {
           "coloraxis": "coloraxis",
           "geo": "geo",
           "hovertemplate": "<b>%{hovertext}</b><br><br>Year=2012<br>Alpha-3 code=%{location}<br>Contribution of the construction sector to the GBD %=%{z}<extra></extra>",
           "hovertext": [
            "Ireland",
            "Germany",
            "Belgium",
            "Denmark",
            "Greece",
            "Spain",
            "Italy",
            "Netherlands",
            "Norway",
            "Austria",
            "Hungary",
            "Slovak Republic",
            "Slovenia",
            "Poland",
            "Sweden",
            "Finland",
            "Switzerland",
            "Croatia",
            "Serbia",
            "Portugal",
            "Latvia",
            "France",
            "Afghanistan",
            "Albania",
            "Algeria",
            "Argentina",
            "Australia",
            "Azerbaijan",
            "Belarus",
            "Brazil",
            "Bulgaria",
            "Canada",
            "Chile",
            "China",
            "Colombia",
            "Costa Rica",
            "Cyprus",
            "Ecuador",
            "Egypt, Arab Rep.",
            "Estonia",
            "Hong Kong SAR, China",
            "Iceland",
            "India",
            "Indonesia",
            "Israel",
            "Japan",
            "Kazakhstan",
            "Korea, Rep.",
            "Lithuania",
            "Malaysia",
            "Malta",
            "Mexico",
            "New Zealand",
            "Nigeria",
            "North Macedonia",
            "Pakistan",
            "Peru",
            "Philippines",
            "Romania",
            "Russian Federation",
            "Singapore",
            "South Africa",
            "Thailand",
            "Tunisia",
            "Turkiye",
            "Ukraine",
            "United Kingdom",
            "United States"
           ],
           "locations": [
            "IRL",
            "DEU",
            "BEL",
            "DNK",
            "GRC",
            "ESP",
            "ITA",
            "NET",
            "NOR",
            "AUT",
            "HUN",
            "SLO",
            "SVN",
            "POL",
            "SWE",
            "FIN",
            "CHE",
            "HRV",
            "SRB",
            "PRT",
            "LVA",
            "FRA",
            "AFG",
            "ALB",
            "DZA",
            "ARG",
            "AUS",
            "AZE",
            "BLR",
            "BRA",
            "BGR",
            "CAN",
            "CHL",
            "CHN",
            "COL",
            "CRI",
            "CYP",
            "ECU",
            "EGY",
            "EST",
            "HON",
            "ISL",
            "IND",
            "IDN",
            "ISR",
            "JPN",
            "KAZ",
            "KOR",
            "LTU",
            "MYS",
            "MLT",
            "MEX",
            "NZL",
            "NGA",
            "NOR",
            "PAK",
            "PER",
            "PHI",
            "ROU",
            "RUS",
            "SGP",
            "ZAF",
            "THA",
            "TUN",
            "TUR",
            "UKR",
            "GBR",
            "USA"
           ],
           "name": "",
           "type": "choropleth",
           "z": [
            23.9,
            27.3,
            20.1,
            20.4,
            14.8,
            21,
            21.3,
            20,
            36.8,
            25.6,
            25,
            30.8,
            27.4,
            30.3,
            23,
            23.4,
            24.6,
            21.1,
            27,
            19.1,
            20.6,
            17.9,
            21.2,
            22.9,
            47.4,
            24.4,
            26.4,
            59.5,
            36.3,
            22.1,
            25.4,
            26.6,
            30.6,
            45.4,
            33.4,
            22.2,
            11.8,
            37.8,
            39.3,
            25.3,
            6.8,
            21,
            29.4,
            43.6,
            20.4,
            26.6,
            36.3,
            34.1,
            28,
            40.1,
            14.9,
            33.8,
            20.9,
            27.1,
            21.1,
            21.3,
            35.5,
            31.4,
            34.4,
            29.1,
            25,
            24.5,
            37.3,
            30.1,
            26.6,
            24.3,
            18.3,
            19.2
           ]
          }
         ],
         "name": "2012"
        },
        {
         "data": [
          {
           "coloraxis": "coloraxis",
           "geo": "geo",
           "hovertemplate": "<b>%{hovertext}</b><br><br>Year=2013<br>Alpha-3 code=%{location}<br>Contribution of the construction sector to the GBD %=%{z}<extra></extra>",
           "hovertext": [
            "Ireland",
            "Germany",
            "Belgium",
            "Denmark",
            "Greece",
            "Spain",
            "Italy",
            "Netherlands",
            "Norway",
            "Austria",
            "Hungary",
            "Slovak Republic",
            "Slovenia",
            "Poland",
            "Sweden",
            "Finland",
            "Switzerland",
            "Croatia",
            "Serbia",
            "Portugal",
            "Latvia",
            "France",
            "Afghanistan",
            "Albania",
            "Algeria",
            "Argentina",
            "Australia",
            "Azerbaijan",
            "Belarus",
            "Brazil",
            "Bulgaria",
            "Canada",
            "Chile",
            "China",
            "Colombia",
            "Costa Rica",
            "Cyprus",
            "Ecuador",
            "Egypt, Arab Rep.",
            "Estonia",
            "Hong Kong SAR, China",
            "Iceland",
            "India",
            "Indonesia",
            "Israel",
            "Japan",
            "Kazakhstan",
            "Korea, Rep.",
            "Lithuania",
            "Malaysia",
            "Malta",
            "Mexico",
            "New Zealand",
            "Nigeria",
            "North Macedonia",
            "Pakistan",
            "Peru",
            "Philippines",
            "Romania",
            "Russian Federation",
            "Singapore",
            "South Africa",
            "Thailand",
            "Tunisia",
            "Turkiye",
            "Ukraine",
            "United Kingdom",
            "United States"
           ],
           "locations": [
            "IRL",
            "DEU",
            "BEL",
            "DNK",
            "GRC",
            "ESP",
            "ITA",
            "NET",
            "NOR",
            "AUT",
            "HUN",
            "SLO",
            "SVN",
            "POL",
            "SWE",
            "FIN",
            "CHE",
            "HRV",
            "SRB",
            "PRT",
            "LVA",
            "FRA",
            "AFG",
            "ALB",
            "DZA",
            "ARG",
            "AUS",
            "AZE",
            "BLR",
            "BRA",
            "BGR",
            "CAN",
            "CHL",
            "CHN",
            "COL",
            "CRI",
            "CYP",
            "ECU",
            "EGY",
            "EST",
            "HON",
            "ISL",
            "IND",
            "IDN",
            "ISR",
            "JPN",
            "KAZ",
            "KOR",
            "LTU",
            "MYS",
            "MLT",
            "MEX",
            "NZL",
            "NGA",
            "NOR",
            "PAK",
            "PER",
            "PHI",
            "ROU",
            "RUS",
            "SGP",
            "ZAF",
            "THA",
            "TUN",
            "TUR",
            "UKR",
            "GBR",
            "USA"
           ],
           "name": "",
           "type": "choropleth",
           "z": [
            23.9,
            26.8,
            19.9,
            20.1,
            15.1,
            20.3,
            21.2,
            19.3,
            35.6,
            25.5,
            25,
            28.6,
            27.5,
            28.7,
            22.1,
            23.3,
            24.7,
            20.6,
            26.8,
            18.9,
            20.1,
            18,
            20.4,
            23.1,
            43.9,
            24,
            25.2,
            57.1,
            35.9,
            21.2,
            23.5,
            26.6,
            29.4,
            44.2,
            32.7,
            21.3,
            10.7,
            37.1,
            39.9,
            25.3,
            6.9,
            21.1,
            28.4,
            42.6,
            20.5,
            26.7,
            33.7,
            34.4,
            27.4,
            39.9,
            14.6,
            31.9,
            20.3,
            25.7,
            22.1,
            20.2,
            33.9,
            30.8,
            32.1,
            28.2,
            23.4,
            24.6,
            36.9,
            29.1,
            27.7,
            22.4,
            18.6,
            19.2
           ]
          }
         ],
         "name": "2013"
        },
        {
         "data": [
          {
           "coloraxis": "coloraxis",
           "geo": "geo",
           "hovertemplate": "<b>%{hovertext}</b><br><br>Year=2014<br>Alpha-3 code=%{location}<br>Contribution of the construction sector to the GBD %=%{z}<extra></extra>",
           "hovertext": [
            "Ireland",
            "Germany",
            "Belgium",
            "Denmark",
            "Greece",
            "Spain",
            "Italy",
            "Netherlands",
            "Norway",
            "Austria",
            "Hungary",
            "Slovak Republic",
            "Slovenia",
            "Poland",
            "Sweden",
            "Finland",
            "Switzerland",
            "Croatia",
            "Serbia",
            "Portugal",
            "Latvia",
            "France",
            "Afghanistan",
            "Albania",
            "Algeria",
            "Argentina",
            "Australia",
            "Azerbaijan",
            "Belarus",
            "Brazil",
            "Bulgaria",
            "Canada",
            "Chile",
            "China",
            "Colombia",
            "Costa Rica",
            "Cyprus",
            "Ecuador",
            "Egypt, Arab Rep.",
            "Estonia",
            "Hong Kong SAR, China",
            "Iceland",
            "India",
            "Indonesia",
            "Israel",
            "Japan",
            "Kazakhstan",
            "Korea, Rep.",
            "Lithuania",
            "Malaysia",
            "Malta",
            "Mexico",
            "New Zealand",
            "Nigeria",
            "North Macedonia",
            "Pakistan",
            "Peru",
            "Philippines",
            "Romania",
            "Russian Federation",
            "Singapore",
            "South Africa",
            "Thailand",
            "Tunisia",
            "Turkiye",
            "Ukraine",
            "United Kingdom",
            "United States"
           ],
           "locations": [
            "IRL",
            "DEU",
            "BEL",
            "DNK",
            "GRC",
            "ESP",
            "ITA",
            "NET",
            "NOR",
            "AUT",
            "HUN",
            "SLO",
            "SVN",
            "POL",
            "SWE",
            "FIN",
            "CHE",
            "HRV",
            "SRB",
            "PRT",
            "LVA",
            "FRA",
            "AFG",
            "ALB",
            "DZA",
            "ARG",
            "AUS",
            "AZE",
            "BLR",
            "BRA",
            "BGR",
            "CAN",
            "CHL",
            "CHN",
            "COL",
            "CRI",
            "CYP",
            "ECU",
            "EGY",
            "EST",
            "HON",
            "ISL",
            "IND",
            "IDN",
            "ISR",
            "JPN",
            "KAZ",
            "KOR",
            "LTU",
            "MYS",
            "MLT",
            "MEX",
            "NZL",
            "NGA",
            "NOR",
            "PAK",
            "PER",
            "PHI",
            "ROU",
            "RUS",
            "SGP",
            "ZAF",
            "THA",
            "TUN",
            "TUR",
            "UKR",
            "GBR",
            "USA"
           ],
           "name": "",
           "type": "choropleth",
           "z": [
            24.3,
            27,
            19.7,
            19.8,
            14.1,
            20.1,
            20.8,
            18.4,
            34,
            25.4,
            25.7,
            30.5,
            28.1,
            30,
            21.8,
            23.1,
            24.3,
            20.8,
            25.2,
            18.9,
            18.9,
            17.7,
            21.2,
            21.5,
            41.9,
            24.3,
            25.6,
            53.6,
            35.4,
            20.5,
            23.4,
            27.1,
            28.9,
            43.1,
            31,
            20.6,
            10,
            36.8,
            39.9,
            24.8,
            7.1,
            20.7,
            27.7,
            41.9,
            19.8,
            27.3,
            33.2,
            34.1,
            27.5,
            39.9,
            13,
            31.5,
            21.4,
            24.6,
            22.8,
            20,
            31.7,
            31,
            32.6,
            27.9,
            24.2,
            24.3,
            36.8,
            27.1,
            28.1,
            22.8,
            18.2,
            19.3
           ]
          }
         ],
         "name": "2014"
        },
        {
         "data": [
          {
           "coloraxis": "coloraxis",
           "geo": "geo",
           "hovertemplate": "<b>%{hovertext}</b><br><br>Year=2015<br>Alpha-3 code=%{location}<br>Contribution of the construction sector to the GBD %=%{z}<extra></extra>",
           "hovertext": [
            "Ireland",
            "Germany",
            "Belgium",
            "Denmark",
            "Greece",
            "Spain",
            "Italy",
            "Netherlands",
            "Norway",
            "Austria",
            "Hungary",
            "Slovak Republic",
            "Slovenia",
            "Poland",
            "Sweden",
            "Finland",
            "Switzerland",
            "Croatia",
            "Serbia",
            "Portugal",
            "Latvia",
            "France",
            "Afghanistan",
            "Albania",
            "Algeria",
            "Argentina",
            "Australia",
            "Azerbaijan",
            "Belarus",
            "Brazil",
            "Bulgaria",
            "Canada",
            "Chile",
            "China",
            "Colombia",
            "Costa Rica",
            "Cyprus",
            "Ecuador",
            "Egypt, Arab Rep.",
            "Estonia",
            "Hong Kong SAR, China",
            "Iceland",
            "India",
            "Indonesia",
            "Israel",
            "Japan",
            "Kazakhstan",
            "Korea, Rep.",
            "Lithuania",
            "Malaysia",
            "Malta",
            "Mexico",
            "New Zealand",
            "Nigeria",
            "North Macedonia",
            "Pakistan",
            "Peru",
            "Philippines",
            "Romania",
            "Russian Federation",
            "Singapore",
            "South Africa",
            "Thailand",
            "Tunisia",
            "Turkiye",
            "Ukraine",
            "United Kingdom",
            "United States"
           ],
           "locations": [
            "IRL",
            "DEU",
            "BEL",
            "DNK",
            "GRC",
            "ESP",
            "ITA",
            "NET",
            "NOR",
            "AUT",
            "HUN",
            "SLO",
            "SVN",
            "POL",
            "SWE",
            "FIN",
            "CHE",
            "HRV",
            "SRB",
            "PRT",
            "LVA",
            "FRA",
            "AFG",
            "ALB",
            "DZA",
            "ARG",
            "AUS",
            "AZE",
            "BLR",
            "BRA",
            "BGR",
            "CAN",
            "CHL",
            "CHN",
            "COL",
            "CRI",
            "CYP",
            "ECU",
            "EGY",
            "EST",
            "HON",
            "ISL",
            "IND",
            "IDN",
            "ISR",
            "JPN",
            "KAZ",
            "KOR",
            "LTU",
            "MYS",
            "MLT",
            "MEX",
            "NZL",
            "NGA",
            "NOR",
            "PAK",
            "PER",
            "PHI",
            "ROU",
            "RUS",
            "SGP",
            "ZAF",
            "THA",
            "TUN",
            "TUR",
            "UKR",
            "GBR",
            "USA"
           ],
           "name": "",
           "type": "choropleth",
           "z": [
            38.2,
            27.1,
            19.7,
            20,
            14.5,
            20.1,
            20.9,
            18.2,
            31,
            25.2,
            26.4,
            30.6,
            28,
            31.1,
            22.2,
            23.3,
            24.2,
            20.6,
            25.8,
            19.5,
            19.1,
            17.7,
            22.1,
            21.8,
            35.4,
            23.2,
            23.7,
            44.9,
            32.7,
            19.4,
            24,
            24.4,
            27.9,
            40.8,
            28.6,
            20,
            10.2,
            31.9,
            36.6,
            23.9,
            7.1,
            20.2,
            27.3,
            40,
            19.8,
            28.6,
            30.9,
            34.1,
            26.7,
            38.4,
            12.3,
            30,
            21.2,
            20.2,
            23.9,
            19.1,
            30.3,
            30.5,
            30.8,
            29.8,
            24.3,
            23.7,
            36.2,
            24.9,
            27.8,
            21.7,
            18,
            18.6
           ]
          }
         ],
         "name": "2015"
        },
        {
         "data": [
          {
           "coloraxis": "coloraxis",
           "geo": "geo",
           "hovertemplate": "<b>%{hovertext}</b><br><br>Year=2016<br>Alpha-3 code=%{location}<br>Contribution of the construction sector to the GBD %=%{z}<extra></extra>",
           "hovertext": [
            "Ireland",
            "Germany",
            "Belgium",
            "Denmark",
            "Greece",
            "Spain",
            "Italy",
            "Netherlands",
            "Norway",
            "Austria",
            "Hungary",
            "Slovak Republic",
            "Slovenia",
            "Poland",
            "Sweden",
            "Finland",
            "Switzerland",
            "Croatia",
            "Serbia",
            "Portugal",
            "Latvia",
            "France",
            "Afghanistan",
            "Albania",
            "Algeria",
            "Argentina",
            "Australia",
            "Azerbaijan",
            "Belarus",
            "Brazil",
            "Bulgaria",
            "Canada",
            "Chile",
            "China",
            "Colombia",
            "Costa Rica",
            "Cyprus",
            "Ecuador",
            "Egypt, Arab Rep.",
            "Estonia",
            "Hong Kong SAR, China",
            "Iceland",
            "India",
            "Indonesia",
            "Israel",
            "Japan",
            "Kazakhstan",
            "Korea, Rep.",
            "Lithuania",
            "Malaysia",
            "Malta",
            "Mexico",
            "New Zealand",
            "Nigeria",
            "North Macedonia",
            "Pakistan",
            "Peru",
            "Philippines",
            "Romania",
            "Russian Federation",
            "Singapore",
            "South Africa",
            "Thailand",
            "Tunisia",
            "Turkiye",
            "Ukraine",
            "United Kingdom",
            "United States"
           ],
           "locations": [
            "IRL",
            "DEU",
            "BEL",
            "DNK",
            "GRC",
            "ESP",
            "ITA",
            "NET",
            "NOR",
            "AUT",
            "HUN",
            "SLO",
            "SVN",
            "POL",
            "SWE",
            "FIN",
            "CHE",
            "HRV",
            "SRB",
            "PRT",
            "LVA",
            "FRA",
            "AFG",
            "ALB",
            "DZA",
            "ARG",
            "AUS",
            "AZE",
            "BLR",
            "BRA",
            "BGR",
            "CAN",
            "CHL",
            "CHN",
            "COL",
            "CRI",
            "CYP",
            "ECU",
            "EGY",
            "EST",
            "HON",
            "ISL",
            "IND",
            "IDN",
            "ISR",
            "JPN",
            "KAZ",
            "KOR",
            "LTU",
            "MYS",
            "MLT",
            "MEX",
            "NZL",
            "NGA",
            "NOR",
            "PAK",
            "PER",
            "PHI",
            "ROU",
            "RUS",
            "SGP",
            "ZAF",
            "THA",
            "TUN",
            "TUR",
            "UKR",
            "GBR",
            "USA"
           ],
           "name": "",
           "type": "choropleth",
           "z": [
            36.9,
            27.6,
            19.3,
            20.7,
            14.5,
            20,
            21.2,
            17.6,
            27.9,
            25.5,
            25.5,
            29.3,
            28,
            30.8,
            21.7,
            23.5,
            24.1,
            20.6,
            25.8,
            19.3,
            18.5,
            17.4,
            10.5,
            21.1,
            34.2,
            22.1,
            22.3,
            47.6,
            31,
            18.4,
            24.4,
            23.3,
            26.8,
            39.6,
            27.7,
            19.7,
            10.8,
            32,
            32.5,
            24,
            7.5,
            19.5,
            26.6,
            39.3,
            19,
            28.6,
            32,
            34.3,
            25.9,
            37.7,
            12.3,
            29.6,
            20.1,
            18.2,
            24,
            18.2,
            30.6,
            30.3,
            30.1,
            29.2,
            23.3,
            23.8,
            35.6,
            24,
            28.1,
            23.2,
            17.5,
            18
           ]
          }
         ],
         "name": "2016"
        },
        {
         "data": [
          {
           "coloraxis": "coloraxis",
           "geo": "geo",
           "hovertemplate": "<b>%{hovertext}</b><br><br>Year=2017<br>Alpha-3 code=%{location}<br>Contribution of the construction sector to the GBD %=%{z}<extra></extra>",
           "hovertext": [
            "Ireland",
            "Germany",
            "Belgium",
            "Denmark",
            "Greece",
            "Spain",
            "Italy",
            "Netherlands",
            "Norway",
            "Austria",
            "Hungary",
            "Slovak Republic",
            "Slovenia",
            "Poland",
            "Sweden",
            "Finland",
            "Switzerland",
            "Croatia",
            "Serbia",
            "Portugal",
            "Latvia",
            "France",
            "Afghanistan",
            "Albania",
            "Algeria",
            "Argentina",
            "Australia",
            "Azerbaijan",
            "Belarus",
            "Brazil",
            "Bulgaria",
            "Canada",
            "Chile",
            "China",
            "Colombia",
            "Costa Rica",
            "Cyprus",
            "Ecuador",
            "Egypt, Arab Rep.",
            "Estonia",
            "Hong Kong SAR, China",
            "Iceland",
            "India",
            "Indonesia",
            "Israel",
            "Japan",
            "Kazakhstan",
            "Korea, Rep.",
            "Lithuania",
            "Malaysia",
            "Malta",
            "Mexico",
            "New Zealand",
            "Nigeria",
            "North Macedonia",
            "Pakistan",
            "Peru",
            "Philippines",
            "Romania",
            "Russian Federation",
            "Singapore",
            "South Africa",
            "Thailand",
            "Tunisia",
            "Turkiye",
            "Ukraine",
            "United Kingdom",
            "United States"
           ],
           "locations": [
            "IRL",
            "DEU",
            "BEL",
            "DNK",
            "GRC",
            "ESP",
            "ITA",
            "NET",
            "NOR",
            "AUT",
            "HUN",
            "SLO",
            "SVN",
            "POL",
            "SWE",
            "FIN",
            "CHE",
            "HRV",
            "SRB",
            "PRT",
            "LVA",
            "FRA",
            "AFG",
            "ALB",
            "DZA",
            "ARG",
            "AUS",
            "AZE",
            "BLR",
            "BRA",
            "BGR",
            "CAN",
            "CHL",
            "CHN",
            "COL",
            "CRI",
            "CYP",
            "ECU",
            "EGY",
            "EST",
            "HON",
            "ISL",
            "IND",
            "IDN",
            "ISR",
            "JPN",
            "KAZ",
            "KOR",
            "LTU",
            "MYS",
            "MLT",
            "MEX",
            "NZL",
            "NGA",
            "NOR",
            "PAK",
            "PER",
            "PHI",
            "ROU",
            "RUS",
            "SGP",
            "ZAF",
            "THA",
            "TUN",
            "TUR",
            "UKR",
            "GBR",
            "USA"
           ],
           "name": "",
           "type": "choropleth",
           "z": [
            35.9,
            27.5,
            19.2,
            20.7,
            13.7,
            20,
            21.3,
            17.7,
            29.8,
            25.4,
            25.2,
            28.7,
            28.3,
            28.9,
            22.1,
            24.4,
            24.2,
            20.2,
            26.1,
            19.1,
            19,
            17.2,
            10.1,
            20.4,
            36.3,
            21.8,
            23.5,
            49.7,
            31.6,
            18.2,
            24,
            24,
            27.4,
            39.9,
            26.8,
            19.3,
            11.3,
            32.5,
            33.8,
            24,
            7.2,
            19.6,
            26.5,
            39.4,
            18.4,
            28.9,
            32.3,
            34.8,
            25.9,
            38.1,
            11.8,
            30.9,
            20.5,
            22.3,
            24.3,
            18.1,
            31.3,
            30.1,
            29.1,
            30.7,
            23.5,
            23.6,
            35,
            23.6,
            29.1,
            23.3,
            17.7,
            18.4
           ]
          }
         ],
         "name": "2017"
        },
        {
         "data": [
          {
           "coloraxis": "coloraxis",
           "geo": "geo",
           "hovertemplate": "<b>%{hovertext}</b><br><br>Year=2018<br>Alpha-3 code=%{location}<br>Contribution of the construction sector to the GBD %=%{z}<extra></extra>",
           "hovertext": [
            "Ireland",
            "Germany",
            "Belgium",
            "Denmark",
            "Greece",
            "Spain",
            "Italy",
            "Netherlands",
            "Norway",
            "Austria",
            "Hungary",
            "Slovak Republic",
            "Slovenia",
            "Poland",
            "Sweden",
            "Finland",
            "Switzerland",
            "Croatia",
            "Serbia",
            "Portugal",
            "Latvia",
            "France",
            "Afghanistan",
            "Albania",
            "Algeria",
            "Argentina",
            "Australia",
            "Azerbaijan",
            "Belarus",
            "Brazil",
            "Bulgaria",
            "Canada",
            "Chile",
            "China",
            "Colombia",
            "Costa Rica",
            "Cyprus",
            "Ecuador",
            "Egypt, Arab Rep.",
            "Estonia",
            "Hong Kong SAR, China",
            "Iceland",
            "India",
            "Indonesia",
            "Israel",
            "Japan",
            "Kazakhstan",
            "Korea, Rep.",
            "Lithuania",
            "Malaysia",
            "Malta",
            "Mexico",
            "New Zealand",
            "Nigeria",
            "North Macedonia",
            "Pakistan",
            "Peru",
            "Philippines",
            "Romania",
            "Russian Federation",
            "Singapore",
            "South Africa",
            "Thailand",
            "Tunisia",
            "Turkiye",
            "Ukraine",
            "United Kingdom",
            "United States"
           ],
           "locations": [
            "IRL",
            "DEU",
            "BEL",
            "DNK",
            "GRC",
            "ESP",
            "ITA",
            "NET",
            "NOR",
            "AUT",
            "HUN",
            "SLO",
            "SVN",
            "POL",
            "SWE",
            "FIN",
            "CHE",
            "HRV",
            "SRB",
            "PRT",
            "LVA",
            "FRA",
            "AFG",
            "ALB",
            "DZA",
            "ARG",
            "AUS",
            "AZE",
            "BLR",
            "BRA",
            "BGR",
            "CAN",
            "CHL",
            "CHN",
            "COL",
            "CRI",
            "CYP",
            "ECU",
            "EGY",
            "EST",
            "HON",
            "ISL",
            "IND",
            "IDN",
            "ISR",
            "JPN",
            "KAZ",
            "KOR",
            "LTU",
            "MYS",
            "MLT",
            "MEX",
            "NZL",
            "NGA",
            "NOR",
            "PAK",
            "PER",
            "PHI",
            "ROU",
            "RUS",
            "SGP",
            "ZAF",
            "THA",
            "TUN",
            "TUR",
            "UKR",
            "GBR",
            "USA"
           ],
           "name": "",
           "type": "choropleth",
           "z": [
            36.7,
            27.3,
            18.9,
            20.8,
            13.6,
            19.9,
            21.5,
            17.8,
            31.8,
            25.4,
            25.1,
            29.3,
            28.3,
            28.8,
            22,
            24,
            24.4,
            19.9,
            25.5,
            19.3,
            18.7,
            17.2,
            13.4,
            21.3,
            38.8,
            23.7,
            24.1,
            52.3,
            31.3,
            18.7,
            22.4,
            24.6,
            27.9,
            39.7,
            26.9,
            19.6,
            12.2,
            32.5,
            35,
            24,
            6.5,
            19.7,
            26.4,
            39.7,
            18.6,
            29,
            33.5,
            34,
            25.6,
            38.3,
            12,
            31.1,
            20.3,
            25.7,
            24.1,
            18.6,
            31.6,
            30.6,
            28.9,
            32.6,
            25.4,
            23.6,
            34.7,
            23.7,
            29.4,
            23.3,
            17.8,
            18.6
           ]
          }
         ],
         "name": "2018"
        },
        {
         "data": [
          {
           "coloraxis": "coloraxis",
           "geo": "geo",
           "hovertemplate": "<b>%{hovertext}</b><br><br>Year=2019<br>Alpha-3 code=%{location}<br>Contribution of the construction sector to the GBD %=%{z}<extra></extra>",
           "hovertext": [
            "Ireland",
            "Germany",
            "Belgium",
            "Denmark",
            "Greece",
            "Spain",
            "Italy",
            "Netherlands",
            "Norway",
            "Austria",
            "Hungary",
            "Slovak Republic",
            "Slovenia",
            "Poland",
            "Sweden",
            "Finland",
            "Switzerland",
            "Croatia",
            "Serbia",
            "Portugal",
            "Latvia",
            "France",
            "Afghanistan",
            "Albania",
            "Algeria",
            "Argentina",
            "Australia",
            "Azerbaijan",
            "Belarus",
            "Brazil",
            "Bulgaria",
            "Canada",
            "Chile",
            "China",
            "Colombia",
            "Costa Rica",
            "Cyprus",
            "Ecuador",
            "Egypt, Arab Rep.",
            "Estonia",
            "Hong Kong SAR, China",
            "Iceland",
            "India",
            "Indonesia",
            "Israel",
            "Japan",
            "Kazakhstan",
            "Korea, Rep.",
            "Lithuania",
            "Malaysia",
            "Malta",
            "Mexico",
            "New Zealand",
            "Nigeria",
            "North Macedonia",
            "Pakistan",
            "Peru",
            "Philippines",
            "Romania",
            "Russian Federation",
            "Singapore",
            "South Africa",
            "Thailand",
            "Tunisia",
            "Turkiye",
            "Ukraine",
            "United Kingdom",
            "United States"
           ],
           "locations": [
            "IRL",
            "DEU",
            "BEL",
            "DNK",
            "GRC",
            "ESP",
            "ITA",
            "NET",
            "NOR",
            "AUT",
            "HUN",
            "SLO",
            "SVN",
            "POL",
            "SWE",
            "FIN",
            "CHE",
            "HRV",
            "SRB",
            "PRT",
            "LVA",
            "FRA",
            "AFG",
            "ALB",
            "DZA",
            "ARG",
            "AUS",
            "AZE",
            "BLR",
            "BRA",
            "BGR",
            "CAN",
            "CHL",
            "CHN",
            "COL",
            "CRI",
            "CYP",
            "ECU",
            "EGY",
            "EST",
            "HON",
            "ISL",
            "IND",
            "IDN",
            "ISR",
            "JPN",
            "KAZ",
            "KOR",
            "LTU",
            "MYS",
            "MLT",
            "MEX",
            "NZL",
            "NGA",
            "NOR",
            "PAK",
            "PER",
            "PHI",
            "ROU",
            "RUS",
            "SGP",
            "ZAF",
            "THA",
            "TUN",
            "TUR",
            "UKR",
            "GBR",
            "USA"
           ],
           "name": "",
           "type": "choropleth",
           "z": [
            35.4,
            27,
            19.3,
            20.7,
            13.4,
            20,
            21.5,
            17.6,
            29,
            25.2,
            24.7,
            29.8,
            28.9,
            28.6,
            21.9,
            23.9,
            24.7,
            19.9,
            25.6,
            18.8,
            18.9,
            17.4,
            14.1,
            20.6,
            36.8,
            23.2,
            25.3,
            48.8,
            31.7,
            18.8,
            21.7,
            null,
            27.2,
            38.6,
            26,
            19.2,
            13,
            32.7,
            35.6,
            22.9,
            6.3,
            19.8,
            24.6,
            39,
            18.6,
            28.6,
            33,
            32.7,
            25.3,
            37.5,
            12.5,
            30.8,
            20.4,
            27.4,
            23.7,
            19.6,
            30.4,
            30.3,
            27.6,
            32.2,
            24.1,
            23.6,
            33.6,
            23.2,
            27.3,
            22.6,
            17.7,
            18.3
           ]
          }
         ],
         "name": "2019"
        },
        {
         "data": [
          {
           "coloraxis": "coloraxis",
           "geo": "geo",
           "hovertemplate": "<b>%{hovertext}</b><br><br>Year=2020<br>Alpha-3 code=%{location}<br>Contribution of the construction sector to the GBD %=%{z}<extra></extra>",
           "hovertext": [
            "Ireland",
            "Germany",
            "Belgium",
            "Denmark",
            "Greece",
            "Spain",
            "Italy",
            "Netherlands",
            "Norway",
            "Austria",
            "Hungary",
            "Slovak Republic",
            "Slovenia",
            "Poland",
            "Sweden",
            "Finland",
            "Switzerland",
            "Croatia",
            "Serbia",
            "Portugal",
            "Latvia",
            "France",
            "Afghanistan",
            "Albania",
            "Algeria",
            "Argentina",
            "Australia",
            "Azerbaijan",
            "Belarus",
            "Brazil",
            "Bulgaria",
            "Canada",
            "Chile",
            "China",
            "Colombia",
            "Costa Rica",
            "Cyprus",
            "Ecuador",
            "Egypt, Arab Rep.",
            "Estonia",
            "Hong Kong SAR, China",
            "Iceland",
            "India",
            "Indonesia",
            "Israel",
            "Japan",
            "Kazakhstan",
            "Korea, Rep.",
            "Lithuania",
            "Malaysia",
            "Malta",
            "Mexico",
            "New Zealand",
            "Nigeria",
            "North Macedonia",
            "Pakistan",
            "Peru",
            "Philippines",
            "Romania",
            "Russian Federation",
            "Singapore",
            "South Africa",
            "Thailand",
            "Tunisia",
            "Turkiye",
            "Ukraine",
            "United Kingdom",
            "United States"
           ],
           "locations": [
            "IRL",
            "DEU",
            "BEL",
            "DNK",
            "GRC",
            "ESP",
            "ITA",
            "NET",
            "NOR",
            "AUT",
            "HUN",
            "SLO",
            "SVN",
            "POL",
            "SWE",
            "FIN",
            "CHE",
            "HRV",
            "SRB",
            "PRT",
            "LVA",
            "FRA",
            "AFG",
            "ALB",
            "DZA",
            "ARG",
            "AUS",
            "AZE",
            "BLR",
            "BRA",
            "BGR",
            "CAN",
            "CHL",
            "CHN",
            "COL",
            "CRI",
            "CYP",
            "ECU",
            "EGY",
            "EST",
            "HON",
            "ISL",
            "IND",
            "IDN",
            "ISR",
            "JPN",
            "KAZ",
            "KOR",
            "LTU",
            "MYS",
            "MLT",
            "MEX",
            "NZL",
            "NGA",
            "NOR",
            "PAK",
            "PER",
            "PHI",
            "ROU",
            "RUS",
            "SGP",
            "ZAF",
            "THA",
            "TUN",
            "TUR",
            "UKR",
            "GBR",
            "USA"
           ],
           "name": "",
           "type": "choropleth",
           "z": [
            37.5,
            26.6,
            19.5,
            20,
            15,
            20.1,
            21.5,
            17.9,
            26,
            25.8,
            24.4,
            28.2,
            29.2,
            28.3,
            21.6,
            24,
            24.8,
            20.7,
            24.9,
            19.4,
            19.5,
            16.5,
            14,
            20,
            32.7,
            22.2,
            25.4,
            42,
            30.8,
            17.7,
            21.8,
            null,
            30,
            37.8,
            23.8,
            20.1,
            12.9,
            30.7,
            32,
            22.8,
            6.2,
            20.1,
            24.5,
            38.3,
            18.1,
            29,
            33.1,
            32.5,
            24.9,
            36,
            13.4,
            29.8,
            null,
            28.2,
            22.7,
            18.6,
            30.2,
            28.4,
            26.5,
            29.8,
            23.6,
            23.3,
            33.2,
            21.5,
            28,
            20.8,
            17,
            17.5
           ]
          }
         ],
         "name": "2020"
        },
        {
         "data": [
          {
           "coloraxis": "coloraxis",
           "geo": "geo",
           "hovertemplate": "<b>%{hovertext}</b><br><br>Year=2021<br>Alpha-3 code=%{location}<br>Contribution of the construction sector to the GBD %=%{z}<extra></extra>",
           "hovertext": [
            "Ireland",
            "Germany",
            "Belgium",
            "Denmark",
            "Greece",
            "Spain",
            "Italy",
            "Netherlands",
            "Norway",
            "Austria",
            "Hungary",
            "Slovak Republic",
            "Slovenia",
            "Poland",
            "Sweden",
            "Finland",
            "Switzerland",
            "Croatia",
            "Serbia",
            "Portugal",
            "Latvia",
            "France",
            "Afghanistan",
            "Albania",
            "Algeria",
            "Argentina",
            "Australia",
            "Azerbaijan",
            "Belarus",
            "Brazil",
            "Bulgaria",
            "Canada",
            "Chile",
            "China",
            "Colombia",
            "Costa Rica",
            "Cyprus",
            "Ecuador",
            "Egypt, Arab Rep.",
            "Estonia",
            "Hong Kong SAR, China",
            "Iceland",
            "India",
            "Indonesia",
            "Israel",
            "Japan",
            "Kazakhstan",
            "Korea, Rep.",
            "Lithuania",
            "Malaysia",
            "Malta",
            "Mexico",
            "New Zealand",
            "Nigeria",
            "North Macedonia",
            "Pakistan",
            "Peru",
            "Philippines",
            "Romania",
            "Russian Federation",
            "Singapore",
            "South Africa",
            "Thailand",
            "Tunisia",
            "Turkiye",
            "Ukraine",
            "United Kingdom",
            "United States"
           ],
           "locations": [
            "IRL",
            "DEU",
            "BEL",
            "DNK",
            "GRC",
            "ESP",
            "ITA",
            "NET",
            "NOR",
            "AUT",
            "HUN",
            "SLO",
            "SVN",
            "POL",
            "SWE",
            "FIN",
            "CHE",
            "HRV",
            "SRB",
            "PRT",
            "LVA",
            "FRA",
            "AFG",
            "ALB",
            "DZA",
            "ARG",
            "AUS",
            "AZE",
            "BLR",
            "BRA",
            "BGR",
            "CAN",
            "CHL",
            "CHN",
            "COL",
            "CRI",
            "CYP",
            "ECU",
            "EGY",
            "EST",
            "HON",
            "ISL",
            "IND",
            "IDN",
            "ISR",
            "JPN",
            "KAZ",
            "KOR",
            "LTU",
            "MYS",
            "MLT",
            "MEX",
            "NZL",
            "NGA",
            "NOR",
            "PAK",
            "PER",
            "PHI",
            "ROU",
            "RUS",
            "SGP",
            "ZAF",
            "THA",
            "TUN",
            "TUR",
            "UKR",
            "GBR",
            "USA"
           ],
           "name": "",
           "type": "choropleth",
           "z": [
            37.8,
            26.7,
            19.6,
            19.3,
            15.3,
            20.4,
            22.5,
            18.1,
            35.5,
            25.8,
            24.3,
            28.2,
            28.5,
            27.9,
            22.6,
            24.6,
            24.6,
            19.8,
            25,
            19.7,
            19.9,
            16.7,
            15.6,
            21.8,
            38.9,
            23.6,
            25.5,
            48.4,
            32.2,
            18.9,
            20.8,
            null,
            31.7,
            39.4,
            25,
            20.5,
            13.1,
            31.2,
            30.8,
            23.1,
            6,
            20.4,
            25.9,
            39.9,
            17.2,
            null,
            35.3,
            32.4,
            25.3,
            37.8,
            12.8,
            30.8,
            null,
            31.4,
            22.4,
            18.8,
            35,
            28.9,
            27.8,
            33.2,
            24.9,
            24.5,
            34.8,
            23.1,
            31.1,
            23.5,
            17.5,
            17.9
           ]
          }
         ],
         "name": "2021"
        }
       ],
       "layout": {
        "coloraxis": {
         "cmax": 45,
         "cmin": 5,
         "colorbar": {
          "title": {
           "text": "Contribution of the construction sector to the GBD %"
          }
         },
         "colorscale": [
          [
           0,
           "rgb(20, 29, 67)"
          ],
          [
           0.09090909090909091,
           "rgb(28, 72, 93)"
          ],
          [
           0.18181818181818182,
           "rgb(18, 115, 117)"
          ],
          [
           0.2727272727272727,
           "rgb(63, 156, 129)"
          ],
          [
           0.36363636363636365,
           "rgb(153, 189, 156)"
          ],
          [
           0.45454545454545453,
           "rgb(223, 225, 211)"
          ],
          [
           0.5454545454545454,
           "rgb(241, 218, 206)"
          ],
          [
           0.6363636363636364,
           "rgb(224, 160, 137)"
          ],
          [
           0.7272727272727273,
           "rgb(203, 101, 99)"
          ],
          [
           0.8181818181818182,
           "rgb(164, 54, 96)"
          ],
          [
           0.9090909090909091,
           "rgb(111, 23, 91)"
          ],
          [
           1,
           "rgb(51, 13, 53)"
          ]
         ]
        },
        "geo": {
         "center": {},
         "domain": {
          "x": [
           0,
           1
          ],
          "y": [
           0,
           1
          ]
         },
         "projection": {
          "type": "natural earth"
         }
        },
        "legend": {
         "tracegroupgap": 0
        },
        "margin": {
         "t": 60
        },
        "sliders": [
         {
          "active": 0,
          "currentvalue": {
           "prefix": "Year="
          },
          "len": 0.9,
          "pad": {
           "b": 10,
           "t": 60
          },
          "steps": [
           {
            "args": [
             [
              "2000"
             ],
             {
              "frame": {
               "duration": 0,
               "redraw": true
              },
              "fromcurrent": true,
              "mode": "immediate",
              "transition": {
               "duration": 0,
               "easing": "linear"
              }
             }
            ],
            "label": "2000",
            "method": "animate"
           },
           {
            "args": [
             [
              "2001"
             ],
             {
              "frame": {
               "duration": 0,
               "redraw": true
              },
              "fromcurrent": true,
              "mode": "immediate",
              "transition": {
               "duration": 0,
               "easing": "linear"
              }
             }
            ],
            "label": "2001",
            "method": "animate"
           },
           {
            "args": [
             [
              "2002"
             ],
             {
              "frame": {
               "duration": 0,
               "redraw": true
              },
              "fromcurrent": true,
              "mode": "immediate",
              "transition": {
               "duration": 0,
               "easing": "linear"
              }
             }
            ],
            "label": "2002",
            "method": "animate"
           },
           {
            "args": [
             [
              "2003"
             ],
             {
              "frame": {
               "duration": 0,
               "redraw": true
              },
              "fromcurrent": true,
              "mode": "immediate",
              "transition": {
               "duration": 0,
               "easing": "linear"
              }
             }
            ],
            "label": "2003",
            "method": "animate"
           },
           {
            "args": [
             [
              "2004"
             ],
             {
              "frame": {
               "duration": 0,
               "redraw": true
              },
              "fromcurrent": true,
              "mode": "immediate",
              "transition": {
               "duration": 0,
               "easing": "linear"
              }
             }
            ],
            "label": "2004",
            "method": "animate"
           },
           {
            "args": [
             [
              "2005"
             ],
             {
              "frame": {
               "duration": 0,
               "redraw": true
              },
              "fromcurrent": true,
              "mode": "immediate",
              "transition": {
               "duration": 0,
               "easing": "linear"
              }
             }
            ],
            "label": "2005",
            "method": "animate"
           },
           {
            "args": [
             [
              "2006"
             ],
             {
              "frame": {
               "duration": 0,
               "redraw": true
              },
              "fromcurrent": true,
              "mode": "immediate",
              "transition": {
               "duration": 0,
               "easing": "linear"
              }
             }
            ],
            "label": "2006",
            "method": "animate"
           },
           {
            "args": [
             [
              "2007"
             ],
             {
              "frame": {
               "duration": 0,
               "redraw": true
              },
              "fromcurrent": true,
              "mode": "immediate",
              "transition": {
               "duration": 0,
               "easing": "linear"
              }
             }
            ],
            "label": "2007",
            "method": "animate"
           },
           {
            "args": [
             [
              "2008"
             ],
             {
              "frame": {
               "duration": 0,
               "redraw": true
              },
              "fromcurrent": true,
              "mode": "immediate",
              "transition": {
               "duration": 0,
               "easing": "linear"
              }
             }
            ],
            "label": "2008",
            "method": "animate"
           },
           {
            "args": [
             [
              "2009"
             ],
             {
              "frame": {
               "duration": 0,
               "redraw": true
              },
              "fromcurrent": true,
              "mode": "immediate",
              "transition": {
               "duration": 0,
               "easing": "linear"
              }
             }
            ],
            "label": "2009",
            "method": "animate"
           },
           {
            "args": [
             [
              "2010"
             ],
             {
              "frame": {
               "duration": 0,
               "redraw": true
              },
              "fromcurrent": true,
              "mode": "immediate",
              "transition": {
               "duration": 0,
               "easing": "linear"
              }
             }
            ],
            "label": "2010",
            "method": "animate"
           },
           {
            "args": [
             [
              "2011"
             ],
             {
              "frame": {
               "duration": 0,
               "redraw": true
              },
              "fromcurrent": true,
              "mode": "immediate",
              "transition": {
               "duration": 0,
               "easing": "linear"
              }
             }
            ],
            "label": "2011",
            "method": "animate"
           },
           {
            "args": [
             [
              "2012"
             ],
             {
              "frame": {
               "duration": 0,
               "redraw": true
              },
              "fromcurrent": true,
              "mode": "immediate",
              "transition": {
               "duration": 0,
               "easing": "linear"
              }
             }
            ],
            "label": "2012",
            "method": "animate"
           },
           {
            "args": [
             [
              "2013"
             ],
             {
              "frame": {
               "duration": 0,
               "redraw": true
              },
              "fromcurrent": true,
              "mode": "immediate",
              "transition": {
               "duration": 0,
               "easing": "linear"
              }
             }
            ],
            "label": "2013",
            "method": "animate"
           },
           {
            "args": [
             [
              "2014"
             ],
             {
              "frame": {
               "duration": 0,
               "redraw": true
              },
              "fromcurrent": true,
              "mode": "immediate",
              "transition": {
               "duration": 0,
               "easing": "linear"
              }
             }
            ],
            "label": "2014",
            "method": "animate"
           },
           {
            "args": [
             [
              "2015"
             ],
             {
              "frame": {
               "duration": 0,
               "redraw": true
              },
              "fromcurrent": true,
              "mode": "immediate",
              "transition": {
               "duration": 0,
               "easing": "linear"
              }
             }
            ],
            "label": "2015",
            "method": "animate"
           },
           {
            "args": [
             [
              "2016"
             ],
             {
              "frame": {
               "duration": 0,
               "redraw": true
              },
              "fromcurrent": true,
              "mode": "immediate",
              "transition": {
               "duration": 0,
               "easing": "linear"
              }
             }
            ],
            "label": "2016",
            "method": "animate"
           },
           {
            "args": [
             [
              "2017"
             ],
             {
              "frame": {
               "duration": 0,
               "redraw": true
              },
              "fromcurrent": true,
              "mode": "immediate",
              "transition": {
               "duration": 0,
               "easing": "linear"
              }
             }
            ],
            "label": "2017",
            "method": "animate"
           },
           {
            "args": [
             [
              "2018"
             ],
             {
              "frame": {
               "duration": 0,
               "redraw": true
              },
              "fromcurrent": true,
              "mode": "immediate",
              "transition": {
               "duration": 0,
               "easing": "linear"
              }
             }
            ],
            "label": "2018",
            "method": "animate"
           },
           {
            "args": [
             [
              "2019"
             ],
             {
              "frame": {
               "duration": 0,
               "redraw": true
              },
              "fromcurrent": true,
              "mode": "immediate",
              "transition": {
               "duration": 0,
               "easing": "linear"
              }
             }
            ],
            "label": "2019",
            "method": "animate"
           },
           {
            "args": [
             [
              "2020"
             ],
             {
              "frame": {
               "duration": 0,
               "redraw": true
              },
              "fromcurrent": true,
              "mode": "immediate",
              "transition": {
               "duration": 0,
               "easing": "linear"
              }
             }
            ],
            "label": "2020",
            "method": "animate"
           },
           {
            "args": [
             [
              "2021"
             ],
             {
              "frame": {
               "duration": 0,
               "redraw": true
              },
              "fromcurrent": true,
              "mode": "immediate",
              "transition": {
               "duration": 0,
               "easing": "linear"
              }
             }
            ],
            "label": "2021",
            "method": "animate"
           }
          ],
          "x": 0.1,
          "xanchor": "left",
          "y": 0,
          "yanchor": "top"
         }
        ],
        "template": {
         "data": {
          "bar": [
           {
            "error_x": {
             "color": "#2a3f5f"
            },
            "error_y": {
             "color": "#2a3f5f"
            },
            "marker": {
             "line": {
              "color": "#E5ECF6",
              "width": 0.5
             },
             "pattern": {
              "fillmode": "overlay",
              "size": 10,
              "solidity": 0.2
             }
            },
            "type": "bar"
           }
          ],
          "barpolar": [
           {
            "marker": {
             "line": {
              "color": "#E5ECF6",
              "width": 0.5
             },
             "pattern": {
              "fillmode": "overlay",
              "size": 10,
              "solidity": 0.2
             }
            },
            "type": "barpolar"
           }
          ],
          "carpet": [
           {
            "aaxis": {
             "endlinecolor": "#2a3f5f",
             "gridcolor": "white",
             "linecolor": "white",
             "minorgridcolor": "white",
             "startlinecolor": "#2a3f5f"
            },
            "baxis": {
             "endlinecolor": "#2a3f5f",
             "gridcolor": "white",
             "linecolor": "white",
             "minorgridcolor": "white",
             "startlinecolor": "#2a3f5f"
            },
            "type": "carpet"
           }
          ],
          "choropleth": [
           {
            "colorbar": {
             "outlinewidth": 0,
             "ticks": ""
            },
            "type": "choropleth"
           }
          ],
          "contour": [
           {
            "colorbar": {
             "outlinewidth": 0,
             "ticks": ""
            },
            "colorscale": [
             [
              0,
              "#0d0887"
             ],
             [
              0.1111111111111111,
              "#46039f"
             ],
             [
              0.2222222222222222,
              "#7201a8"
             ],
             [
              0.3333333333333333,
              "#9c179e"
             ],
             [
              0.4444444444444444,
              "#bd3786"
             ],
             [
              0.5555555555555556,
              "#d8576b"
             ],
             [
              0.6666666666666666,
              "#ed7953"
             ],
             [
              0.7777777777777778,
              "#fb9f3a"
             ],
             [
              0.8888888888888888,
              "#fdca26"
             ],
             [
              1,
              "#f0f921"
             ]
            ],
            "type": "contour"
           }
          ],
          "contourcarpet": [
           {
            "colorbar": {
             "outlinewidth": 0,
             "ticks": ""
            },
            "type": "contourcarpet"
           }
          ],
          "heatmap": [
           {
            "colorbar": {
             "outlinewidth": 0,
             "ticks": ""
            },
            "colorscale": [
             [
              0,
              "#0d0887"
             ],
             [
              0.1111111111111111,
              "#46039f"
             ],
             [
              0.2222222222222222,
              "#7201a8"
             ],
             [
              0.3333333333333333,
              "#9c179e"
             ],
             [
              0.4444444444444444,
              "#bd3786"
             ],
             [
              0.5555555555555556,
              "#d8576b"
             ],
             [
              0.6666666666666666,
              "#ed7953"
             ],
             [
              0.7777777777777778,
              "#fb9f3a"
             ],
             [
              0.8888888888888888,
              "#fdca26"
             ],
             [
              1,
              "#f0f921"
             ]
            ],
            "type": "heatmap"
           }
          ],
          "heatmapgl": [
           {
            "colorbar": {
             "outlinewidth": 0,
             "ticks": ""
            },
            "colorscale": [
             [
              0,
              "#0d0887"
             ],
             [
              0.1111111111111111,
              "#46039f"
             ],
             [
              0.2222222222222222,
              "#7201a8"
             ],
             [
              0.3333333333333333,
              "#9c179e"
             ],
             [
              0.4444444444444444,
              "#bd3786"
             ],
             [
              0.5555555555555556,
              "#d8576b"
             ],
             [
              0.6666666666666666,
              "#ed7953"
             ],
             [
              0.7777777777777778,
              "#fb9f3a"
             ],
             [
              0.8888888888888888,
              "#fdca26"
             ],
             [
              1,
              "#f0f921"
             ]
            ],
            "type": "heatmapgl"
           }
          ],
          "histogram": [
           {
            "marker": {
             "pattern": {
              "fillmode": "overlay",
              "size": 10,
              "solidity": 0.2
             }
            },
            "type": "histogram"
           }
          ],
          "histogram2d": [
           {
            "colorbar": {
             "outlinewidth": 0,
             "ticks": ""
            },
            "colorscale": [
             [
              0,
              "#0d0887"
             ],
             [
              0.1111111111111111,
              "#46039f"
             ],
             [
              0.2222222222222222,
              "#7201a8"
             ],
             [
              0.3333333333333333,
              "#9c179e"
             ],
             [
              0.4444444444444444,
              "#bd3786"
             ],
             [
              0.5555555555555556,
              "#d8576b"
             ],
             [
              0.6666666666666666,
              "#ed7953"
             ],
             [
              0.7777777777777778,
              "#fb9f3a"
             ],
             [
              0.8888888888888888,
              "#fdca26"
             ],
             [
              1,
              "#f0f921"
             ]
            ],
            "type": "histogram2d"
           }
          ],
          "histogram2dcontour": [
           {
            "colorbar": {
             "outlinewidth": 0,
             "ticks": ""
            },
            "colorscale": [
             [
              0,
              "#0d0887"
             ],
             [
              0.1111111111111111,
              "#46039f"
             ],
             [
              0.2222222222222222,
              "#7201a8"
             ],
             [
              0.3333333333333333,
              "#9c179e"
             ],
             [
              0.4444444444444444,
              "#bd3786"
             ],
             [
              0.5555555555555556,
              "#d8576b"
             ],
             [
              0.6666666666666666,
              "#ed7953"
             ],
             [
              0.7777777777777778,
              "#fb9f3a"
             ],
             [
              0.8888888888888888,
              "#fdca26"
             ],
             [
              1,
              "#f0f921"
             ]
            ],
            "type": "histogram2dcontour"
           }
          ],
          "mesh3d": [
           {
            "colorbar": {
             "outlinewidth": 0,
             "ticks": ""
            },
            "type": "mesh3d"
           }
          ],
          "parcoords": [
           {
            "line": {
             "colorbar": {
              "outlinewidth": 0,
              "ticks": ""
             }
            },
            "type": "parcoords"
           }
          ],
          "pie": [
           {
            "automargin": true,
            "type": "pie"
           }
          ],
          "scatter": [
           {
            "fillpattern": {
             "fillmode": "overlay",
             "size": 10,
             "solidity": 0.2
            },
            "type": "scatter"
           }
          ],
          "scatter3d": [
           {
            "line": {
             "colorbar": {
              "outlinewidth": 0,
              "ticks": ""
             }
            },
            "marker": {
             "colorbar": {
              "outlinewidth": 0,
              "ticks": ""
             }
            },
            "type": "scatter3d"
           }
          ],
          "scattercarpet": [
           {
            "marker": {
             "colorbar": {
              "outlinewidth": 0,
              "ticks": ""
             }
            },
            "type": "scattercarpet"
           }
          ],
          "scattergeo": [
           {
            "marker": {
             "colorbar": {
              "outlinewidth": 0,
              "ticks": ""
             }
            },
            "type": "scattergeo"
           }
          ],
          "scattergl": [
           {
            "marker": {
             "colorbar": {
              "outlinewidth": 0,
              "ticks": ""
             }
            },
            "type": "scattergl"
           }
          ],
          "scattermapbox": [
           {
            "marker": {
             "colorbar": {
              "outlinewidth": 0,
              "ticks": ""
             }
            },
            "type": "scattermapbox"
           }
          ],
          "scatterpolar": [
           {
            "marker": {
             "colorbar": {
              "outlinewidth": 0,
              "ticks": ""
             }
            },
            "type": "scatterpolar"
           }
          ],
          "scatterpolargl": [
           {
            "marker": {
             "colorbar": {
              "outlinewidth": 0,
              "ticks": ""
             }
            },
            "type": "scatterpolargl"
           }
          ],
          "scatterternary": [
           {
            "marker": {
             "colorbar": {
              "outlinewidth": 0,
              "ticks": ""
             }
            },
            "type": "scatterternary"
           }
          ],
          "surface": [
           {
            "colorbar": {
             "outlinewidth": 0,
             "ticks": ""
            },
            "colorscale": [
             [
              0,
              "#0d0887"
             ],
             [
              0.1111111111111111,
              "#46039f"
             ],
             [
              0.2222222222222222,
              "#7201a8"
             ],
             [
              0.3333333333333333,
              "#9c179e"
             ],
             [
              0.4444444444444444,
              "#bd3786"
             ],
             [
              0.5555555555555556,
              "#d8576b"
             ],
             [
              0.6666666666666666,
              "#ed7953"
             ],
             [
              0.7777777777777778,
              "#fb9f3a"
             ],
             [
              0.8888888888888888,
              "#fdca26"
             ],
             [
              1,
              "#f0f921"
             ]
            ],
            "type": "surface"
           }
          ],
          "table": [
           {
            "cells": {
             "fill": {
              "color": "#EBF0F8"
             },
             "line": {
              "color": "white"
             }
            },
            "header": {
             "fill": {
              "color": "#C8D4E3"
             },
             "line": {
              "color": "white"
             }
            },
            "type": "table"
           }
          ]
         },
         "layout": {
          "annotationdefaults": {
           "arrowcolor": "#2a3f5f",
           "arrowhead": 0,
           "arrowwidth": 1
          },
          "autotypenumbers": "strict",
          "coloraxis": {
           "colorbar": {
            "outlinewidth": 0,
            "ticks": ""
           }
          },
          "colorscale": {
           "diverging": [
            [
             0,
             "#8e0152"
            ],
            [
             0.1,
             "#c51b7d"
            ],
            [
             0.2,
             "#de77ae"
            ],
            [
             0.3,
             "#f1b6da"
            ],
            [
             0.4,
             "#fde0ef"
            ],
            [
             0.5,
             "#f7f7f7"
            ],
            [
             0.6,
             "#e6f5d0"
            ],
            [
             0.7,
             "#b8e186"
            ],
            [
             0.8,
             "#7fbc41"
            ],
            [
             0.9,
             "#4d9221"
            ],
            [
             1,
             "#276419"
            ]
           ],
           "sequential": [
            [
             0,
             "#0d0887"
            ],
            [
             0.1111111111111111,
             "#46039f"
            ],
            [
             0.2222222222222222,
             "#7201a8"
            ],
            [
             0.3333333333333333,
             "#9c179e"
            ],
            [
             0.4444444444444444,
             "#bd3786"
            ],
            [
             0.5555555555555556,
             "#d8576b"
            ],
            [
             0.6666666666666666,
             "#ed7953"
            ],
            [
             0.7777777777777778,
             "#fb9f3a"
            ],
            [
             0.8888888888888888,
             "#fdca26"
            ],
            [
             1,
             "#f0f921"
            ]
           ],
           "sequentialminus": [
            [
             0,
             "#0d0887"
            ],
            [
             0.1111111111111111,
             "#46039f"
            ],
            [
             0.2222222222222222,
             "#7201a8"
            ],
            [
             0.3333333333333333,
             "#9c179e"
            ],
            [
             0.4444444444444444,
             "#bd3786"
            ],
            [
             0.5555555555555556,
             "#d8576b"
            ],
            [
             0.6666666666666666,
             "#ed7953"
            ],
            [
             0.7777777777777778,
             "#fb9f3a"
            ],
            [
             0.8888888888888888,
             "#fdca26"
            ],
            [
             1,
             "#f0f921"
            ]
           ]
          },
          "colorway": [
           "#636efa",
           "#EF553B",
           "#00cc96",
           "#ab63fa",
           "#FFA15A",
           "#19d3f3",
           "#FF6692",
           "#B6E880",
           "#FF97FF",
           "#FECB52"
          ],
          "font": {
           "color": "#2a3f5f"
          },
          "geo": {
           "bgcolor": "white",
           "lakecolor": "white",
           "landcolor": "#E5ECF6",
           "showlakes": true,
           "showland": true,
           "subunitcolor": "white"
          },
          "hoverlabel": {
           "align": "left"
          },
          "hovermode": "closest",
          "mapbox": {
           "style": "light"
          },
          "paper_bgcolor": "white",
          "plot_bgcolor": "#E5ECF6",
          "polar": {
           "angularaxis": {
            "gridcolor": "white",
            "linecolor": "white",
            "ticks": ""
           },
           "bgcolor": "#E5ECF6",
           "radialaxis": {
            "gridcolor": "white",
            "linecolor": "white",
            "ticks": ""
           }
          },
          "scene": {
           "xaxis": {
            "backgroundcolor": "#E5ECF6",
            "gridcolor": "white",
            "gridwidth": 2,
            "linecolor": "white",
            "showbackground": true,
            "ticks": "",
            "zerolinecolor": "white"
           },
           "yaxis": {
            "backgroundcolor": "#E5ECF6",
            "gridcolor": "white",
            "gridwidth": 2,
            "linecolor": "white",
            "showbackground": true,
            "ticks": "",
            "zerolinecolor": "white"
           },
           "zaxis": {
            "backgroundcolor": "#E5ECF6",
            "gridcolor": "white",
            "gridwidth": 2,
            "linecolor": "white",
            "showbackground": true,
            "ticks": "",
            "zerolinecolor": "white"
           }
          },
          "shapedefaults": {
           "line": {
            "color": "#2a3f5f"
           }
          },
          "ternary": {
           "aaxis": {
            "gridcolor": "white",
            "linecolor": "white",
            "ticks": ""
           },
           "baxis": {
            "gridcolor": "white",
            "linecolor": "white",
            "ticks": ""
           },
           "bgcolor": "#E5ECF6",
           "caxis": {
            "gridcolor": "white",
            "linecolor": "white",
            "ticks": ""
           }
          },
          "title": {
           "x": 0.05
          },
          "xaxis": {
           "automargin": true,
           "gridcolor": "white",
           "linecolor": "white",
           "ticks": "",
           "title": {
            "standoff": 15
           },
           "zerolinecolor": "white",
           "zerolinewidth": 2
          },
          "yaxis": {
           "automargin": true,
           "gridcolor": "white",
           "linecolor": "white",
           "ticks": "",
           "title": {
            "standoff": 15
           },
           "zerolinecolor": "white",
           "zerolinewidth": 2
          }
         }
        },
        "title": {
         "text": "Industry _including_construction_value_added_(current US$)"
        },
        "updatemenus": [
         {
          "buttons": [
           {
            "args": [
             null,
             {
              "frame": {
               "duration": 500,
               "redraw": true
              },
              "fromcurrent": true,
              "mode": "immediate",
              "transition": {
               "duration": 500,
               "easing": "linear"
              }
             }
            ],
            "label": "&#9654;",
            "method": "animate"
           },
           {
            "args": [
             [
              null
             ],
             {
              "frame": {
               "duration": 0,
               "redraw": true
              },
              "fromcurrent": true,
              "mode": "immediate",
              "transition": {
               "duration": 0,
               "easing": "linear"
              }
             }
            ],
            "label": "&#9724;",
            "method": "animate"
           }
          ],
          "direction": "left",
          "pad": {
           "r": 10,
           "t": 70
          },
          "showactive": false,
          "type": "buttons",
          "x": 0.1,
          "xanchor": "right",
          "y": 0,
          "yanchor": "top"
         }
        ]
       }
      }
     },
     "metadata": {},
     "output_type": "display_data"
    }
   ],
   "source": [
    "fig = plt.choropleth(merged_df,\n",
    "                     locations=\"Alpha-3 code\",\n",
    "                     color=\"Contribution of the construction sector to the GBD %\",\n",
    "                     hover_name=\"Country\",\n",
    "                     animation_frame=\"Year\",\n",
    "                     color_continuous_scale=\"curl\", # \"haline\", \"agsunset\", \"icefire\", \"matter\", \"solar\", \"ice\", \"curl\"\n",
    "                    range_color=[5, 45]) # Define the color scale limits\n",
    "fig.update_layout(\n",
    "    title_text=\"Industry _including_construction_value_added_(current US$)\",\n",
    "    geo=dict(projection={\"type\": \"natural earth\"})\n",
    ")  # This is the line that makes it work\n",
    "fig.show()"
   ]
  },
  {
   "cell_type": "code",
   "execution_count": 178,
   "id": "5f677d8f",
   "metadata": {},
   "outputs": [],
   "source": [
    "df_filtered = melted_df[melted_df['Country'].isin([\"Ireland\", \"Croatia\", \"Finland\"])]\n",
    "df2_filtered = melted_df2[melted_df2['Country'].isin([\"Ireland\", \"Croatia\", \"Finland\"])]\n",
    "df3_filtered = melted_df3[melted_df3['Country'].isin([\"Ireland\", \"Croatia\", \"Finland\"])]\n"
   ]
  },
  {
   "cell_type": "code",
   "execution_count": 179,
   "id": "eaffd5c2",
   "metadata": {},
   "outputs": [
    {
     "data": {
      "application/vnd.plotly.v1+json": {
       "config": {
        "plotlyServerURL": "https://plot.ly"
       },
       "data": [
        {
         "hovertemplate": "Country=Ireland<br>Year=%{x}<br>Contribution of the construction sector to the GBD %=%{y}<extra></extra>",
         "legendgroup": "Ireland",
         "line": {
          "color": "#636efa",
          "dash": "solid"
         },
         "marker": {
          "symbol": "circle"
         },
         "mode": "lines",
         "name": "Ireland",
         "orientation": "v",
         "showlegend": true,
         "type": "scatter",
         "x": [
          "2000",
          "2001",
          "2002",
          "2003",
          "2004",
          "2005",
          "2006",
          "2007",
          "2008",
          "2009",
          "2010",
          "2011",
          "2012",
          "2013",
          "2014",
          "2015",
          "2016",
          "2017",
          "2018",
          "2019",
          "2020",
          "2021"
         ],
         "xaxis": "x",
         "y": [
          31.5,
          34.1,
          35.1,
          32.3,
          30.8,
          30,
          30.1,
          28.5,
          25.9,
          25.6,
          23.3,
          24,
          23.9,
          23.9,
          24.3,
          38.2,
          36.9,
          35.9,
          36.7,
          35.4,
          37.5,
          37.8
         ],
         "yaxis": "y"
        },
        {
         "hovertemplate": "Country=Finland<br>Year=%{x}<br>Contribution of the construction sector to the GBD %=%{y}<extra></extra>",
         "legendgroup": "Finland",
         "line": {
          "color": "#EF553B",
          "dash": "solid"
         },
         "marker": {
          "symbol": "circle"
         },
         "mode": "lines",
         "name": "Finland",
         "orientation": "v",
         "showlegend": true,
         "type": "scatter",
         "x": [
          "2000",
          "2001",
          "2002",
          "2003",
          "2004",
          "2005",
          "2006",
          "2007",
          "2008",
          "2009",
          "2010",
          "2011",
          "2012",
          "2013",
          "2014",
          "2015",
          "2016",
          "2017",
          "2018",
          "2019",
          "2020",
          "2021"
         ],
         "xaxis": "x",
         "y": [
          31.6,
          30.9,
          30.1,
          29.5,
          29.4,
          29.3,
          30.2,
          30.7,
          29.6,
          25.7,
          26.2,
          25,
          23.4,
          23.3,
          23.1,
          23.3,
          23.5,
          24.4,
          24,
          23.9,
          24,
          24.6
         ],
         "yaxis": "y"
        },
        {
         "hovertemplate": "Country=Croatia<br>Year=%{x}<br>Contribution of the construction sector to the GBD %=%{y}<extra></extra>",
         "legendgroup": "Croatia",
         "line": {
          "color": "#00cc96",
          "dash": "solid"
         },
         "marker": {
          "symbol": "circle"
         },
         "mode": "lines",
         "name": "Croatia",
         "orientation": "v",
         "showlegend": true,
         "type": "scatter",
         "x": [
          "2000",
          "2001",
          "2002",
          "2003",
          "2004",
          "2005",
          "2006",
          "2007",
          "2008",
          "2009",
          "2010",
          "2011",
          "2012",
          "2013",
          "2014",
          "2015",
          "2016",
          "2017",
          "2018",
          "2019",
          "2020",
          "2021"
         ],
         "xaxis": "x",
         "y": [
          24.2,
          23.8,
          22.9,
          23.3,
          24.1,
          23.7,
          23.4,
          23,
          22.8,
          22.7,
          21.4,
          21.5,
          21.1,
          20.6,
          20.8,
          20.6,
          20.6,
          20.2,
          19.9,
          19.9,
          20.7,
          19.8
         ],
         "yaxis": "y"
        }
       ],
       "layout": {
        "legend": {
         "title": {
          "text": "Country"
         },
         "tracegroupgap": 0
        },
        "template": {
         "data": {
          "bar": [
           {
            "error_x": {
             "color": "#2a3f5f"
            },
            "error_y": {
             "color": "#2a3f5f"
            },
            "marker": {
             "line": {
              "color": "#E5ECF6",
              "width": 0.5
             },
             "pattern": {
              "fillmode": "overlay",
              "size": 10,
              "solidity": 0.2
             }
            },
            "type": "bar"
           }
          ],
          "barpolar": [
           {
            "marker": {
             "line": {
              "color": "#E5ECF6",
              "width": 0.5
             },
             "pattern": {
              "fillmode": "overlay",
              "size": 10,
              "solidity": 0.2
             }
            },
            "type": "barpolar"
           }
          ],
          "carpet": [
           {
            "aaxis": {
             "endlinecolor": "#2a3f5f",
             "gridcolor": "white",
             "linecolor": "white",
             "minorgridcolor": "white",
             "startlinecolor": "#2a3f5f"
            },
            "baxis": {
             "endlinecolor": "#2a3f5f",
             "gridcolor": "white",
             "linecolor": "white",
             "minorgridcolor": "white",
             "startlinecolor": "#2a3f5f"
            },
            "type": "carpet"
           }
          ],
          "choropleth": [
           {
            "colorbar": {
             "outlinewidth": 0,
             "ticks": ""
            },
            "type": "choropleth"
           }
          ],
          "contour": [
           {
            "colorbar": {
             "outlinewidth": 0,
             "ticks": ""
            },
            "colorscale": [
             [
              0,
              "#0d0887"
             ],
             [
              0.1111111111111111,
              "#46039f"
             ],
             [
              0.2222222222222222,
              "#7201a8"
             ],
             [
              0.3333333333333333,
              "#9c179e"
             ],
             [
              0.4444444444444444,
              "#bd3786"
             ],
             [
              0.5555555555555556,
              "#d8576b"
             ],
             [
              0.6666666666666666,
              "#ed7953"
             ],
             [
              0.7777777777777778,
              "#fb9f3a"
             ],
             [
              0.8888888888888888,
              "#fdca26"
             ],
             [
              1,
              "#f0f921"
             ]
            ],
            "type": "contour"
           }
          ],
          "contourcarpet": [
           {
            "colorbar": {
             "outlinewidth": 0,
             "ticks": ""
            },
            "type": "contourcarpet"
           }
          ],
          "heatmap": [
           {
            "colorbar": {
             "outlinewidth": 0,
             "ticks": ""
            },
            "colorscale": [
             [
              0,
              "#0d0887"
             ],
             [
              0.1111111111111111,
              "#46039f"
             ],
             [
              0.2222222222222222,
              "#7201a8"
             ],
             [
              0.3333333333333333,
              "#9c179e"
             ],
             [
              0.4444444444444444,
              "#bd3786"
             ],
             [
              0.5555555555555556,
              "#d8576b"
             ],
             [
              0.6666666666666666,
              "#ed7953"
             ],
             [
              0.7777777777777778,
              "#fb9f3a"
             ],
             [
              0.8888888888888888,
              "#fdca26"
             ],
             [
              1,
              "#f0f921"
             ]
            ],
            "type": "heatmap"
           }
          ],
          "heatmapgl": [
           {
            "colorbar": {
             "outlinewidth": 0,
             "ticks": ""
            },
            "colorscale": [
             [
              0,
              "#0d0887"
             ],
             [
              0.1111111111111111,
              "#46039f"
             ],
             [
              0.2222222222222222,
              "#7201a8"
             ],
             [
              0.3333333333333333,
              "#9c179e"
             ],
             [
              0.4444444444444444,
              "#bd3786"
             ],
             [
              0.5555555555555556,
              "#d8576b"
             ],
             [
              0.6666666666666666,
              "#ed7953"
             ],
             [
              0.7777777777777778,
              "#fb9f3a"
             ],
             [
              0.8888888888888888,
              "#fdca26"
             ],
             [
              1,
              "#f0f921"
             ]
            ],
            "type": "heatmapgl"
           }
          ],
          "histogram": [
           {
            "marker": {
             "pattern": {
              "fillmode": "overlay",
              "size": 10,
              "solidity": 0.2
             }
            },
            "type": "histogram"
           }
          ],
          "histogram2d": [
           {
            "colorbar": {
             "outlinewidth": 0,
             "ticks": ""
            },
            "colorscale": [
             [
              0,
              "#0d0887"
             ],
             [
              0.1111111111111111,
              "#46039f"
             ],
             [
              0.2222222222222222,
              "#7201a8"
             ],
             [
              0.3333333333333333,
              "#9c179e"
             ],
             [
              0.4444444444444444,
              "#bd3786"
             ],
             [
              0.5555555555555556,
              "#d8576b"
             ],
             [
              0.6666666666666666,
              "#ed7953"
             ],
             [
              0.7777777777777778,
              "#fb9f3a"
             ],
             [
              0.8888888888888888,
              "#fdca26"
             ],
             [
              1,
              "#f0f921"
             ]
            ],
            "type": "histogram2d"
           }
          ],
          "histogram2dcontour": [
           {
            "colorbar": {
             "outlinewidth": 0,
             "ticks": ""
            },
            "colorscale": [
             [
              0,
              "#0d0887"
             ],
             [
              0.1111111111111111,
              "#46039f"
             ],
             [
              0.2222222222222222,
              "#7201a8"
             ],
             [
              0.3333333333333333,
              "#9c179e"
             ],
             [
              0.4444444444444444,
              "#bd3786"
             ],
             [
              0.5555555555555556,
              "#d8576b"
             ],
             [
              0.6666666666666666,
              "#ed7953"
             ],
             [
              0.7777777777777778,
              "#fb9f3a"
             ],
             [
              0.8888888888888888,
              "#fdca26"
             ],
             [
              1,
              "#f0f921"
             ]
            ],
            "type": "histogram2dcontour"
           }
          ],
          "mesh3d": [
           {
            "colorbar": {
             "outlinewidth": 0,
             "ticks": ""
            },
            "type": "mesh3d"
           }
          ],
          "parcoords": [
           {
            "line": {
             "colorbar": {
              "outlinewidth": 0,
              "ticks": ""
             }
            },
            "type": "parcoords"
           }
          ],
          "pie": [
           {
            "automargin": true,
            "type": "pie"
           }
          ],
          "scatter": [
           {
            "fillpattern": {
             "fillmode": "overlay",
             "size": 10,
             "solidity": 0.2
            },
            "type": "scatter"
           }
          ],
          "scatter3d": [
           {
            "line": {
             "colorbar": {
              "outlinewidth": 0,
              "ticks": ""
             }
            },
            "marker": {
             "colorbar": {
              "outlinewidth": 0,
              "ticks": ""
             }
            },
            "type": "scatter3d"
           }
          ],
          "scattercarpet": [
           {
            "marker": {
             "colorbar": {
              "outlinewidth": 0,
              "ticks": ""
             }
            },
            "type": "scattercarpet"
           }
          ],
          "scattergeo": [
           {
            "marker": {
             "colorbar": {
              "outlinewidth": 0,
              "ticks": ""
             }
            },
            "type": "scattergeo"
           }
          ],
          "scattergl": [
           {
            "marker": {
             "colorbar": {
              "outlinewidth": 0,
              "ticks": ""
             }
            },
            "type": "scattergl"
           }
          ],
          "scattermapbox": [
           {
            "marker": {
             "colorbar": {
              "outlinewidth": 0,
              "ticks": ""
             }
            },
            "type": "scattermapbox"
           }
          ],
          "scatterpolar": [
           {
            "marker": {
             "colorbar": {
              "outlinewidth": 0,
              "ticks": ""
             }
            },
            "type": "scatterpolar"
           }
          ],
          "scatterpolargl": [
           {
            "marker": {
             "colorbar": {
              "outlinewidth": 0,
              "ticks": ""
             }
            },
            "type": "scatterpolargl"
           }
          ],
          "scatterternary": [
           {
            "marker": {
             "colorbar": {
              "outlinewidth": 0,
              "ticks": ""
             }
            },
            "type": "scatterternary"
           }
          ],
          "surface": [
           {
            "colorbar": {
             "outlinewidth": 0,
             "ticks": ""
            },
            "colorscale": [
             [
              0,
              "#0d0887"
             ],
             [
              0.1111111111111111,
              "#46039f"
             ],
             [
              0.2222222222222222,
              "#7201a8"
             ],
             [
              0.3333333333333333,
              "#9c179e"
             ],
             [
              0.4444444444444444,
              "#bd3786"
             ],
             [
              0.5555555555555556,
              "#d8576b"
             ],
             [
              0.6666666666666666,
              "#ed7953"
             ],
             [
              0.7777777777777778,
              "#fb9f3a"
             ],
             [
              0.8888888888888888,
              "#fdca26"
             ],
             [
              1,
              "#f0f921"
             ]
            ],
            "type": "surface"
           }
          ],
          "table": [
           {
            "cells": {
             "fill": {
              "color": "#EBF0F8"
             },
             "line": {
              "color": "white"
             }
            },
            "header": {
             "fill": {
              "color": "#C8D4E3"
             },
             "line": {
              "color": "white"
             }
            },
            "type": "table"
           }
          ]
         },
         "layout": {
          "annotationdefaults": {
           "arrowcolor": "#2a3f5f",
           "arrowhead": 0,
           "arrowwidth": 1
          },
          "autotypenumbers": "strict",
          "coloraxis": {
           "colorbar": {
            "outlinewidth": 0,
            "ticks": ""
           }
          },
          "colorscale": {
           "diverging": [
            [
             0,
             "#8e0152"
            ],
            [
             0.1,
             "#c51b7d"
            ],
            [
             0.2,
             "#de77ae"
            ],
            [
             0.3,
             "#f1b6da"
            ],
            [
             0.4,
             "#fde0ef"
            ],
            [
             0.5,
             "#f7f7f7"
            ],
            [
             0.6,
             "#e6f5d0"
            ],
            [
             0.7,
             "#b8e186"
            ],
            [
             0.8,
             "#7fbc41"
            ],
            [
             0.9,
             "#4d9221"
            ],
            [
             1,
             "#276419"
            ]
           ],
           "sequential": [
            [
             0,
             "#0d0887"
            ],
            [
             0.1111111111111111,
             "#46039f"
            ],
            [
             0.2222222222222222,
             "#7201a8"
            ],
            [
             0.3333333333333333,
             "#9c179e"
            ],
            [
             0.4444444444444444,
             "#bd3786"
            ],
            [
             0.5555555555555556,
             "#d8576b"
            ],
            [
             0.6666666666666666,
             "#ed7953"
            ],
            [
             0.7777777777777778,
             "#fb9f3a"
            ],
            [
             0.8888888888888888,
             "#fdca26"
            ],
            [
             1,
             "#f0f921"
            ]
           ],
           "sequentialminus": [
            [
             0,
             "#0d0887"
            ],
            [
             0.1111111111111111,
             "#46039f"
            ],
            [
             0.2222222222222222,
             "#7201a8"
            ],
            [
             0.3333333333333333,
             "#9c179e"
            ],
            [
             0.4444444444444444,
             "#bd3786"
            ],
            [
             0.5555555555555556,
             "#d8576b"
            ],
            [
             0.6666666666666666,
             "#ed7953"
            ],
            [
             0.7777777777777778,
             "#fb9f3a"
            ],
            [
             0.8888888888888888,
             "#fdca26"
            ],
            [
             1,
             "#f0f921"
            ]
           ]
          },
          "colorway": [
           "#636efa",
           "#EF553B",
           "#00cc96",
           "#ab63fa",
           "#FFA15A",
           "#19d3f3",
           "#FF6692",
           "#B6E880",
           "#FF97FF",
           "#FECB52"
          ],
          "font": {
           "color": "#2a3f5f"
          },
          "geo": {
           "bgcolor": "white",
           "lakecolor": "white",
           "landcolor": "#E5ECF6",
           "showlakes": true,
           "showland": true,
           "subunitcolor": "white"
          },
          "hoverlabel": {
           "align": "left"
          },
          "hovermode": "closest",
          "mapbox": {
           "style": "light"
          },
          "paper_bgcolor": "white",
          "plot_bgcolor": "#E5ECF6",
          "polar": {
           "angularaxis": {
            "gridcolor": "white",
            "linecolor": "white",
            "ticks": ""
           },
           "bgcolor": "#E5ECF6",
           "radialaxis": {
            "gridcolor": "white",
            "linecolor": "white",
            "ticks": ""
           }
          },
          "scene": {
           "xaxis": {
            "backgroundcolor": "#E5ECF6",
            "gridcolor": "white",
            "gridwidth": 2,
            "linecolor": "white",
            "showbackground": true,
            "ticks": "",
            "zerolinecolor": "white"
           },
           "yaxis": {
            "backgroundcolor": "#E5ECF6",
            "gridcolor": "white",
            "gridwidth": 2,
            "linecolor": "white",
            "showbackground": true,
            "ticks": "",
            "zerolinecolor": "white"
           },
           "zaxis": {
            "backgroundcolor": "#E5ECF6",
            "gridcolor": "white",
            "gridwidth": 2,
            "linecolor": "white",
            "showbackground": true,
            "ticks": "",
            "zerolinecolor": "white"
           }
          },
          "shapedefaults": {
           "line": {
            "color": "#2a3f5f"
           }
          },
          "ternary": {
           "aaxis": {
            "gridcolor": "white",
            "linecolor": "white",
            "ticks": ""
           },
           "baxis": {
            "gridcolor": "white",
            "linecolor": "white",
            "ticks": ""
           },
           "bgcolor": "#E5ECF6",
           "caxis": {
            "gridcolor": "white",
            "linecolor": "white",
            "ticks": ""
           }
          },
          "title": {
           "x": 0.05
          },
          "xaxis": {
           "automargin": true,
           "gridcolor": "white",
           "linecolor": "white",
           "ticks": "",
           "title": {
            "standoff": 15
           },
           "zerolinecolor": "white",
           "zerolinewidth": 2
          },
          "yaxis": {
           "automargin": true,
           "gridcolor": "white",
           "linecolor": "white",
           "ticks": "",
           "title": {
            "standoff": 15
           },
           "zerolinecolor": "white",
           "zerolinewidth": 2
          }
         }
        },
        "title": {
         "text": "Contribution of the construction sector to the GBD %"
        },
        "xaxis": {
         "anchor": "y",
         "domain": [
          0,
          1
         ],
         "title": {
          "text": "Year"
         }
        },
        "yaxis": {
         "anchor": "x",
         "domain": [
          0,
          1
         ],
         "title": {
          "text": "Contribution of the construction sector to the GBD %"
         }
        }
       }
      }
     },
     "metadata": {},
     "output_type": "display_data"
    },
    {
     "data": {
      "application/vnd.plotly.v1+json": {
       "config": {
        "plotlyServerURL": "https://plot.ly"
       },
       "data": [
        {
         "hovertemplate": "Country=Ireland<br>Year=%{x}<br>Labor force, total=%{y}<extra></extra>",
         "legendgroup": "Ireland",
         "line": {
          "color": "#636efa",
          "dash": "solid"
         },
         "marker": {
          "symbol": "circle"
         },
         "mode": "lines",
         "name": "Ireland",
         "orientation": "v",
         "showlegend": true,
         "type": "scatter",
         "x": [
          "2000",
          "2001",
          "2002",
          "2003",
          "2004",
          "2005",
          "2006",
          "2007",
          "2008",
          "2009",
          "2010",
          "2011",
          "2012",
          "2013",
          "2014",
          "2015",
          "2016",
          "2017",
          "2018",
          "2019",
          "2020",
          "2021"
         ],
         "xaxis": "x",
         "y": [
          1862430,
          1898123,
          1941828,
          1984446,
          2033886,
          2151141,
          2241382,
          2336096,
          2355177,
          2303515,
          2252263,
          2231095,
          2225018,
          2247873,
          2258498,
          2285833,
          2330010,
          2354153,
          2397838,
          2446760,
          2432234,
          2551561
         ],
         "yaxis": "y"
        },
        {
         "hovertemplate": "Country=Finland<br>Year=%{x}<br>Labor force, total=%{y}<extra></extra>",
         "legendgroup": "Finland",
         "line": {
          "color": "#EF553B",
          "dash": "solid"
         },
         "marker": {
          "symbol": "circle"
         },
         "mode": "lines",
         "name": "Finland",
         "orientation": "v",
         "showlegend": true,
         "type": "scatter",
         "x": [
          "2000",
          "2001",
          "2002",
          "2003",
          "2004",
          "2005",
          "2006",
          "2007",
          "2008",
          "2009",
          "2010",
          "2011",
          "2012",
          "2013",
          "2014",
          "2015",
          "2016",
          "2017",
          "2018",
          "2019",
          "2020",
          "2021"
         ],
         "xaxis": "x",
         "y": [
          2583129,
          2606649,
          2618114,
          2620447,
          2612340,
          2632616,
          2660139,
          2687154,
          2715926,
          2688826,
          2678175,
          2693382,
          2700773,
          2686349,
          2690277,
          2699822,
          2694829,
          2716261,
          2749812,
          2758855,
          2751071,
          2774226
         ],
         "yaxis": "y"
        },
        {
         "hovertemplate": "Country=Croatia<br>Year=%{x}<br>Labor force, total=%{y}<extra></extra>",
         "legendgroup": "Croatia",
         "line": {
          "color": "#00cc96",
          "dash": "solid"
         },
         "marker": {
          "symbol": "circle"
         },
         "mode": "lines",
         "name": "Croatia",
         "orientation": "v",
         "showlegend": true,
         "type": "scatter",
         "x": [
          "2000",
          "2001",
          "2002",
          "2003",
          "2004",
          "2005",
          "2006",
          "2007",
          "2008",
          "2009",
          "2010",
          "2011",
          "2012",
          "2013",
          "2014",
          "2015",
          "2016",
          "2017",
          "2018",
          "2019",
          "2020",
          "2021"
         ],
         "xaxis": "x",
         "y": [
          1932906,
          1845629,
          1833312,
          1808041,
          1844858,
          1796375,
          1785298,
          1924507,
          1933843,
          1934048,
          1912849,
          1883510,
          1865281,
          1844972,
          1896011,
          1896675,
          1835203,
          1824724,
          1794304,
          1781597,
          1772376,
          1733479
         ],
         "yaxis": "y"
        }
       ],
       "layout": {
        "legend": {
         "title": {
          "text": "Country"
         },
         "tracegroupgap": 0
        },
        "template": {
         "data": {
          "bar": [
           {
            "error_x": {
             "color": "#2a3f5f"
            },
            "error_y": {
             "color": "#2a3f5f"
            },
            "marker": {
             "line": {
              "color": "#E5ECF6",
              "width": 0.5
             },
             "pattern": {
              "fillmode": "overlay",
              "size": 10,
              "solidity": 0.2
             }
            },
            "type": "bar"
           }
          ],
          "barpolar": [
           {
            "marker": {
             "line": {
              "color": "#E5ECF6",
              "width": 0.5
             },
             "pattern": {
              "fillmode": "overlay",
              "size": 10,
              "solidity": 0.2
             }
            },
            "type": "barpolar"
           }
          ],
          "carpet": [
           {
            "aaxis": {
             "endlinecolor": "#2a3f5f",
             "gridcolor": "white",
             "linecolor": "white",
             "minorgridcolor": "white",
             "startlinecolor": "#2a3f5f"
            },
            "baxis": {
             "endlinecolor": "#2a3f5f",
             "gridcolor": "white",
             "linecolor": "white",
             "minorgridcolor": "white",
             "startlinecolor": "#2a3f5f"
            },
            "type": "carpet"
           }
          ],
          "choropleth": [
           {
            "colorbar": {
             "outlinewidth": 0,
             "ticks": ""
            },
            "type": "choropleth"
           }
          ],
          "contour": [
           {
            "colorbar": {
             "outlinewidth": 0,
             "ticks": ""
            },
            "colorscale": [
             [
              0,
              "#0d0887"
             ],
             [
              0.1111111111111111,
              "#46039f"
             ],
             [
              0.2222222222222222,
              "#7201a8"
             ],
             [
              0.3333333333333333,
              "#9c179e"
             ],
             [
              0.4444444444444444,
              "#bd3786"
             ],
             [
              0.5555555555555556,
              "#d8576b"
             ],
             [
              0.6666666666666666,
              "#ed7953"
             ],
             [
              0.7777777777777778,
              "#fb9f3a"
             ],
             [
              0.8888888888888888,
              "#fdca26"
             ],
             [
              1,
              "#f0f921"
             ]
            ],
            "type": "contour"
           }
          ],
          "contourcarpet": [
           {
            "colorbar": {
             "outlinewidth": 0,
             "ticks": ""
            },
            "type": "contourcarpet"
           }
          ],
          "heatmap": [
           {
            "colorbar": {
             "outlinewidth": 0,
             "ticks": ""
            },
            "colorscale": [
             [
              0,
              "#0d0887"
             ],
             [
              0.1111111111111111,
              "#46039f"
             ],
             [
              0.2222222222222222,
              "#7201a8"
             ],
             [
              0.3333333333333333,
              "#9c179e"
             ],
             [
              0.4444444444444444,
              "#bd3786"
             ],
             [
              0.5555555555555556,
              "#d8576b"
             ],
             [
              0.6666666666666666,
              "#ed7953"
             ],
             [
              0.7777777777777778,
              "#fb9f3a"
             ],
             [
              0.8888888888888888,
              "#fdca26"
             ],
             [
              1,
              "#f0f921"
             ]
            ],
            "type": "heatmap"
           }
          ],
          "heatmapgl": [
           {
            "colorbar": {
             "outlinewidth": 0,
             "ticks": ""
            },
            "colorscale": [
             [
              0,
              "#0d0887"
             ],
             [
              0.1111111111111111,
              "#46039f"
             ],
             [
              0.2222222222222222,
              "#7201a8"
             ],
             [
              0.3333333333333333,
              "#9c179e"
             ],
             [
              0.4444444444444444,
              "#bd3786"
             ],
             [
              0.5555555555555556,
              "#d8576b"
             ],
             [
              0.6666666666666666,
              "#ed7953"
             ],
             [
              0.7777777777777778,
              "#fb9f3a"
             ],
             [
              0.8888888888888888,
              "#fdca26"
             ],
             [
              1,
              "#f0f921"
             ]
            ],
            "type": "heatmapgl"
           }
          ],
          "histogram": [
           {
            "marker": {
             "pattern": {
              "fillmode": "overlay",
              "size": 10,
              "solidity": 0.2
             }
            },
            "type": "histogram"
           }
          ],
          "histogram2d": [
           {
            "colorbar": {
             "outlinewidth": 0,
             "ticks": ""
            },
            "colorscale": [
             [
              0,
              "#0d0887"
             ],
             [
              0.1111111111111111,
              "#46039f"
             ],
             [
              0.2222222222222222,
              "#7201a8"
             ],
             [
              0.3333333333333333,
              "#9c179e"
             ],
             [
              0.4444444444444444,
              "#bd3786"
             ],
             [
              0.5555555555555556,
              "#d8576b"
             ],
             [
              0.6666666666666666,
              "#ed7953"
             ],
             [
              0.7777777777777778,
              "#fb9f3a"
             ],
             [
              0.8888888888888888,
              "#fdca26"
             ],
             [
              1,
              "#f0f921"
             ]
            ],
            "type": "histogram2d"
           }
          ],
          "histogram2dcontour": [
           {
            "colorbar": {
             "outlinewidth": 0,
             "ticks": ""
            },
            "colorscale": [
             [
              0,
              "#0d0887"
             ],
             [
              0.1111111111111111,
              "#46039f"
             ],
             [
              0.2222222222222222,
              "#7201a8"
             ],
             [
              0.3333333333333333,
              "#9c179e"
             ],
             [
              0.4444444444444444,
              "#bd3786"
             ],
             [
              0.5555555555555556,
              "#d8576b"
             ],
             [
              0.6666666666666666,
              "#ed7953"
             ],
             [
              0.7777777777777778,
              "#fb9f3a"
             ],
             [
              0.8888888888888888,
              "#fdca26"
             ],
             [
              1,
              "#f0f921"
             ]
            ],
            "type": "histogram2dcontour"
           }
          ],
          "mesh3d": [
           {
            "colorbar": {
             "outlinewidth": 0,
             "ticks": ""
            },
            "type": "mesh3d"
           }
          ],
          "parcoords": [
           {
            "line": {
             "colorbar": {
              "outlinewidth": 0,
              "ticks": ""
             }
            },
            "type": "parcoords"
           }
          ],
          "pie": [
           {
            "automargin": true,
            "type": "pie"
           }
          ],
          "scatter": [
           {
            "fillpattern": {
             "fillmode": "overlay",
             "size": 10,
             "solidity": 0.2
            },
            "type": "scatter"
           }
          ],
          "scatter3d": [
           {
            "line": {
             "colorbar": {
              "outlinewidth": 0,
              "ticks": ""
             }
            },
            "marker": {
             "colorbar": {
              "outlinewidth": 0,
              "ticks": ""
             }
            },
            "type": "scatter3d"
           }
          ],
          "scattercarpet": [
           {
            "marker": {
             "colorbar": {
              "outlinewidth": 0,
              "ticks": ""
             }
            },
            "type": "scattercarpet"
           }
          ],
          "scattergeo": [
           {
            "marker": {
             "colorbar": {
              "outlinewidth": 0,
              "ticks": ""
             }
            },
            "type": "scattergeo"
           }
          ],
          "scattergl": [
           {
            "marker": {
             "colorbar": {
              "outlinewidth": 0,
              "ticks": ""
             }
            },
            "type": "scattergl"
           }
          ],
          "scattermapbox": [
           {
            "marker": {
             "colorbar": {
              "outlinewidth": 0,
              "ticks": ""
             }
            },
            "type": "scattermapbox"
           }
          ],
          "scatterpolar": [
           {
            "marker": {
             "colorbar": {
              "outlinewidth": 0,
              "ticks": ""
             }
            },
            "type": "scatterpolar"
           }
          ],
          "scatterpolargl": [
           {
            "marker": {
             "colorbar": {
              "outlinewidth": 0,
              "ticks": ""
             }
            },
            "type": "scatterpolargl"
           }
          ],
          "scatterternary": [
           {
            "marker": {
             "colorbar": {
              "outlinewidth": 0,
              "ticks": ""
             }
            },
            "type": "scatterternary"
           }
          ],
          "surface": [
           {
            "colorbar": {
             "outlinewidth": 0,
             "ticks": ""
            },
            "colorscale": [
             [
              0,
              "#0d0887"
             ],
             [
              0.1111111111111111,
              "#46039f"
             ],
             [
              0.2222222222222222,
              "#7201a8"
             ],
             [
              0.3333333333333333,
              "#9c179e"
             ],
             [
              0.4444444444444444,
              "#bd3786"
             ],
             [
              0.5555555555555556,
              "#d8576b"
             ],
             [
              0.6666666666666666,
              "#ed7953"
             ],
             [
              0.7777777777777778,
              "#fb9f3a"
             ],
             [
              0.8888888888888888,
              "#fdca26"
             ],
             [
              1,
              "#f0f921"
             ]
            ],
            "type": "surface"
           }
          ],
          "table": [
           {
            "cells": {
             "fill": {
              "color": "#EBF0F8"
             },
             "line": {
              "color": "white"
             }
            },
            "header": {
             "fill": {
              "color": "#C8D4E3"
             },
             "line": {
              "color": "white"
             }
            },
            "type": "table"
           }
          ]
         },
         "layout": {
          "annotationdefaults": {
           "arrowcolor": "#2a3f5f",
           "arrowhead": 0,
           "arrowwidth": 1
          },
          "autotypenumbers": "strict",
          "coloraxis": {
           "colorbar": {
            "outlinewidth": 0,
            "ticks": ""
           }
          },
          "colorscale": {
           "diverging": [
            [
             0,
             "#8e0152"
            ],
            [
             0.1,
             "#c51b7d"
            ],
            [
             0.2,
             "#de77ae"
            ],
            [
             0.3,
             "#f1b6da"
            ],
            [
             0.4,
             "#fde0ef"
            ],
            [
             0.5,
             "#f7f7f7"
            ],
            [
             0.6,
             "#e6f5d0"
            ],
            [
             0.7,
             "#b8e186"
            ],
            [
             0.8,
             "#7fbc41"
            ],
            [
             0.9,
             "#4d9221"
            ],
            [
             1,
             "#276419"
            ]
           ],
           "sequential": [
            [
             0,
             "#0d0887"
            ],
            [
             0.1111111111111111,
             "#46039f"
            ],
            [
             0.2222222222222222,
             "#7201a8"
            ],
            [
             0.3333333333333333,
             "#9c179e"
            ],
            [
             0.4444444444444444,
             "#bd3786"
            ],
            [
             0.5555555555555556,
             "#d8576b"
            ],
            [
             0.6666666666666666,
             "#ed7953"
            ],
            [
             0.7777777777777778,
             "#fb9f3a"
            ],
            [
             0.8888888888888888,
             "#fdca26"
            ],
            [
             1,
             "#f0f921"
            ]
           ],
           "sequentialminus": [
            [
             0,
             "#0d0887"
            ],
            [
             0.1111111111111111,
             "#46039f"
            ],
            [
             0.2222222222222222,
             "#7201a8"
            ],
            [
             0.3333333333333333,
             "#9c179e"
            ],
            [
             0.4444444444444444,
             "#bd3786"
            ],
            [
             0.5555555555555556,
             "#d8576b"
            ],
            [
             0.6666666666666666,
             "#ed7953"
            ],
            [
             0.7777777777777778,
             "#fb9f3a"
            ],
            [
             0.8888888888888888,
             "#fdca26"
            ],
            [
             1,
             "#f0f921"
            ]
           ]
          },
          "colorway": [
           "#636efa",
           "#EF553B",
           "#00cc96",
           "#ab63fa",
           "#FFA15A",
           "#19d3f3",
           "#FF6692",
           "#B6E880",
           "#FF97FF",
           "#FECB52"
          ],
          "font": {
           "color": "#2a3f5f"
          },
          "geo": {
           "bgcolor": "white",
           "lakecolor": "white",
           "landcolor": "#E5ECF6",
           "showlakes": true,
           "showland": true,
           "subunitcolor": "white"
          },
          "hoverlabel": {
           "align": "left"
          },
          "hovermode": "closest",
          "mapbox": {
           "style": "light"
          },
          "paper_bgcolor": "white",
          "plot_bgcolor": "#E5ECF6",
          "polar": {
           "angularaxis": {
            "gridcolor": "white",
            "linecolor": "white",
            "ticks": ""
           },
           "bgcolor": "#E5ECF6",
           "radialaxis": {
            "gridcolor": "white",
            "linecolor": "white",
            "ticks": ""
           }
          },
          "scene": {
           "xaxis": {
            "backgroundcolor": "#E5ECF6",
            "gridcolor": "white",
            "gridwidth": 2,
            "linecolor": "white",
            "showbackground": true,
            "ticks": "",
            "zerolinecolor": "white"
           },
           "yaxis": {
            "backgroundcolor": "#E5ECF6",
            "gridcolor": "white",
            "gridwidth": 2,
            "linecolor": "white",
            "showbackground": true,
            "ticks": "",
            "zerolinecolor": "white"
           },
           "zaxis": {
            "backgroundcolor": "#E5ECF6",
            "gridcolor": "white",
            "gridwidth": 2,
            "linecolor": "white",
            "showbackground": true,
            "ticks": "",
            "zerolinecolor": "white"
           }
          },
          "shapedefaults": {
           "line": {
            "color": "#2a3f5f"
           }
          },
          "ternary": {
           "aaxis": {
            "gridcolor": "white",
            "linecolor": "white",
            "ticks": ""
           },
           "baxis": {
            "gridcolor": "white",
            "linecolor": "white",
            "ticks": ""
           },
           "bgcolor": "#E5ECF6",
           "caxis": {
            "gridcolor": "white",
            "linecolor": "white",
            "ticks": ""
           }
          },
          "title": {
           "x": 0.05
          },
          "xaxis": {
           "automargin": true,
           "gridcolor": "white",
           "linecolor": "white",
           "ticks": "",
           "title": {
            "standoff": 15
           },
           "zerolinecolor": "white",
           "zerolinewidth": 2
          },
          "yaxis": {
           "automargin": true,
           "gridcolor": "white",
           "linecolor": "white",
           "ticks": "",
           "title": {
            "standoff": 15
           },
           "zerolinecolor": "white",
           "zerolinewidth": 2
          }
         }
        },
        "title": {
         "text": "Labor force total of countries"
        },
        "xaxis": {
         "anchor": "y",
         "domain": [
          0,
          1
         ],
         "title": {
          "text": "Year"
         }
        },
        "yaxis": {
         "anchor": "x",
         "domain": [
          0,
          1
         ],
         "title": {
          "text": "Labor force, total"
         }
        }
       }
      }
     },
     "metadata": {},
     "output_type": "display_data"
    },
    {
     "data": {
      "application/vnd.plotly.v1+json": {
       "config": {
        "plotlyServerURL": "https://plot.ly"
       },
       "data": [
        {
         "hovertemplate": "Country=Ireland<br>Year=%{x}<br>Unemployment, total (% of total labor force)=%{y}<extra></extra>",
         "legendgroup": "Ireland",
         "line": {
          "color": "#636efa",
          "dash": "solid"
         },
         "marker": {
          "symbol": "circle"
         },
         "mode": "lines",
         "name": "Ireland",
         "orientation": "v",
         "showlegend": true,
         "type": "scatter",
         "x": [
          "2000",
          "2001",
          "2002",
          "2003",
          "2004",
          "2005",
          "2006",
          "2007",
          "2008",
          "2009",
          "2010",
          "2011",
          "2012",
          "2013",
          "2014",
          "2015",
          "2016",
          "2017",
          "2018",
          "2019",
          "2020",
          "2021"
         ],
         "xaxis": "x",
         "y": [
          4.3,
          3.7,
          4.2,
          4.5,
          4.5,
          4.3,
          4.4,
          5,
          6.8,
          12.6,
          14.5,
          15.4,
          15.5,
          13.7,
          11.9,
          9.9,
          8.4,
          6.7,
          5.7,
          5,
          5.6,
          6.2
         ],
         "yaxis": "y"
        },
        {
         "hovertemplate": "Country=Finland<br>Year=%{x}<br>Unemployment, total (% of total labor force)=%{y}<extra></extra>",
         "legendgroup": "Finland",
         "line": {
          "color": "#EF553B",
          "dash": "solid"
         },
         "marker": {
          "symbol": "circle"
         },
         "mode": "lines",
         "name": "Finland",
         "orientation": "v",
         "showlegend": true,
         "type": "scatter",
         "x": [
          "2000",
          "2001",
          "2002",
          "2003",
          "2004",
          "2005",
          "2006",
          "2007",
          "2008",
          "2009",
          "2010",
          "2011",
          "2012",
          "2013",
          "2014",
          "2015",
          "2016",
          "2017",
          "2018",
          "2019",
          "2020",
          "2021"
         ],
         "xaxis": "x",
         "y": [
          11.1,
          10.3,
          10.4,
          10.5,
          10.4,
          8.4,
          7.7,
          6.9,
          6.4,
          8.3,
          8.4,
          7.8,
          7.7,
          8.2,
          8.7,
          9.4,
          8.8,
          8.6,
          7.4,
          6.7,
          7.8,
          7.6
         ],
         "yaxis": "y"
        },
        {
         "hovertemplate": "Country=Croatia<br>Year=%{x}<br>Unemployment, total (% of total labor force)=%{y}<extra></extra>",
         "legendgroup": "Croatia",
         "line": {
          "color": "#00cc96",
          "dash": "solid"
         },
         "marker": {
          "symbol": "circle"
         },
         "mode": "lines",
         "name": "Croatia",
         "orientation": "v",
         "showlegend": true,
         "type": "scatter",
         "x": [
          "2000",
          "2001",
          "2002",
          "2003",
          "2004",
          "2005",
          "2006",
          "2007",
          "2008",
          "2009",
          "2010",
          "2011",
          "2012",
          "2013",
          "2014",
          "2015",
          "2016",
          "2017",
          "2018",
          "2019",
          "2020",
          "2021"
         ],
         "xaxis": "x",
         "y": [
          16.1,
          15.8,
          15.1,
          13.9,
          13.7,
          12.6,
          11.1,
          9.9,
          8.5,
          9.2,
          11.6,
          13.7,
          15.9,
          17.3,
          17.3,
          16.2,
          13.1,
          11.2,
          8.4,
          6.6,
          7.5,
          7.6
         ],
         "yaxis": "y"
        }
       ],
       "layout": {
        "legend": {
         "title": {
          "text": "Country"
         },
         "tracegroupgap": 0
        },
        "template": {
         "data": {
          "bar": [
           {
            "error_x": {
             "color": "#2a3f5f"
            },
            "error_y": {
             "color": "#2a3f5f"
            },
            "marker": {
             "line": {
              "color": "#E5ECF6",
              "width": 0.5
             },
             "pattern": {
              "fillmode": "overlay",
              "size": 10,
              "solidity": 0.2
             }
            },
            "type": "bar"
           }
          ],
          "barpolar": [
           {
            "marker": {
             "line": {
              "color": "#E5ECF6",
              "width": 0.5
             },
             "pattern": {
              "fillmode": "overlay",
              "size": 10,
              "solidity": 0.2
             }
            },
            "type": "barpolar"
           }
          ],
          "carpet": [
           {
            "aaxis": {
             "endlinecolor": "#2a3f5f",
             "gridcolor": "white",
             "linecolor": "white",
             "minorgridcolor": "white",
             "startlinecolor": "#2a3f5f"
            },
            "baxis": {
             "endlinecolor": "#2a3f5f",
             "gridcolor": "white",
             "linecolor": "white",
             "minorgridcolor": "white",
             "startlinecolor": "#2a3f5f"
            },
            "type": "carpet"
           }
          ],
          "choropleth": [
           {
            "colorbar": {
             "outlinewidth": 0,
             "ticks": ""
            },
            "type": "choropleth"
           }
          ],
          "contour": [
           {
            "colorbar": {
             "outlinewidth": 0,
             "ticks": ""
            },
            "colorscale": [
             [
              0,
              "#0d0887"
             ],
             [
              0.1111111111111111,
              "#46039f"
             ],
             [
              0.2222222222222222,
              "#7201a8"
             ],
             [
              0.3333333333333333,
              "#9c179e"
             ],
             [
              0.4444444444444444,
              "#bd3786"
             ],
             [
              0.5555555555555556,
              "#d8576b"
             ],
             [
              0.6666666666666666,
              "#ed7953"
             ],
             [
              0.7777777777777778,
              "#fb9f3a"
             ],
             [
              0.8888888888888888,
              "#fdca26"
             ],
             [
              1,
              "#f0f921"
             ]
            ],
            "type": "contour"
           }
          ],
          "contourcarpet": [
           {
            "colorbar": {
             "outlinewidth": 0,
             "ticks": ""
            },
            "type": "contourcarpet"
           }
          ],
          "heatmap": [
           {
            "colorbar": {
             "outlinewidth": 0,
             "ticks": ""
            },
            "colorscale": [
             [
              0,
              "#0d0887"
             ],
             [
              0.1111111111111111,
              "#46039f"
             ],
             [
              0.2222222222222222,
              "#7201a8"
             ],
             [
              0.3333333333333333,
              "#9c179e"
             ],
             [
              0.4444444444444444,
              "#bd3786"
             ],
             [
              0.5555555555555556,
              "#d8576b"
             ],
             [
              0.6666666666666666,
              "#ed7953"
             ],
             [
              0.7777777777777778,
              "#fb9f3a"
             ],
             [
              0.8888888888888888,
              "#fdca26"
             ],
             [
              1,
              "#f0f921"
             ]
            ],
            "type": "heatmap"
           }
          ],
          "heatmapgl": [
           {
            "colorbar": {
             "outlinewidth": 0,
             "ticks": ""
            },
            "colorscale": [
             [
              0,
              "#0d0887"
             ],
             [
              0.1111111111111111,
              "#46039f"
             ],
             [
              0.2222222222222222,
              "#7201a8"
             ],
             [
              0.3333333333333333,
              "#9c179e"
             ],
             [
              0.4444444444444444,
              "#bd3786"
             ],
             [
              0.5555555555555556,
              "#d8576b"
             ],
             [
              0.6666666666666666,
              "#ed7953"
             ],
             [
              0.7777777777777778,
              "#fb9f3a"
             ],
             [
              0.8888888888888888,
              "#fdca26"
             ],
             [
              1,
              "#f0f921"
             ]
            ],
            "type": "heatmapgl"
           }
          ],
          "histogram": [
           {
            "marker": {
             "pattern": {
              "fillmode": "overlay",
              "size": 10,
              "solidity": 0.2
             }
            },
            "type": "histogram"
           }
          ],
          "histogram2d": [
           {
            "colorbar": {
             "outlinewidth": 0,
             "ticks": ""
            },
            "colorscale": [
             [
              0,
              "#0d0887"
             ],
             [
              0.1111111111111111,
              "#46039f"
             ],
             [
              0.2222222222222222,
              "#7201a8"
             ],
             [
              0.3333333333333333,
              "#9c179e"
             ],
             [
              0.4444444444444444,
              "#bd3786"
             ],
             [
              0.5555555555555556,
              "#d8576b"
             ],
             [
              0.6666666666666666,
              "#ed7953"
             ],
             [
              0.7777777777777778,
              "#fb9f3a"
             ],
             [
              0.8888888888888888,
              "#fdca26"
             ],
             [
              1,
              "#f0f921"
             ]
            ],
            "type": "histogram2d"
           }
          ],
          "histogram2dcontour": [
           {
            "colorbar": {
             "outlinewidth": 0,
             "ticks": ""
            },
            "colorscale": [
             [
              0,
              "#0d0887"
             ],
             [
              0.1111111111111111,
              "#46039f"
             ],
             [
              0.2222222222222222,
              "#7201a8"
             ],
             [
              0.3333333333333333,
              "#9c179e"
             ],
             [
              0.4444444444444444,
              "#bd3786"
             ],
             [
              0.5555555555555556,
              "#d8576b"
             ],
             [
              0.6666666666666666,
              "#ed7953"
             ],
             [
              0.7777777777777778,
              "#fb9f3a"
             ],
             [
              0.8888888888888888,
              "#fdca26"
             ],
             [
              1,
              "#f0f921"
             ]
            ],
            "type": "histogram2dcontour"
           }
          ],
          "mesh3d": [
           {
            "colorbar": {
             "outlinewidth": 0,
             "ticks": ""
            },
            "type": "mesh3d"
           }
          ],
          "parcoords": [
           {
            "line": {
             "colorbar": {
              "outlinewidth": 0,
              "ticks": ""
             }
            },
            "type": "parcoords"
           }
          ],
          "pie": [
           {
            "automargin": true,
            "type": "pie"
           }
          ],
          "scatter": [
           {
            "fillpattern": {
             "fillmode": "overlay",
             "size": 10,
             "solidity": 0.2
            },
            "type": "scatter"
           }
          ],
          "scatter3d": [
           {
            "line": {
             "colorbar": {
              "outlinewidth": 0,
              "ticks": ""
             }
            },
            "marker": {
             "colorbar": {
              "outlinewidth": 0,
              "ticks": ""
             }
            },
            "type": "scatter3d"
           }
          ],
          "scattercarpet": [
           {
            "marker": {
             "colorbar": {
              "outlinewidth": 0,
              "ticks": ""
             }
            },
            "type": "scattercarpet"
           }
          ],
          "scattergeo": [
           {
            "marker": {
             "colorbar": {
              "outlinewidth": 0,
              "ticks": ""
             }
            },
            "type": "scattergeo"
           }
          ],
          "scattergl": [
           {
            "marker": {
             "colorbar": {
              "outlinewidth": 0,
              "ticks": ""
             }
            },
            "type": "scattergl"
           }
          ],
          "scattermapbox": [
           {
            "marker": {
             "colorbar": {
              "outlinewidth": 0,
              "ticks": ""
             }
            },
            "type": "scattermapbox"
           }
          ],
          "scatterpolar": [
           {
            "marker": {
             "colorbar": {
              "outlinewidth": 0,
              "ticks": ""
             }
            },
            "type": "scatterpolar"
           }
          ],
          "scatterpolargl": [
           {
            "marker": {
             "colorbar": {
              "outlinewidth": 0,
              "ticks": ""
             }
            },
            "type": "scatterpolargl"
           }
          ],
          "scatterternary": [
           {
            "marker": {
             "colorbar": {
              "outlinewidth": 0,
              "ticks": ""
             }
            },
            "type": "scatterternary"
           }
          ],
          "surface": [
           {
            "colorbar": {
             "outlinewidth": 0,
             "ticks": ""
            },
            "colorscale": [
             [
              0,
              "#0d0887"
             ],
             [
              0.1111111111111111,
              "#46039f"
             ],
             [
              0.2222222222222222,
              "#7201a8"
             ],
             [
              0.3333333333333333,
              "#9c179e"
             ],
             [
              0.4444444444444444,
              "#bd3786"
             ],
             [
              0.5555555555555556,
              "#d8576b"
             ],
             [
              0.6666666666666666,
              "#ed7953"
             ],
             [
              0.7777777777777778,
              "#fb9f3a"
             ],
             [
              0.8888888888888888,
              "#fdca26"
             ],
             [
              1,
              "#f0f921"
             ]
            ],
            "type": "surface"
           }
          ],
          "table": [
           {
            "cells": {
             "fill": {
              "color": "#EBF0F8"
             },
             "line": {
              "color": "white"
             }
            },
            "header": {
             "fill": {
              "color": "#C8D4E3"
             },
             "line": {
              "color": "white"
             }
            },
            "type": "table"
           }
          ]
         },
         "layout": {
          "annotationdefaults": {
           "arrowcolor": "#2a3f5f",
           "arrowhead": 0,
           "arrowwidth": 1
          },
          "autotypenumbers": "strict",
          "coloraxis": {
           "colorbar": {
            "outlinewidth": 0,
            "ticks": ""
           }
          },
          "colorscale": {
           "diverging": [
            [
             0,
             "#8e0152"
            ],
            [
             0.1,
             "#c51b7d"
            ],
            [
             0.2,
             "#de77ae"
            ],
            [
             0.3,
             "#f1b6da"
            ],
            [
             0.4,
             "#fde0ef"
            ],
            [
             0.5,
             "#f7f7f7"
            ],
            [
             0.6,
             "#e6f5d0"
            ],
            [
             0.7,
             "#b8e186"
            ],
            [
             0.8,
             "#7fbc41"
            ],
            [
             0.9,
             "#4d9221"
            ],
            [
             1,
             "#276419"
            ]
           ],
           "sequential": [
            [
             0,
             "#0d0887"
            ],
            [
             0.1111111111111111,
             "#46039f"
            ],
            [
             0.2222222222222222,
             "#7201a8"
            ],
            [
             0.3333333333333333,
             "#9c179e"
            ],
            [
             0.4444444444444444,
             "#bd3786"
            ],
            [
             0.5555555555555556,
             "#d8576b"
            ],
            [
             0.6666666666666666,
             "#ed7953"
            ],
            [
             0.7777777777777778,
             "#fb9f3a"
            ],
            [
             0.8888888888888888,
             "#fdca26"
            ],
            [
             1,
             "#f0f921"
            ]
           ],
           "sequentialminus": [
            [
             0,
             "#0d0887"
            ],
            [
             0.1111111111111111,
             "#46039f"
            ],
            [
             0.2222222222222222,
             "#7201a8"
            ],
            [
             0.3333333333333333,
             "#9c179e"
            ],
            [
             0.4444444444444444,
             "#bd3786"
            ],
            [
             0.5555555555555556,
             "#d8576b"
            ],
            [
             0.6666666666666666,
             "#ed7953"
            ],
            [
             0.7777777777777778,
             "#fb9f3a"
            ],
            [
             0.8888888888888888,
             "#fdca26"
            ],
            [
             1,
             "#f0f921"
            ]
           ]
          },
          "colorway": [
           "#636efa",
           "#EF553B",
           "#00cc96",
           "#ab63fa",
           "#FFA15A",
           "#19d3f3",
           "#FF6692",
           "#B6E880",
           "#FF97FF",
           "#FECB52"
          ],
          "font": {
           "color": "#2a3f5f"
          },
          "geo": {
           "bgcolor": "white",
           "lakecolor": "white",
           "landcolor": "#E5ECF6",
           "showlakes": true,
           "showland": true,
           "subunitcolor": "white"
          },
          "hoverlabel": {
           "align": "left"
          },
          "hovermode": "closest",
          "mapbox": {
           "style": "light"
          },
          "paper_bgcolor": "white",
          "plot_bgcolor": "#E5ECF6",
          "polar": {
           "angularaxis": {
            "gridcolor": "white",
            "linecolor": "white",
            "ticks": ""
           },
           "bgcolor": "#E5ECF6",
           "radialaxis": {
            "gridcolor": "white",
            "linecolor": "white",
            "ticks": ""
           }
          },
          "scene": {
           "xaxis": {
            "backgroundcolor": "#E5ECF6",
            "gridcolor": "white",
            "gridwidth": 2,
            "linecolor": "white",
            "showbackground": true,
            "ticks": "",
            "zerolinecolor": "white"
           },
           "yaxis": {
            "backgroundcolor": "#E5ECF6",
            "gridcolor": "white",
            "gridwidth": 2,
            "linecolor": "white",
            "showbackground": true,
            "ticks": "",
            "zerolinecolor": "white"
           },
           "zaxis": {
            "backgroundcolor": "#E5ECF6",
            "gridcolor": "white",
            "gridwidth": 2,
            "linecolor": "white",
            "showbackground": true,
            "ticks": "",
            "zerolinecolor": "white"
           }
          },
          "shapedefaults": {
           "line": {
            "color": "#2a3f5f"
           }
          },
          "ternary": {
           "aaxis": {
            "gridcolor": "white",
            "linecolor": "white",
            "ticks": ""
           },
           "baxis": {
            "gridcolor": "white",
            "linecolor": "white",
            "ticks": ""
           },
           "bgcolor": "#E5ECF6",
           "caxis": {
            "gridcolor": "white",
            "linecolor": "white",
            "ticks": ""
           }
          },
          "title": {
           "x": 0.05
          },
          "xaxis": {
           "automargin": true,
           "gridcolor": "white",
           "linecolor": "white",
           "ticks": "",
           "title": {
            "standoff": 15
           },
           "zerolinecolor": "white",
           "zerolinewidth": 2
          },
          "yaxis": {
           "automargin": true,
           "gridcolor": "white",
           "linecolor": "white",
           "ticks": "",
           "title": {
            "standoff": 15
           },
           "zerolinecolor": "white",
           "zerolinewidth": 2
          }
         }
        },
        "title": {
         "text": "Unemployment, total (% of total labor force)"
        },
        "xaxis": {
         "anchor": "y",
         "domain": [
          0,
          1
         ],
         "title": {
          "text": "Year"
         }
        },
        "yaxis": {
         "anchor": "x",
         "domain": [
          0,
          1
         ],
         "title": {
          "text": "Unemployment, total (% of total labor force)"
         }
        }
       }
      }
     },
     "metadata": {},
     "output_type": "display_data"
    }
   ],
   "source": [
    "import plotly.express as px\n",
    "\n",
    "#Contribution of the construction sector to the GBD %\n",
    "fig1 = px.line(df_filtered, \n",
    "               x=\"Year\", \n",
    "               y=\"Contribution of the construction sector to the GBD %\", \n",
    "               color=\"Country\", \n",
    "               title=\"Contribution of the construction sector to the GBD %\")\n",
    "fig1.show()\n",
    "\n",
    "# Labor force total of countries\n",
    "fig2 = px.line(df2_filtered, \n",
    "               x=\"Year\", \n",
    "               y=\"Labor force, total\", \n",
    "               color=\"Country\", \n",
    "               title=\"Labor force total of countries\")\n",
    "fig2.show()\n",
    "\n",
    "# Unemployment, total (% of total labor force)\n",
    "fig3 = px.line(df3_filtered, \n",
    "               x=\"Year\", \n",
    "               y=\"Unemployment, total (% of total labor force)\", \n",
    "               color=\"Country\", \n",
    "               title=\"Unemployment, total (% of total labor force)\")\n",
    "fig3.show()\n"
   ]
  },
  {
   "cell_type": "code",
   "execution_count": 180,
   "id": "0657fc05",
   "metadata": {},
   "outputs": [
    {
     "name": "stdout",
     "output_type": "stream",
     "text": [
      "Confidence Interval:\n",
      "2165916.279814146 - 2343784.629276763\n"
     ]
    }
   ],
   "source": [
    "import numpy as np\n",
    "import scipy.stats as stats\n",
    "\n",
    "data = df2_filtered[\"Labor force, total\"]\n",
    "confidence_level = 0.95\n",
    "\n",
    "# Calculate the statistical measure\n",
    "mean = np.mean(data)\n",
    "\n",
    "# Calculate the standard error\n",
    "std_error = stats.sem(data)\n",
    "\n",
    "# Calculate the confidence interval\n",
    "confidence_interval = stats.t.interval(confidence_level, len(data)-1, loc=mean, scale=std_error)\n",
    "\n",
    "print(\"Confidence Interval:\")\n",
    "print(f\"{confidence_interval[0]} - {confidence_interval[1]}\")\n"
   ]
  },
  {
   "cell_type": "code",
   "execution_count": 181,
   "id": "17aa5d2a",
   "metadata": {},
   "outputs": [
    {
     "name": "stdout",
     "output_type": "stream",
     "text": [
      "Confidence Interval:\n",
      "25.20930104101185 - 27.77251714080634\n"
     ]
    }
   ],
   "source": [
    "import numpy as np\n",
    "import scipy.stats as stats\n",
    "\n",
    "data = df_filtered[\"Contribution of the construction sector to the GBD %\"]\n",
    "confidence_level = 0.95\n",
    "\n",
    "# Calculate the statistical measure\n",
    "mean = np.mean(data)\n",
    "\n",
    "# Calculate the standard error\n",
    "std_error = stats.sem(data)\n",
    "\n",
    "# Calculate the confidence interval\n",
    "confidence_interval = stats.t.interval(confidence_level, len(data)-1, loc=mean, scale=std_error)\n",
    "\n",
    "print(\"Confidence Interval:\")\n",
    "print(f\"{confidence_interval[0]} - {confidence_interval[1]}\")"
   ]
  },
  {
   "attachments": {},
   "cell_type": "markdown",
   "id": "9ca2cf54",
   "metadata": {},
   "source": [
    "Bagimsiz orneklem t testi"
   ]
  },
  {
   "cell_type": "code",
   "execution_count": 189,
   "id": "03feff94",
   "metadata": {},
   "outputs": [
    {
     "name": "stdout",
     "output_type": "stream",
     "text": [
      "Independent Two-Sample t-Test Results:\n",
      "========================================\n",
      "Null Hypothesis:  There is no difference in the mean Contribution of the construction sector to the GBD % between the two groups.\n",
      "Alternative Hypothesis:  There is a difference in the mean Contribution of the construction sector to the GBD % between the two groups.\n",
      "Confidence Level:  0.95\n",
      "========================================\n",
      "t-statistic: 7.717771185099637\n",
      "p-value: 5.2698547119900345e-08\n"
     ]
    }
   ],
   "source": [
    "import scipy.stats as stats\n",
    "\n",
    "# Ireland data\n",
    "ireland_data = df_filtered[df_filtered[\"Country\"] == \"Ireland\"][\"Contribution of the construction sector to the GBD %\"]\n",
    "\n",
    "# Other country data\n",
    "other_country_data = df_filtered[df_filtered[\"Country\"] == \"Croatia\"][\"Contribution of the construction sector to the GBD %\"]\n",
    "\n",
    "# Independent two-sample t-test\n",
    "t_statistic, p_value = stats.ttest_ind(ireland_data, other_country_data, equal_var=False)\n",
    "\n",
    "# Specify hypotheses\n",
    "null_hypothesis = \"There is no difference in the mean Contribution of the construction sector to the GBD % between the two groups.\"\n",
    "alternative_hypothesis = \"There is a difference in the mean Contribution of the construction sector to the GBD % between the two groups.\"\n",
    "\n",
    "# Confidence level\n",
    "confidence_level = 0.95\n",
    "\n",
    "# Print the results\n",
    "print(\"Independent Two-Sample t-Test Results:\")\n",
    "print(\"========================================\")\n",
    "print(\"Null Hypothesis: \", null_hypothesis)\n",
    "print(\"Alternative Hypothesis: \", alternative_hypothesis)\n",
    "print(\"Confidence Level: \", confidence_level)\n",
    "print(\"========================================\")\n",
    "print(\"t-statistic:\", t_statistic)\n",
    "print(\"p-value:\", p_value)\n"
   ]
  },
  {
   "attachments": {},
   "cell_type": "markdown",
   "id": "596ff5a5",
   "metadata": {},
   "source": [
    "Tek Örneklem t-testi:"
   ]
  },
  {
   "cell_type": "code",
   "execution_count": 195,
   "id": "d0640c7c",
   "metadata": {},
   "outputs": [
    {
     "name": "stdout",
     "output_type": "stream",
     "text": [
      "One-Sample t-Test Results:\n",
      "========================================\n",
      "Null Hypothesis:  The mean contribution of the construction sector to the GBD % in Ireland is 30.0%.\n",
      "Alternative Hypothesis:  The mean contribution of the construction sector to the GBD % in Ireland is not equal to 30.0%.\n",
      "========================================\n",
      "t-statistic: 0.8679745397869091\n",
      "p-value: 0.39521924150332277\n"
     ]
    }
   ],
   "source": [
    "import scipy.stats as stats\n",
    "\n",
    "# Ireland data\n",
    "ireland_data = df_filtered[df_filtered[\"Country\"] == \"Ireland\"][\"Contribution of the construction sector to the GBD %\"]\n",
    "\n",
    "# Expected mean value\n",
    "expected_mean = 30.0\n",
    "\n",
    "# One-Sample t-Test\n",
    "t_statistic, p_value = stats.ttest_1samp(ireland_data, expected_mean)\n",
    "\n",
    "# Specify hypotheses\n",
    "null_hypothesis = f\"The mean contribution of the construction sector to the GBD % in Ireland is {expected_mean}%.\"\n",
    "alternative_hypothesis = f\"The mean contribution of the construction sector to the GBD % in Ireland is not equal to {expected_mean}%.\"\n",
    "\n",
    "# Print the results\n",
    "print(\"One-Sample t-Test Results:\")\n",
    "print(\"========================================\")\n",
    "print(\"Null Hypothesis: \", null_hypothesis)\n",
    "print(\"Alternative Hypothesis: \", alternative_hypothesis)\n",
    "print(\"========================================\")\n",
    "print(\"t-statistic:\", t_statistic)\n",
    "print(\"p-value:\", p_value)\n",
    "\n"
   ]
  },
  {
   "cell_type": "code",
   "execution_count": null,
   "id": "d481671a",
   "metadata": {},
   "outputs": [],
   "source": []
  }
 ],
 "metadata": {
  "kernelspec": {
   "display_name": "Python 3 (ipykernel)",
   "language": "python",
   "name": "python3"
  },
  "language_info": {
   "codemirror_mode": {
    "name": "ipython",
    "version": 3
   },
   "file_extension": ".py",
   "mimetype": "text/x-python",
   "name": "python",
   "nbconvert_exporter": "python",
   "pygments_lexer": "ipython3",
   "version": "3.9.7"
  }
 },
 "nbformat": 4,
 "nbformat_minor": 5
}
