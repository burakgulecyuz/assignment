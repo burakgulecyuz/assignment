{
 "cells": [
  {
   "cell_type": "code",
   "execution_count": 603,
   "metadata": {},
   "outputs": [],
   "source": [
    "import pandas as pd\n",
    "import plotly.express as plt\n",
    "import plotly.graph_objects as go\n",
    "\n",
    "# Read the data from the CSV files\n",
    "file1 = \"Industry_including_construction_value_added_ _of_GDP.csv\"\n",
    "file3 = \"Labor_force_total.csv\"\n",
    "file4 = \"Unemployment_total_ _of_total_labor_force.csv\"\n",
    "\n",
    "df1 = pd.read_csv(file1)\n",
    "df2 = pd.read_csv(file3)\n",
    "df3 = pd.read_csv(file4)"
   ]
  },
  {
   "cell_type": "code",
   "execution_count": 604,
   "metadata": {},
   "outputs": [
    {
     "name": "stdout",
     "output_type": "stream",
     "text": [
      "<class 'pandas.core.frame.DataFrame'>\n",
      "RangeIndex: 68 entries, 0 to 67\n",
      "Data columns (total 24 columns):\n",
      " #   Column       Non-Null Count  Dtype  \n",
      "---  ------       --------------  -----  \n",
      " 0   Country      68 non-null     object \n",
      " 1   2000         68 non-null     object \n",
      " 2   2001         68 non-null     object \n",
      " 3   2002         68 non-null     float64\n",
      " 4   2003         68 non-null     float64\n",
      " 5   2004         68 non-null     float64\n",
      " 6   2005         68 non-null     float64\n",
      " 7   2006         68 non-null     float64\n",
      " 8   2007         68 non-null     float64\n",
      " 9   2008         68 non-null     float64\n",
      " 10  2009         68 non-null     float64\n",
      " 11  Unnamed: 11  0 non-null      float64\n",
      " 12  2010         68 non-null     float64\n",
      " 13  2011         68 non-null     float64\n",
      " 14  2012         68 non-null     float64\n",
      " 15  2013         68 non-null     float64\n",
      " 16  2014         68 non-null     float64\n",
      " 17  2015         68 non-null     float64\n",
      " 18  2016         68 non-null     float64\n",
      " 19  2017         68 non-null     float64\n",
      " 20  2018         68 non-null     float64\n",
      " 21  2019         68 non-null     object \n",
      " 22  2020         68 non-null     object \n",
      " 23  2021         68 non-null     object \n",
      "dtypes: float64(18), object(6)\n",
      "memory usage: 12.9+ KB\n"
     ]
    }
   ],
   "source": [
    "df1.info()"
   ]
  },
  {
   "cell_type": "code",
   "execution_count": 605,
   "metadata": {},
   "outputs": [
    {
     "data": {
      "text/html": [
       "<div>\n",
       "<style scoped>\n",
       "    .dataframe tbody tr th:only-of-type {\n",
       "        vertical-align: middle;\n",
       "    }\n",
       "\n",
       "    .dataframe tbody tr th {\n",
       "        vertical-align: top;\n",
       "    }\n",
       "\n",
       "    .dataframe thead th {\n",
       "        text-align: right;\n",
       "    }\n",
       "</style>\n",
       "<table border=\"1\" class=\"dataframe\">\n",
       "  <thead>\n",
       "    <tr style=\"text-align: right;\">\n",
       "      <th></th>\n",
       "      <th>Country</th>\n",
       "      <th>2000</th>\n",
       "      <th>2001</th>\n",
       "      <th>2002</th>\n",
       "      <th>2003</th>\n",
       "      <th>2004</th>\n",
       "      <th>2005</th>\n",
       "      <th>2006</th>\n",
       "      <th>2007</th>\n",
       "      <th>2008</th>\n",
       "      <th>...</th>\n",
       "      <th>2012</th>\n",
       "      <th>2013</th>\n",
       "      <th>2014</th>\n",
       "      <th>2015</th>\n",
       "      <th>2016</th>\n",
       "      <th>2017</th>\n",
       "      <th>2018</th>\n",
       "      <th>2019</th>\n",
       "      <th>2020</th>\n",
       "      <th>2021</th>\n",
       "    </tr>\n",
       "  </thead>\n",
       "  <tbody>\n",
       "    <tr>\n",
       "      <th>0</th>\n",
       "      <td>Ireland</td>\n",
       "      <td>31.5</td>\n",
       "      <td>34.1</td>\n",
       "      <td>35.1</td>\n",
       "      <td>32.3</td>\n",
       "      <td>30.8</td>\n",
       "      <td>30.0</td>\n",
       "      <td>30.1</td>\n",
       "      <td>28.5</td>\n",
       "      <td>25.9</td>\n",
       "      <td>...</td>\n",
       "      <td>23.9</td>\n",
       "      <td>23.9</td>\n",
       "      <td>24.3</td>\n",
       "      <td>38.2</td>\n",
       "      <td>36.9</td>\n",
       "      <td>35.9</td>\n",
       "      <td>36.7</td>\n",
       "      <td>35.4</td>\n",
       "      <td>37.5</td>\n",
       "      <td>37.8</td>\n",
       "    </tr>\n",
       "    <tr>\n",
       "      <th>1</th>\n",
       "      <td>Germany</td>\n",
       "      <td>27.7</td>\n",
       "      <td>27.1</td>\n",
       "      <td>26.4</td>\n",
       "      <td>26.2</td>\n",
       "      <td>26.4</td>\n",
       "      <td>26.4</td>\n",
       "      <td>27.0</td>\n",
       "      <td>27.2</td>\n",
       "      <td>26.8</td>\n",
       "      <td>...</td>\n",
       "      <td>27.3</td>\n",
       "      <td>26.8</td>\n",
       "      <td>27.0</td>\n",
       "      <td>27.1</td>\n",
       "      <td>27.6</td>\n",
       "      <td>27.5</td>\n",
       "      <td>27.3</td>\n",
       "      <td>27</td>\n",
       "      <td>26.6</td>\n",
       "      <td>26.7</td>\n",
       "    </tr>\n",
       "    <tr>\n",
       "      <th>2</th>\n",
       "      <td>Belgium</td>\n",
       "      <td>24.9</td>\n",
       "      <td>24.3</td>\n",
       "      <td>23.8</td>\n",
       "      <td>23.2</td>\n",
       "      <td>23.0</td>\n",
       "      <td>22.6</td>\n",
       "      <td>22.1</td>\n",
       "      <td>22.3</td>\n",
       "      <td>21.6</td>\n",
       "      <td>...</td>\n",
       "      <td>20.1</td>\n",
       "      <td>19.9</td>\n",
       "      <td>19.7</td>\n",
       "      <td>19.7</td>\n",
       "      <td>19.3</td>\n",
       "      <td>19.2</td>\n",
       "      <td>18.9</td>\n",
       "      <td>19.3</td>\n",
       "      <td>19.5</td>\n",
       "      <td>19.6</td>\n",
       "    </tr>\n",
       "    <tr>\n",
       "      <th>3</th>\n",
       "      <td>Denmark</td>\n",
       "      <td>23.7</td>\n",
       "      <td>22.9</td>\n",
       "      <td>22.7</td>\n",
       "      <td>22.2</td>\n",
       "      <td>22.1</td>\n",
       "      <td>22.2</td>\n",
       "      <td>22.8</td>\n",
       "      <td>22.2</td>\n",
       "      <td>22.6</td>\n",
       "      <td>...</td>\n",
       "      <td>20.4</td>\n",
       "      <td>20.1</td>\n",
       "      <td>19.8</td>\n",
       "      <td>20.0</td>\n",
       "      <td>20.7</td>\n",
       "      <td>20.7</td>\n",
       "      <td>20.8</td>\n",
       "      <td>20.7</td>\n",
       "      <td>20</td>\n",
       "      <td>19.3</td>\n",
       "    </tr>\n",
       "    <tr>\n",
       "      <th>4</th>\n",
       "      <td>Greece</td>\n",
       "      <td>18.7</td>\n",
       "      <td>19.3</td>\n",
       "      <td>19.4</td>\n",
       "      <td>20.5</td>\n",
       "      <td>20.3</td>\n",
       "      <td>17.8</td>\n",
       "      <td>20.0</td>\n",
       "      <td>18.0</td>\n",
       "      <td>15.7</td>\n",
       "      <td>...</td>\n",
       "      <td>14.8</td>\n",
       "      <td>15.1</td>\n",
       "      <td>14.1</td>\n",
       "      <td>14.5</td>\n",
       "      <td>14.5</td>\n",
       "      <td>13.7</td>\n",
       "      <td>13.6</td>\n",
       "      <td>13.4</td>\n",
       "      <td>15</td>\n",
       "      <td>15.3</td>\n",
       "    </tr>\n",
       "  </tbody>\n",
       "</table>\n",
       "<p>5 rows × 24 columns</p>\n",
       "</div>"
      ],
      "text/plain": [
       "   Country  2000  2001  2002  2003  2004  2005  2006  2007  2008  ...  2012  \\\n",
       "0  Ireland  31.5  34.1  35.1  32.3  30.8  30.0  30.1  28.5  25.9  ...  23.9   \n",
       "1  Germany  27.7  27.1  26.4  26.2  26.4  26.4  27.0  27.2  26.8  ...  27.3   \n",
       "2  Belgium  24.9  24.3  23.8  23.2  23.0  22.6  22.1  22.3  21.6  ...  20.1   \n",
       "3  Denmark  23.7  22.9  22.7  22.2  22.1  22.2  22.8  22.2  22.6  ...  20.4   \n",
       "4   Greece  18.7  19.3  19.4  20.5  20.3  17.8  20.0  18.0  15.7  ...  14.8   \n",
       "\n",
       "   2013  2014  2015  2016  2017  2018  2019  2020  2021  \n",
       "0  23.9  24.3  38.2  36.9  35.9  36.7  35.4  37.5  37.8  \n",
       "1  26.8  27.0  27.1  27.6  27.5  27.3    27  26.6  26.7  \n",
       "2  19.9  19.7  19.7  19.3  19.2  18.9  19.3  19.5  19.6  \n",
       "3  20.1  19.8  20.0  20.7  20.7  20.8  20.7    20  19.3  \n",
       "4  15.1  14.1  14.5  14.5  13.7  13.6  13.4    15  15.3  \n",
       "\n",
       "[5 rows x 24 columns]"
      ]
     },
     "execution_count": 605,
     "metadata": {},
     "output_type": "execute_result"
    }
   ],
   "source": [
    "df1.head()"
   ]
  },
  {
   "cell_type": "code",
   "execution_count": 606,
   "metadata": {},
   "outputs": [
    {
     "data": {
      "text/html": [
       "<div>\n",
       "<style scoped>\n",
       "    .dataframe tbody tr th:only-of-type {\n",
       "        vertical-align: middle;\n",
       "    }\n",
       "\n",
       "    .dataframe tbody tr th {\n",
       "        vertical-align: top;\n",
       "    }\n",
       "\n",
       "    .dataframe thead th {\n",
       "        text-align: right;\n",
       "    }\n",
       "</style>\n",
       "<table border=\"1\" class=\"dataframe\">\n",
       "  <thead>\n",
       "    <tr style=\"text-align: right;\">\n",
       "      <th></th>\n",
       "      <th>Country</th>\n",
       "      <th>2000</th>\n",
       "      <th>2001</th>\n",
       "      <th>2002</th>\n",
       "      <th>2003</th>\n",
       "      <th>Unnamed: 5</th>\n",
       "      <th>2004</th>\n",
       "      <th>2005</th>\n",
       "      <th>2006</th>\n",
       "      <th>2007</th>\n",
       "      <th>...</th>\n",
       "      <th>2012</th>\n",
       "      <th>2013</th>\n",
       "      <th>2014</th>\n",
       "      <th>2015</th>\n",
       "      <th>2016</th>\n",
       "      <th>2017</th>\n",
       "      <th>2018</th>\n",
       "      <th>2019</th>\n",
       "      <th>2020</th>\n",
       "      <th>2021</th>\n",
       "    </tr>\n",
       "  </thead>\n",
       "  <tbody>\n",
       "    <tr>\n",
       "      <th>0</th>\n",
       "      <td>Ireland</td>\n",
       "      <td>1,862,430.00</td>\n",
       "      <td>1,898,123.00</td>\n",
       "      <td>1,941,828.00</td>\n",
       "      <td>1,984,446.00</td>\n",
       "      <td>NaN</td>\n",
       "      <td>2,033,886.00</td>\n",
       "      <td>2,151,141.00</td>\n",
       "      <td>2,241,382.00</td>\n",
       "      <td>2,336,096.00</td>\n",
       "      <td>...</td>\n",
       "      <td>2,225,018.00</td>\n",
       "      <td>2,247,873.00</td>\n",
       "      <td>2,258,498.00</td>\n",
       "      <td>2,285,833.00</td>\n",
       "      <td>2,330,010.00</td>\n",
       "      <td>2,354,153.00</td>\n",
       "      <td>2,397,838.00</td>\n",
       "      <td>2,446,760.00</td>\n",
       "      <td>2,432,234.00</td>\n",
       "      <td>2,551,561.00</td>\n",
       "    </tr>\n",
       "    <tr>\n",
       "      <th>1</th>\n",
       "      <td>Germany</td>\n",
       "      <td>39,865,801.00</td>\n",
       "      <td>40,029,198.00</td>\n",
       "      <td>40,056,637.00</td>\n",
       "      <td>40,236,914.00</td>\n",
       "      <td>NaN</td>\n",
       "      <td>40,039,826.00</td>\n",
       "      <td>41,239,999.00</td>\n",
       "      <td>41,693,116.00</td>\n",
       "      <td>41,861,246.00</td>\n",
       "      <td>...</td>\n",
       "      <td>41,853,628.00</td>\n",
       "      <td>42,212,988.00</td>\n",
       "      <td>42,458,390.00</td>\n",
       "      <td>42,660,629.00</td>\n",
       "      <td>43,567,225.00</td>\n",
       "      <td>43,819,028.00</td>\n",
       "      <td>43,935,038.00</td>\n",
       "      <td>44,433,744.00</td>\n",
       "      <td>43,501,190.00</td>\n",
       "      <td>43,386,527.00</td>\n",
       "    </tr>\n",
       "    <tr>\n",
       "      <th>2</th>\n",
       "      <td>Belgium</td>\n",
       "      <td>4,416,525.00</td>\n",
       "      <td>4,315,763.00</td>\n",
       "      <td>4,365,043.00</td>\n",
       "      <td>4,402,418.00</td>\n",
       "      <td>NaN</td>\n",
       "      <td>4,485,839.00</td>\n",
       "      <td>4,626,679.00</td>\n",
       "      <td>4,646,803.00</td>\n",
       "      <td>4,728,844.00</td>\n",
       "      <td>...</td>\n",
       "      <td>4,910,968.00</td>\n",
       "      <td>4,962,050.00</td>\n",
       "      <td>4,978,926.00</td>\n",
       "      <td>4,989,597.00</td>\n",
       "      <td>4,997,187.00</td>\n",
       "      <td>5,086,330.00</td>\n",
       "      <td>5,144,068.00</td>\n",
       "      <td>5,194,405.00</td>\n",
       "      <td>5,167,188.00</td>\n",
       "      <td>5,262,812.00</td>\n",
       "    </tr>\n",
       "    <tr>\n",
       "      <th>3</th>\n",
       "      <td>Denmark</td>\n",
       "      <td>2,853,060.00</td>\n",
       "      <td>2,841,507.00</td>\n",
       "      <td>2,868,928.00</td>\n",
       "      <td>2,868,194.00</td>\n",
       "      <td>NaN</td>\n",
       "      <td>2,895,623.00</td>\n",
       "      <td>2,893,154.00</td>\n",
       "      <td>2,917,717.00</td>\n",
       "      <td>2,924,753.00</td>\n",
       "      <td>...</td>\n",
       "      <td>2,871,734.00</td>\n",
       "      <td>2,850,392.00</td>\n",
       "      <td>2,865,028.00</td>\n",
       "      <td>2,895,364.00</td>\n",
       "      <td>2,939,677.00</td>\n",
       "      <td>2,966,464.00</td>\n",
       "      <td>2,990,219.00</td>\n",
       "      <td>3,032,098.00</td>\n",
       "      <td>3,028,252.00</td>\n",
       "      <td>3,070,703.00</td>\n",
       "    </tr>\n",
       "    <tr>\n",
       "      <th>4</th>\n",
       "      <td>Greece</td>\n",
       "      <td>4,860,889.00</td>\n",
       "      <td>4,819,343.00</td>\n",
       "      <td>4,881,094.00</td>\n",
       "      <td>4,935,423.00</td>\n",
       "      <td>NaN</td>\n",
       "      <td>5,019,191.00</td>\n",
       "      <td>5,019,255.00</td>\n",
       "      <td>5,043,207.00</td>\n",
       "      <td>5,031,298.00</td>\n",
       "      <td>...</td>\n",
       "      <td>4,927,758.00</td>\n",
       "      <td>4,867,433.00</td>\n",
       "      <td>4,812,543.00</td>\n",
       "      <td>4,788,983.00</td>\n",
       "      <td>4,774,947.00</td>\n",
       "      <td>4,753,621.00</td>\n",
       "      <td>4,727,112.00</td>\n",
       "      <td>4,735,273.00</td>\n",
       "      <td>4,643,796.00</td>\n",
       "      <td>4,605,900.00</td>\n",
       "    </tr>\n",
       "  </tbody>\n",
       "</table>\n",
       "<p>5 rows × 24 columns</p>\n",
       "</div>"
      ],
      "text/plain": [
       "   Country           2000           2001           2002           2003  \\\n",
       "0  Ireland   1,862,430.00   1,898,123.00   1,941,828.00   1,984,446.00   \n",
       "1  Germany  39,865,801.00  40,029,198.00  40,056,637.00  40,236,914.00   \n",
       "2  Belgium   4,416,525.00   4,315,763.00   4,365,043.00   4,402,418.00   \n",
       "3  Denmark   2,853,060.00   2,841,507.00   2,868,928.00   2,868,194.00   \n",
       "4   Greece   4,860,889.00   4,819,343.00   4,881,094.00   4,935,423.00   \n",
       "\n",
       "   Unnamed: 5           2004           2005           2006           2007  \\\n",
       "0         NaN   2,033,886.00   2,151,141.00   2,241,382.00   2,336,096.00   \n",
       "1         NaN  40,039,826.00  41,239,999.00  41,693,116.00  41,861,246.00   \n",
       "2         NaN   4,485,839.00   4,626,679.00   4,646,803.00   4,728,844.00   \n",
       "3         NaN   2,895,623.00   2,893,154.00   2,917,717.00   2,924,753.00   \n",
       "4         NaN   5,019,191.00   5,019,255.00   5,043,207.00   5,031,298.00   \n",
       "\n",
       "   ...           2012           2013           2014           2015  \\\n",
       "0  ...   2,225,018.00   2,247,873.00   2,258,498.00   2,285,833.00   \n",
       "1  ...  41,853,628.00  42,212,988.00  42,458,390.00  42,660,629.00   \n",
       "2  ...   4,910,968.00   4,962,050.00   4,978,926.00   4,989,597.00   \n",
       "3  ...   2,871,734.00   2,850,392.00   2,865,028.00   2,895,364.00   \n",
       "4  ...   4,927,758.00   4,867,433.00   4,812,543.00   4,788,983.00   \n",
       "\n",
       "            2016           2017           2018           2019           2020  \\\n",
       "0   2,330,010.00   2,354,153.00   2,397,838.00   2,446,760.00   2,432,234.00   \n",
       "1  43,567,225.00  43,819,028.00  43,935,038.00  44,433,744.00  43,501,190.00   \n",
       "2   4,997,187.00   5,086,330.00   5,144,068.00   5,194,405.00   5,167,188.00   \n",
       "3   2,939,677.00   2,966,464.00   2,990,219.00   3,032,098.00   3,028,252.00   \n",
       "4   4,774,947.00   4,753,621.00   4,727,112.00   4,735,273.00   4,643,796.00   \n",
       "\n",
       "            2021  \n",
       "0   2,551,561.00  \n",
       "1  43,386,527.00  \n",
       "2   5,262,812.00  \n",
       "3   3,070,703.00  \n",
       "4   4,605,900.00  \n",
       "\n",
       "[5 rows x 24 columns]"
      ]
     },
     "execution_count": 606,
     "metadata": {},
     "output_type": "execute_result"
    }
   ],
   "source": [
    "df2.head()"
   ]
  },
  {
   "cell_type": "code",
   "execution_count": 607,
   "metadata": {},
   "outputs": [
    {
     "name": "stdout",
     "output_type": "stream",
     "text": [
      "<class 'pandas.core.frame.DataFrame'>\n",
      "RangeIndex: 68 entries, 0 to 67\n",
      "Data columns (total 24 columns):\n",
      " #   Column      Non-Null Count  Dtype  \n",
      "---  ------      --------------  -----  \n",
      " 0   Country     68 non-null     object \n",
      " 1   2000        68 non-null     object \n",
      " 2   2001        68 non-null     object \n",
      " 3   2002        68 non-null     object \n",
      " 4   2003        68 non-null     object \n",
      " 5   Unnamed: 5  0 non-null      float64\n",
      " 6   2004        68 non-null     object \n",
      " 7   2005        68 non-null     object \n",
      " 8   2006        68 non-null     object \n",
      " 9   2007        68 non-null     object \n",
      " 10  2008        68 non-null     object \n",
      " 11  2009        68 non-null     object \n",
      " 12  2010        68 non-null     object \n",
      " 13  2011        68 non-null     object \n",
      " 14  2012        68 non-null     object \n",
      " 15  2013        68 non-null     object \n",
      " 16  2014        68 non-null     object \n",
      " 17  2015        68 non-null     object \n",
      " 18  2016        68 non-null     object \n",
      " 19  2017        68 non-null     object \n",
      " 20  2018        68 non-null     object \n",
      " 21  2019        68 non-null     object \n",
      " 22  2020        68 non-null     object \n",
      " 23  2021        68 non-null     object \n",
      "dtypes: float64(1), object(23)\n",
      "memory usage: 12.9+ KB\n"
     ]
    }
   ],
   "source": [
    "df2.info()"
   ]
  },
  {
   "cell_type": "code",
   "execution_count": 608,
   "metadata": {},
   "outputs": [
    {
     "data": {
      "text/html": [
       "<div>\n",
       "<style scoped>\n",
       "    .dataframe tbody tr th:only-of-type {\n",
       "        vertical-align: middle;\n",
       "    }\n",
       "\n",
       "    .dataframe tbody tr th {\n",
       "        vertical-align: top;\n",
       "    }\n",
       "\n",
       "    .dataframe thead th {\n",
       "        text-align: right;\n",
       "    }\n",
       "</style>\n",
       "<table border=\"1\" class=\"dataframe\">\n",
       "  <thead>\n",
       "    <tr style=\"text-align: right;\">\n",
       "      <th></th>\n",
       "      <th>Country</th>\n",
       "      <th>2000</th>\n",
       "      <th>2001</th>\n",
       "      <th>2002</th>\n",
       "      <th>2003</th>\n",
       "      <th>2004</th>\n",
       "      <th>2005</th>\n",
       "      <th>2006</th>\n",
       "      <th>2007</th>\n",
       "      <th>2008</th>\n",
       "      <th>...</th>\n",
       "      <th>2012</th>\n",
       "      <th>2013</th>\n",
       "      <th>2014</th>\n",
       "      <th>2015</th>\n",
       "      <th>2016</th>\n",
       "      <th>2017</th>\n",
       "      <th>2018</th>\n",
       "      <th>2019</th>\n",
       "      <th>2020</th>\n",
       "      <th>2021</th>\n",
       "    </tr>\n",
       "  </thead>\n",
       "  <tbody>\n",
       "    <tr>\n",
       "      <th>0</th>\n",
       "      <td>Ireland</td>\n",
       "      <td>4.3</td>\n",
       "      <td>3.7</td>\n",
       "      <td>4.2</td>\n",
       "      <td>4.5</td>\n",
       "      <td>4.5</td>\n",
       "      <td>4.3</td>\n",
       "      <td>4.4</td>\n",
       "      <td>5</td>\n",
       "      <td>6.8</td>\n",
       "      <td>...</td>\n",
       "      <td>15.5</td>\n",
       "      <td>13.7</td>\n",
       "      <td>11.9</td>\n",
       "      <td>9.9</td>\n",
       "      <td>8.4</td>\n",
       "      <td>6.7</td>\n",
       "      <td>5.7</td>\n",
       "      <td>5</td>\n",
       "      <td>5.6</td>\n",
       "      <td>6.2</td>\n",
       "    </tr>\n",
       "    <tr>\n",
       "      <th>1</th>\n",
       "      <td>Germany</td>\n",
       "      <td>7.9</td>\n",
       "      <td>7.8</td>\n",
       "      <td>8.5</td>\n",
       "      <td>9.8</td>\n",
       "      <td>10.7</td>\n",
       "      <td>11.2</td>\n",
       "      <td>10.3</td>\n",
       "      <td>8.7</td>\n",
       "      <td>7.5</td>\n",
       "      <td>...</td>\n",
       "      <td>5.4</td>\n",
       "      <td>5.2</td>\n",
       "      <td>5</td>\n",
       "      <td>4.6</td>\n",
       "      <td>4.1</td>\n",
       "      <td>3.8</td>\n",
       "      <td>3.4</td>\n",
       "      <td>3.1</td>\n",
       "      <td>3.9</td>\n",
       "      <td>3.6</td>\n",
       "    </tr>\n",
       "    <tr>\n",
       "      <th>2</th>\n",
       "      <td>Belgium</td>\n",
       "      <td>6.6</td>\n",
       "      <td>6.2</td>\n",
       "      <td>6.9</td>\n",
       "      <td>7.7</td>\n",
       "      <td>7.4</td>\n",
       "      <td>8.4</td>\n",
       "      <td>8.3</td>\n",
       "      <td>7.5</td>\n",
       "      <td>7</td>\n",
       "      <td>...</td>\n",
       "      <td>7.5</td>\n",
       "      <td>8.4</td>\n",
       "      <td>8.5</td>\n",
       "      <td>8.5</td>\n",
       "      <td>7.8</td>\n",
       "      <td>7.1</td>\n",
       "      <td>6</td>\n",
       "      <td>5.4</td>\n",
       "      <td>5.6</td>\n",
       "      <td>6.3</td>\n",
       "    </tr>\n",
       "    <tr>\n",
       "      <th>3</th>\n",
       "      <td>Denmark</td>\n",
       "      <td>4.5</td>\n",
       "      <td>4.2</td>\n",
       "      <td>4.3</td>\n",
       "      <td>5.4</td>\n",
       "      <td>5.2</td>\n",
       "      <td>4.8</td>\n",
       "      <td>3.9</td>\n",
       "      <td>3.8</td>\n",
       "      <td>3.7</td>\n",
       "      <td>...</td>\n",
       "      <td>7.8</td>\n",
       "      <td>7.4</td>\n",
       "      <td>6.9</td>\n",
       "      <td>6.3</td>\n",
       "      <td>6</td>\n",
       "      <td>5.8</td>\n",
       "      <td>5.1</td>\n",
       "      <td>5</td>\n",
       "      <td>5.6</td>\n",
       "      <td>5.1</td>\n",
       "    </tr>\n",
       "    <tr>\n",
       "      <th>4</th>\n",
       "      <td>Greece</td>\n",
       "      <td>11.3</td>\n",
       "      <td>10.8</td>\n",
       "      <td>10.4</td>\n",
       "      <td>9.8</td>\n",
       "      <td>10.6</td>\n",
       "      <td>10.1</td>\n",
       "      <td>8.9</td>\n",
       "      <td>8.4</td>\n",
       "      <td>7.7</td>\n",
       "      <td>...</td>\n",
       "      <td>24.7</td>\n",
       "      <td>27.7</td>\n",
       "      <td>26.7</td>\n",
       "      <td>25</td>\n",
       "      <td>23.5</td>\n",
       "      <td>21.4</td>\n",
       "      <td>19.2</td>\n",
       "      <td>17</td>\n",
       "      <td>15.9</td>\n",
       "      <td>14.7</td>\n",
       "    </tr>\n",
       "  </tbody>\n",
       "</table>\n",
       "<p>5 rows × 24 columns</p>\n",
       "</div>"
      ],
      "text/plain": [
       "   Country  2000  2001  2002 2003  2004  2005  2006 2007 2008  ...  2012  \\\n",
       "0  Ireland   4.3   3.7   4.2  4.5   4.5   4.3   4.4    5  6.8  ...  15.5   \n",
       "1  Germany   7.9   7.8   8.5  9.8  10.7  11.2  10.3  8.7  7.5  ...   5.4   \n",
       "2  Belgium   6.6   6.2   6.9  7.7   7.4   8.4   8.3  7.5    7  ...   7.5   \n",
       "3  Denmark   4.5   4.2   4.3  5.4   5.2   4.8   3.9  3.8  3.7  ...   7.8   \n",
       "4   Greece  11.3  10.8  10.4  9.8  10.6  10.1   8.9  8.4  7.7  ...  24.7   \n",
       "\n",
       "   2013  2014 2015  2016  2017  2018 2019  2020  2021  \n",
       "0  13.7  11.9  9.9   8.4   6.7   5.7    5   5.6   6.2  \n",
       "1   5.2     5  4.6   4.1   3.8   3.4  3.1   3.9   3.6  \n",
       "2   8.4   8.5  8.5   7.8   7.1     6  5.4   5.6   6.3  \n",
       "3   7.4   6.9  6.3     6   5.8   5.1    5   5.6   5.1  \n",
       "4  27.7  26.7   25  23.5  21.4  19.2   17  15.9  14.7  \n",
       "\n",
       "[5 rows x 24 columns]"
      ]
     },
     "execution_count": 608,
     "metadata": {},
     "output_type": "execute_result"
    }
   ],
   "source": [
    "df3.head()"
   ]
  },
  {
   "cell_type": "code",
   "execution_count": 609,
   "metadata": {},
   "outputs": [
    {
     "name": "stdout",
     "output_type": "stream",
     "text": [
      "<class 'pandas.core.frame.DataFrame'>\n",
      "RangeIndex: 68 entries, 0 to 67\n",
      "Data columns (total 24 columns):\n",
      " #   Column       Non-Null Count  Dtype  \n",
      "---  ------       --------------  -----  \n",
      " 0   Country      68 non-null     object \n",
      " 1   2000         68 non-null     object \n",
      " 2   2001         68 non-null     object \n",
      " 3   2002         68 non-null     object \n",
      " 4   2003         68 non-null     object \n",
      " 5   2004         68 non-null     object \n",
      " 6   2005         68 non-null     object \n",
      " 7   2006         68 non-null     object \n",
      " 8   2007         68 non-null     object \n",
      " 9   2008         68 non-null     object \n",
      " 10  2009         68 non-null     object \n",
      " 11  Unnamed: 11  0 non-null      float64\n",
      " 12  2010         68 non-null     object \n",
      " 13  2011         68 non-null     object \n",
      " 14  2012         68 non-null     object \n",
      " 15  2013         68 non-null     object \n",
      " 16  2014         68 non-null     object \n",
      " 17  2015         68 non-null     object \n",
      " 18  2016         68 non-null     object \n",
      " 19  2017         68 non-null     object \n",
      " 20  2018         68 non-null     object \n",
      " 21  2019         68 non-null     object \n",
      " 22  2020         68 non-null     object \n",
      " 23  2021         68 non-null     object \n",
      "dtypes: float64(1), object(23)\n",
      "memory usage: 12.9+ KB\n"
     ]
    }
   ],
   "source": [
    "df3.info()"
   ]
  },
  {
   "attachments": {},
   "cell_type": "markdown",
   "metadata": {},
   "source": [
    "## Data Cleaning and Manipulation"
   ]
  },
  {
   "attachments": {},
   "cell_type": "markdown",
   "metadata": {},
   "source": [
    "In this step, we have identified some unnamed and empty columns in our datasets, and we will remove them."
   ]
  },
  {
   "cell_type": "code",
   "execution_count": 610,
   "metadata": {},
   "outputs": [],
   "source": [
    "def drop_unnamed_columns(df: pd.DataFrame) -> pd.DataFrame:\n",
    "    \"\"\"Drops all columns from a pandas DataFrame that contain 'Unnamed' in their name.\n",
    "    \n",
    "    Args:\n",
    "        df: The pandas DataFrame from which the columns will be dropped.\n",
    "    \n",
    "    Returns:\n",
    "        A new pandas DataFrame with the specified columns dropped.\n",
    "    \"\"\"\n",
    "    return df.loc[:, ~df.columns.str.contains('Unnamed')]\n",
    "\n",
    "# Drop all columns containing 'Unnamed' in their name from each DataFrame\n",
    "df1 = drop_unnamed_columns(df1)\n",
    "df2 = drop_unnamed_columns(df2)\n",
    "df3 = drop_unnamed_columns(df3)\n"
   ]
  },
  {
   "attachments": {},
   "cell_type": "markdown",
   "metadata": {},
   "source": [
    "We have identified that some values in our datasets are \"..\". Therefore, let's convert these values to NaN (Not a Number) first, so that we can easily convert our values to float or int data types later on."
   ]
  },
  {
   "cell_type": "code",
   "execution_count": 611,
   "metadata": {},
   "outputs": [],
   "source": [
    "import numpy as np\n",
    "\n",
    "def replace_dots_with_nan(df: pd.DataFrame) -> pd.DataFrame:\n",
    "    \"\"\"Replaces all '..' values in a pandas DataFrame with a NaN value.\n",
    "    \n",
    "    Args:\n",
    "        df: The pandas DataFrame in which the replacements will be made.\n",
    "    \n",
    "    Returns:\n",
    "        A new pandas DataFrame with the '..' values replaced with NaN.\n",
    "    \"\"\"\n",
    "    return df.replace(\"..\", np.nan)\n",
    "\n",
    "# Replace '..' with NaN in each DataFrame\n",
    "df1 = replace_dots_with_nan(df1)\n",
    "df2 = replace_dots_with_nan(df2)\n",
    "df3 = replace_dots_with_nan(df3)\n"
   ]
  },
  {
   "attachments": {},
   "cell_type": "markdown",
   "metadata": {},
   "source": [
    "We have noticed that some values in our datasets are of the 'object' data type. Let's convert them to float values so that we can process them easily. However, the code provided above is not working for df2. Due to the dirty nature of our data, we will only perform the conversion for df3 at the moment."
   ]
  },
  {
   "cell_type": "code",
   "execution_count": 612,
   "metadata": {},
   "outputs": [],
   "source": [
    "#lets change the data type of all columns except the first one\n",
    "df1.iloc[:, 1:] = df1.iloc[:, 1:].astype(float)\n",
    "#change the data type of all columns except the first one\n",
    "df3.iloc[:, 1:] = df3.iloc[:, 1:].astype(float)"
   ]
  },
  {
   "attachments": {},
   "cell_type": "markdown",
   "metadata": {},
   "source": [
    "First, in order to convert our values in df2 to numeric data, we noticed that there are unnecessary decimal points on the right side of the values. We truncated and removed those decimal points. We also observed that some values contain \"N\" values, and we converted these values to NaN. Finally, we completely removed commas and decimal points, and converted our values to float."
   ]
  },
  {
   "cell_type": "code",
   "execution_count": 613,
   "metadata": {},
   "outputs": [],
   "source": [
    "# Remove trailing zeros after dots\n",
    "df2.iloc[:, 1:] = df2.iloc[:, 1:].applymap(lambda x: str(x).replace(\".\", \"\").rstrip(\".\") if isinstance(x, str) else x)\n",
    "# Remove last two numbers\n",
    "df2.iloc[:, 1:] = df2.iloc[:, 1:].applymap(lambda x: str(x)[:-2] if isinstance(x, str) else x)\n",
    "#find N values\n",
    "df2.iloc[:, 1:] = df2.iloc[:, 1:].applymap(lambda x: str(x).replace(\"N\", \"NaN\") if isinstance(x, str) else x)\n",
    "# Remove non-numeric characters from the values\n",
    "df2.iloc[:, 1:] = df2.iloc[:, 1:].replace('[,.]', '', regex=True).astype(float)"
   ]
  },
  {
   "attachments": {},
   "cell_type": "markdown",
   "metadata": {},
   "source": [
    "In order to visualize our values on a map, we would like to merge our datasets with a file containing country codes that we will provide shortly. Therefore, we are preparing our datasets for this task."
   ]
  },
  {
   "cell_type": "code",
   "execution_count": 614,
   "metadata": {},
   "outputs": [],
   "source": [
    "def melt_dataframe(df: pd.DataFrame) -> pd.DataFrame:\n",
    "    \"\"\"Melts a DataFrame, keeping the 'Country' column fixed.\n",
    "    \n",
    "    Args:\n",
    "        df: The DataFrame to melt.\n",
    "        \n",
    "    Returns:\n",
    "        A melted DataFrame.\n",
    "    \"\"\"\n",
    "    melted_df = pd.melt(df, id_vars=['Country'], value_vars=df.columns[1:])\n",
    "    return melted_df\n",
    "\n",
    "# Apply the function to each DataFrame\n",
    "melted_df = melt_dataframe(df1)\n",
    "melted_df2 = melt_dataframe(df2)\n",
    "melted_df3 = melt_dataframe(df3)\n"
   ]
  },
  {
   "cell_type": "code",
   "execution_count": 615,
   "metadata": {},
   "outputs": [
    {
     "data": {
      "text/html": [
       "<div>\n",
       "<style scoped>\n",
       "    .dataframe tbody tr th:only-of-type {\n",
       "        vertical-align: middle;\n",
       "    }\n",
       "\n",
       "    .dataframe tbody tr th {\n",
       "        vertical-align: top;\n",
       "    }\n",
       "\n",
       "    .dataframe thead th {\n",
       "        text-align: right;\n",
       "    }\n",
       "</style>\n",
       "<table border=\"1\" class=\"dataframe\">\n",
       "  <thead>\n",
       "    <tr style=\"text-align: right;\">\n",
       "      <th></th>\n",
       "      <th>Country</th>\n",
       "      <th>variable</th>\n",
       "      <th>value</th>\n",
       "    </tr>\n",
       "  </thead>\n",
       "  <tbody>\n",
       "    <tr>\n",
       "      <th>0</th>\n",
       "      <td>Ireland</td>\n",
       "      <td>2000</td>\n",
       "      <td>31.5</td>\n",
       "    </tr>\n",
       "    <tr>\n",
       "      <th>1</th>\n",
       "      <td>Germany</td>\n",
       "      <td>2000</td>\n",
       "      <td>27.7</td>\n",
       "    </tr>\n",
       "    <tr>\n",
       "      <th>2</th>\n",
       "      <td>Belgium</td>\n",
       "      <td>2000</td>\n",
       "      <td>24.9</td>\n",
       "    </tr>\n",
       "    <tr>\n",
       "      <th>3</th>\n",
       "      <td>Denmark</td>\n",
       "      <td>2000</td>\n",
       "      <td>23.7</td>\n",
       "    </tr>\n",
       "    <tr>\n",
       "      <th>4</th>\n",
       "      <td>Greece</td>\n",
       "      <td>2000</td>\n",
       "      <td>18.7</td>\n",
       "    </tr>\n",
       "  </tbody>\n",
       "</table>\n",
       "</div>"
      ],
      "text/plain": [
       "   Country variable  value\n",
       "0  Ireland     2000   31.5\n",
       "1  Germany     2000   27.7\n",
       "2  Belgium     2000   24.9\n",
       "3  Denmark     2000   23.7\n",
       "4   Greece     2000   18.7"
      ]
     },
     "execution_count": 615,
     "metadata": {},
     "output_type": "execute_result"
    }
   ],
   "source": [
    "melted_df.head()"
   ]
  },
  {
   "cell_type": "code",
   "execution_count": 616,
   "metadata": {},
   "outputs": [],
   "source": [
    "#change 1st column name to Year\n",
    "melted_df = melted_df.rename(columns={'variable': 'Year'})\n",
    "melted_df2 = melted_df2.rename(columns={'variable': 'Year'})\n",
    "melted_df3 = melted_df3.rename(columns={'variable': 'Year'})"
   ]
  },
  {
   "cell_type": "code",
   "execution_count": 617,
   "metadata": {},
   "outputs": [],
   "source": [
    "#change 2st column name to Contribution of the construction sector to the GBD %\n",
    "melted_df = melted_df.rename(columns={'value': 'Contribution of the construction sector to the GBD %'})\n",
    "#change the second column name to Labor force, total\n",
    "melted_df2 = melted_df2.rename(columns={'value': 'Labor force, total'})\n",
    "#change the second column name to Unemployment, total (% of total labor force)\n",
    "melted_df3 = melted_df3.rename(columns={'value': 'Unemployment, total (% of total labor force)'})"
   ]
  },
  {
   "cell_type": "code",
   "execution_count": 618,
   "metadata": {},
   "outputs": [],
   "source": [
    "#Read the country codes file\n",
    "country_codes = pd.read_csv(\"country_codes.tsv\", sep=\"\\t\") # Read the country codes file"
   ]
  },
  {
   "cell_type": "code",
   "execution_count": 619,
   "metadata": {},
   "outputs": [
    {
     "data": {
      "text/html": [
       "<div>\n",
       "<style scoped>\n",
       "    .dataframe tbody tr th:only-of-type {\n",
       "        vertical-align: middle;\n",
       "    }\n",
       "\n",
       "    .dataframe tbody tr th {\n",
       "        vertical-align: top;\n",
       "    }\n",
       "\n",
       "    .dataframe thead th {\n",
       "        text-align: right;\n",
       "    }\n",
       "</style>\n",
       "<table border=\"1\" class=\"dataframe\">\n",
       "  <thead>\n",
       "    <tr style=\"text-align: right;\">\n",
       "      <th></th>\n",
       "      <th>Country</th>\n",
       "      <th>Alpha-2 code</th>\n",
       "      <th>Alpha-3 code</th>\n",
       "      <th>Numeric</th>\n",
       "    </tr>\n",
       "  </thead>\n",
       "  <tbody>\n",
       "    <tr>\n",
       "      <th>0</th>\n",
       "      <td>Afghanistan</td>\n",
       "      <td>AF</td>\n",
       "      <td>AFG</td>\n",
       "      <td>4</td>\n",
       "    </tr>\n",
       "    <tr>\n",
       "      <th>1</th>\n",
       "      <td>Albania</td>\n",
       "      <td>AL</td>\n",
       "      <td>ALB</td>\n",
       "      <td>8</td>\n",
       "    </tr>\n",
       "    <tr>\n",
       "      <th>2</th>\n",
       "      <td>Algeria</td>\n",
       "      <td>DZ</td>\n",
       "      <td>DZA</td>\n",
       "      <td>12</td>\n",
       "    </tr>\n",
       "    <tr>\n",
       "      <th>3</th>\n",
       "      <td>American Samoa</td>\n",
       "      <td>AS</td>\n",
       "      <td>ASM</td>\n",
       "      <td>16</td>\n",
       "    </tr>\n",
       "    <tr>\n",
       "      <th>4</th>\n",
       "      <td>Andorra</td>\n",
       "      <td>AD</td>\n",
       "      <td>AND</td>\n",
       "      <td>20</td>\n",
       "    </tr>\n",
       "  </tbody>\n",
       "</table>\n",
       "</div>"
      ],
      "text/plain": [
       "          Country Alpha-2 code Alpha-3 code  Numeric\n",
       "0     Afghanistan           AF          AFG        4\n",
       "1         Albania           AL          ALB        8\n",
       "2         Algeria           DZ          DZA       12\n",
       "3  American Samoa           AS          ASM       16\n",
       "4         Andorra           AD          AND       20"
      ]
     },
     "execution_count": 619,
     "metadata": {},
     "output_type": "execute_result"
    }
   ],
   "source": [
    "country_codes.head()"
   ]
  },
  {
   "attachments": {},
   "cell_type": "markdown",
   "metadata": {},
   "source": [
    "The given code uses the pandas.merge function to merge different data frames. However, the pandas.concat function is typically used to concatenate multiple DataFrames and is often faster. However, in this case, since the merging is done based on a specific column ('Country'), merge is a more suitable option."
   ]
  },
  {
   "cell_type": "code",
   "execution_count": 620,
   "metadata": {},
   "outputs": [],
   "source": [
    "#merge melted_df's and country_codes on Country column\n",
    "merged_df2 = pd.merge(melted_df2, country_codes, on='Country', how='left')"
   ]
  },
  {
   "attachments": {},
   "cell_type": "markdown",
   "metadata": {},
   "source": [
    "We noticed that some country names do not match their codes. To address this, we have identified that the codes for these countries generally consist of the first three letters. This applies to all countries except for the United States and the United Kingdom."
   ]
  },
  {
   "cell_type": "code",
   "execution_count": 621,
   "metadata": {},
   "outputs": [],
   "source": [
    "#Fill the missing values in the 'Alpha-3 code' column with the first three letters of each country name\n",
    "merged_df2[\"Alpha-3 code\"].fillna(merged_df2[\"Country\"].str[:3].str.upper(), inplace=True)\n",
    "#change united states to USA\n",
    "merged_df2.loc[merged_df2[\"Country\"] == \"United States\", \"Alpha-3 code\"] = \"USA\"\n",
    "#change united kingdom to GBR\n",
    "merged_df2.loc[merged_df2[\"Country\"] == \"United Kingdom\", \"Alpha-3 code\"] = \"GBR\""
   ]
  },
  {
   "cell_type": "code",
   "execution_count": 622,
   "metadata": {},
   "outputs": [
    {
     "data": {
      "text/html": [
       "<div>\n",
       "<style scoped>\n",
       "    .dataframe tbody tr th:only-of-type {\n",
       "        vertical-align: middle;\n",
       "    }\n",
       "\n",
       "    .dataframe tbody tr th {\n",
       "        vertical-align: top;\n",
       "    }\n",
       "\n",
       "    .dataframe thead th {\n",
       "        text-align: right;\n",
       "    }\n",
       "</style>\n",
       "<table border=\"1\" class=\"dataframe\">\n",
       "  <thead>\n",
       "    <tr style=\"text-align: right;\">\n",
       "      <th></th>\n",
       "      <th>Country</th>\n",
       "      <th>Year</th>\n",
       "      <th>Labor force, total</th>\n",
       "      <th>Alpha-2 code</th>\n",
       "      <th>Alpha-3 code</th>\n",
       "      <th>Numeric</th>\n",
       "    </tr>\n",
       "  </thead>\n",
       "  <tbody>\n",
       "    <tr>\n",
       "      <th>0</th>\n",
       "      <td>Ireland</td>\n",
       "      <td>2000</td>\n",
       "      <td>1862430.0</td>\n",
       "      <td>IE</td>\n",
       "      <td>IRL</td>\n",
       "      <td>372.0</td>\n",
       "    </tr>\n",
       "    <tr>\n",
       "      <th>1</th>\n",
       "      <td>Germany</td>\n",
       "      <td>2000</td>\n",
       "      <td>39865801.0</td>\n",
       "      <td>DE</td>\n",
       "      <td>DEU</td>\n",
       "      <td>276.0</td>\n",
       "    </tr>\n",
       "    <tr>\n",
       "      <th>2</th>\n",
       "      <td>Belgium</td>\n",
       "      <td>2000</td>\n",
       "      <td>4416525.0</td>\n",
       "      <td>BE</td>\n",
       "      <td>BEL</td>\n",
       "      <td>56.0</td>\n",
       "    </tr>\n",
       "    <tr>\n",
       "      <th>3</th>\n",
       "      <td>Denmark</td>\n",
       "      <td>2000</td>\n",
       "      <td>2853060.0</td>\n",
       "      <td>DK</td>\n",
       "      <td>DNK</td>\n",
       "      <td>208.0</td>\n",
       "    </tr>\n",
       "    <tr>\n",
       "      <th>4</th>\n",
       "      <td>Greece</td>\n",
       "      <td>2000</td>\n",
       "      <td>4860889.0</td>\n",
       "      <td>GR</td>\n",
       "      <td>GRC</td>\n",
       "      <td>300.0</td>\n",
       "    </tr>\n",
       "  </tbody>\n",
       "</table>\n",
       "</div>"
      ],
      "text/plain": [
       "   Country  Year  Labor force, total Alpha-2 code Alpha-3 code  Numeric\n",
       "0  Ireland  2000           1862430.0           IE          IRL    372.0\n",
       "1  Germany  2000          39865801.0           DE          DEU    276.0\n",
       "2  Belgium  2000           4416525.0           BE          BEL     56.0\n",
       "3  Denmark  2000           2853060.0           DK          DNK    208.0\n",
       "4   Greece  2000           4860889.0           GR          GRC    300.0"
      ]
     },
     "execution_count": 622,
     "metadata": {},
     "output_type": "execute_result"
    }
   ],
   "source": [
    "merged_df2.head()"
   ]
  },
  {
   "attachments": {},
   "cell_type": "markdown",
   "metadata": {},
   "source": [
    "We are performing these steps in order to use them in the machine learning section, which we will apply based on the outputs obtained from the graphs and statistical information that we will examine later."
   ]
  },
  {
   "cell_type": "code",
   "execution_count": 623,
   "metadata": {},
   "outputs": [
    {
     "data": {
      "text/plain": [
       "'\" We were able to use the pandas.concat function because we didn\\'t specifically specify a column in this case.\\n'"
      ]
     },
     "execution_count": 623,
     "metadata": {},
     "output_type": "execute_result"
    }
   ],
   "source": [
    "#merge these files melted_df, melted_df2 and melted_df3\n",
    "merged_melted_df = pd.concat([melted_df, melted_df2, melted_df3], axis=1)\n",
    "\"\"\"\" We were able to use the pandas.concat function because we didn't specifically specify a column in this case.\n",
    "\"\"\""
   ]
  },
  {
   "cell_type": "code",
   "execution_count": 624,
   "metadata": {},
   "outputs": [],
   "source": [
    "# Merge these files: melted_df, melted_df2, and melted_df3\n",
    "merged_melted_df = pd.concat([melted_df, melted_df2, melted_df3], axis=1)\n",
    "# Identify duplicate columns\n",
    "duplicate_columns = merged_melted_df.columns[merged_melted_df.columns.duplicated()]\n",
    "# Drop duplicate columns\n",
    "merged_melted_df = merged_melted_df.loc[:, ~merged_melted_df.columns.duplicated()]\n",
    "# Drop NaN values from merged_melted_df\n",
    "merged_melted_df = merged_melted_df.dropna()"
   ]
  },
  {
   "cell_type": "code",
   "execution_count": 625,
   "metadata": {},
   "outputs": [
    {
     "data": {
      "text/html": [
       "<div>\n",
       "<style scoped>\n",
       "    .dataframe tbody tr th:only-of-type {\n",
       "        vertical-align: middle;\n",
       "    }\n",
       "\n",
       "    .dataframe tbody tr th {\n",
       "        vertical-align: top;\n",
       "    }\n",
       "\n",
       "    .dataframe thead th {\n",
       "        text-align: right;\n",
       "    }\n",
       "</style>\n",
       "<table border=\"1\" class=\"dataframe\">\n",
       "  <thead>\n",
       "    <tr style=\"text-align: right;\">\n",
       "      <th></th>\n",
       "      <th>Country</th>\n",
       "      <th>Year</th>\n",
       "      <th>Contribution of the construction sector to the GBD %</th>\n",
       "      <th>Labor force, total</th>\n",
       "      <th>Unemployment, total (% of total labor force)</th>\n",
       "    </tr>\n",
       "  </thead>\n",
       "  <tbody>\n",
       "    <tr>\n",
       "      <th>0</th>\n",
       "      <td>Ireland</td>\n",
       "      <td>2000</td>\n",
       "      <td>31.5</td>\n",
       "      <td>1862430.0</td>\n",
       "      <td>4.3</td>\n",
       "    </tr>\n",
       "    <tr>\n",
       "      <th>1</th>\n",
       "      <td>Germany</td>\n",
       "      <td>2000</td>\n",
       "      <td>27.7</td>\n",
       "      <td>39865801.0</td>\n",
       "      <td>7.9</td>\n",
       "    </tr>\n",
       "    <tr>\n",
       "      <th>2</th>\n",
       "      <td>Belgium</td>\n",
       "      <td>2000</td>\n",
       "      <td>24.9</td>\n",
       "      <td>4416525.0</td>\n",
       "      <td>6.6</td>\n",
       "    </tr>\n",
       "    <tr>\n",
       "      <th>3</th>\n",
       "      <td>Denmark</td>\n",
       "      <td>2000</td>\n",
       "      <td>23.7</td>\n",
       "      <td>2853060.0</td>\n",
       "      <td>4.5</td>\n",
       "    </tr>\n",
       "    <tr>\n",
       "      <th>4</th>\n",
       "      <td>Greece</td>\n",
       "      <td>2000</td>\n",
       "      <td>18.7</td>\n",
       "      <td>4860889.0</td>\n",
       "      <td>11.3</td>\n",
       "    </tr>\n",
       "    <tr>\n",
       "      <th>...</th>\n",
       "      <td>...</td>\n",
       "      <td>...</td>\n",
       "      <td>...</td>\n",
       "      <td>...</td>\n",
       "      <td>...</td>\n",
       "    </tr>\n",
       "    <tr>\n",
       "      <th>1489</th>\n",
       "      <td>South Africa</td>\n",
       "      <td>2021</td>\n",
       "      <td>24.5</td>\n",
       "      <td>23621462.0</td>\n",
       "      <td>28.8</td>\n",
       "    </tr>\n",
       "    <tr>\n",
       "      <th>1490</th>\n",
       "      <td>Thailand</td>\n",
       "      <td>2021</td>\n",
       "      <td>34.8</td>\n",
       "      <td>40332578.0</td>\n",
       "      <td>1.2</td>\n",
       "    </tr>\n",
       "    <tr>\n",
       "      <th>1492</th>\n",
       "      <td>Turkiye</td>\n",
       "      <td>2021</td>\n",
       "      <td>31.1</td>\n",
       "      <td>33317079.0</td>\n",
       "      <td>12.0</td>\n",
       "    </tr>\n",
       "    <tr>\n",
       "      <th>1493</th>\n",
       "      <td>Ukraine</td>\n",
       "      <td>2021</td>\n",
       "      <td>23.5</td>\n",
       "      <td>20285701.0</td>\n",
       "      <td>9.8</td>\n",
       "    </tr>\n",
       "    <tr>\n",
       "      <th>1495</th>\n",
       "      <td>United States</td>\n",
       "      <td>2021</td>\n",
       "      <td>17.9</td>\n",
       "      <td>166120890.0</td>\n",
       "      <td>5.4</td>\n",
       "    </tr>\n",
       "  </tbody>\n",
       "</table>\n",
       "<p>1414 rows × 5 columns</p>\n",
       "</div>"
      ],
      "text/plain": [
       "            Country  Year  \\\n",
       "0           Ireland  2000   \n",
       "1           Germany  2000   \n",
       "2           Belgium  2000   \n",
       "3           Denmark  2000   \n",
       "4            Greece  2000   \n",
       "...             ...   ...   \n",
       "1489   South Africa  2021   \n",
       "1490       Thailand  2021   \n",
       "1492        Turkiye  2021   \n",
       "1493        Ukraine  2021   \n",
       "1495  United States  2021   \n",
       "\n",
       "      Contribution of the construction sector to the GBD %  \\\n",
       "0                                                  31.5      \n",
       "1                                                  27.7      \n",
       "2                                                  24.9      \n",
       "3                                                  23.7      \n",
       "4                                                  18.7      \n",
       "...                                                 ...      \n",
       "1489                                               24.5      \n",
       "1490                                               34.8      \n",
       "1492                                               31.1      \n",
       "1493                                               23.5      \n",
       "1495                                               17.9      \n",
       "\n",
       "      Labor force, total  Unemployment, total (% of total labor force)  \n",
       "0              1862430.0                                           4.3  \n",
       "1             39865801.0                                           7.9  \n",
       "2              4416525.0                                           6.6  \n",
       "3              2853060.0                                           4.5  \n",
       "4              4860889.0                                          11.3  \n",
       "...                  ...                                           ...  \n",
       "1489          23621462.0                                          28.8  \n",
       "1490          40332578.0                                           1.2  \n",
       "1492          33317079.0                                          12.0  \n",
       "1493          20285701.0                                           9.8  \n",
       "1495         166120890.0                                           5.4  \n",
       "\n",
       "[1414 rows x 5 columns]"
      ]
     },
     "execution_count": 625,
     "metadata": {},
     "output_type": "execute_result"
    }
   ],
   "source": [
    "merged_melted_df"
   ]
  },
  {
   "attachments": {},
   "cell_type": "markdown",
   "metadata": {},
   "source": [
    "## Visualization and Statistical Analysis."
   ]
  },
  {
   "attachments": {},
   "cell_type": "markdown",
   "metadata": {},
   "source": [
    " We have data on the \"Contribution of the construction sector to the Gross Domestic Product (GDP) %,\" \"Total labor force,\" and \"Unemployment, total (% of total labor force).\" In order to analyze the \"Contribution of the construction sector to the GDP %\" in countries, it is necessary to consider the other values of the countries and examine them logically. Here, we will focus on the total labor force of countries and select two countries that are similar to Ireland. We will then display them on a graph."
   ]
  },
  {
   "attachments": {},
   "cell_type": "markdown",
   "metadata": {},
   "source": [
    "Our topic is countries, and since we have data on over 60 countries, it becomes quite challenging to examine them on a line graph or bar graph. Therefore, we will use a Choropleth map to visualize the labor force data of countries over the years.\n",
    "\n",
    "We specifically selected the \"matter\" color_continuous_scale parameter to effectively visualize the differences between countries. Additionally, we set the range_color parameter to filter the data between 1 million and 10 million to easily demonstrate the proximity of other countries' total labor force to Ireland. Currently, it is not essential for us to compare Ireland with a country that has a labor force of more than 10 million."
   ]
  },
  {
   "cell_type": "code",
   "execution_count": 626,
   "metadata": {},
   "outputs": [
    {
     "data": {
      "application/vnd.plotly.v1+json": {
       "config": {
        "plotlyServerURL": "https://plot.ly"
       },
       "data": [
        {
         "coloraxis": "coloraxis",
         "geo": "geo",
         "hovertemplate": "<b>%{hovertext}</b><br><br>Year=2000<br>Alpha-3 code=%{location}<br>Labor force, total=%{z}<extra></extra>",
         "hovertext": [
          "Ireland",
          "Germany",
          "Belgium",
          "Denmark",
          "Greece",
          "Spain",
          "Italy",
          "Netherlands",
          "Norway",
          "Austria",
          "Hungary",
          "Slovak Republic",
          "Slovenia",
          "Poland",
          "Sweden",
          "Finland",
          "Switzerland",
          "Croatia",
          "Serbia",
          "Portugal",
          "Latvia",
          "France",
          "Afghanistan",
          "Albania",
          "Algeria",
          "Argentina",
          "Australia",
          "Azerbaijan",
          "Belarus",
          "Brazil",
          "Bulgaria",
          "Canada",
          "Chile",
          "China",
          "Colombia",
          "Costa Rica",
          "Cyprus",
          "Ecuador",
          "Egypt, Arab Rep.",
          "Estonia",
          "Hong Kong SAR, China",
          "Iceland",
          "India",
          "Indonesia",
          "Israel",
          "Japan",
          "Kazakhstan",
          "Korea, Rep.",
          "Lithuania",
          "Malaysia",
          "Malta",
          "Mexico",
          "New Zealand",
          "Nigeria",
          "North Macedonia",
          "Pakistan",
          "Peru",
          "Philippines",
          "Romania",
          "Russian Federation",
          "Singapore",
          "South Africa",
          "Thailand",
          "Tunisia",
          "Turkiye",
          "Ukraine",
          "United Kingdom",
          "United States"
         ],
         "locations": [
          "IRL",
          "DEU",
          "BEL",
          "DNK",
          "GRC",
          "ESP",
          "ITA",
          "NET",
          "NOR",
          "AUT",
          "HUN",
          "SLO",
          "SVN",
          "POL",
          "SWE",
          "FIN",
          "CHE",
          "HRV",
          "SRB",
          "PRT",
          "LVA",
          "FRA",
          "AFG",
          "ALB",
          "DZA",
          "ARG",
          "AUS",
          "AZE",
          "BLR",
          "BRA",
          "BGR",
          "CAN",
          "CHL",
          "CHN",
          "COL",
          "CRI",
          "CYP",
          "ECU",
          "EGY",
          "EST",
          "HON",
          "ISL",
          "IND",
          "IDN",
          "ISR",
          "JPN",
          "KAZ",
          "KOR",
          "LTU",
          "MYS",
          "MLT",
          "MEX",
          "NZL",
          "NGA",
          "NOR",
          "PAK",
          "PER",
          "PHI",
          "ROU",
          "RUS",
          "SGP",
          "ZAF",
          "THA",
          "TUN",
          "TUR",
          "UKR",
          "GBR",
          "USA"
         ],
         "name": "",
         "type": "choropleth",
         "z": [
          1862430,
          39865801,
          4416525,
          2853060,
          4860889,
          18242081,
          23493362,
          8237559,
          2406851,
          3899806,
          4187699,
          2585455,
          958896,
          17472615,
          4486903,
          2583129,
          3998850,
          1932906,
          3503520,
          5232792,
          1095654,
          27582517,
          4594699,
          1317402,
          8926622,
          16591905,
          9523255,
          4268500,
          4792992,
          79347235,
          3459130,
          16308539,
          6281817,
          731993935,
          17858301,
          1619332,
          444376,
          5171107,
          20772661,
          677885,
          3353910,
          169444,
          393669897,
          100650982,
          2775397,
          67817652,
          7596246,
          22867804,
          1693580,
          9352131,
          154307,
          38388394,
          1943274,
          41892033,
          830995,
          44418607,
          11468982,
          29806287,
          11764752,
          73324995,
          2155004,
          18506395,
          34800731,
          3279579,
          22057291,
          23195753,
          29511805,
          146165416
         ]
        }
       ],
       "frames": [
        {
         "data": [
          {
           "coloraxis": "coloraxis",
           "geo": "geo",
           "hovertemplate": "<b>%{hovertext}</b><br><br>Year=2000<br>Alpha-3 code=%{location}<br>Labor force, total=%{z}<extra></extra>",
           "hovertext": [
            "Ireland",
            "Germany",
            "Belgium",
            "Denmark",
            "Greece",
            "Spain",
            "Italy",
            "Netherlands",
            "Norway",
            "Austria",
            "Hungary",
            "Slovak Republic",
            "Slovenia",
            "Poland",
            "Sweden",
            "Finland",
            "Switzerland",
            "Croatia",
            "Serbia",
            "Portugal",
            "Latvia",
            "France",
            "Afghanistan",
            "Albania",
            "Algeria",
            "Argentina",
            "Australia",
            "Azerbaijan",
            "Belarus",
            "Brazil",
            "Bulgaria",
            "Canada",
            "Chile",
            "China",
            "Colombia",
            "Costa Rica",
            "Cyprus",
            "Ecuador",
            "Egypt, Arab Rep.",
            "Estonia",
            "Hong Kong SAR, China",
            "Iceland",
            "India",
            "Indonesia",
            "Israel",
            "Japan",
            "Kazakhstan",
            "Korea, Rep.",
            "Lithuania",
            "Malaysia",
            "Malta",
            "Mexico",
            "New Zealand",
            "Nigeria",
            "North Macedonia",
            "Pakistan",
            "Peru",
            "Philippines",
            "Romania",
            "Russian Federation",
            "Singapore",
            "South Africa",
            "Thailand",
            "Tunisia",
            "Turkiye",
            "Ukraine",
            "United Kingdom",
            "United States"
           ],
           "locations": [
            "IRL",
            "DEU",
            "BEL",
            "DNK",
            "GRC",
            "ESP",
            "ITA",
            "NET",
            "NOR",
            "AUT",
            "HUN",
            "SLO",
            "SVN",
            "POL",
            "SWE",
            "FIN",
            "CHE",
            "HRV",
            "SRB",
            "PRT",
            "LVA",
            "FRA",
            "AFG",
            "ALB",
            "DZA",
            "ARG",
            "AUS",
            "AZE",
            "BLR",
            "BRA",
            "BGR",
            "CAN",
            "CHL",
            "CHN",
            "COL",
            "CRI",
            "CYP",
            "ECU",
            "EGY",
            "EST",
            "HON",
            "ISL",
            "IND",
            "IDN",
            "ISR",
            "JPN",
            "KAZ",
            "KOR",
            "LTU",
            "MYS",
            "MLT",
            "MEX",
            "NZL",
            "NGA",
            "NOR",
            "PAK",
            "PER",
            "PHI",
            "ROU",
            "RUS",
            "SGP",
            "ZAF",
            "THA",
            "TUN",
            "TUR",
            "UKR",
            "GBR",
            "USA"
           ],
           "name": "",
           "type": "choropleth",
           "z": [
            1862430,
            39865801,
            4416525,
            2853060,
            4860889,
            18242081,
            23493362,
            8237559,
            2406851,
            3899806,
            4187699,
            2585455,
            958896,
            17472615,
            4486903,
            2583129,
            3998850,
            1932906,
            3503520,
            5232792,
            1095654,
            27582517,
            4594699,
            1317402,
            8926622,
            16591905,
            9523255,
            4268500,
            4792992,
            79347235,
            3459130,
            16308539,
            6281817,
            731993935,
            17858301,
            1619332,
            444376,
            5171107,
            20772661,
            677885,
            3353910,
            169444,
            393669897,
            100650982,
            2775397,
            67817652,
            7596246,
            22867804,
            1693580,
            9352131,
            154307,
            38388394,
            1943274,
            41892033,
            830995,
            44418607,
            11468982,
            29806287,
            11764752,
            73324995,
            2155004,
            18506395,
            34800731,
            3279579,
            22057291,
            23195753,
            29511805,
            146165416
           ]
          }
         ],
         "name": "2000"
        },
        {
         "data": [
          {
           "coloraxis": "coloraxis",
           "geo": "geo",
           "hovertemplate": "<b>%{hovertext}</b><br><br>Year=2001<br>Alpha-3 code=%{location}<br>Labor force, total=%{z}<extra></extra>",
           "hovertext": [
            "Ireland",
            "Germany",
            "Belgium",
            "Denmark",
            "Greece",
            "Spain",
            "Italy",
            "Netherlands",
            "Norway",
            "Austria",
            "Hungary",
            "Slovak Republic",
            "Slovenia",
            "Poland",
            "Sweden",
            "Finland",
            "Switzerland",
            "Croatia",
            "Serbia",
            "Portugal",
            "Latvia",
            "France",
            "Afghanistan",
            "Albania",
            "Algeria",
            "Argentina",
            "Australia",
            "Azerbaijan",
            "Belarus",
            "Brazil",
            "Bulgaria",
            "Canada",
            "Chile",
            "China",
            "Colombia",
            "Costa Rica",
            "Cyprus",
            "Ecuador",
            "Egypt, Arab Rep.",
            "Estonia",
            "Hong Kong SAR, China",
            "Iceland",
            "India",
            "Indonesia",
            "Israel",
            "Japan",
            "Kazakhstan",
            "Korea, Rep.",
            "Lithuania",
            "Malaysia",
            "Malta",
            "Mexico",
            "New Zealand",
            "Nigeria",
            "North Macedonia",
            "Pakistan",
            "Peru",
            "Philippines",
            "Romania",
            "Russian Federation",
            "Singapore",
            "South Africa",
            "Thailand",
            "Tunisia",
            "Turkiye",
            "Ukraine",
            "United Kingdom",
            "United States"
           ],
           "locations": [
            "IRL",
            "DEU",
            "BEL",
            "DNK",
            "GRC",
            "ESP",
            "ITA",
            "NET",
            "NOR",
            "AUT",
            "HUN",
            "SLO",
            "SVN",
            "POL",
            "SWE",
            "FIN",
            "CHE",
            "HRV",
            "SRB",
            "PRT",
            "LVA",
            "FRA",
            "AFG",
            "ALB",
            "DZA",
            "ARG",
            "AUS",
            "AZE",
            "BLR",
            "BRA",
            "BGR",
            "CAN",
            "CHL",
            "CHN",
            "COL",
            "CRI",
            "CYP",
            "ECU",
            "EGY",
            "EST",
            "HON",
            "ISL",
            "IND",
            "IDN",
            "ISR",
            "JPN",
            "KAZ",
            "KOR",
            "LTU",
            "MYS",
            "MLT",
            "MEX",
            "NZL",
            "NGA",
            "NOR",
            "PAK",
            "PER",
            "PHI",
            "ROU",
            "RUS",
            "SGP",
            "ZAF",
            "THA",
            "TUN",
            "TUR",
            "UKR",
            "GBR",
            "USA"
           ],
           "name": "",
           "type": "choropleth",
           "z": [
            1898123,
            40029198,
            4315763,
            2841507,
            4819343,
            18127540,
            23598179,
            8384016,
            2420368,
            3895879,
            4152274,
            2633285,
            969299,
            17667209,
            4558776,
            2606649,
            4062012,
            1845629,
            3481070,
            5335194,
            1098210,
            27705599,
            4618603,
            1304704,
            9145785,
            16648514,
            9692915,
            4236119,
            4840761,
            81451849,
            3488558,
            16585664,
            6292422,
            739359562,
            18268713,
            1727162,
            466012,
            5345861,
            20792031,
            666973,
            3439630,
            171255,
            399564197,
            101677754,
            2847056,
            67626063,
            7610812,
            23226360,
            1658207,
            9627564,
            157941,
            38822947,
            1975886,
            43015210,
            834571,
            46217130,
            12261413,
            30525600,
            11455443,
            72154594,
            2220182,
            18895840,
            35667412,
            3332508,
            22466618,
            23064790,
            29521902,
            147200475
           ]
          }
         ],
         "name": "2001"
        },
        {
         "data": [
          {
           "coloraxis": "coloraxis",
           "geo": "geo",
           "hovertemplate": "<b>%{hovertext}</b><br><br>Year=2002<br>Alpha-3 code=%{location}<br>Labor force, total=%{z}<extra></extra>",
           "hovertext": [
            "Ireland",
            "Germany",
            "Belgium",
            "Denmark",
            "Greece",
            "Spain",
            "Italy",
            "Netherlands",
            "Norway",
            "Austria",
            "Hungary",
            "Slovak Republic",
            "Slovenia",
            "Poland",
            "Sweden",
            "Finland",
            "Switzerland",
            "Croatia",
            "Serbia",
            "Portugal",
            "Latvia",
            "France",
            "Afghanistan",
            "Albania",
            "Algeria",
            "Argentina",
            "Australia",
            "Azerbaijan",
            "Belarus",
            "Brazil",
            "Bulgaria",
            "Canada",
            "Chile",
            "China",
            "Colombia",
            "Costa Rica",
            "Cyprus",
            "Ecuador",
            "Egypt, Arab Rep.",
            "Estonia",
            "Hong Kong SAR, China",
            "Iceland",
            "India",
            "Indonesia",
            "Israel",
            "Japan",
            "Kazakhstan",
            "Korea, Rep.",
            "Lithuania",
            "Malaysia",
            "Malta",
            "Mexico",
            "New Zealand",
            "Nigeria",
            "North Macedonia",
            "Pakistan",
            "Peru",
            "Philippines",
            "Romania",
            "Russian Federation",
            "Singapore",
            "South Africa",
            "Thailand",
            "Tunisia",
            "Turkiye",
            "Ukraine",
            "United Kingdom",
            "United States"
           ],
           "locations": [
            "IRL",
            "DEU",
            "BEL",
            "DNK",
            "GRC",
            "ESP",
            "ITA",
            "NET",
            "NOR",
            "AUT",
            "HUN",
            "SLO",
            "SVN",
            "POL",
            "SWE",
            "FIN",
            "CHE",
            "HRV",
            "SRB",
            "PRT",
            "LVA",
            "FRA",
            "AFG",
            "ALB",
            "DZA",
            "ARG",
            "AUS",
            "AZE",
            "BLR",
            "BRA",
            "BGR",
            "CAN",
            "CHL",
            "CHN",
            "COL",
            "CRI",
            "CYP",
            "ECU",
            "EGY",
            "EST",
            "HON",
            "ISL",
            "IND",
            "IDN",
            "ISR",
            "JPN",
            "KAZ",
            "KOR",
            "LTU",
            "MYS",
            "MLT",
            "MEX",
            "NZL",
            "NGA",
            "NOR",
            "PAK",
            "PER",
            "PHI",
            "ROU",
            "RUS",
            "SGP",
            "ZAF",
            "THA",
            "TUN",
            "TUR",
            "UKR",
            "GBR",
            "USA"
           ],
           "name": "",
           "type": "choropleth",
           "z": [
            1941828,
            40056637,
            4365043,
            2868928,
            4881094,
            18960316,
            23868583,
            8532973,
            2442182,
            3971245,
            4157742,
            2620049,
            982517,
            17427664,
            4579588,
            2618114,
            4103899,
            1833312,
            3461147,
            5419875,
            1121199,
            28039182,
            4924226,
            1308103,
            9355943,
            16474698,
            9837966,
            4204886,
            4874607,
            84252471,
            3393905,
            17068694,
            6348066,
            747567965,
            18646802,
            1762911,
            478168,
            5528235,
            20589710,
            654956,
            3493929,
            170967,
            405389781,
            101821401,
            2873038,
            67075751,
            7659421,
            23664352,
            1641395,
            9908787,
            159672,
            39346853,
            2038452,
            44142710,
            829478,
            47679897,
            12717766,
            31234882,
            10362670,
            73004525,
            2217150,
            19289342,
            36214889,
            3382757,
            22818051,
            22951193,
            29839231,
            148166550
           ]
          }
         ],
         "name": "2002"
        },
        {
         "data": [
          {
           "coloraxis": "coloraxis",
           "geo": "geo",
           "hovertemplate": "<b>%{hovertext}</b><br><br>Year=2003<br>Alpha-3 code=%{location}<br>Labor force, total=%{z}<extra></extra>",
           "hovertext": [
            "Ireland",
            "Germany",
            "Belgium",
            "Denmark",
            "Greece",
            "Spain",
            "Italy",
            "Netherlands",
            "Norway",
            "Austria",
            "Hungary",
            "Slovak Republic",
            "Slovenia",
            "Poland",
            "Sweden",
            "Finland",
            "Switzerland",
            "Croatia",
            "Serbia",
            "Portugal",
            "Latvia",
            "France",
            "Afghanistan",
            "Albania",
            "Algeria",
            "Argentina",
            "Australia",
            "Azerbaijan",
            "Belarus",
            "Brazil",
            "Bulgaria",
            "Canada",
            "Chile",
            "China",
            "Colombia",
            "Costa Rica",
            "Cyprus",
            "Ecuador",
            "Egypt, Arab Rep.",
            "Estonia",
            "Hong Kong SAR, China",
            "Iceland",
            "India",
            "Indonesia",
            "Israel",
            "Japan",
            "Kazakhstan",
            "Korea, Rep.",
            "Lithuania",
            "Malaysia",
            "Malta",
            "Mexico",
            "New Zealand",
            "Nigeria",
            "North Macedonia",
            "Pakistan",
            "Peru",
            "Philippines",
            "Romania",
            "Russian Federation",
            "Singapore",
            "South Africa",
            "Thailand",
            "Tunisia",
            "Turkiye",
            "Ukraine",
            "United Kingdom",
            "United States"
           ],
           "locations": [
            "IRL",
            "DEU",
            "BEL",
            "DNK",
            "GRC",
            "ESP",
            "ITA",
            "NET",
            "NOR",
            "AUT",
            "HUN",
            "SLO",
            "SVN",
            "POL",
            "SWE",
            "FIN",
            "CHE",
            "HRV",
            "SRB",
            "PRT",
            "LVA",
            "FRA",
            "AFG",
            "ALB",
            "DZA",
            "ARG",
            "AUS",
            "AZE",
            "BLR",
            "BRA",
            "BGR",
            "CAN",
            "CHL",
            "CHN",
            "COL",
            "CRI",
            "CYP",
            "ECU",
            "EGY",
            "EST",
            "HON",
            "ISL",
            "IND",
            "IDN",
            "ISR",
            "JPN",
            "KAZ",
            "KOR",
            "LTU",
            "MYS",
            "MLT",
            "MEX",
            "NZL",
            "NGA",
            "NOR",
            "PAK",
            "PER",
            "PHI",
            "ROU",
            "RUS",
            "SGP",
            "ZAF",
            "THA",
            "TUN",
            "TUR",
            "UKR",
            "GBR",
            "USA"
           ],
           "name": "",
           "type": "choropleth",
           "z": [
            1984446,
            40236914,
            4402418,
            2868194,
            4935423,
            19731180,
            24218787,
            8561053,
            2413804,
            4014293,
            4227774,
            2651818,
            959249,
            17342507,
            4607164,
            2620447,
            4151688,
            1808041,
            3440681,
            5442325,
            1101201,
            28620674,
            5315286,
            1294847,
            9556009,
            16943192,
            10013838,
            4180410,
            4897259,
            85732532,
            3322992,
            17463547,
            6524560,
            755273046,
            19258302,
            1819682,
            499598,
            5717711,
            21665373,
            675620,
            3479071,
            173624,
            411069163,
            103208209,
            2943707,
            66836856,
            7751505,
            23675016,
            1689186,
            10200556,
            160990,
            40436874,
            2079431,
            45276845,
            866336,
            49107668,
            13164270,
            31926684,
            10032640,
            72859792,
            2194671,
            19672944,
            36730283,
            3428609,
            22701681,
            22824874,
            30095093,
            148886198
           ]
          }
         ],
         "name": "2003"
        },
        {
         "data": [
          {
           "coloraxis": "coloraxis",
           "geo": "geo",
           "hovertemplate": "<b>%{hovertext}</b><br><br>Year=2004<br>Alpha-3 code=%{location}<br>Labor force, total=%{z}<extra></extra>",
           "hovertext": [
            "Ireland",
            "Germany",
            "Belgium",
            "Denmark",
            "Greece",
            "Spain",
            "Italy",
            "Netherlands",
            "Norway",
            "Austria",
            "Hungary",
            "Slovak Republic",
            "Slovenia",
            "Poland",
            "Sweden",
            "Finland",
            "Switzerland",
            "Croatia",
            "Serbia",
            "Portugal",
            "Latvia",
            "France",
            "Afghanistan",
            "Albania",
            "Algeria",
            "Argentina",
            "Australia",
            "Azerbaijan",
            "Belarus",
            "Brazil",
            "Bulgaria",
            "Canada",
            "Chile",
            "China",
            "Colombia",
            "Costa Rica",
            "Cyprus",
            "Ecuador",
            "Egypt, Arab Rep.",
            "Estonia",
            "Hong Kong SAR, China",
            "Iceland",
            "India",
            "Indonesia",
            "Israel",
            "Japan",
            "Kazakhstan",
            "Korea, Rep.",
            "Lithuania",
            "Malaysia",
            "Malta",
            "Mexico",
            "New Zealand",
            "Nigeria",
            "North Macedonia",
            "Pakistan",
            "Peru",
            "Philippines",
            "Romania",
            "Russian Federation",
            "Singapore",
            "South Africa",
            "Thailand",
            "Tunisia",
            "Turkiye",
            "Ukraine",
            "United Kingdom",
            "United States"
           ],
           "locations": [
            "IRL",
            "DEU",
            "BEL",
            "DNK",
            "GRC",
            "ESP",
            "ITA",
            "NET",
            "NOR",
            "AUT",
            "HUN",
            "SLO",
            "SVN",
            "POL",
            "SWE",
            "FIN",
            "CHE",
            "HRV",
            "SRB",
            "PRT",
            "LVA",
            "FRA",
            "AFG",
            "ALB",
            "DZA",
            "ARG",
            "AUS",
            "AZE",
            "BLR",
            "BRA",
            "BGR",
            "CAN",
            "CHL",
            "CHN",
            "COL",
            "CRI",
            "CYP",
            "ECU",
            "EGY",
            "EST",
            "HON",
            "ISL",
            "IND",
            "IDN",
            "ISR",
            "JPN",
            "KAZ",
            "KOR",
            "LTU",
            "MYS",
            "MLT",
            "MEX",
            "NZL",
            "NGA",
            "NOR",
            "PAK",
            "PER",
            "PHI",
            "ROU",
            "RUS",
            "SGP",
            "ZAF",
            "THA",
            "TUN",
            "TUR",
            "UKR",
            "GBR",
            "USA"
           ],
           "name": "",
           "type": "choropleth",
           "z": [
            2033886,
            40039826,
            4485839,
            2895623,
            5019191,
            20419303,
            24606509,
            8618836,
            2426671,
            3919678,
            4203079,
            2668909,
            1006288,
            17315015,
            4622281,
            2612340,
            4156364,
            1844858,
            3409090,
            5418926,
            1101406,
            28778198,
            5541238,
            1281167,
            9747177,
            17425150,
            10126070,
            4114099,
            4914756,
            88065748,
            3353786,
            17673742,
            6686711,
            762251057,
            19248116,
            1828417,
            510737,
            6049202,
            22756745,
            677677,
            3525372,
            173541,
            416629768,
            105014968,
            3023076,
            66578272,
            7852764,
            24194814,
            1596580,
            10504004,
            158551,
            41700422,
            2137161,
            46434996,
            870793,
            50663082,
            13601183,
            32900743,
            9978945,
            73624057,
            2234837,
            20036920,
            37474638,
            3468620,
            22213390,
            22682516,
            30341589,
            150113013
           ]
          }
         ],
         "name": "2004"
        },
        {
         "data": [
          {
           "coloraxis": "coloraxis",
           "geo": "geo",
           "hovertemplate": "<b>%{hovertext}</b><br><br>Year=2005<br>Alpha-3 code=%{location}<br>Labor force, total=%{z}<extra></extra>",
           "hovertext": [
            "Ireland",
            "Germany",
            "Belgium",
            "Denmark",
            "Greece",
            "Spain",
            "Italy",
            "Netherlands",
            "Norway",
            "Austria",
            "Hungary",
            "Slovak Republic",
            "Slovenia",
            "Poland",
            "Sweden",
            "Finland",
            "Switzerland",
            "Croatia",
            "Serbia",
            "Portugal",
            "Latvia",
            "France",
            "Afghanistan",
            "Albania",
            "Algeria",
            "Argentina",
            "Australia",
            "Azerbaijan",
            "Belarus",
            "Brazil",
            "Bulgaria",
            "Canada",
            "Chile",
            "China",
            "Colombia",
            "Costa Rica",
            "Cyprus",
            "Ecuador",
            "Egypt, Arab Rep.",
            "Estonia",
            "Hong Kong SAR, China",
            "Iceland",
            "India",
            "Indonesia",
            "Israel",
            "Japan",
            "Kazakhstan",
            "Korea, Rep.",
            "Lithuania",
            "Malaysia",
            "Malta",
            "Mexico",
            "New Zealand",
            "Nigeria",
            "North Macedonia",
            "Pakistan",
            "Peru",
            "Philippines",
            "Romania",
            "Russian Federation",
            "Singapore",
            "South Africa",
            "Thailand",
            "Tunisia",
            "Turkiye",
            "Ukraine",
            "United Kingdom",
            "United States"
           ],
           "locations": [
            "IRL",
            "DEU",
            "BEL",
            "DNK",
            "GRC",
            "ESP",
            "ITA",
            "NET",
            "NOR",
            "AUT",
            "HUN",
            "SLO",
            "SVN",
            "POL",
            "SWE",
            "FIN",
            "CHE",
            "HRV",
            "SRB",
            "PRT",
            "LVA",
            "FRA",
            "AFG",
            "ALB",
            "DZA",
            "ARG",
            "AUS",
            "AZE",
            "BLR",
            "BRA",
            "BGR",
            "CAN",
            "CHL",
            "CHN",
            "COL",
            "CRI",
            "CYP",
            "ECU",
            "EGY",
            "EST",
            "HON",
            "ISL",
            "IND",
            "IDN",
            "ISR",
            "JPN",
            "KAZ",
            "KOR",
            "LTU",
            "MYS",
            "MLT",
            "MEX",
            "NZL",
            "NGA",
            "NOR",
            "PAK",
            "PER",
            "PHI",
            "ROU",
            "RUS",
            "SGP",
            "ZAF",
            "THA",
            "TUN",
            "TUR",
            "UKR",
            "GBR",
            "USA"
           ],
           "name": "",
           "type": "choropleth",
           "z": [
            2151141,
            41239999,
            4626679,
            2893154,
            5019255,
            21197697,
            24448131,
            8457142,
            2438548,
            4046427,
            4272899,
            2656907,
            1015563,
            17594853,
            4690191,
            2632616,
            4176327,
            1796375,
            3384095,
            5464806,
            1094452,
            29016873,
            5787757,
            1266465,
            9916026,
            17545905,
            10426942,
            4115696,
            4930387,
            90599379,
            3282858,
            17819057,
            6849194,
            769371812,
            19445700,
            1943857,
            524879,
            6151040,
            23853891,
            673381,
            3550951,
            175622,
            421959547,
            104711524,
            3101315,
            66666567,
            7926592,
            24332457,
            1557095,
            10820941,
            161910,
            43124092,
            2194998,
            47613325,
            875083,
            51747302,
            14024859,
            33734285,
            9663356,
            74033539,
            2318170,
            20373728,
            38143753,
            3502286,
            22722966,
            22529601,
            30813208,
            152044690
           ]
          }
         ],
         "name": "2005"
        },
        {
         "data": [
          {
           "coloraxis": "coloraxis",
           "geo": "geo",
           "hovertemplate": "<b>%{hovertext}</b><br><br>Year=2006<br>Alpha-3 code=%{location}<br>Labor force, total=%{z}<extra></extra>",
           "hovertext": [
            "Ireland",
            "Germany",
            "Belgium",
            "Denmark",
            "Greece",
            "Spain",
            "Italy",
            "Netherlands",
            "Norway",
            "Austria",
            "Hungary",
            "Slovak Republic",
            "Slovenia",
            "Poland",
            "Sweden",
            "Finland",
            "Switzerland",
            "Croatia",
            "Serbia",
            "Portugal",
            "Latvia",
            "France",
            "Afghanistan",
            "Albania",
            "Algeria",
            "Argentina",
            "Australia",
            "Azerbaijan",
            "Belarus",
            "Brazil",
            "Bulgaria",
            "Canada",
            "Chile",
            "China",
            "Colombia",
            "Costa Rica",
            "Cyprus",
            "Ecuador",
            "Egypt, Arab Rep.",
            "Estonia",
            "Hong Kong SAR, China",
            "Iceland",
            "India",
            "Indonesia",
            "Israel",
            "Japan",
            "Kazakhstan",
            "Korea, Rep.",
            "Lithuania",
            "Malaysia",
            "Malta",
            "Mexico",
            "New Zealand",
            "Nigeria",
            "North Macedonia",
            "Pakistan",
            "Peru",
            "Philippines",
            "Romania",
            "Russian Federation",
            "Singapore",
            "South Africa",
            "Thailand",
            "Tunisia",
            "Turkiye",
            "Ukraine",
            "United Kingdom",
            "United States"
           ],
           "locations": [
            "IRL",
            "DEU",
            "BEL",
            "DNK",
            "GRC",
            "ESP",
            "ITA",
            "NET",
            "NOR",
            "AUT",
            "HUN",
            "SLO",
            "SVN",
            "POL",
            "SWE",
            "FIN",
            "CHE",
            "HRV",
            "SRB",
            "PRT",
            "LVA",
            "FRA",
            "AFG",
            "ALB",
            "DZA",
            "ARG",
            "AUS",
            "AZE",
            "BLR",
            "BRA",
            "BGR",
            "CAN",
            "CHL",
            "CHN",
            "COL",
            "CRI",
            "CYP",
            "ECU",
            "EGY",
            "EST",
            "HON",
            "ISL",
            "IND",
            "IDN",
            "ISR",
            "JPN",
            "KAZ",
            "KOR",
            "LTU",
            "MYS",
            "MLT",
            "MEX",
            "NZL",
            "NGA",
            "NOR",
            "PAK",
            "PER",
            "PHI",
            "ROU",
            "RUS",
            "SGP",
            "ZAF",
            "THA",
            "TUN",
            "TUR",
            "UKR",
            "GBR",
            "USA"
           ],
           "name": "",
           "type": "choropleth",
           "z": [
            2241382,
            41693116,
            4646803,
            2917717,
            5043207,
            21880145,
            24509227,
            8508765,
            2466637,
            4114656,
            4323154,
            2655462,
            1021520,
            17372553,
            4768932,
            2660139,
            4239193,
            1785298,
            3362431,
            5500215,
            1121857,
            29193291,
            6071864,
            1249959,
            10077549,
            17877291,
            10650659,
            4093836,
            4947148,
            91731711,
            3369624,
            18035498,
            7114930,
            774287037,
            19455601,
            1977908,
            541304,
            6391164,
            24954020,
            692994,
            3614884,
            183451,
            431250073,
            106146819,
            3180735,
            66782268,
            8071657,
            24612208,
            1513906,
            11150813,
            163788,
            44563447,
            2245893,
            48846711,
            880115,
            52830352,
            14824999,
            34451252,
            9809182,
            74402127,
            2425007,
            20698572,
            38276335,
            3572996,
            22701823,
            22365498,
            31317980,
            154154002
           ]
          }
         ],
         "name": "2006"
        },
        {
         "data": [
          {
           "coloraxis": "coloraxis",
           "geo": "geo",
           "hovertemplate": "<b>%{hovertext}</b><br><br>Year=2007<br>Alpha-3 code=%{location}<br>Labor force, total=%{z}<extra></extra>",
           "hovertext": [
            "Ireland",
            "Germany",
            "Belgium",
            "Denmark",
            "Greece",
            "Spain",
            "Italy",
            "Netherlands",
            "Norway",
            "Austria",
            "Hungary",
            "Slovak Republic",
            "Slovenia",
            "Poland",
            "Sweden",
            "Finland",
            "Switzerland",
            "Croatia",
            "Serbia",
            "Portugal",
            "Latvia",
            "France",
            "Afghanistan",
            "Albania",
            "Algeria",
            "Argentina",
            "Australia",
            "Azerbaijan",
            "Belarus",
            "Brazil",
            "Bulgaria",
            "Canada",
            "Chile",
            "China",
            "Colombia",
            "Costa Rica",
            "Cyprus",
            "Ecuador",
            "Egypt, Arab Rep.",
            "Estonia",
            "Hong Kong SAR, China",
            "Iceland",
            "India",
            "Indonesia",
            "Israel",
            "Japan",
            "Kazakhstan",
            "Korea, Rep.",
            "Lithuania",
            "Malaysia",
            "Malta",
            "Mexico",
            "New Zealand",
            "Nigeria",
            "North Macedonia",
            "Pakistan",
            "Peru",
            "Philippines",
            "Romania",
            "Russian Federation",
            "Singapore",
            "South Africa",
            "Thailand",
            "Tunisia",
            "Turkiye",
            "Ukraine",
            "United Kingdom",
            "United States"
           ],
           "locations": [
            "IRL",
            "DEU",
            "BEL",
            "DNK",
            "GRC",
            "ESP",
            "ITA",
            "NET",
            "NOR",
            "AUT",
            "HUN",
            "SLO",
            "SVN",
            "POL",
            "SWE",
            "FIN",
            "CHE",
            "HRV",
            "SRB",
            "PRT",
            "LVA",
            "FRA",
            "AFG",
            "ALB",
            "DZA",
            "ARG",
            "AUS",
            "AZE",
            "BLR",
            "BRA",
            "BGR",
            "CAN",
            "CHL",
            "CHN",
            "COL",
            "CRI",
            "CYP",
            "ECU",
            "EGY",
            "EST",
            "HON",
            "ISL",
            "IND",
            "IDN",
            "ISR",
            "JPN",
            "KAZ",
            "KOR",
            "LTU",
            "MYS",
            "MLT",
            "MEX",
            "NZL",
            "NGA",
            "NOR",
            "PAK",
            "PER",
            "PHI",
            "ROU",
            "RUS",
            "SGP",
            "ZAF",
            "THA",
            "TUN",
            "TUR",
            "UKR",
            "GBR",
            "USA"
           ],
           "name": "",
           "type": "choropleth",
           "z": [
            2336096,
            41861246,
            4728844,
            2924753,
            5031298,
            22508326,
            24473855,
            8674930,
            2525640,
            4201262,
            4306927,
            2655666,
            1035219,
            17358009,
            4844850,
            2687154,
            4307257,
            1924507,
            3362762,
            5534266,
            1137565,
            29457032,
            6119540,
            1231498,
            10244513,
            17924078,
            10937240,
            3998065,
            4970097,
            92730992,
            3432707,
            18382598,
            7297902,
            776045127,
            19444239,
            2050044,
            562541,
            6431063,
            26081669,
            690862,
            3662908,
            189725,
            440568412,
            111277707,
            3266238,
            66892223,
            8262978,
            24884098,
            1513018,
            11495136,
            167568,
            45486346,
            2277861,
            50110483,
            894899,
            54353926,
            15442460,
            35217804,
            9637035,
            75373649,
            2566826,
            21019310,
            39112784,
            3648430,
            23120323,
            22455476,
            31527354,
            155503665
           ]
          }
         ],
         "name": "2007"
        },
        {
         "data": [
          {
           "coloraxis": "coloraxis",
           "geo": "geo",
           "hovertemplate": "<b>%{hovertext}</b><br><br>Year=2008<br>Alpha-3 code=%{location}<br>Labor force, total=%{z}<extra></extra>",
           "hovertext": [
            "Ireland",
            "Germany",
            "Belgium",
            "Denmark",
            "Greece",
            "Spain",
            "Italy",
            "Netherlands",
            "Norway",
            "Austria",
            "Hungary",
            "Slovak Republic",
            "Slovenia",
            "Poland",
            "Sweden",
            "Finland",
            "Switzerland",
            "Croatia",
            "Serbia",
            "Portugal",
            "Latvia",
            "France",
            "Afghanistan",
            "Albania",
            "Algeria",
            "Argentina",
            "Australia",
            "Azerbaijan",
            "Belarus",
            "Brazil",
            "Bulgaria",
            "Canada",
            "Chile",
            "China",
            "Colombia",
            "Costa Rica",
            "Cyprus",
            "Ecuador",
            "Egypt, Arab Rep.",
            "Estonia",
            "Hong Kong SAR, China",
            "Iceland",
            "India",
            "Indonesia",
            "Israel",
            "Japan",
            "Kazakhstan",
            "Korea, Rep.",
            "Lithuania",
            "Malaysia",
            "Malta",
            "Mexico",
            "New Zealand",
            "Nigeria",
            "North Macedonia",
            "Pakistan",
            "Peru",
            "Philippines",
            "Romania",
            "Russian Federation",
            "Singapore",
            "South Africa",
            "Thailand",
            "Tunisia",
            "Turkiye",
            "Ukraine",
            "United Kingdom",
            "United States"
           ],
           "locations": [
            "IRL",
            "DEU",
            "BEL",
            "DNK",
            "GRC",
            "ESP",
            "ITA",
            "NET",
            "NOR",
            "AUT",
            "HUN",
            "SLO",
            "SVN",
            "POL",
            "SWE",
            "FIN",
            "CHE",
            "HRV",
            "SRB",
            "PRT",
            "LVA",
            "FRA",
            "AFG",
            "ALB",
            "DZA",
            "ARG",
            "AUS",
            "AZE",
            "BLR",
            "BRA",
            "BGR",
            "CAN",
            "CHL",
            "CHN",
            "COL",
            "CRI",
            "CYP",
            "ECU",
            "EGY",
            "EST",
            "HON",
            "ISL",
            "IND",
            "IDN",
            "ISR",
            "JPN",
            "KAZ",
            "KOR",
            "LTU",
            "MYS",
            "MLT",
            "MEX",
            "NZL",
            "NGA",
            "NOR",
            "PAK",
            "PER",
            "PHI",
            "ROU",
            "RUS",
            "SGP",
            "ZAF",
            "THA",
            "TUN",
            "TUR",
            "UKR",
            "GBR",
            "USA"
           ],
           "name": "",
           "type": "choropleth",
           "z": [
            2355177,
            41917490,
            4777353,
            2918710,
            5032007,
            23150283,
            24816663,
            8830188,
            2603099,
            4243342,
            4275905,
            2688481,
            1033343,
            17577553,
            4904595,
            2715926,
            4410392,
            1933843,
            3312768,
            5535756,
            1150923,
            29670797,
            6214595,
            1212147,
            10402784,
            17966575,
            11228764,
            4044161,
            4995641,
            93935308,
            3486533,
            18662575,
            7574753,
            776378230,
            19971706,
            2078889,
            574967,
            6561532,
            26485023,
            696060,
            3680131,
            192115,
            449860965,
            113275269,
            3324067,
            66726949,
            8502563,
            25067295,
            1511945,
            11759089,
            169526,
            46141022,
            2296582,
            51407935,
            911074,
            55924956,
            15644447,
            36018856,
            9432554,
            75920555,
            2754182,
            21338378,
            39500136,
            3729378,
            23860351,
            22353775,
            31927772,
            157246174
           ]
          }
         ],
         "name": "2008"
        },
        {
         "data": [
          {
           "coloraxis": "coloraxis",
           "geo": "geo",
           "hovertemplate": "<b>%{hovertext}</b><br><br>Year=2009<br>Alpha-3 code=%{location}<br>Labor force, total=%{z}<extra></extra>",
           "hovertext": [
            "Ireland",
            "Germany",
            "Belgium",
            "Denmark",
            "Greece",
            "Spain",
            "Italy",
            "Netherlands",
            "Norway",
            "Austria",
            "Hungary",
            "Slovak Republic",
            "Slovenia",
            "Poland",
            "Sweden",
            "Finland",
            "Switzerland",
            "Croatia",
            "Serbia",
            "Portugal",
            "Latvia",
            "France",
            "Afghanistan",
            "Albania",
            "Algeria",
            "Argentina",
            "Australia",
            "Azerbaijan",
            "Belarus",
            "Brazil",
            "Bulgaria",
            "Canada",
            "Chile",
            "China",
            "Colombia",
            "Costa Rica",
            "Cyprus",
            "Ecuador",
            "Egypt, Arab Rep.",
            "Estonia",
            "Hong Kong SAR, China",
            "Iceland",
            "India",
            "Indonesia",
            "Israel",
            "Japan",
            "Kazakhstan",
            "Korea, Rep.",
            "Lithuania",
            "Malaysia",
            "Malta",
            "Mexico",
            "New Zealand",
            "Nigeria",
            "North Macedonia",
            "Pakistan",
            "Peru",
            "Philippines",
            "Romania",
            "Russian Federation",
            "Singapore",
            "South Africa",
            "Thailand",
            "Tunisia",
            "Turkiye",
            "Ukraine",
            "United Kingdom",
            "United States"
           ],
           "locations": [
            "IRL",
            "DEU",
            "BEL",
            "DNK",
            "GRC",
            "ESP",
            "ITA",
            "NET",
            "NOR",
            "AUT",
            "HUN",
            "SLO",
            "SVN",
            "POL",
            "SWE",
            "FIN",
            "CHE",
            "HRV",
            "SRB",
            "PRT",
            "LVA",
            "FRA",
            "AFG",
            "ALB",
            "DZA",
            "ARG",
            "AUS",
            "AZE",
            "BLR",
            "BRA",
            "BGR",
            "CAN",
            "CHL",
            "CHN",
            "COL",
            "CRI",
            "CYP",
            "ECU",
            "EGY",
            "EST",
            "HON",
            "ISL",
            "IND",
            "IDN",
            "ISR",
            "JPN",
            "KAZ",
            "KOR",
            "LTU",
            "MYS",
            "MLT",
            "MEX",
            "NZL",
            "NGA",
            "NOR",
            "PAK",
            "PER",
            "PHI",
            "ROU",
            "RUS",
            "SGP",
            "ZAF",
            "THA",
            "TUN",
            "TUR",
            "UKR",
            "GBR",
            "USA"
           ],
           "name": "",
           "type": "choropleth",
           "z": [
            2303515,
            41978630,
            4797213,
            2909160,
            5073731,
            23364217,
            24612153,
            8909191,
            2600124,
            4285255,
            4265167,
            2678778,
            1041058,
            17842910,
            4912421,
            2688826,
            4477719,
            1934048,
            3191692,
            5490080,
            1105823,
            29922456,
            6509255,
            1258916,
            10551825,
            18324357,
            11471850,
            4143977,
            5018321,
            95703669,
            3409927,
            18787385,
            7672069,
            775599063,
            21259578,
            2099430,
            584396,
            6457726,
            27281764,
            688933,
            3698404,
            188716,
            459168942,
            114480686,
            3403706,
            66456031,
            8642962,
            25091241,
            1519375,
            12181055,
            171732,
            46933484,
            2309690,
            52748865,
            923453,
            58053611,
            15918391,
            37171260,
            9338466,
            75961316,
            2891754,
            21088301,
            39613757,
            3810664,
            24758043,
            22246256,
            32084960,
            157377606
           ]
          }
         ],
         "name": "2009"
        },
        {
         "data": [
          {
           "coloraxis": "coloraxis",
           "geo": "geo",
           "hovertemplate": "<b>%{hovertext}</b><br><br>Year=2010<br>Alpha-3 code=%{location}<br>Labor force, total=%{z}<extra></extra>",
           "hovertext": [
            "Ireland",
            "Germany",
            "Belgium",
            "Denmark",
            "Greece",
            "Spain",
            "Italy",
            "Netherlands",
            "Norway",
            "Austria",
            "Hungary",
            "Slovak Republic",
            "Slovenia",
            "Poland",
            "Sweden",
            "Finland",
            "Switzerland",
            "Croatia",
            "Serbia",
            "Portugal",
            "Latvia",
            "France",
            "Afghanistan",
            "Albania",
            "Algeria",
            "Argentina",
            "Australia",
            "Azerbaijan",
            "Belarus",
            "Brazil",
            "Bulgaria",
            "Canada",
            "Chile",
            "China",
            "Colombia",
            "Costa Rica",
            "Cyprus",
            "Ecuador",
            "Egypt, Arab Rep.",
            "Estonia",
            "Hong Kong SAR, China",
            "Iceland",
            "India",
            "Indonesia",
            "Israel",
            "Japan",
            "Kazakhstan",
            "Korea, Rep.",
            "Lithuania",
            "Malaysia",
            "Malta",
            "Mexico",
            "New Zealand",
            "Nigeria",
            "North Macedonia",
            "Pakistan",
            "Peru",
            "Philippines",
            "Romania",
            "Russian Federation",
            "Singapore",
            "South Africa",
            "Thailand",
            "Tunisia",
            "Turkiye",
            "Ukraine",
            "United Kingdom",
            "United States"
           ],
           "locations": [
            "IRL",
            "DEU",
            "BEL",
            "DNK",
            "GRC",
            "ESP",
            "ITA",
            "NET",
            "NOR",
            "AUT",
            "HUN",
            "SLO",
            "SVN",
            "POL",
            "SWE",
            "FIN",
            "CHE",
            "HRV",
            "SRB",
            "PRT",
            "LVA",
            "FRA",
            "AFG",
            "ALB",
            "DZA",
            "ARG",
            "AUS",
            "AZE",
            "BLR",
            "BRA",
            "BGR",
            "CAN",
            "CHL",
            "CHN",
            "COL",
            "CRI",
            "CYP",
            "ECU",
            "EGY",
            "EST",
            "HON",
            "ISL",
            "IND",
            "IDN",
            "ISR",
            "JPN",
            "KAZ",
            "KOR",
            "LTU",
            "MYS",
            "MLT",
            "MEX",
            "NZL",
            "NGA",
            "NOR",
            "PAK",
            "PER",
            "PHI",
            "ROU",
            "RUS",
            "SGP",
            "ZAF",
            "THA",
            "TUN",
            "TUR",
            "UKR",
            "GBR",
            "USA"
           ],
           "name": "",
           "type": "choropleth",
           "z": [
            2252263,
            41949335,
            4893955,
            2888564,
            5075825,
            23482007,
            24546580,
            8887012,
            2605468,
            4302610,
            4298779,
            2689128,
            1040057,
            18055100,
            4938836,
            2678175,
            4447007,
            1912849,
            3104470,
            5491635,
            1059977,
            30022647,
            6743046,
            1270655,
            10832192,
            18255867,
            11661196,
            4195696,
            5034023,
            95367508,
            3405748,
            18985430,
            7836109,
            774058132,
            22128149,
            2060686,
            602913,
            6467670,
            28739910,
            682870,
            3672023,
            188369,
            468646281,
            117183517,
            3482638,
            66231664,
            8725678,
            25419751,
            1498066,
            12521566,
            175583,
            47714802,
            2328293,
            54154360,
            933218,
            60255359,
            16255080,
            38081598,
            9351118,
            75875081,
            2990116,
            19990943,
            39447288,
            3892730,
            25813718,
            22140771,
            32236187,
            157357516
           ]
          }
         ],
         "name": "2010"
        },
        {
         "data": [
          {
           "coloraxis": "coloraxis",
           "geo": "geo",
           "hovertemplate": "<b>%{hovertext}</b><br><br>Year=2011<br>Alpha-3 code=%{location}<br>Labor force, total=%{z}<extra></extra>",
           "hovertext": [
            "Ireland",
            "Germany",
            "Belgium",
            "Denmark",
            "Greece",
            "Spain",
            "Italy",
            "Netherlands",
            "Norway",
            "Austria",
            "Hungary",
            "Slovak Republic",
            "Slovenia",
            "Poland",
            "Sweden",
            "Finland",
            "Switzerland",
            "Croatia",
            "Serbia",
            "Portugal",
            "Latvia",
            "France",
            "Afghanistan",
            "Albania",
            "Algeria",
            "Argentina",
            "Australia",
            "Azerbaijan",
            "Belarus",
            "Brazil",
            "Bulgaria",
            "Canada",
            "Chile",
            "China",
            "Colombia",
            "Costa Rica",
            "Cyprus",
            "Ecuador",
            "Egypt, Arab Rep.",
            "Estonia",
            "Hong Kong SAR, China",
            "Iceland",
            "India",
            "Indonesia",
            "Israel",
            "Japan",
            "Kazakhstan",
            "Korea, Rep.",
            "Lithuania",
            "Malaysia",
            "Malta",
            "Mexico",
            "New Zealand",
            "Nigeria",
            "North Macedonia",
            "Pakistan",
            "Peru",
            "Philippines",
            "Romania",
            "Russian Federation",
            "Singapore",
            "South Africa",
            "Thailand",
            "Tunisia",
            "Turkiye",
            "Ukraine",
            "United Kingdom",
            "United States"
           ],
           "locations": [
            "IRL",
            "DEU",
            "BEL",
            "DNK",
            "GRC",
            "ESP",
            "ITA",
            "NET",
            "NOR",
            "AUT",
            "HUN",
            "SLO",
            "SVN",
            "POL",
            "SWE",
            "FIN",
            "CHE",
            "HRV",
            "SRB",
            "PRT",
            "LVA",
            "FRA",
            "AFG",
            "ALB",
            "DZA",
            "ARG",
            "AUS",
            "AZE",
            "BLR",
            "BRA",
            "BGR",
            "CAN",
            "CHL",
            "CHN",
            "COL",
            "CRI",
            "CYP",
            "ECU",
            "EGY",
            "EST",
            "HON",
            "ISL",
            "IND",
            "IDN",
            "ISR",
            "JPN",
            "KAZ",
            "KOR",
            "LTU",
            "MYS",
            "MLT",
            "MEX",
            "NZL",
            "NGA",
            "NOR",
            "PAK",
            "PER",
            "PHI",
            "ROU",
            "RUS",
            "SGP",
            "ZAF",
            "THA",
            "TUN",
            "TUR",
            "UKR",
            "GBR",
            "USA"
           ],
           "name": "",
           "type": "choropleth",
           "z": [
            2231095,
            41729225,
            4876780,
            2887130,
            4983604,
            23558862,
            24567360,
            8900853,
            2627229,
            4332472,
            4310224,
            2683638,
            1018812,
            18149148,
            4996359,
            2693382,
            4532128,
            1883510,
            3092055,
            5428758,
            1033395,
            30031230,
            7098230,
            1388801,
            11067848,
            18663922,
            11842239,
            4275302,
            5043198,
            94948394,
            3323514,
            19146806,
            8131735,
            778323480,
            22789274,
            2149242,
            608583,
            6517322,
            29061496,
            687615,
            3742584,
            187550,
            472419461,
            119580336,
            3531041,
            65813075,
            8798238,
            25870939,
            1481727,
            13097687,
            180203,
            48766229,
            2357842,
            55649284,
            935314,
            61545907,
            16342847,
            39490704,
            9173378,
            76076120,
            3083320,
            21055801,
            40871917,
            3974997,
            26962928,
            22037073,
            32478068,
            157443452
           ]
          }
         ],
         "name": "2011"
        },
        {
         "data": [
          {
           "coloraxis": "coloraxis",
           "geo": "geo",
           "hovertemplate": "<b>%{hovertext}</b><br><br>Year=2012<br>Alpha-3 code=%{location}<br>Labor force, total=%{z}<extra></extra>",
           "hovertext": [
            "Ireland",
            "Germany",
            "Belgium",
            "Denmark",
            "Greece",
            "Spain",
            "Italy",
            "Netherlands",
            "Norway",
            "Austria",
            "Hungary",
            "Slovak Republic",
            "Slovenia",
            "Poland",
            "Sweden",
            "Finland",
            "Switzerland",
            "Croatia",
            "Serbia",
            "Portugal",
            "Latvia",
            "France",
            "Afghanistan",
            "Albania",
            "Algeria",
            "Argentina",
            "Australia",
            "Azerbaijan",
            "Belarus",
            "Brazil",
            "Bulgaria",
            "Canada",
            "Chile",
            "China",
            "Colombia",
            "Costa Rica",
            "Cyprus",
            "Ecuador",
            "Egypt, Arab Rep.",
            "Estonia",
            "Hong Kong SAR, China",
            "Iceland",
            "India",
            "Indonesia",
            "Israel",
            "Japan",
            "Kazakhstan",
            "Korea, Rep.",
            "Lithuania",
            "Malaysia",
            "Malta",
            "Mexico",
            "New Zealand",
            "Nigeria",
            "North Macedonia",
            "Pakistan",
            "Peru",
            "Philippines",
            "Romania",
            "Russian Federation",
            "Singapore",
            "South Africa",
            "Thailand",
            "Tunisia",
            "Turkiye",
            "Ukraine",
            "United Kingdom",
            "United States"
           ],
           "locations": [
            "IRL",
            "DEU",
            "BEL",
            "DNK",
            "GRC",
            "ESP",
            "ITA",
            "NET",
            "NOR",
            "AUT",
            "HUN",
            "SLO",
            "SVN",
            "POL",
            "SWE",
            "FIN",
            "CHE",
            "HRV",
            "SRB",
            "PRT",
            "LVA",
            "FRA",
            "AFG",
            "ALB",
            "DZA",
            "ARG",
            "AUS",
            "AZE",
            "BLR",
            "BRA",
            "BGR",
            "CAN",
            "CHL",
            "CHN",
            "COL",
            "CRI",
            "CYP",
            "ECU",
            "EGY",
            "EST",
            "HON",
            "ISL",
            "IND",
            "IDN",
            "ISR",
            "JPN",
            "KAZ",
            "KOR",
            "LTU",
            "MYS",
            "MLT",
            "MEX",
            "NZL",
            "NGA",
            "NOR",
            "PAK",
            "PER",
            "PHI",
            "ROU",
            "RUS",
            "SGP",
            "ZAF",
            "THA",
            "TUN",
            "TUR",
            "UKR",
            "GBR",
            "USA"
           ],
           "name": "",
           "type": "choropleth",
           "z": [
            2225018,
            41853628,
            4910968,
            2871734,
            4927758,
            23569775,
            25127011,
            9013873,
            2673428,
            4379686,
            4358321,
            2709630,
            1012538,
            18268758,
            5028100,
            2700773,
            4589900,
            1865281,
            3108558,
            5385170,
            1039903,
            30288026,
            7520865,
            1328695,
            11293832,
            18835226,
            12006301,
            4359293,
            5045691,
            97188186,
            3335298,
            19316264,
            8209415,
            778937997,
            23525349,
            2321866,
            612980,
            6732540,
            29544119,
            683905,
            3818310,
            189063,
            476025371,
            122341620,
            3623923,
            65518909,
            8857279,
            26269374,
            1472231,
            13645536,
            187135,
            50313010,
            2364788,
            54750499,
            934772,
            63271852,
            16520323,
            40075145,
            9217871,
            75911657,
            3185075,
            21285409,
            41198445,
            4077364,
            27572517,
            21940939,
            32778349,
            158452840
           ]
          }
         ],
         "name": "2012"
        },
        {
         "data": [
          {
           "coloraxis": "coloraxis",
           "geo": "geo",
           "hovertemplate": "<b>%{hovertext}</b><br><br>Year=2013<br>Alpha-3 code=%{location}<br>Labor force, total=%{z}<extra></extra>",
           "hovertext": [
            "Ireland",
            "Germany",
            "Belgium",
            "Denmark",
            "Greece",
            "Spain",
            "Italy",
            "Netherlands",
            "Norway",
            "Austria",
            "Hungary",
            "Slovak Republic",
            "Slovenia",
            "Poland",
            "Sweden",
            "Finland",
            "Switzerland",
            "Croatia",
            "Serbia",
            "Portugal",
            "Latvia",
            "France",
            "Afghanistan",
            "Albania",
            "Algeria",
            "Argentina",
            "Australia",
            "Azerbaijan",
            "Belarus",
            "Brazil",
            "Bulgaria",
            "Canada",
            "Chile",
            "China",
            "Colombia",
            "Costa Rica",
            "Cyprus",
            "Ecuador",
            "Egypt, Arab Rep.",
            "Estonia",
            "Hong Kong SAR, China",
            "Iceland",
            "India",
            "Indonesia",
            "Israel",
            "Japan",
            "Kazakhstan",
            "Korea, Rep.",
            "Lithuania",
            "Malaysia",
            "Malta",
            "Mexico",
            "New Zealand",
            "Nigeria",
            "North Macedonia",
            "Pakistan",
            "Peru",
            "Philippines",
            "Romania",
            "Russian Federation",
            "Singapore",
            "South Africa",
            "Thailand",
            "Tunisia",
            "Turkiye",
            "Ukraine",
            "United Kingdom",
            "United States"
           ],
           "locations": [
            "IRL",
            "DEU",
            "BEL",
            "DNK",
            "GRC",
            "ESP",
            "ITA",
            "NET",
            "NOR",
            "AUT",
            "HUN",
            "SLO",
            "SVN",
            "POL",
            "SWE",
            "FIN",
            "CHE",
            "HRV",
            "SRB",
            "PRT",
            "LVA",
            "FRA",
            "AFG",
            "ALB",
            "DZA",
            "ARG",
            "AUS",
            "AZE",
            "BLR",
            "BRA",
            "BGR",
            "CAN",
            "CHL",
            "CHN",
            "COL",
            "CRI",
            "CYP",
            "ECU",
            "EGY",
            "EST",
            "HON",
            "ISL",
            "IND",
            "IDN",
            "ISR",
            "JPN",
            "KAZ",
            "KOR",
            "LTU",
            "MYS",
            "MLT",
            "MEX",
            "NZL",
            "NGA",
            "NOR",
            "PAK",
            "PER",
            "PHI",
            "ROU",
            "RUS",
            "SGP",
            "ZAF",
            "THA",
            "TUN",
            "TUR",
            "UKR",
            "GBR",
            "USA"
           ],
           "name": "",
           "type": "choropleth",
           "z": [
            2247873,
            42212988,
            4962050,
            2850392,
            4867433,
            23332032,
            25287655,
            9054383,
            2700082,
            4423190,
            4393129,
            2717026,
            1006860,
            18287361,
            5088630,
            2686349,
            4647770,
            1844972,
            3157875,
            5289169,
            1021195,
            30432523,
            7881567,
            1227940,
            11793700,
            18964106,
            12176891,
            4428280,
            5043888,
            98532617,
            3363140,
            19522293,
            8324494,
            779042510,
            23805205,
            2337155,
            618239,
            6857058,
            30181706,
            680462,
            3880979,
            192997,
            476574166,
            122963171,
            3694723,
            65768575,
            8913429,
            26634430,
            1465316,
            14298855,
            196571,
            51144538,
            2394722,
            53710834,
            950678,
            64802508,
            16618192,
            40789298,
            9175559,
            75613136,
            3244474,
            21678833,
            40085032,
            4084374,
            28737693,
            21834999,
            33061439,
            158809862
           ]
          }
         ],
         "name": "2013"
        },
        {
         "data": [
          {
           "coloraxis": "coloraxis",
           "geo": "geo",
           "hovertemplate": "<b>%{hovertext}</b><br><br>Year=2014<br>Alpha-3 code=%{location}<br>Labor force, total=%{z}<extra></extra>",
           "hovertext": [
            "Ireland",
            "Germany",
            "Belgium",
            "Denmark",
            "Greece",
            "Spain",
            "Italy",
            "Netherlands",
            "Norway",
            "Austria",
            "Hungary",
            "Slovak Republic",
            "Slovenia",
            "Poland",
            "Sweden",
            "Finland",
            "Switzerland",
            "Croatia",
            "Serbia",
            "Portugal",
            "Latvia",
            "France",
            "Afghanistan",
            "Albania",
            "Algeria",
            "Argentina",
            "Australia",
            "Azerbaijan",
            "Belarus",
            "Brazil",
            "Bulgaria",
            "Canada",
            "Chile",
            "China",
            "Colombia",
            "Costa Rica",
            "Cyprus",
            "Ecuador",
            "Egypt, Arab Rep.",
            "Estonia",
            "Hong Kong SAR, China",
            "Iceland",
            "India",
            "Indonesia",
            "Israel",
            "Japan",
            "Kazakhstan",
            "Korea, Rep.",
            "Lithuania",
            "Malaysia",
            "Malta",
            "Mexico",
            "New Zealand",
            "Nigeria",
            "North Macedonia",
            "Pakistan",
            "Peru",
            "Philippines",
            "Romania",
            "Russian Federation",
            "Singapore",
            "South Africa",
            "Thailand",
            "Tunisia",
            "Turkiye",
            "Ukraine",
            "United Kingdom",
            "United States"
           ],
           "locations": [
            "IRL",
            "DEU",
            "BEL",
            "DNK",
            "GRC",
            "ESP",
            "ITA",
            "NET",
            "NOR",
            "AUT",
            "HUN",
            "SLO",
            "SVN",
            "POL",
            "SWE",
            "FIN",
            "CHE",
            "HRV",
            "SRB",
            "PRT",
            "LVA",
            "FRA",
            "AFG",
            "ALB",
            "DZA",
            "ARG",
            "AUS",
            "AZE",
            "BLR",
            "BRA",
            "BGR",
            "CAN",
            "CHL",
            "CHN",
            "COL",
            "CRI",
            "CYP",
            "ECU",
            "EGY",
            "EST",
            "HON",
            "ISL",
            "IND",
            "IDN",
            "ISR",
            "JPN",
            "KAZ",
            "KOR",
            "LTU",
            "MYS",
            "MLT",
            "MEX",
            "NZL",
            "NGA",
            "NOR",
            "PAK",
            "PER",
            "PHI",
            "ROU",
            "RUS",
            "SGP",
            "ZAF",
            "THA",
            "TUN",
            "TUR",
            "UKR",
            "GBR",
            "USA"
           ],
           "name": "",
           "type": "choropleth",
           "z": [
            2258498,
            42458390,
            4978926,
            2865028,
            4812543,
            23091303,
            25689865,
            9031991,
            2724239,
            4444847,
            4508047,
            2723429,
            1013694,
            18392967,
            5132084,
            2690277,
            4732391,
            1896011,
            3171544,
            5231791,
            1006638,
            30411865,
            8285362,
            1256110,
            11279335,
            19049721,
            12316359,
            4531372,
            5042125,
            99628945,
            3357878,
            19586757,
            8468946,
            780062420,
            24245416,
            2395003,
            628856,
            7045425,
            30655760,
            675361,
            3899441,
            198891,
            476778623,
            124478015,
            3795478,
            65973877,
            8968071,
            27387622,
            1476890,
            14684103,
            205532,
            51654365,
            2474895,
            55758900,
            956007,
            65271548,
            16683502,
            42179845,
            9205404,
            75425759,
            3339133,
            21981198,
            40209226,
            4103893,
            29598166,
            21670714,
            33331376,
            159540139
           ]
          }
         ],
         "name": "2014"
        },
        {
         "data": [
          {
           "coloraxis": "coloraxis",
           "geo": "geo",
           "hovertemplate": "<b>%{hovertext}</b><br><br>Year=2015<br>Alpha-3 code=%{location}<br>Labor force, total=%{z}<extra></extra>",
           "hovertext": [
            "Ireland",
            "Germany",
            "Belgium",
            "Denmark",
            "Greece",
            "Spain",
            "Italy",
            "Netherlands",
            "Norway",
            "Austria",
            "Hungary",
            "Slovak Republic",
            "Slovenia",
            "Poland",
            "Sweden",
            "Finland",
            "Switzerland",
            "Croatia",
            "Serbia",
            "Portugal",
            "Latvia",
            "France",
            "Afghanistan",
            "Albania",
            "Algeria",
            "Argentina",
            "Australia",
            "Azerbaijan",
            "Belarus",
            "Brazil",
            "Bulgaria",
            "Canada",
            "Chile",
            "China",
            "Colombia",
            "Costa Rica",
            "Cyprus",
            "Ecuador",
            "Egypt, Arab Rep.",
            "Estonia",
            "Hong Kong SAR, China",
            "Iceland",
            "India",
            "Indonesia",
            "Israel",
            "Japan",
            "Kazakhstan",
            "Korea, Rep.",
            "Lithuania",
            "Malaysia",
            "Malta",
            "Mexico",
            "New Zealand",
            "Nigeria",
            "North Macedonia",
            "Pakistan",
            "Peru",
            "Philippines",
            "Romania",
            "Russian Federation",
            "Singapore",
            "South Africa",
            "Thailand",
            "Tunisia",
            "Turkiye",
            "Ukraine",
            "United Kingdom",
            "United States"
           ],
           "locations": [
            "IRL",
            "DEU",
            "BEL",
            "DNK",
            "GRC",
            "ESP",
            "ITA",
            "NET",
            "NOR",
            "AUT",
            "HUN",
            "SLO",
            "SVN",
            "POL",
            "SWE",
            "FIN",
            "CHE",
            "HRV",
            "SRB",
            "PRT",
            "LVA",
            "FRA",
            "AFG",
            "ALB",
            "DZA",
            "ARG",
            "AUS",
            "AZE",
            "BLR",
            "BRA",
            "BGR",
            "CAN",
            "CHL",
            "CHN",
            "COL",
            "CRI",
            "CYP",
            "ECU",
            "EGY",
            "EST",
            "HON",
            "ISL",
            "IND",
            "IDN",
            "ISR",
            "JPN",
            "KAZ",
            "KOR",
            "LTU",
            "MYS",
            "MLT",
            "MEX",
            "NZL",
            "NGA",
            "NOR",
            "PAK",
            "PER",
            "PHI",
            "ROU",
            "RUS",
            "SGP",
            "ZAF",
            "THA",
            "TUN",
            "TUR",
            "UKR",
            "GBR",
            "USA"
           ],
           "name": "",
           "type": "choropleth",
           "z": [
            2285833,
            42660629,
            4989597,
            2895364,
            4788983,
            23036096,
            25654398,
            9095975,
            2762042,
            4497039,
            4587119,
            2739138,
            1006923,
            18332404,
            5177181,
            2699822,
            4804656,
            1896675,
            3135688,
            5204013,
            1009906,
            30494746,
            8630724,
            1308343,
            11709818,
            19229476,
            12554514,
            4626699,
            5042141,
            101299233,
            3333481,
            19690129,
            8566113,
            780709584,
            24759081,
            2380187,
            620365,
            7548658,
            30540697,
            682934,
            3940825,
            203751,
            476681505,
            126141821,
            3859942,
            66061546,
            9019041,
            27788180,
            1468508,
            15044590,
            212910,
            52690172,
            2535320,
            57867585,
            950250,
            67587826,
            16688971,
            42622144,
            9108577,
            75122849,
            3437533,
            23120551,
            40201742,
            4121291,
            30767621,
            21563197,
            33614102,
            160644681
           ]
          }
         ],
         "name": "2015"
        },
        {
         "data": [
          {
           "coloraxis": "coloraxis",
           "geo": "geo",
           "hovertemplate": "<b>%{hovertext}</b><br><br>Year=2016<br>Alpha-3 code=%{location}<br>Labor force, total=%{z}<extra></extra>",
           "hovertext": [
            "Ireland",
            "Germany",
            "Belgium",
            "Denmark",
            "Greece",
            "Spain",
            "Italy",
            "Netherlands",
            "Norway",
            "Austria",
            "Hungary",
            "Slovak Republic",
            "Slovenia",
            "Poland",
            "Sweden",
            "Finland",
            "Switzerland",
            "Croatia",
            "Serbia",
            "Portugal",
            "Latvia",
            "France",
            "Afghanistan",
            "Albania",
            "Algeria",
            "Argentina",
            "Australia",
            "Azerbaijan",
            "Belarus",
            "Brazil",
            "Bulgaria",
            "Canada",
            "Chile",
            "China",
            "Colombia",
            "Costa Rica",
            "Cyprus",
            "Ecuador",
            "Egypt, Arab Rep.",
            "Estonia",
            "Hong Kong SAR, China",
            "Iceland",
            "India",
            "Indonesia",
            "Israel",
            "Japan",
            "Kazakhstan",
            "Korea, Rep.",
            "Lithuania",
            "Malaysia",
            "Malta",
            "Mexico",
            "New Zealand",
            "Nigeria",
            "North Macedonia",
            "Pakistan",
            "Peru",
            "Philippines",
            "Romania",
            "Russian Federation",
            "Singapore",
            "South Africa",
            "Thailand",
            "Tunisia",
            "Turkiye",
            "Ukraine",
            "United Kingdom",
            "United States"
           ],
           "locations": [
            "IRL",
            "DEU",
            "BEL",
            "DNK",
            "GRC",
            "ESP",
            "ITA",
            "NET",
            "NOR",
            "AUT",
            "HUN",
            "SLO",
            "SVN",
            "POL",
            "SWE",
            "FIN",
            "CHE",
            "HRV",
            "SRB",
            "PRT",
            "LVA",
            "FRA",
            "AFG",
            "ALB",
            "DZA",
            "ARG",
            "AUS",
            "AZE",
            "BLR",
            "BRA",
            "BGR",
            "CAN",
            "CHL",
            "CHN",
            "COL",
            "CRI",
            "CYP",
            "ECU",
            "EGY",
            "EST",
            "HON",
            "ISL",
            "IND",
            "IDN",
            "ISR",
            "JPN",
            "KAZ",
            "KOR",
            "LTU",
            "MYS",
            "MLT",
            "MEX",
            "NZL",
            "NGA",
            "NOR",
            "PAK",
            "PER",
            "PHI",
            "ROU",
            "RUS",
            "SGP",
            "ZAF",
            "THA",
            "TUN",
            "TUR",
            "UKR",
            "GBR",
            "USA"
           ],
           "name": "",
           "type": "choropleth",
           "z": [
            2330010,
            43567225,
            4997187,
            2939677,
            4774947,
            22977372,
            25932536,
            9128587,
            2769692,
            4579306,
            4651601,
            2759104,
            993963,
            18371736,
            5244040,
            2694829,
            4886342,
            1835203,
            3229602,
            5187357,
            1004171,
            30508008,
            8913938,
            1354998,
            11918421,
            19404277,
            12728416,
            4756797,
            5038419,
            102278733,
            3265483,
            19877599,
            8661001,
            780524312,
            25039982,
            2223154,
            615687,
            7951902,
            30927659,
            691074,
            3956680,
            209633,
            476439285,
            127339757,
            3933469,
            66669411,
            9066824,
            28041851,
            1476945,
            15326694,
            222635,
            53525389,
            2643213,
            60073638,
            945205,
            68081288,
            16861950,
            43756699,
            8915255,
            75182854,
            3480133,
            23430091,
            39942542,
            4162572,
            31859054,
            21453122,
            33939706,
            162448669
           ]
          }
         ],
         "name": "2016"
        },
        {
         "data": [
          {
           "coloraxis": "coloraxis",
           "geo": "geo",
           "hovertemplate": "<b>%{hovertext}</b><br><br>Year=2017<br>Alpha-3 code=%{location}<br>Labor force, total=%{z}<extra></extra>",
           "hovertext": [
            "Ireland",
            "Germany",
            "Belgium",
            "Denmark",
            "Greece",
            "Spain",
            "Italy",
            "Netherlands",
            "Norway",
            "Austria",
            "Hungary",
            "Slovak Republic",
            "Slovenia",
            "Poland",
            "Sweden",
            "Finland",
            "Switzerland",
            "Croatia",
            "Serbia",
            "Portugal",
            "Latvia",
            "France",
            "Afghanistan",
            "Albania",
            "Algeria",
            "Argentina",
            "Australia",
            "Azerbaijan",
            "Belarus",
            "Brazil",
            "Bulgaria",
            "Canada",
            "Chile",
            "China",
            "Colombia",
            "Costa Rica",
            "Cyprus",
            "Ecuador",
            "Egypt, Arab Rep.",
            "Estonia",
            "Hong Kong SAR, China",
            "Iceland",
            "India",
            "Indonesia",
            "Israel",
            "Japan",
            "Kazakhstan",
            "Korea, Rep.",
            "Lithuania",
            "Malaysia",
            "Malta",
            "Mexico",
            "New Zealand",
            "Nigeria",
            "North Macedonia",
            "Pakistan",
            "Peru",
            "Philippines",
            "Romania",
            "Russian Federation",
            "Singapore",
            "South Africa",
            "Thailand",
            "Tunisia",
            "Turkiye",
            "Ukraine",
            "United Kingdom",
            "United States"
           ],
           "locations": [
            "IRL",
            "DEU",
            "BEL",
            "DNK",
            "GRC",
            "ESP",
            "ITA",
            "NET",
            "NOR",
            "AUT",
            "HUN",
            "SLO",
            "SVN",
            "POL",
            "SWE",
            "FIN",
            "CHE",
            "HRV",
            "SRB",
            "PRT",
            "LVA",
            "FRA",
            "AFG",
            "ALB",
            "DZA",
            "ARG",
            "AUS",
            "AZE",
            "BLR",
            "BRA",
            "BGR",
            "CAN",
            "CHL",
            "CHN",
            "COL",
            "CRI",
            "CYP",
            "ECU",
            "EGY",
            "EST",
            "HON",
            "ISL",
            "IND",
            "IDN",
            "ISR",
            "JPN",
            "KAZ",
            "KOR",
            "LTU",
            "MYS",
            "MLT",
            "MEX",
            "NZL",
            "NGA",
            "NOR",
            "PAK",
            "PER",
            "PHI",
            "ROU",
            "RUS",
            "SGP",
            "ZAF",
            "THA",
            "TUN",
            "TUR",
            "UKR",
            "GBR",
            "USA"
           ],
           "name": "",
           "type": "choropleth",
           "z": [
            2354153,
            43819028,
            5086330,
            2966464,
            4753621,
            22897891,
            26103399,
            9194515,
            2760886,
            4608584,
            4688293,
            2754225,
            1025695,
            18432689,
            5331161,
            2716261,
            4920490,
            1824724,
            3256850,
            5226891,
            999649,
            30547530,
            9254593,
            1377319,
            12067162,
            19580710,
            13006679,
            4841518,
            5025143,
            104079618,
            3364252,
            20144985,
            8872208,
            778674707,
            25528733,
            2335223,
            625144,
            8190955,
            30428646,
            697561,
            3978306,
            213259,
            475894660,
            129760147,
            3998508,
            67225084,
            9113763,
            28349693,
            1460791,
            15658001,
            233766,
            54238561,
            2740052,
            62423461,
            952947,
            68740238,
            17556265,
            42974771,
            9055160,
            74610600,
            3474178,
            23776332,
            39798925,
            4178516,
            32879109,
            21345004,
            34128763,
            163971527
           ]
          }
         ],
         "name": "2017"
        },
        {
         "data": [
          {
           "coloraxis": "coloraxis",
           "geo": "geo",
           "hovertemplate": "<b>%{hovertext}</b><br><br>Year=2018<br>Alpha-3 code=%{location}<br>Labor force, total=%{z}<extra></extra>",
           "hovertext": [
            "Ireland",
            "Germany",
            "Belgium",
            "Denmark",
            "Greece",
            "Spain",
            "Italy",
            "Netherlands",
            "Norway",
            "Austria",
            "Hungary",
            "Slovak Republic",
            "Slovenia",
            "Poland",
            "Sweden",
            "Finland",
            "Switzerland",
            "Croatia",
            "Serbia",
            "Portugal",
            "Latvia",
            "France",
            "Afghanistan",
            "Albania",
            "Algeria",
            "Argentina",
            "Australia",
            "Azerbaijan",
            "Belarus",
            "Brazil",
            "Bulgaria",
            "Canada",
            "Chile",
            "China",
            "Colombia",
            "Costa Rica",
            "Cyprus",
            "Ecuador",
            "Egypt, Arab Rep.",
            "Estonia",
            "Hong Kong SAR, China",
            "Iceland",
            "India",
            "Indonesia",
            "Israel",
            "Japan",
            "Kazakhstan",
            "Korea, Rep.",
            "Lithuania",
            "Malaysia",
            "Malta",
            "Mexico",
            "New Zealand",
            "Nigeria",
            "North Macedonia",
            "Pakistan",
            "Peru",
            "Philippines",
            "Romania",
            "Russian Federation",
            "Singapore",
            "South Africa",
            "Thailand",
            "Tunisia",
            "Turkiye",
            "Ukraine",
            "United Kingdom",
            "United States"
           ],
           "locations": [
            "IRL",
            "DEU",
            "BEL",
            "DNK",
            "GRC",
            "ESP",
            "ITA",
            "NET",
            "NOR",
            "AUT",
            "HUN",
            "SLO",
            "SVN",
            "POL",
            "SWE",
            "FIN",
            "CHE",
            "HRV",
            "SRB",
            "PRT",
            "LVA",
            "FRA",
            "AFG",
            "ALB",
            "DZA",
            "ARG",
            "AUS",
            "AZE",
            "BLR",
            "BRA",
            "BGR",
            "CAN",
            "CHL",
            "CHN",
            "COL",
            "CRI",
            "CYP",
            "ECU",
            "EGY",
            "EST",
            "HON",
            "ISL",
            "IND",
            "IDN",
            "ISR",
            "JPN",
            "KAZ",
            "KOR",
            "LTU",
            "MYS",
            "MLT",
            "MEX",
            "NZL",
            "NGA",
            "NOR",
            "PAK",
            "PER",
            "PHI",
            "ROU",
            "RUS",
            "SGP",
            "ZAF",
            "THA",
            "TUN",
            "TUR",
            "UKR",
            "GBR",
            "USA"
           ],
           "name": "",
           "type": "choropleth",
           "z": [
            2397838,
            43935038,
            5144068,
            2990219,
            4727112,
            22930164,
            26164164,
            9309225,
            2796121,
            4642407,
            4720978,
            2746014,
            1035092,
            18388899,
            5396547,
            2749812,
            4956328,
            1794304,
            3275646,
            5242420,
            1000243,
            30691326,
            9613728,
            1409389,
            12221429,
            20103008,
            13308365,
            4925538,
            4998649,
            105437485,
            3338430,
            20344108,
            9059235,
            776278514,
            26010171,
            2459739,
            638543,
            8227052,
            29899860,
            702032,
            4008835,
            217130,
            474730667,
            133327293,
            4073299,
            68386819,
            9164074,
            28513895,
            1467697,
            16042325,
            250448,
            55360235,
            2794877,
            64865190,
            957679,
            69627363,
            18029865,
            43800369,
            8999055,
            74501321,
            3471429,
            23771537,
            40229448,
            4204927,
            33440312,
            21244133,
            34415434,
            165307010
           ]
          }
         ],
         "name": "2018"
        },
        {
         "data": [
          {
           "coloraxis": "coloraxis",
           "geo": "geo",
           "hovertemplate": "<b>%{hovertext}</b><br><br>Year=2019<br>Alpha-3 code=%{location}<br>Labor force, total=%{z}<extra></extra>",
           "hovertext": [
            "Ireland",
            "Germany",
            "Belgium",
            "Denmark",
            "Greece",
            "Spain",
            "Italy",
            "Netherlands",
            "Norway",
            "Austria",
            "Hungary",
            "Slovak Republic",
            "Slovenia",
            "Poland",
            "Sweden",
            "Finland",
            "Switzerland",
            "Croatia",
            "Serbia",
            "Portugal",
            "Latvia",
            "France",
            "Afghanistan",
            "Albania",
            "Algeria",
            "Argentina",
            "Australia",
            "Azerbaijan",
            "Belarus",
            "Brazil",
            "Bulgaria",
            "Canada",
            "Chile",
            "China",
            "Colombia",
            "Costa Rica",
            "Cyprus",
            "Ecuador",
            "Egypt, Arab Rep.",
            "Estonia",
            "Hong Kong SAR, China",
            "Iceland",
            "India",
            "Indonesia",
            "Israel",
            "Japan",
            "Kazakhstan",
            "Korea, Rep.",
            "Lithuania",
            "Malaysia",
            "Malta",
            "Mexico",
            "New Zealand",
            "Nigeria",
            "North Macedonia",
            "Pakistan",
            "Peru",
            "Philippines",
            "Romania",
            "Russian Federation",
            "Singapore",
            "South Africa",
            "Thailand",
            "Tunisia",
            "Turkiye",
            "Ukraine",
            "United Kingdom",
            "United States"
           ],
           "locations": [
            "IRL",
            "DEU",
            "BEL",
            "DNK",
            "GRC",
            "ESP",
            "ITA",
            "NET",
            "NOR",
            "AUT",
            "HUN",
            "SLO",
            "SVN",
            "POL",
            "SWE",
            "FIN",
            "CHE",
            "HRV",
            "SRB",
            "PRT",
            "LVA",
            "FRA",
            "AFG",
            "ALB",
            "DZA",
            "ARG",
            "AUS",
            "AZE",
            "BLR",
            "BRA",
            "BGR",
            "CAN",
            "CHL",
            "CHN",
            "COL",
            "CRI",
            "CYP",
            "ECU",
            "EGY",
            "EST",
            "HON",
            "ISL",
            "IND",
            "IDN",
            "ISR",
            "JPN",
            "KAZ",
            "KOR",
            "LTU",
            "MYS",
            "MLT",
            "MEX",
            "NZL",
            "NGA",
            "NOR",
            "PAK",
            "PER",
            "PHI",
            "ROU",
            "RUS",
            "SGP",
            "ZAF",
            "THA",
            "TUN",
            "TUR",
            "UKR",
            "GBR",
            "USA"
           ],
           "name": "",
           "type": "choropleth",
           "z": [
            2446760,
            44433744,
            5194405,
            3032098,
            4735273,
            23139046,
            25907430,
            9466453,
            2825244,
            4662739,
            4748584,
            2741604,
            1028559,
            18327422,
            5456623,
            2758855,
            4971006,
            1781597,
            3272110,
            5264058,
            988868,
            30652293,
            9991682,
            1433004,
            12396383,
            20607477,
            13590354,
            4964822,
            4971033,
            107415119,
            3391873,
            20758436,
            9214285,
            775321104,
            26304740,
            2573190,
            649712,
            8387366,
            29708924,
            700314,
            3992610,
            220983,
            501044031,
            136201932,
            4125006,
            69045531,
            9226063,
            28808833,
            1475085,
            16435372,
            265572,
            56818605,
            2834605,
            67373496,
            965045,
            71922561,
            18527166,
            45091808,
            8972261,
            73598523,
            3527441,
            24142655,
            39952396,
            4240590,
            33612480,
            21148251,
            34695933,
            167100511
           ]
          }
         ],
         "name": "2019"
        },
        {
         "data": [
          {
           "coloraxis": "coloraxis",
           "geo": "geo",
           "hovertemplate": "<b>%{hovertext}</b><br><br>Year=2020<br>Alpha-3 code=%{location}<br>Labor force, total=%{z}<extra></extra>",
           "hovertext": [
            "Ireland",
            "Germany",
            "Belgium",
            "Denmark",
            "Greece",
            "Spain",
            "Italy",
            "Netherlands",
            "Norway",
            "Austria",
            "Hungary",
            "Slovak Republic",
            "Slovenia",
            "Poland",
            "Sweden",
            "Finland",
            "Switzerland",
            "Croatia",
            "Serbia",
            "Portugal",
            "Latvia",
            "France",
            "Afghanistan",
            "Albania",
            "Algeria",
            "Argentina",
            "Australia",
            "Azerbaijan",
            "Belarus",
            "Brazil",
            "Bulgaria",
            "Canada",
            "Chile",
            "China",
            "Colombia",
            "Costa Rica",
            "Cyprus",
            "Ecuador",
            "Egypt, Arab Rep.",
            "Estonia",
            "Hong Kong SAR, China",
            "Iceland",
            "India",
            "Indonesia",
            "Israel",
            "Japan",
            "Kazakhstan",
            "Korea, Rep.",
            "Lithuania",
            "Malaysia",
            "Malta",
            "Mexico",
            "New Zealand",
            "Nigeria",
            "North Macedonia",
            "Pakistan",
            "Peru",
            "Philippines",
            "Romania",
            "Russian Federation",
            "Singapore",
            "South Africa",
            "Thailand",
            "Tunisia",
            "Turkiye",
            "Ukraine",
            "United Kingdom",
            "United States"
           ],
           "locations": [
            "IRL",
            "DEU",
            "BEL",
            "DNK",
            "GRC",
            "ESP",
            "ITA",
            "NET",
            "NOR",
            "AUT",
            "HUN",
            "SLO",
            "SVN",
            "POL",
            "SWE",
            "FIN",
            "CHE",
            "HRV",
            "SRB",
            "PRT",
            "LVA",
            "FRA",
            "AFG",
            "ALB",
            "DZA",
            "ARG",
            "AUS",
            "AZE",
            "BLR",
            "BRA",
            "BGR",
            "CAN",
            "CHL",
            "CHN",
            "COL",
            "CRI",
            "CYP",
            "ECU",
            "EGY",
            "EST",
            "HON",
            "ISL",
            "IND",
            "IDN",
            "ISR",
            "JPN",
            "KAZ",
            "KOR",
            "LTU",
            "MYS",
            "MLT",
            "MEX",
            "NZL",
            "NGA",
            "NOR",
            "PAK",
            "PER",
            "PHI",
            "ROU",
            "RUS",
            "SGP",
            "ZAF",
            "THA",
            "TUN",
            "TUR",
            "UKR",
            "GBR",
            "USA"
           ],
           "name": "",
           "type": "choropleth",
           "z": [
            2432234,
            43501190,
            5167188,
            3028252,
            4643796,
            22838137,
            25126337,
            9502134,
            2832047,
            4638300,
            4724407,
            2712322,
            1029744,
            18245536,
            5462300,
            2751071,
            4979813,
            1772376,
            3218733,
            5166305,
            988585,
            30379167,
            9105733,
            1347461,
            11857820,
            19406591,
            13590200,
            5165410,
            4931564,
            100641930,
            3311854,
            20487247,
            8698434,
            751446327,
            24932942,
            2456537,
            651740,
            7769265,
            29815652,
            700236,
            3910149,
            218866,
            496925540,
            136106881,
            4086174,
            68953988,
            9183306,
            28597159,
            1486169,
            16626593,
            275724,
            53127554,
            2893601,
            68632664,
            946571,
            72839474,
            16830784,
            42419079,
            8908333,
            73064922,
            3511798,
            22920638,
            40206906,
            4066606,
            31643711,
            20585937,
            34633193,
            165636441
           ]
          }
         ],
         "name": "2020"
        },
        {
         "data": [
          {
           "coloraxis": "coloraxis",
           "geo": "geo",
           "hovertemplate": "<b>%{hovertext}</b><br><br>Year=2021<br>Alpha-3 code=%{location}<br>Labor force, total=%{z}<extra></extra>",
           "hovertext": [
            "Ireland",
            "Germany",
            "Belgium",
            "Denmark",
            "Greece",
            "Spain",
            "Italy",
            "Netherlands",
            "Norway",
            "Austria",
            "Hungary",
            "Slovak Republic",
            "Slovenia",
            "Poland",
            "Sweden",
            "Finland",
            "Switzerland",
            "Croatia",
            "Serbia",
            "Portugal",
            "Latvia",
            "France",
            "Afghanistan",
            "Albania",
            "Algeria",
            "Argentina",
            "Australia",
            "Azerbaijan",
            "Belarus",
            "Brazil",
            "Bulgaria",
            "Canada",
            "Chile",
            "China",
            "Colombia",
            "Costa Rica",
            "Cyprus",
            "Ecuador",
            "Egypt, Arab Rep.",
            "Estonia",
            "Hong Kong SAR, China",
            "Iceland",
            "India",
            "Indonesia",
            "Israel",
            "Japan",
            "Kazakhstan",
            "Korea, Rep.",
            "Lithuania",
            "Malaysia",
            "Malta",
            "Mexico",
            "New Zealand",
            "Nigeria",
            "North Macedonia",
            "Pakistan",
            "Peru",
            "Philippines",
            "Romania",
            "Russian Federation",
            "Singapore",
            "South Africa",
            "Thailand",
            "Tunisia",
            "Turkiye",
            "Ukraine",
            "United Kingdom",
            "United States"
           ],
           "locations": [
            "IRL",
            "DEU",
            "BEL",
            "DNK",
            "GRC",
            "ESP",
            "ITA",
            "NET",
            "NOR",
            "AUT",
            "HUN",
            "SLO",
            "SVN",
            "POL",
            "SWE",
            "FIN",
            "CHE",
            "HRV",
            "SRB",
            "PRT",
            "LVA",
            "FRA",
            "AFG",
            "ALB",
            "DZA",
            "ARG",
            "AUS",
            "AZE",
            "BLR",
            "BRA",
            "BGR",
            "CAN",
            "CHL",
            "CHN",
            "COL",
            "CRI",
            "CYP",
            "ECU",
            "EGY",
            "EST",
            "HON",
            "ISL",
            "IND",
            "IDN",
            "ISR",
            "JPN",
            "KAZ",
            "KOR",
            "LTU",
            "MYS",
            "MLT",
            "MEX",
            "NZL",
            "NGA",
            "NOR",
            "PAK",
            "PER",
            "PHI",
            "ROU",
            "RUS",
            "SGP",
            "ZAF",
            "THA",
            "TUN",
            "TUR",
            "UKR",
            "GBR",
            "USA"
           ],
           "name": "",
           "type": "choropleth",
           "z": [
            2551561,
            43386527,
            5262812,
            3070703,
            4605900,
            23384137,
            25077277,
            9653277,
            2908555,
            4689420,
            4920977,
            2777251,
            1045561,
            18519217,
            5514678,
            2774226,
            4980848,
            1733479,
            3281894,
            5172510,
            956869,
            31264402,
            null,
            1384740,
            12260834,
            21191985,
            13807641,
            5140941,
            4912087,
            105434083,
            3268751,
            20971220,
            9081005,
            780370660,
            25983568,
            2529009,
            666826,
            8652009,
            30223373,
            702973,
            3866026,
            222391,
            507704858,
            134381715,
            4231237,
            68858892,
            9293787,
            28758924,
            1479760,
            16915825,
            281266,
            56993986,
            2941259,
            70620043,
            938072,
            76944640,
            17866091,
            44857443,
            8199584,
            73367843,
            3418165,
            23621462,
            40332578,
            4164773,
            33317079,
            20285701,
            34465042,
            166120890
           ]
          }
         ],
         "name": "2021"
        }
       ],
       "layout": {
        "coloraxis": {
         "cmax": 10000000,
         "cmin": 1000000,
         "colorbar": {
          "title": {
           "text": "Labor force, total"
          }
         },
         "colorscale": [
          [
           0,
           "rgb(253, 237, 176)"
          ],
          [
           0.09090909090909091,
           "rgb(250, 205, 145)"
          ],
          [
           0.18181818181818182,
           "rgb(246, 173, 119)"
          ],
          [
           0.2727272727272727,
           "rgb(240, 142, 98)"
          ],
          [
           0.36363636363636365,
           "rgb(231, 109, 84)"
          ],
          [
           0.45454545454545453,
           "rgb(216, 80, 83)"
          ],
          [
           0.5454545454545454,
           "rgb(195, 56, 90)"
          ],
          [
           0.6363636363636364,
           "rgb(168, 40, 96)"
          ],
          [
           0.7272727272727273,
           "rgb(138, 29, 99)"
          ],
          [
           0.8181818181818182,
           "rgb(107, 24, 93)"
          ],
          [
           0.9090909090909091,
           "rgb(76, 21, 80)"
          ],
          [
           1,
           "rgb(47, 15, 61)"
          ]
         ]
        },
        "geo": {
         "center": {},
         "domain": {
          "x": [
           0,
           1
          ],
          "y": [
           0,
           1
          ]
         },
         "projection": {
          "type": "natural earth"
         }
        },
        "legend": {
         "tracegroupgap": 0
        },
        "margin": {
         "t": 60
        },
        "sliders": [
         {
          "active": 0,
          "currentvalue": {
           "prefix": "Year="
          },
          "len": 0.9,
          "pad": {
           "b": 10,
           "t": 60
          },
          "steps": [
           {
            "args": [
             [
              "2000"
             ],
             {
              "frame": {
               "duration": 0,
               "redraw": true
              },
              "fromcurrent": true,
              "mode": "immediate",
              "transition": {
               "duration": 0,
               "easing": "linear"
              }
             }
            ],
            "label": "2000",
            "method": "animate"
           },
           {
            "args": [
             [
              "2001"
             ],
             {
              "frame": {
               "duration": 0,
               "redraw": true
              },
              "fromcurrent": true,
              "mode": "immediate",
              "transition": {
               "duration": 0,
               "easing": "linear"
              }
             }
            ],
            "label": "2001",
            "method": "animate"
           },
           {
            "args": [
             [
              "2002"
             ],
             {
              "frame": {
               "duration": 0,
               "redraw": true
              },
              "fromcurrent": true,
              "mode": "immediate",
              "transition": {
               "duration": 0,
               "easing": "linear"
              }
             }
            ],
            "label": "2002",
            "method": "animate"
           },
           {
            "args": [
             [
              "2003"
             ],
             {
              "frame": {
               "duration": 0,
               "redraw": true
              },
              "fromcurrent": true,
              "mode": "immediate",
              "transition": {
               "duration": 0,
               "easing": "linear"
              }
             }
            ],
            "label": "2003",
            "method": "animate"
           },
           {
            "args": [
             [
              "2004"
             ],
             {
              "frame": {
               "duration": 0,
               "redraw": true
              },
              "fromcurrent": true,
              "mode": "immediate",
              "transition": {
               "duration": 0,
               "easing": "linear"
              }
             }
            ],
            "label": "2004",
            "method": "animate"
           },
           {
            "args": [
             [
              "2005"
             ],
             {
              "frame": {
               "duration": 0,
               "redraw": true
              },
              "fromcurrent": true,
              "mode": "immediate",
              "transition": {
               "duration": 0,
               "easing": "linear"
              }
             }
            ],
            "label": "2005",
            "method": "animate"
           },
           {
            "args": [
             [
              "2006"
             ],
             {
              "frame": {
               "duration": 0,
               "redraw": true
              },
              "fromcurrent": true,
              "mode": "immediate",
              "transition": {
               "duration": 0,
               "easing": "linear"
              }
             }
            ],
            "label": "2006",
            "method": "animate"
           },
           {
            "args": [
             [
              "2007"
             ],
             {
              "frame": {
               "duration": 0,
               "redraw": true
              },
              "fromcurrent": true,
              "mode": "immediate",
              "transition": {
               "duration": 0,
               "easing": "linear"
              }
             }
            ],
            "label": "2007",
            "method": "animate"
           },
           {
            "args": [
             [
              "2008"
             ],
             {
              "frame": {
               "duration": 0,
               "redraw": true
              },
              "fromcurrent": true,
              "mode": "immediate",
              "transition": {
               "duration": 0,
               "easing": "linear"
              }
             }
            ],
            "label": "2008",
            "method": "animate"
           },
           {
            "args": [
             [
              "2009"
             ],
             {
              "frame": {
               "duration": 0,
               "redraw": true
              },
              "fromcurrent": true,
              "mode": "immediate",
              "transition": {
               "duration": 0,
               "easing": "linear"
              }
             }
            ],
            "label": "2009",
            "method": "animate"
           },
           {
            "args": [
             [
              "2010"
             ],
             {
              "frame": {
               "duration": 0,
               "redraw": true
              },
              "fromcurrent": true,
              "mode": "immediate",
              "transition": {
               "duration": 0,
               "easing": "linear"
              }
             }
            ],
            "label": "2010",
            "method": "animate"
           },
           {
            "args": [
             [
              "2011"
             ],
             {
              "frame": {
               "duration": 0,
               "redraw": true
              },
              "fromcurrent": true,
              "mode": "immediate",
              "transition": {
               "duration": 0,
               "easing": "linear"
              }
             }
            ],
            "label": "2011",
            "method": "animate"
           },
           {
            "args": [
             [
              "2012"
             ],
             {
              "frame": {
               "duration": 0,
               "redraw": true
              },
              "fromcurrent": true,
              "mode": "immediate",
              "transition": {
               "duration": 0,
               "easing": "linear"
              }
             }
            ],
            "label": "2012",
            "method": "animate"
           },
           {
            "args": [
             [
              "2013"
             ],
             {
              "frame": {
               "duration": 0,
               "redraw": true
              },
              "fromcurrent": true,
              "mode": "immediate",
              "transition": {
               "duration": 0,
               "easing": "linear"
              }
             }
            ],
            "label": "2013",
            "method": "animate"
           },
           {
            "args": [
             [
              "2014"
             ],
             {
              "frame": {
               "duration": 0,
               "redraw": true
              },
              "fromcurrent": true,
              "mode": "immediate",
              "transition": {
               "duration": 0,
               "easing": "linear"
              }
             }
            ],
            "label": "2014",
            "method": "animate"
           },
           {
            "args": [
             [
              "2015"
             ],
             {
              "frame": {
               "duration": 0,
               "redraw": true
              },
              "fromcurrent": true,
              "mode": "immediate",
              "transition": {
               "duration": 0,
               "easing": "linear"
              }
             }
            ],
            "label": "2015",
            "method": "animate"
           },
           {
            "args": [
             [
              "2016"
             ],
             {
              "frame": {
               "duration": 0,
               "redraw": true
              },
              "fromcurrent": true,
              "mode": "immediate",
              "transition": {
               "duration": 0,
               "easing": "linear"
              }
             }
            ],
            "label": "2016",
            "method": "animate"
           },
           {
            "args": [
             [
              "2017"
             ],
             {
              "frame": {
               "duration": 0,
               "redraw": true
              },
              "fromcurrent": true,
              "mode": "immediate",
              "transition": {
               "duration": 0,
               "easing": "linear"
              }
             }
            ],
            "label": "2017",
            "method": "animate"
           },
           {
            "args": [
             [
              "2018"
             ],
             {
              "frame": {
               "duration": 0,
               "redraw": true
              },
              "fromcurrent": true,
              "mode": "immediate",
              "transition": {
               "duration": 0,
               "easing": "linear"
              }
             }
            ],
            "label": "2018",
            "method": "animate"
           },
           {
            "args": [
             [
              "2019"
             ],
             {
              "frame": {
               "duration": 0,
               "redraw": true
              },
              "fromcurrent": true,
              "mode": "immediate",
              "transition": {
               "duration": 0,
               "easing": "linear"
              }
             }
            ],
            "label": "2019",
            "method": "animate"
           },
           {
            "args": [
             [
              "2020"
             ],
             {
              "frame": {
               "duration": 0,
               "redraw": true
              },
              "fromcurrent": true,
              "mode": "immediate",
              "transition": {
               "duration": 0,
               "easing": "linear"
              }
             }
            ],
            "label": "2020",
            "method": "animate"
           },
           {
            "args": [
             [
              "2021"
             ],
             {
              "frame": {
               "duration": 0,
               "redraw": true
              },
              "fromcurrent": true,
              "mode": "immediate",
              "transition": {
               "duration": 0,
               "easing": "linear"
              }
             }
            ],
            "label": "2021",
            "method": "animate"
           }
          ],
          "x": 0.1,
          "xanchor": "left",
          "y": 0,
          "yanchor": "top"
         }
        ],
        "template": {
         "data": {
          "bar": [
           {
            "error_x": {
             "color": "#2a3f5f"
            },
            "error_y": {
             "color": "#2a3f5f"
            },
            "marker": {
             "line": {
              "color": "#E5ECF6",
              "width": 0.5
             },
             "pattern": {
              "fillmode": "overlay",
              "size": 10,
              "solidity": 0.2
             }
            },
            "type": "bar"
           }
          ],
          "barpolar": [
           {
            "marker": {
             "line": {
              "color": "#E5ECF6",
              "width": 0.5
             },
             "pattern": {
              "fillmode": "overlay",
              "size": 10,
              "solidity": 0.2
             }
            },
            "type": "barpolar"
           }
          ],
          "carpet": [
           {
            "aaxis": {
             "endlinecolor": "#2a3f5f",
             "gridcolor": "white",
             "linecolor": "white",
             "minorgridcolor": "white",
             "startlinecolor": "#2a3f5f"
            },
            "baxis": {
             "endlinecolor": "#2a3f5f",
             "gridcolor": "white",
             "linecolor": "white",
             "minorgridcolor": "white",
             "startlinecolor": "#2a3f5f"
            },
            "type": "carpet"
           }
          ],
          "choropleth": [
           {
            "colorbar": {
             "outlinewidth": 0,
             "ticks": ""
            },
            "type": "choropleth"
           }
          ],
          "contour": [
           {
            "colorbar": {
             "outlinewidth": 0,
             "ticks": ""
            },
            "colorscale": [
             [
              0,
              "#0d0887"
             ],
             [
              0.1111111111111111,
              "#46039f"
             ],
             [
              0.2222222222222222,
              "#7201a8"
             ],
             [
              0.3333333333333333,
              "#9c179e"
             ],
             [
              0.4444444444444444,
              "#bd3786"
             ],
             [
              0.5555555555555556,
              "#d8576b"
             ],
             [
              0.6666666666666666,
              "#ed7953"
             ],
             [
              0.7777777777777778,
              "#fb9f3a"
             ],
             [
              0.8888888888888888,
              "#fdca26"
             ],
             [
              1,
              "#f0f921"
             ]
            ],
            "type": "contour"
           }
          ],
          "contourcarpet": [
           {
            "colorbar": {
             "outlinewidth": 0,
             "ticks": ""
            },
            "type": "contourcarpet"
           }
          ],
          "heatmap": [
           {
            "colorbar": {
             "outlinewidth": 0,
             "ticks": ""
            },
            "colorscale": [
             [
              0,
              "#0d0887"
             ],
             [
              0.1111111111111111,
              "#46039f"
             ],
             [
              0.2222222222222222,
              "#7201a8"
             ],
             [
              0.3333333333333333,
              "#9c179e"
             ],
             [
              0.4444444444444444,
              "#bd3786"
             ],
             [
              0.5555555555555556,
              "#d8576b"
             ],
             [
              0.6666666666666666,
              "#ed7953"
             ],
             [
              0.7777777777777778,
              "#fb9f3a"
             ],
             [
              0.8888888888888888,
              "#fdca26"
             ],
             [
              1,
              "#f0f921"
             ]
            ],
            "type": "heatmap"
           }
          ],
          "heatmapgl": [
           {
            "colorbar": {
             "outlinewidth": 0,
             "ticks": ""
            },
            "colorscale": [
             [
              0,
              "#0d0887"
             ],
             [
              0.1111111111111111,
              "#46039f"
             ],
             [
              0.2222222222222222,
              "#7201a8"
             ],
             [
              0.3333333333333333,
              "#9c179e"
             ],
             [
              0.4444444444444444,
              "#bd3786"
             ],
             [
              0.5555555555555556,
              "#d8576b"
             ],
             [
              0.6666666666666666,
              "#ed7953"
             ],
             [
              0.7777777777777778,
              "#fb9f3a"
             ],
             [
              0.8888888888888888,
              "#fdca26"
             ],
             [
              1,
              "#f0f921"
             ]
            ],
            "type": "heatmapgl"
           }
          ],
          "histogram": [
           {
            "marker": {
             "pattern": {
              "fillmode": "overlay",
              "size": 10,
              "solidity": 0.2
             }
            },
            "type": "histogram"
           }
          ],
          "histogram2d": [
           {
            "colorbar": {
             "outlinewidth": 0,
             "ticks": ""
            },
            "colorscale": [
             [
              0,
              "#0d0887"
             ],
             [
              0.1111111111111111,
              "#46039f"
             ],
             [
              0.2222222222222222,
              "#7201a8"
             ],
             [
              0.3333333333333333,
              "#9c179e"
             ],
             [
              0.4444444444444444,
              "#bd3786"
             ],
             [
              0.5555555555555556,
              "#d8576b"
             ],
             [
              0.6666666666666666,
              "#ed7953"
             ],
             [
              0.7777777777777778,
              "#fb9f3a"
             ],
             [
              0.8888888888888888,
              "#fdca26"
             ],
             [
              1,
              "#f0f921"
             ]
            ],
            "type": "histogram2d"
           }
          ],
          "histogram2dcontour": [
           {
            "colorbar": {
             "outlinewidth": 0,
             "ticks": ""
            },
            "colorscale": [
             [
              0,
              "#0d0887"
             ],
             [
              0.1111111111111111,
              "#46039f"
             ],
             [
              0.2222222222222222,
              "#7201a8"
             ],
             [
              0.3333333333333333,
              "#9c179e"
             ],
             [
              0.4444444444444444,
              "#bd3786"
             ],
             [
              0.5555555555555556,
              "#d8576b"
             ],
             [
              0.6666666666666666,
              "#ed7953"
             ],
             [
              0.7777777777777778,
              "#fb9f3a"
             ],
             [
              0.8888888888888888,
              "#fdca26"
             ],
             [
              1,
              "#f0f921"
             ]
            ],
            "type": "histogram2dcontour"
           }
          ],
          "mesh3d": [
           {
            "colorbar": {
             "outlinewidth": 0,
             "ticks": ""
            },
            "type": "mesh3d"
           }
          ],
          "parcoords": [
           {
            "line": {
             "colorbar": {
              "outlinewidth": 0,
              "ticks": ""
             }
            },
            "type": "parcoords"
           }
          ],
          "pie": [
           {
            "automargin": true,
            "type": "pie"
           }
          ],
          "scatter": [
           {
            "fillpattern": {
             "fillmode": "overlay",
             "size": 10,
             "solidity": 0.2
            },
            "type": "scatter"
           }
          ],
          "scatter3d": [
           {
            "line": {
             "colorbar": {
              "outlinewidth": 0,
              "ticks": ""
             }
            },
            "marker": {
             "colorbar": {
              "outlinewidth": 0,
              "ticks": ""
             }
            },
            "type": "scatter3d"
           }
          ],
          "scattercarpet": [
           {
            "marker": {
             "colorbar": {
              "outlinewidth": 0,
              "ticks": ""
             }
            },
            "type": "scattercarpet"
           }
          ],
          "scattergeo": [
           {
            "marker": {
             "colorbar": {
              "outlinewidth": 0,
              "ticks": ""
             }
            },
            "type": "scattergeo"
           }
          ],
          "scattergl": [
           {
            "marker": {
             "colorbar": {
              "outlinewidth": 0,
              "ticks": ""
             }
            },
            "type": "scattergl"
           }
          ],
          "scattermapbox": [
           {
            "marker": {
             "colorbar": {
              "outlinewidth": 0,
              "ticks": ""
             }
            },
            "type": "scattermapbox"
           }
          ],
          "scatterpolar": [
           {
            "marker": {
             "colorbar": {
              "outlinewidth": 0,
              "ticks": ""
             }
            },
            "type": "scatterpolar"
           }
          ],
          "scatterpolargl": [
           {
            "marker": {
             "colorbar": {
              "outlinewidth": 0,
              "ticks": ""
             }
            },
            "type": "scatterpolargl"
           }
          ],
          "scatterternary": [
           {
            "marker": {
             "colorbar": {
              "outlinewidth": 0,
              "ticks": ""
             }
            },
            "type": "scatterternary"
           }
          ],
          "surface": [
           {
            "colorbar": {
             "outlinewidth": 0,
             "ticks": ""
            },
            "colorscale": [
             [
              0,
              "#0d0887"
             ],
             [
              0.1111111111111111,
              "#46039f"
             ],
             [
              0.2222222222222222,
              "#7201a8"
             ],
             [
              0.3333333333333333,
              "#9c179e"
             ],
             [
              0.4444444444444444,
              "#bd3786"
             ],
             [
              0.5555555555555556,
              "#d8576b"
             ],
             [
              0.6666666666666666,
              "#ed7953"
             ],
             [
              0.7777777777777778,
              "#fb9f3a"
             ],
             [
              0.8888888888888888,
              "#fdca26"
             ],
             [
              1,
              "#f0f921"
             ]
            ],
            "type": "surface"
           }
          ],
          "table": [
           {
            "cells": {
             "fill": {
              "color": "#EBF0F8"
             },
             "line": {
              "color": "white"
             }
            },
            "header": {
             "fill": {
              "color": "#C8D4E3"
             },
             "line": {
              "color": "white"
             }
            },
            "type": "table"
           }
          ]
         },
         "layout": {
          "annotationdefaults": {
           "arrowcolor": "#2a3f5f",
           "arrowhead": 0,
           "arrowwidth": 1
          },
          "autotypenumbers": "strict",
          "coloraxis": {
           "colorbar": {
            "outlinewidth": 0,
            "ticks": ""
           }
          },
          "colorscale": {
           "diverging": [
            [
             0,
             "#8e0152"
            ],
            [
             0.1,
             "#c51b7d"
            ],
            [
             0.2,
             "#de77ae"
            ],
            [
             0.3,
             "#f1b6da"
            ],
            [
             0.4,
             "#fde0ef"
            ],
            [
             0.5,
             "#f7f7f7"
            ],
            [
             0.6,
             "#e6f5d0"
            ],
            [
             0.7,
             "#b8e186"
            ],
            [
             0.8,
             "#7fbc41"
            ],
            [
             0.9,
             "#4d9221"
            ],
            [
             1,
             "#276419"
            ]
           ],
           "sequential": [
            [
             0,
             "#0d0887"
            ],
            [
             0.1111111111111111,
             "#46039f"
            ],
            [
             0.2222222222222222,
             "#7201a8"
            ],
            [
             0.3333333333333333,
             "#9c179e"
            ],
            [
             0.4444444444444444,
             "#bd3786"
            ],
            [
             0.5555555555555556,
             "#d8576b"
            ],
            [
             0.6666666666666666,
             "#ed7953"
            ],
            [
             0.7777777777777778,
             "#fb9f3a"
            ],
            [
             0.8888888888888888,
             "#fdca26"
            ],
            [
             1,
             "#f0f921"
            ]
           ],
           "sequentialminus": [
            [
             0,
             "#0d0887"
            ],
            [
             0.1111111111111111,
             "#46039f"
            ],
            [
             0.2222222222222222,
             "#7201a8"
            ],
            [
             0.3333333333333333,
             "#9c179e"
            ],
            [
             0.4444444444444444,
             "#bd3786"
            ],
            [
             0.5555555555555556,
             "#d8576b"
            ],
            [
             0.6666666666666666,
             "#ed7953"
            ],
            [
             0.7777777777777778,
             "#fb9f3a"
            ],
            [
             0.8888888888888888,
             "#fdca26"
            ],
            [
             1,
             "#f0f921"
            ]
           ]
          },
          "colorway": [
           "#636efa",
           "#EF553B",
           "#00cc96",
           "#ab63fa",
           "#FFA15A",
           "#19d3f3",
           "#FF6692",
           "#B6E880",
           "#FF97FF",
           "#FECB52"
          ],
          "font": {
           "color": "#2a3f5f"
          },
          "geo": {
           "bgcolor": "white",
           "lakecolor": "white",
           "landcolor": "#E5ECF6",
           "showlakes": true,
           "showland": true,
           "subunitcolor": "white"
          },
          "hoverlabel": {
           "align": "left"
          },
          "hovermode": "closest",
          "mapbox": {
           "style": "light"
          },
          "paper_bgcolor": "white",
          "plot_bgcolor": "#E5ECF6",
          "polar": {
           "angularaxis": {
            "gridcolor": "white",
            "linecolor": "white",
            "ticks": ""
           },
           "bgcolor": "#E5ECF6",
           "radialaxis": {
            "gridcolor": "white",
            "linecolor": "white",
            "ticks": ""
           }
          },
          "scene": {
           "xaxis": {
            "backgroundcolor": "#E5ECF6",
            "gridcolor": "white",
            "gridwidth": 2,
            "linecolor": "white",
            "showbackground": true,
            "ticks": "",
            "zerolinecolor": "white"
           },
           "yaxis": {
            "backgroundcolor": "#E5ECF6",
            "gridcolor": "white",
            "gridwidth": 2,
            "linecolor": "white",
            "showbackground": true,
            "ticks": "",
            "zerolinecolor": "white"
           },
           "zaxis": {
            "backgroundcolor": "#E5ECF6",
            "gridcolor": "white",
            "gridwidth": 2,
            "linecolor": "white",
            "showbackground": true,
            "ticks": "",
            "zerolinecolor": "white"
           }
          },
          "shapedefaults": {
           "line": {
            "color": "#2a3f5f"
           }
          },
          "ternary": {
           "aaxis": {
            "gridcolor": "white",
            "linecolor": "white",
            "ticks": ""
           },
           "baxis": {
            "gridcolor": "white",
            "linecolor": "white",
            "ticks": ""
           },
           "bgcolor": "#E5ECF6",
           "caxis": {
            "gridcolor": "white",
            "linecolor": "white",
            "ticks": ""
           }
          },
          "title": {
           "x": 0.05
          },
          "xaxis": {
           "automargin": true,
           "gridcolor": "white",
           "linecolor": "white",
           "ticks": "",
           "title": {
            "standoff": 15
           },
           "zerolinecolor": "white",
           "zerolinewidth": 2
          },
          "yaxis": {
           "automargin": true,
           "gridcolor": "white",
           "linecolor": "white",
           "ticks": "",
           "title": {
            "standoff": 15
           },
           "zerolinecolor": "white",
           "zerolinewidth": 2
          }
         }
        },
        "title": {
         "text": "Labor Force of Countries"
        },
        "updatemenus": [
         {
          "buttons": [
           {
            "args": [
             null,
             {
              "frame": {
               "duration": 500,
               "redraw": true
              },
              "fromcurrent": true,
              "mode": "immediate",
              "transition": {
               "duration": 500,
               "easing": "linear"
              }
             }
            ],
            "label": "&#9654;",
            "method": "animate"
           },
           {
            "args": [
             [
              null
             ],
             {
              "frame": {
               "duration": 0,
               "redraw": true
              },
              "fromcurrent": true,
              "mode": "immediate",
              "transition": {
               "duration": 0,
               "easing": "linear"
              }
             }
            ],
            "label": "&#9724;",
            "method": "animate"
           }
          ],
          "direction": "left",
          "pad": {
           "r": 10,
           "t": 70
          },
          "showactive": false,
          "type": "buttons",
          "x": 0.1,
          "xanchor": "right",
          "y": 0,
          "yanchor": "top"
         }
        ]
       }
      }
     },
     "metadata": {},
     "output_type": "display_data"
    }
   ],
   "source": [
    "fig = plt.choropleth(merged_df2,\n",
    "                     locations=\"Alpha-3 code\",\n",
    "                     color=\"Labor force, total\",\n",
    "                     hover_name=\"Country\",\n",
    "                     animation_frame=\"Year\",\n",
    "                     color_continuous_scale=\"matter\", #we expained why we choosed this color_continuous_scale's in the upper cell\n",
    "                     range_color=[1000000, 10000000]) #we expained why we choosed this range_color's range in the upper cell\n",
    "fig.update_layout(\n",
    "    title_text=\"Labor Force of Countries\",\n",
    "    geo=dict(projection={\"type\": \"natural earth\"})\n",
    ")  \n",
    "fig.show()"
   ]
  },
  {
   "attachments": {},
   "cell_type": "markdown",
   "metadata": {},
   "source": [
    "Now, we clearly observed two countries, Finland and Croatia, which closely resemble the labor force changes in Ireland over the years. To demonstrate this effectively, we will proceed with this step."
   ]
  },
  {
   "cell_type": "code",
   "execution_count": 627,
   "metadata": {},
   "outputs": [
    {
     "name": "stdout",
     "output_type": "stream",
     "text": [
      "['Croatia', 'New Zealand', 'Lithuania', 'Costa Rica', 'Singapore', 'Norway', 'Albania', 'Finland']\n"
     ]
    }
   ],
   "source": [
    "def find_closest_countries(df, country, year, n=2):\n",
    "    \"\"\"Find the countries with the most similar labor force to the given country in a specific year.\n",
    "    \n",
    "    Args:\n",
    "        df: The DataFrame containing the labor force data.\n",
    "        country: The country to compare with.\n",
    "        year: The year to consider.\n",
    "        n: The number of closest countries to return. Default is 2.\n",
    "        \n",
    "    Returns:\n",
    "        A list of the countries with the most similar labor force in the given year.\n",
    "    \"\"\"\n",
    "    df_year = df[df['Year'] == year].copy()  # Filter the data for the given year and make a copy\n",
    "    target_value = df_year[df_year['Country'] == country]['Labor force, total'].values[0]\n",
    "    df_year.loc[:, 'difference'] = abs(df_year['Labor force, total'] - target_value)  # Use .loc to avoid SettingWithCopyWarning\n",
    "    closest_countries = df_year.nsmallest(8+1, 'difference')['Country'].tolist()\n",
    "    closest_countries.remove(country)\n",
    "    return closest_countries\n",
    "\n",
    "# Choose the most recent year in the data\n",
    "latest_year = merged_df2['Year'].min()\n",
    "\n",
    "# Find the two countries with the most similar labor force to Ireland in the latest year\n",
    "closest_countries = find_closest_countries(merged_df2, 'Ireland', latest_year)\n",
    "print(closest_countries)\n"
   ]
  },
  {
   "attachments": {},
   "cell_type": "markdown",
   "metadata": {},
   "source": [
    "As we can see, Finland and Croatia are the two countries that resemble the labor force changes in Ireland. Now, let's focus on these two countries by displaying them on a map of Europe, highlighting only Finland and Croatia."
   ]
  },
  {
   "cell_type": "code",
   "execution_count": 628,
   "metadata": {},
   "outputs": [
    {
     "data": {
      "application/vnd.plotly.v1+json": {
       "config": {
        "plotlyServerURL": "https://plot.ly"
       },
       "data": [
        {
         "coloraxis": "coloraxis",
         "geo": "geo",
         "hovertemplate": "<b>%{hovertext}</b><br><br>Year=2000<br>Alpha-3 code=%{location}<br>Labor force, total=%{z}<extra></extra>",
         "hovertext": [
          "Ireland",
          "Finland",
          "Croatia"
         ],
         "locations": [
          "IRL",
          "FIN",
          "HRV"
         ],
         "name": "",
         "type": "choropleth",
         "z": [
          1862430,
          2583129,
          1932906
         ]
        }
       ],
       "frames": [
        {
         "data": [
          {
           "coloraxis": "coloraxis",
           "geo": "geo",
           "hovertemplate": "<b>%{hovertext}</b><br><br>Year=2000<br>Alpha-3 code=%{location}<br>Labor force, total=%{z}<extra></extra>",
           "hovertext": [
            "Ireland",
            "Finland",
            "Croatia"
           ],
           "locations": [
            "IRL",
            "FIN",
            "HRV"
           ],
           "name": "",
           "type": "choropleth",
           "z": [
            1862430,
            2583129,
            1932906
           ]
          }
         ],
         "name": "2000"
        },
        {
         "data": [
          {
           "coloraxis": "coloraxis",
           "geo": "geo",
           "hovertemplate": "<b>%{hovertext}</b><br><br>Year=2001<br>Alpha-3 code=%{location}<br>Labor force, total=%{z}<extra></extra>",
           "hovertext": [
            "Ireland",
            "Finland",
            "Croatia"
           ],
           "locations": [
            "IRL",
            "FIN",
            "HRV"
           ],
           "name": "",
           "type": "choropleth",
           "z": [
            1898123,
            2606649,
            1845629
           ]
          }
         ],
         "name": "2001"
        },
        {
         "data": [
          {
           "coloraxis": "coloraxis",
           "geo": "geo",
           "hovertemplate": "<b>%{hovertext}</b><br><br>Year=2002<br>Alpha-3 code=%{location}<br>Labor force, total=%{z}<extra></extra>",
           "hovertext": [
            "Ireland",
            "Finland",
            "Croatia"
           ],
           "locations": [
            "IRL",
            "FIN",
            "HRV"
           ],
           "name": "",
           "type": "choropleth",
           "z": [
            1941828,
            2618114,
            1833312
           ]
          }
         ],
         "name": "2002"
        },
        {
         "data": [
          {
           "coloraxis": "coloraxis",
           "geo": "geo",
           "hovertemplate": "<b>%{hovertext}</b><br><br>Year=2003<br>Alpha-3 code=%{location}<br>Labor force, total=%{z}<extra></extra>",
           "hovertext": [
            "Ireland",
            "Finland",
            "Croatia"
           ],
           "locations": [
            "IRL",
            "FIN",
            "HRV"
           ],
           "name": "",
           "type": "choropleth",
           "z": [
            1984446,
            2620447,
            1808041
           ]
          }
         ],
         "name": "2003"
        },
        {
         "data": [
          {
           "coloraxis": "coloraxis",
           "geo": "geo",
           "hovertemplate": "<b>%{hovertext}</b><br><br>Year=2004<br>Alpha-3 code=%{location}<br>Labor force, total=%{z}<extra></extra>",
           "hovertext": [
            "Ireland",
            "Finland",
            "Croatia"
           ],
           "locations": [
            "IRL",
            "FIN",
            "HRV"
           ],
           "name": "",
           "type": "choropleth",
           "z": [
            2033886,
            2612340,
            1844858
           ]
          }
         ],
         "name": "2004"
        },
        {
         "data": [
          {
           "coloraxis": "coloraxis",
           "geo": "geo",
           "hovertemplate": "<b>%{hovertext}</b><br><br>Year=2005<br>Alpha-3 code=%{location}<br>Labor force, total=%{z}<extra></extra>",
           "hovertext": [
            "Ireland",
            "Finland",
            "Croatia"
           ],
           "locations": [
            "IRL",
            "FIN",
            "HRV"
           ],
           "name": "",
           "type": "choropleth",
           "z": [
            2151141,
            2632616,
            1796375
           ]
          }
         ],
         "name": "2005"
        },
        {
         "data": [
          {
           "coloraxis": "coloraxis",
           "geo": "geo",
           "hovertemplate": "<b>%{hovertext}</b><br><br>Year=2006<br>Alpha-3 code=%{location}<br>Labor force, total=%{z}<extra></extra>",
           "hovertext": [
            "Ireland",
            "Finland",
            "Croatia"
           ],
           "locations": [
            "IRL",
            "FIN",
            "HRV"
           ],
           "name": "",
           "type": "choropleth",
           "z": [
            2241382,
            2660139,
            1785298
           ]
          }
         ],
         "name": "2006"
        },
        {
         "data": [
          {
           "coloraxis": "coloraxis",
           "geo": "geo",
           "hovertemplate": "<b>%{hovertext}</b><br><br>Year=2007<br>Alpha-3 code=%{location}<br>Labor force, total=%{z}<extra></extra>",
           "hovertext": [
            "Ireland",
            "Finland",
            "Croatia"
           ],
           "locations": [
            "IRL",
            "FIN",
            "HRV"
           ],
           "name": "",
           "type": "choropleth",
           "z": [
            2336096,
            2687154,
            1924507
           ]
          }
         ],
         "name": "2007"
        },
        {
         "data": [
          {
           "coloraxis": "coloraxis",
           "geo": "geo",
           "hovertemplate": "<b>%{hovertext}</b><br><br>Year=2008<br>Alpha-3 code=%{location}<br>Labor force, total=%{z}<extra></extra>",
           "hovertext": [
            "Ireland",
            "Finland",
            "Croatia"
           ],
           "locations": [
            "IRL",
            "FIN",
            "HRV"
           ],
           "name": "",
           "type": "choropleth",
           "z": [
            2355177,
            2715926,
            1933843
           ]
          }
         ],
         "name": "2008"
        },
        {
         "data": [
          {
           "coloraxis": "coloraxis",
           "geo": "geo",
           "hovertemplate": "<b>%{hovertext}</b><br><br>Year=2009<br>Alpha-3 code=%{location}<br>Labor force, total=%{z}<extra></extra>",
           "hovertext": [
            "Ireland",
            "Finland",
            "Croatia"
           ],
           "locations": [
            "IRL",
            "FIN",
            "HRV"
           ],
           "name": "",
           "type": "choropleth",
           "z": [
            2303515,
            2688826,
            1934048
           ]
          }
         ],
         "name": "2009"
        },
        {
         "data": [
          {
           "coloraxis": "coloraxis",
           "geo": "geo",
           "hovertemplate": "<b>%{hovertext}</b><br><br>Year=2010<br>Alpha-3 code=%{location}<br>Labor force, total=%{z}<extra></extra>",
           "hovertext": [
            "Ireland",
            "Finland",
            "Croatia"
           ],
           "locations": [
            "IRL",
            "FIN",
            "HRV"
           ],
           "name": "",
           "type": "choropleth",
           "z": [
            2252263,
            2678175,
            1912849
           ]
          }
         ],
         "name": "2010"
        },
        {
         "data": [
          {
           "coloraxis": "coloraxis",
           "geo": "geo",
           "hovertemplate": "<b>%{hovertext}</b><br><br>Year=2011<br>Alpha-3 code=%{location}<br>Labor force, total=%{z}<extra></extra>",
           "hovertext": [
            "Ireland",
            "Finland",
            "Croatia"
           ],
           "locations": [
            "IRL",
            "FIN",
            "HRV"
           ],
           "name": "",
           "type": "choropleth",
           "z": [
            2231095,
            2693382,
            1883510
           ]
          }
         ],
         "name": "2011"
        },
        {
         "data": [
          {
           "coloraxis": "coloraxis",
           "geo": "geo",
           "hovertemplate": "<b>%{hovertext}</b><br><br>Year=2012<br>Alpha-3 code=%{location}<br>Labor force, total=%{z}<extra></extra>",
           "hovertext": [
            "Ireland",
            "Finland",
            "Croatia"
           ],
           "locations": [
            "IRL",
            "FIN",
            "HRV"
           ],
           "name": "",
           "type": "choropleth",
           "z": [
            2225018,
            2700773,
            1865281
           ]
          }
         ],
         "name": "2012"
        },
        {
         "data": [
          {
           "coloraxis": "coloraxis",
           "geo": "geo",
           "hovertemplate": "<b>%{hovertext}</b><br><br>Year=2013<br>Alpha-3 code=%{location}<br>Labor force, total=%{z}<extra></extra>",
           "hovertext": [
            "Ireland",
            "Finland",
            "Croatia"
           ],
           "locations": [
            "IRL",
            "FIN",
            "HRV"
           ],
           "name": "",
           "type": "choropleth",
           "z": [
            2247873,
            2686349,
            1844972
           ]
          }
         ],
         "name": "2013"
        },
        {
         "data": [
          {
           "coloraxis": "coloraxis",
           "geo": "geo",
           "hovertemplate": "<b>%{hovertext}</b><br><br>Year=2014<br>Alpha-3 code=%{location}<br>Labor force, total=%{z}<extra></extra>",
           "hovertext": [
            "Ireland",
            "Finland",
            "Croatia"
           ],
           "locations": [
            "IRL",
            "FIN",
            "HRV"
           ],
           "name": "",
           "type": "choropleth",
           "z": [
            2258498,
            2690277,
            1896011
           ]
          }
         ],
         "name": "2014"
        },
        {
         "data": [
          {
           "coloraxis": "coloraxis",
           "geo": "geo",
           "hovertemplate": "<b>%{hovertext}</b><br><br>Year=2015<br>Alpha-3 code=%{location}<br>Labor force, total=%{z}<extra></extra>",
           "hovertext": [
            "Ireland",
            "Finland",
            "Croatia"
           ],
           "locations": [
            "IRL",
            "FIN",
            "HRV"
           ],
           "name": "",
           "type": "choropleth",
           "z": [
            2285833,
            2699822,
            1896675
           ]
          }
         ],
         "name": "2015"
        },
        {
         "data": [
          {
           "coloraxis": "coloraxis",
           "geo": "geo",
           "hovertemplate": "<b>%{hovertext}</b><br><br>Year=2016<br>Alpha-3 code=%{location}<br>Labor force, total=%{z}<extra></extra>",
           "hovertext": [
            "Ireland",
            "Finland",
            "Croatia"
           ],
           "locations": [
            "IRL",
            "FIN",
            "HRV"
           ],
           "name": "",
           "type": "choropleth",
           "z": [
            2330010,
            2694829,
            1835203
           ]
          }
         ],
         "name": "2016"
        },
        {
         "data": [
          {
           "coloraxis": "coloraxis",
           "geo": "geo",
           "hovertemplate": "<b>%{hovertext}</b><br><br>Year=2017<br>Alpha-3 code=%{location}<br>Labor force, total=%{z}<extra></extra>",
           "hovertext": [
            "Ireland",
            "Finland",
            "Croatia"
           ],
           "locations": [
            "IRL",
            "FIN",
            "HRV"
           ],
           "name": "",
           "type": "choropleth",
           "z": [
            2354153,
            2716261,
            1824724
           ]
          }
         ],
         "name": "2017"
        },
        {
         "data": [
          {
           "coloraxis": "coloraxis",
           "geo": "geo",
           "hovertemplate": "<b>%{hovertext}</b><br><br>Year=2018<br>Alpha-3 code=%{location}<br>Labor force, total=%{z}<extra></extra>",
           "hovertext": [
            "Ireland",
            "Finland",
            "Croatia"
           ],
           "locations": [
            "IRL",
            "FIN",
            "HRV"
           ],
           "name": "",
           "type": "choropleth",
           "z": [
            2397838,
            2749812,
            1794304
           ]
          }
         ],
         "name": "2018"
        },
        {
         "data": [
          {
           "coloraxis": "coloraxis",
           "geo": "geo",
           "hovertemplate": "<b>%{hovertext}</b><br><br>Year=2019<br>Alpha-3 code=%{location}<br>Labor force, total=%{z}<extra></extra>",
           "hovertext": [
            "Ireland",
            "Finland",
            "Croatia"
           ],
           "locations": [
            "IRL",
            "FIN",
            "HRV"
           ],
           "name": "",
           "type": "choropleth",
           "z": [
            2446760,
            2758855,
            1781597
           ]
          }
         ],
         "name": "2019"
        },
        {
         "data": [
          {
           "coloraxis": "coloraxis",
           "geo": "geo",
           "hovertemplate": "<b>%{hovertext}</b><br><br>Year=2020<br>Alpha-3 code=%{location}<br>Labor force, total=%{z}<extra></extra>",
           "hovertext": [
            "Ireland",
            "Finland",
            "Croatia"
           ],
           "locations": [
            "IRL",
            "FIN",
            "HRV"
           ],
           "name": "",
           "type": "choropleth",
           "z": [
            2432234,
            2751071,
            1772376
           ]
          }
         ],
         "name": "2020"
        },
        {
         "data": [
          {
           "coloraxis": "coloraxis",
           "geo": "geo",
           "hovertemplate": "<b>%{hovertext}</b><br><br>Year=2021<br>Alpha-3 code=%{location}<br>Labor force, total=%{z}<extra></extra>",
           "hovertext": [
            "Ireland",
            "Finland",
            "Croatia"
           ],
           "locations": [
            "IRL",
            "FIN",
            "HRV"
           ],
           "name": "",
           "type": "choropleth",
           "z": [
            2551561,
            2774226,
            1733479
           ]
          }
         ],
         "name": "2021"
        }
       ],
       "layout": {
        "coloraxis": {
         "cmax": 4000000,
         "cmin": 1000000,
         "colorbar": {
          "title": {
           "text": "Labor force, total"
          }
         },
         "colorscale": [
          [
           0,
           "rgb(253, 237, 176)"
          ],
          [
           0.09090909090909091,
           "rgb(250, 205, 145)"
          ],
          [
           0.18181818181818182,
           "rgb(246, 173, 119)"
          ],
          [
           0.2727272727272727,
           "rgb(240, 142, 98)"
          ],
          [
           0.36363636363636365,
           "rgb(231, 109, 84)"
          ],
          [
           0.45454545454545453,
           "rgb(216, 80, 83)"
          ],
          [
           0.5454545454545454,
           "rgb(195, 56, 90)"
          ],
          [
           0.6363636363636364,
           "rgb(168, 40, 96)"
          ],
          [
           0.7272727272727273,
           "rgb(138, 29, 99)"
          ],
          [
           0.8181818181818182,
           "rgb(107, 24, 93)"
          ],
          [
           0.9090909090909091,
           "rgb(76, 21, 80)"
          ],
          [
           1,
           "rgb(47, 15, 61)"
          ]
         ]
        },
        "geo": {
         "center": {},
         "countrycolor": "rgb(255, 255, 255)",
         "domain": {
          "x": [
           0,
           1
          ],
          "y": [
           0,
           1
          ]
         },
         "lakecolor": "rgb(255, 255, 255)",
         "landcolor": "rgb(220, 220, 220)",
         "projection": {
          "type": "natural earth"
         },
         "scope": "europe",
         "showcountries": true,
         "showlakes": true,
         "showland": true
        },
        "legend": {
         "tracegroupgap": 0
        },
        "margin": {
         "t": 60
        },
        "sliders": [
         {
          "active": 0,
          "currentvalue": {
           "prefix": "Year="
          },
          "len": 0.9,
          "pad": {
           "b": 10,
           "t": 60
          },
          "steps": [
           {
            "args": [
             [
              "2000"
             ],
             {
              "frame": {
               "duration": 0,
               "redraw": true
              },
              "fromcurrent": true,
              "mode": "immediate",
              "transition": {
               "duration": 0,
               "easing": "linear"
              }
             }
            ],
            "label": "2000",
            "method": "animate"
           },
           {
            "args": [
             [
              "2001"
             ],
             {
              "frame": {
               "duration": 0,
               "redraw": true
              },
              "fromcurrent": true,
              "mode": "immediate",
              "transition": {
               "duration": 0,
               "easing": "linear"
              }
             }
            ],
            "label": "2001",
            "method": "animate"
           },
           {
            "args": [
             [
              "2002"
             ],
             {
              "frame": {
               "duration": 0,
               "redraw": true
              },
              "fromcurrent": true,
              "mode": "immediate",
              "transition": {
               "duration": 0,
               "easing": "linear"
              }
             }
            ],
            "label": "2002",
            "method": "animate"
           },
           {
            "args": [
             [
              "2003"
             ],
             {
              "frame": {
               "duration": 0,
               "redraw": true
              },
              "fromcurrent": true,
              "mode": "immediate",
              "transition": {
               "duration": 0,
               "easing": "linear"
              }
             }
            ],
            "label": "2003",
            "method": "animate"
           },
           {
            "args": [
             [
              "2004"
             ],
             {
              "frame": {
               "duration": 0,
               "redraw": true
              },
              "fromcurrent": true,
              "mode": "immediate",
              "transition": {
               "duration": 0,
               "easing": "linear"
              }
             }
            ],
            "label": "2004",
            "method": "animate"
           },
           {
            "args": [
             [
              "2005"
             ],
             {
              "frame": {
               "duration": 0,
               "redraw": true
              },
              "fromcurrent": true,
              "mode": "immediate",
              "transition": {
               "duration": 0,
               "easing": "linear"
              }
             }
            ],
            "label": "2005",
            "method": "animate"
           },
           {
            "args": [
             [
              "2006"
             ],
             {
              "frame": {
               "duration": 0,
               "redraw": true
              },
              "fromcurrent": true,
              "mode": "immediate",
              "transition": {
               "duration": 0,
               "easing": "linear"
              }
             }
            ],
            "label": "2006",
            "method": "animate"
           },
           {
            "args": [
             [
              "2007"
             ],
             {
              "frame": {
               "duration": 0,
               "redraw": true
              },
              "fromcurrent": true,
              "mode": "immediate",
              "transition": {
               "duration": 0,
               "easing": "linear"
              }
             }
            ],
            "label": "2007",
            "method": "animate"
           },
           {
            "args": [
             [
              "2008"
             ],
             {
              "frame": {
               "duration": 0,
               "redraw": true
              },
              "fromcurrent": true,
              "mode": "immediate",
              "transition": {
               "duration": 0,
               "easing": "linear"
              }
             }
            ],
            "label": "2008",
            "method": "animate"
           },
           {
            "args": [
             [
              "2009"
             ],
             {
              "frame": {
               "duration": 0,
               "redraw": true
              },
              "fromcurrent": true,
              "mode": "immediate",
              "transition": {
               "duration": 0,
               "easing": "linear"
              }
             }
            ],
            "label": "2009",
            "method": "animate"
           },
           {
            "args": [
             [
              "2010"
             ],
             {
              "frame": {
               "duration": 0,
               "redraw": true
              },
              "fromcurrent": true,
              "mode": "immediate",
              "transition": {
               "duration": 0,
               "easing": "linear"
              }
             }
            ],
            "label": "2010",
            "method": "animate"
           },
           {
            "args": [
             [
              "2011"
             ],
             {
              "frame": {
               "duration": 0,
               "redraw": true
              },
              "fromcurrent": true,
              "mode": "immediate",
              "transition": {
               "duration": 0,
               "easing": "linear"
              }
             }
            ],
            "label": "2011",
            "method": "animate"
           },
           {
            "args": [
             [
              "2012"
             ],
             {
              "frame": {
               "duration": 0,
               "redraw": true
              },
              "fromcurrent": true,
              "mode": "immediate",
              "transition": {
               "duration": 0,
               "easing": "linear"
              }
             }
            ],
            "label": "2012",
            "method": "animate"
           },
           {
            "args": [
             [
              "2013"
             ],
             {
              "frame": {
               "duration": 0,
               "redraw": true
              },
              "fromcurrent": true,
              "mode": "immediate",
              "transition": {
               "duration": 0,
               "easing": "linear"
              }
             }
            ],
            "label": "2013",
            "method": "animate"
           },
           {
            "args": [
             [
              "2014"
             ],
             {
              "frame": {
               "duration": 0,
               "redraw": true
              },
              "fromcurrent": true,
              "mode": "immediate",
              "transition": {
               "duration": 0,
               "easing": "linear"
              }
             }
            ],
            "label": "2014",
            "method": "animate"
           },
           {
            "args": [
             [
              "2015"
             ],
             {
              "frame": {
               "duration": 0,
               "redraw": true
              },
              "fromcurrent": true,
              "mode": "immediate",
              "transition": {
               "duration": 0,
               "easing": "linear"
              }
             }
            ],
            "label": "2015",
            "method": "animate"
           },
           {
            "args": [
             [
              "2016"
             ],
             {
              "frame": {
               "duration": 0,
               "redraw": true
              },
              "fromcurrent": true,
              "mode": "immediate",
              "transition": {
               "duration": 0,
               "easing": "linear"
              }
             }
            ],
            "label": "2016",
            "method": "animate"
           },
           {
            "args": [
             [
              "2017"
             ],
             {
              "frame": {
               "duration": 0,
               "redraw": true
              },
              "fromcurrent": true,
              "mode": "immediate",
              "transition": {
               "duration": 0,
               "easing": "linear"
              }
             }
            ],
            "label": "2017",
            "method": "animate"
           },
           {
            "args": [
             [
              "2018"
             ],
             {
              "frame": {
               "duration": 0,
               "redraw": true
              },
              "fromcurrent": true,
              "mode": "immediate",
              "transition": {
               "duration": 0,
               "easing": "linear"
              }
             }
            ],
            "label": "2018",
            "method": "animate"
           },
           {
            "args": [
             [
              "2019"
             ],
             {
              "frame": {
               "duration": 0,
               "redraw": true
              },
              "fromcurrent": true,
              "mode": "immediate",
              "transition": {
               "duration": 0,
               "easing": "linear"
              }
             }
            ],
            "label": "2019",
            "method": "animate"
           },
           {
            "args": [
             [
              "2020"
             ],
             {
              "frame": {
               "duration": 0,
               "redraw": true
              },
              "fromcurrent": true,
              "mode": "immediate",
              "transition": {
               "duration": 0,
               "easing": "linear"
              }
             }
            ],
            "label": "2020",
            "method": "animate"
           },
           {
            "args": [
             [
              "2021"
             ],
             {
              "frame": {
               "duration": 0,
               "redraw": true
              },
              "fromcurrent": true,
              "mode": "immediate",
              "transition": {
               "duration": 0,
               "easing": "linear"
              }
             }
            ],
            "label": "2021",
            "method": "animate"
           }
          ],
          "x": 0.1,
          "xanchor": "left",
          "y": 0,
          "yanchor": "top"
         }
        ],
        "template": {
         "data": {
          "bar": [
           {
            "error_x": {
             "color": "#2a3f5f"
            },
            "error_y": {
             "color": "#2a3f5f"
            },
            "marker": {
             "line": {
              "color": "#E5ECF6",
              "width": 0.5
             },
             "pattern": {
              "fillmode": "overlay",
              "size": 10,
              "solidity": 0.2
             }
            },
            "type": "bar"
           }
          ],
          "barpolar": [
           {
            "marker": {
             "line": {
              "color": "#E5ECF6",
              "width": 0.5
             },
             "pattern": {
              "fillmode": "overlay",
              "size": 10,
              "solidity": 0.2
             }
            },
            "type": "barpolar"
           }
          ],
          "carpet": [
           {
            "aaxis": {
             "endlinecolor": "#2a3f5f",
             "gridcolor": "white",
             "linecolor": "white",
             "minorgridcolor": "white",
             "startlinecolor": "#2a3f5f"
            },
            "baxis": {
             "endlinecolor": "#2a3f5f",
             "gridcolor": "white",
             "linecolor": "white",
             "minorgridcolor": "white",
             "startlinecolor": "#2a3f5f"
            },
            "type": "carpet"
           }
          ],
          "choropleth": [
           {
            "colorbar": {
             "outlinewidth": 0,
             "ticks": ""
            },
            "type": "choropleth"
           }
          ],
          "contour": [
           {
            "colorbar": {
             "outlinewidth": 0,
             "ticks": ""
            },
            "colorscale": [
             [
              0,
              "#0d0887"
             ],
             [
              0.1111111111111111,
              "#46039f"
             ],
             [
              0.2222222222222222,
              "#7201a8"
             ],
             [
              0.3333333333333333,
              "#9c179e"
             ],
             [
              0.4444444444444444,
              "#bd3786"
             ],
             [
              0.5555555555555556,
              "#d8576b"
             ],
             [
              0.6666666666666666,
              "#ed7953"
             ],
             [
              0.7777777777777778,
              "#fb9f3a"
             ],
             [
              0.8888888888888888,
              "#fdca26"
             ],
             [
              1,
              "#f0f921"
             ]
            ],
            "type": "contour"
           }
          ],
          "contourcarpet": [
           {
            "colorbar": {
             "outlinewidth": 0,
             "ticks": ""
            },
            "type": "contourcarpet"
           }
          ],
          "heatmap": [
           {
            "colorbar": {
             "outlinewidth": 0,
             "ticks": ""
            },
            "colorscale": [
             [
              0,
              "#0d0887"
             ],
             [
              0.1111111111111111,
              "#46039f"
             ],
             [
              0.2222222222222222,
              "#7201a8"
             ],
             [
              0.3333333333333333,
              "#9c179e"
             ],
             [
              0.4444444444444444,
              "#bd3786"
             ],
             [
              0.5555555555555556,
              "#d8576b"
             ],
             [
              0.6666666666666666,
              "#ed7953"
             ],
             [
              0.7777777777777778,
              "#fb9f3a"
             ],
             [
              0.8888888888888888,
              "#fdca26"
             ],
             [
              1,
              "#f0f921"
             ]
            ],
            "type": "heatmap"
           }
          ],
          "heatmapgl": [
           {
            "colorbar": {
             "outlinewidth": 0,
             "ticks": ""
            },
            "colorscale": [
             [
              0,
              "#0d0887"
             ],
             [
              0.1111111111111111,
              "#46039f"
             ],
             [
              0.2222222222222222,
              "#7201a8"
             ],
             [
              0.3333333333333333,
              "#9c179e"
             ],
             [
              0.4444444444444444,
              "#bd3786"
             ],
             [
              0.5555555555555556,
              "#d8576b"
             ],
             [
              0.6666666666666666,
              "#ed7953"
             ],
             [
              0.7777777777777778,
              "#fb9f3a"
             ],
             [
              0.8888888888888888,
              "#fdca26"
             ],
             [
              1,
              "#f0f921"
             ]
            ],
            "type": "heatmapgl"
           }
          ],
          "histogram": [
           {
            "marker": {
             "pattern": {
              "fillmode": "overlay",
              "size": 10,
              "solidity": 0.2
             }
            },
            "type": "histogram"
           }
          ],
          "histogram2d": [
           {
            "colorbar": {
             "outlinewidth": 0,
             "ticks": ""
            },
            "colorscale": [
             [
              0,
              "#0d0887"
             ],
             [
              0.1111111111111111,
              "#46039f"
             ],
             [
              0.2222222222222222,
              "#7201a8"
             ],
             [
              0.3333333333333333,
              "#9c179e"
             ],
             [
              0.4444444444444444,
              "#bd3786"
             ],
             [
              0.5555555555555556,
              "#d8576b"
             ],
             [
              0.6666666666666666,
              "#ed7953"
             ],
             [
              0.7777777777777778,
              "#fb9f3a"
             ],
             [
              0.8888888888888888,
              "#fdca26"
             ],
             [
              1,
              "#f0f921"
             ]
            ],
            "type": "histogram2d"
           }
          ],
          "histogram2dcontour": [
           {
            "colorbar": {
             "outlinewidth": 0,
             "ticks": ""
            },
            "colorscale": [
             [
              0,
              "#0d0887"
             ],
             [
              0.1111111111111111,
              "#46039f"
             ],
             [
              0.2222222222222222,
              "#7201a8"
             ],
             [
              0.3333333333333333,
              "#9c179e"
             ],
             [
              0.4444444444444444,
              "#bd3786"
             ],
             [
              0.5555555555555556,
              "#d8576b"
             ],
             [
              0.6666666666666666,
              "#ed7953"
             ],
             [
              0.7777777777777778,
              "#fb9f3a"
             ],
             [
              0.8888888888888888,
              "#fdca26"
             ],
             [
              1,
              "#f0f921"
             ]
            ],
            "type": "histogram2dcontour"
           }
          ],
          "mesh3d": [
           {
            "colorbar": {
             "outlinewidth": 0,
             "ticks": ""
            },
            "type": "mesh3d"
           }
          ],
          "parcoords": [
           {
            "line": {
             "colorbar": {
              "outlinewidth": 0,
              "ticks": ""
             }
            },
            "type": "parcoords"
           }
          ],
          "pie": [
           {
            "automargin": true,
            "type": "pie"
           }
          ],
          "scatter": [
           {
            "fillpattern": {
             "fillmode": "overlay",
             "size": 10,
             "solidity": 0.2
            },
            "type": "scatter"
           }
          ],
          "scatter3d": [
           {
            "line": {
             "colorbar": {
              "outlinewidth": 0,
              "ticks": ""
             }
            },
            "marker": {
             "colorbar": {
              "outlinewidth": 0,
              "ticks": ""
             }
            },
            "type": "scatter3d"
           }
          ],
          "scattercarpet": [
           {
            "marker": {
             "colorbar": {
              "outlinewidth": 0,
              "ticks": ""
             }
            },
            "type": "scattercarpet"
           }
          ],
          "scattergeo": [
           {
            "marker": {
             "colorbar": {
              "outlinewidth": 0,
              "ticks": ""
             }
            },
            "type": "scattergeo"
           }
          ],
          "scattergl": [
           {
            "marker": {
             "colorbar": {
              "outlinewidth": 0,
              "ticks": ""
             }
            },
            "type": "scattergl"
           }
          ],
          "scattermapbox": [
           {
            "marker": {
             "colorbar": {
              "outlinewidth": 0,
              "ticks": ""
             }
            },
            "type": "scattermapbox"
           }
          ],
          "scatterpolar": [
           {
            "marker": {
             "colorbar": {
              "outlinewidth": 0,
              "ticks": ""
             }
            },
            "type": "scatterpolar"
           }
          ],
          "scatterpolargl": [
           {
            "marker": {
             "colorbar": {
              "outlinewidth": 0,
              "ticks": ""
             }
            },
            "type": "scatterpolargl"
           }
          ],
          "scatterternary": [
           {
            "marker": {
             "colorbar": {
              "outlinewidth": 0,
              "ticks": ""
             }
            },
            "type": "scatterternary"
           }
          ],
          "surface": [
           {
            "colorbar": {
             "outlinewidth": 0,
             "ticks": ""
            },
            "colorscale": [
             [
              0,
              "#0d0887"
             ],
             [
              0.1111111111111111,
              "#46039f"
             ],
             [
              0.2222222222222222,
              "#7201a8"
             ],
             [
              0.3333333333333333,
              "#9c179e"
             ],
             [
              0.4444444444444444,
              "#bd3786"
             ],
             [
              0.5555555555555556,
              "#d8576b"
             ],
             [
              0.6666666666666666,
              "#ed7953"
             ],
             [
              0.7777777777777778,
              "#fb9f3a"
             ],
             [
              0.8888888888888888,
              "#fdca26"
             ],
             [
              1,
              "#f0f921"
             ]
            ],
            "type": "surface"
           }
          ],
          "table": [
           {
            "cells": {
             "fill": {
              "color": "#EBF0F8"
             },
             "line": {
              "color": "white"
             }
            },
            "header": {
             "fill": {
              "color": "#C8D4E3"
             },
             "line": {
              "color": "white"
             }
            },
            "type": "table"
           }
          ]
         },
         "layout": {
          "annotationdefaults": {
           "arrowcolor": "#2a3f5f",
           "arrowhead": 0,
           "arrowwidth": 1
          },
          "autotypenumbers": "strict",
          "coloraxis": {
           "colorbar": {
            "outlinewidth": 0,
            "ticks": ""
           }
          },
          "colorscale": {
           "diverging": [
            [
             0,
             "#8e0152"
            ],
            [
             0.1,
             "#c51b7d"
            ],
            [
             0.2,
             "#de77ae"
            ],
            [
             0.3,
             "#f1b6da"
            ],
            [
             0.4,
             "#fde0ef"
            ],
            [
             0.5,
             "#f7f7f7"
            ],
            [
             0.6,
             "#e6f5d0"
            ],
            [
             0.7,
             "#b8e186"
            ],
            [
             0.8,
             "#7fbc41"
            ],
            [
             0.9,
             "#4d9221"
            ],
            [
             1,
             "#276419"
            ]
           ],
           "sequential": [
            [
             0,
             "#0d0887"
            ],
            [
             0.1111111111111111,
             "#46039f"
            ],
            [
             0.2222222222222222,
             "#7201a8"
            ],
            [
             0.3333333333333333,
             "#9c179e"
            ],
            [
             0.4444444444444444,
             "#bd3786"
            ],
            [
             0.5555555555555556,
             "#d8576b"
            ],
            [
             0.6666666666666666,
             "#ed7953"
            ],
            [
             0.7777777777777778,
             "#fb9f3a"
            ],
            [
             0.8888888888888888,
             "#fdca26"
            ],
            [
             1,
             "#f0f921"
            ]
           ],
           "sequentialminus": [
            [
             0,
             "#0d0887"
            ],
            [
             0.1111111111111111,
             "#46039f"
            ],
            [
             0.2222222222222222,
             "#7201a8"
            ],
            [
             0.3333333333333333,
             "#9c179e"
            ],
            [
             0.4444444444444444,
             "#bd3786"
            ],
            [
             0.5555555555555556,
             "#d8576b"
            ],
            [
             0.6666666666666666,
             "#ed7953"
            ],
            [
             0.7777777777777778,
             "#fb9f3a"
            ],
            [
             0.8888888888888888,
             "#fdca26"
            ],
            [
             1,
             "#f0f921"
            ]
           ]
          },
          "colorway": [
           "#636efa",
           "#EF553B",
           "#00cc96",
           "#ab63fa",
           "#FFA15A",
           "#19d3f3",
           "#FF6692",
           "#B6E880",
           "#FF97FF",
           "#FECB52"
          ],
          "font": {
           "color": "#2a3f5f"
          },
          "geo": {
           "bgcolor": "white",
           "lakecolor": "white",
           "landcolor": "#E5ECF6",
           "showlakes": true,
           "showland": true,
           "subunitcolor": "white"
          },
          "hoverlabel": {
           "align": "left"
          },
          "hovermode": "closest",
          "mapbox": {
           "style": "light"
          },
          "paper_bgcolor": "white",
          "plot_bgcolor": "#E5ECF6",
          "polar": {
           "angularaxis": {
            "gridcolor": "white",
            "linecolor": "white",
            "ticks": ""
           },
           "bgcolor": "#E5ECF6",
           "radialaxis": {
            "gridcolor": "white",
            "linecolor": "white",
            "ticks": ""
           }
          },
          "scene": {
           "xaxis": {
            "backgroundcolor": "#E5ECF6",
            "gridcolor": "white",
            "gridwidth": 2,
            "linecolor": "white",
            "showbackground": true,
            "ticks": "",
            "zerolinecolor": "white"
           },
           "yaxis": {
            "backgroundcolor": "#E5ECF6",
            "gridcolor": "white",
            "gridwidth": 2,
            "linecolor": "white",
            "showbackground": true,
            "ticks": "",
            "zerolinecolor": "white"
           },
           "zaxis": {
            "backgroundcolor": "#E5ECF6",
            "gridcolor": "white",
            "gridwidth": 2,
            "linecolor": "white",
            "showbackground": true,
            "ticks": "",
            "zerolinecolor": "white"
           }
          },
          "shapedefaults": {
           "line": {
            "color": "#2a3f5f"
           }
          },
          "ternary": {
           "aaxis": {
            "gridcolor": "white",
            "linecolor": "white",
            "ticks": ""
           },
           "baxis": {
            "gridcolor": "white",
            "linecolor": "white",
            "ticks": ""
           },
           "bgcolor": "#E5ECF6",
           "caxis": {
            "gridcolor": "white",
            "linecolor": "white",
            "ticks": ""
           }
          },
          "title": {
           "x": 0.05
          },
          "xaxis": {
           "automargin": true,
           "gridcolor": "white",
           "linecolor": "white",
           "ticks": "",
           "title": {
            "standoff": 15
           },
           "zerolinecolor": "white",
           "zerolinewidth": 2
          },
          "yaxis": {
           "automargin": true,
           "gridcolor": "white",
           "linecolor": "white",
           "ticks": "",
           "title": {
            "standoff": 15
           },
           "zerolinecolor": "white",
           "zerolinewidth": 2
          }
         }
        },
        "title": {
         "text": "Labor Force of Countries"
        },
        "updatemenus": [
         {
          "buttons": [
           {
            "args": [
             null,
             {
              "frame": {
               "duration": 500,
               "redraw": true
              },
              "fromcurrent": true,
              "mode": "immediate",
              "transition": {
               "duration": 500,
               "easing": "linear"
              }
             }
            ],
            "label": "&#9654;",
            "method": "animate"
           },
           {
            "args": [
             [
              null
             ],
             {
              "frame": {
               "duration": 0,
               "redraw": true
              },
              "fromcurrent": true,
              "mode": "immediate",
              "transition": {
               "duration": 0,
               "easing": "linear"
              }
             }
            ],
            "label": "&#9724;",
            "method": "animate"
           }
          ],
          "direction": "left",
          "pad": {
           "r": 10,
           "t": 70
          },
          "showactive": false,
          "type": "buttons",
          "x": 0.1,
          "xanchor": "right",
          "y": 0,
          "yanchor": "top"
         }
        ]
       }
      }
     },
     "metadata": {},
     "output_type": "display_data"
    }
   ],
   "source": [
    "# Filter the data to include only the countries of interest\n",
    "countries_of_interest = [\"Ireland\", \"Croatia\", \"Finland\"]\n",
    "filtered_df = merged_df2[merged_df2[\"Country\"].isin(countries_of_interest)]\n",
    "\n",
    "# Generate the choropleth map\n",
    "fig = plt.choropleth(filtered_df,\n",
    "                     locations=\"Alpha-3 code\",\n",
    "                     color=\"Labor force, total\",\n",
    "                     hover_name=\"Country\",\n",
    "                     animation_frame=\"Year\",\n",
    "                     color_continuous_scale=\"matter\",  # \"haline\", \"agsunset\", \"icefire\", \"matter\", \"solar\", \"ice\", \"curl\"\n",
    "                     range_color=[1000000, 4000000])  # Define the color scale limits\n",
    "fig.update_layout(\n",
    "    title_text=\"Labor Force of Countries\",\n",
    "    geo=dict(\n",
    "        projection={\"type\": \"natural earth\"},\n",
    "        showlakes=True, \n",
    "        lakecolor='rgb(255, 255, 255)', \n",
    "        showland=True,\n",
    "        landcolor='rgb(220, 220, 220)',\n",
    "        showcountries=True,\n",
    "        countrycolor='rgb(255, 255, 255)',\n",
    "        scope=\"europe\"  # Update the scope to 'europe' to focus on Europe\n",
    "    )\n",
    ")  \n",
    "fig.show()\n"
   ]
  },
  {
   "attachments": {},
   "cell_type": "markdown",
   "metadata": {},
   "source": [
    "Now, to have a clearer view of the values for the \"Contribution of the construction sector to the GDP %,\" \"Total labor force,\" and \"Unemployment, total (% of total labor force)\" for these three countries (Ireland, Finland, and Croatia), we will combine their data into the same table. By doing so, we can observe their trends on a line plot."
   ]
  },
  {
   "cell_type": "code",
   "execution_count": 629,
   "metadata": {},
   "outputs": [],
   "source": [
    "# Filter the dataframes for the selected countries\n",
    "df_filtered = melted_df[melted_df['Country'].isin([\"Ireland\", \"Croatia\", \"Finland\"])]\n",
    "df2_filtered = melted_df2[melted_df2['Country'].isin([\"Ireland\", \"Croatia\", \"Finland\"])]\n",
    "df3_filtered = melted_df3[melted_df3['Country'].isin([\"Ireland\", \"Croatia\", \"Finland\"])]\n",
    "\n",
    "# Merge the filtered dataframes\n",
    "merged_filtered = pd.merge(df_filtered, df2_filtered, on=['Country', 'Year'], suffixes=('_df1', '_df2'))\n",
    "merged_filtered = pd.merge(merged_filtered, df3_filtered, on=['Country', 'Year'])\n",
    "\n",
    "# Perform further analysis on the merged dataframe\n",
    "# ...\n"
   ]
  },
  {
   "attachments": {},
   "cell_type": "markdown",
   "metadata": {},
   "source": [
    "We have chosen colors that predominantly represent the flags of the countries to show the trends of the countries."
   ]
  },
  {
   "cell_type": "code",
   "execution_count": 630,
   "metadata": {},
   "outputs": [
    {
     "data": {
      "application/vnd.plotly.v1+json": {
       "config": {
        "plotlyServerURL": "https://plot.ly"
       },
       "data": [
        {
         "hovertemplate": "Country=Ireland<br>Year=%{x}<br>Unemployment, total (% of total labor force)=%{y}<extra></extra>",
         "legendgroup": "Ireland",
         "line": {
          "color": "green",
          "dash": "solid"
         },
         "marker": {
          "symbol": "circle"
         },
         "mode": "lines",
         "name": "Ireland",
         "orientation": "v",
         "showlegend": true,
         "type": "scatter",
         "x": [
          "2000",
          "2001",
          "2002",
          "2003",
          "2004",
          "2005",
          "2006",
          "2007",
          "2008",
          "2009",
          "2010",
          "2011",
          "2012",
          "2013",
          "2014",
          "2015",
          "2016",
          "2017",
          "2018",
          "2019",
          "2020",
          "2021"
         ],
         "xaxis": "x",
         "y": [
          4.3,
          3.7,
          4.2,
          4.5,
          4.5,
          4.3,
          4.4,
          5,
          6.8,
          12.6,
          14.5,
          15.4,
          15.5,
          13.7,
          11.9,
          9.9,
          8.4,
          6.7,
          5.7,
          5,
          5.6,
          6.2
         ],
         "yaxis": "y"
        },
        {
         "hovertemplate": "Country=Finland<br>Year=%{x}<br>Unemployment, total (% of total labor force)=%{y}<extra></extra>",
         "legendgroup": "Finland",
         "line": {
          "color": "blue",
          "dash": "solid"
         },
         "marker": {
          "symbol": "circle"
         },
         "mode": "lines",
         "name": "Finland",
         "orientation": "v",
         "showlegend": true,
         "type": "scatter",
         "x": [
          "2000",
          "2001",
          "2002",
          "2003",
          "2004",
          "2005",
          "2006",
          "2007",
          "2008",
          "2009",
          "2010",
          "2011",
          "2012",
          "2013",
          "2014",
          "2015",
          "2016",
          "2017",
          "2018",
          "2019",
          "2020",
          "2021"
         ],
         "xaxis": "x",
         "y": [
          11.1,
          10.3,
          10.4,
          10.5,
          10.4,
          8.4,
          7.7,
          6.9,
          6.4,
          8.3,
          8.4,
          7.8,
          7.7,
          8.2,
          8.7,
          9.4,
          8.8,
          8.6,
          7.4,
          6.7,
          7.8,
          7.6
         ],
         "yaxis": "y"
        },
        {
         "hovertemplate": "Country=Croatia<br>Year=%{x}<br>Unemployment, total (% of total labor force)=%{y}<extra></extra>",
         "legendgroup": "Croatia",
         "line": {
          "color": "red",
          "dash": "solid"
         },
         "marker": {
          "symbol": "circle"
         },
         "mode": "lines",
         "name": "Croatia",
         "orientation": "v",
         "showlegend": true,
         "type": "scatter",
         "x": [
          "2000",
          "2001",
          "2002",
          "2003",
          "2004",
          "2005",
          "2006",
          "2007",
          "2008",
          "2009",
          "2010",
          "2011",
          "2012",
          "2013",
          "2014",
          "2015",
          "2016",
          "2017",
          "2018",
          "2019",
          "2020",
          "2021"
         ],
         "xaxis": "x",
         "y": [
          16.1,
          15.8,
          15.1,
          13.9,
          13.7,
          12.6,
          11.1,
          9.9,
          8.5,
          9.2,
          11.6,
          13.7,
          15.9,
          17.3,
          17.3,
          16.2,
          13.1,
          11.2,
          8.4,
          6.6,
          7.5,
          7.6
         ],
         "yaxis": "y"
        }
       ],
       "layout": {
        "legend": {
         "title": {
          "text": "Country"
         },
         "tracegroupgap": 0
        },
        "template": {
         "data": {
          "bar": [
           {
            "error_x": {
             "color": "#2a3f5f"
            },
            "error_y": {
             "color": "#2a3f5f"
            },
            "marker": {
             "line": {
              "color": "#E5ECF6",
              "width": 0.5
             },
             "pattern": {
              "fillmode": "overlay",
              "size": 10,
              "solidity": 0.2
             }
            },
            "type": "bar"
           }
          ],
          "barpolar": [
           {
            "marker": {
             "line": {
              "color": "#E5ECF6",
              "width": 0.5
             },
             "pattern": {
              "fillmode": "overlay",
              "size": 10,
              "solidity": 0.2
             }
            },
            "type": "barpolar"
           }
          ],
          "carpet": [
           {
            "aaxis": {
             "endlinecolor": "#2a3f5f",
             "gridcolor": "white",
             "linecolor": "white",
             "minorgridcolor": "white",
             "startlinecolor": "#2a3f5f"
            },
            "baxis": {
             "endlinecolor": "#2a3f5f",
             "gridcolor": "white",
             "linecolor": "white",
             "minorgridcolor": "white",
             "startlinecolor": "#2a3f5f"
            },
            "type": "carpet"
           }
          ],
          "choropleth": [
           {
            "colorbar": {
             "outlinewidth": 0,
             "ticks": ""
            },
            "type": "choropleth"
           }
          ],
          "contour": [
           {
            "colorbar": {
             "outlinewidth": 0,
             "ticks": ""
            },
            "colorscale": [
             [
              0,
              "#0d0887"
             ],
             [
              0.1111111111111111,
              "#46039f"
             ],
             [
              0.2222222222222222,
              "#7201a8"
             ],
             [
              0.3333333333333333,
              "#9c179e"
             ],
             [
              0.4444444444444444,
              "#bd3786"
             ],
             [
              0.5555555555555556,
              "#d8576b"
             ],
             [
              0.6666666666666666,
              "#ed7953"
             ],
             [
              0.7777777777777778,
              "#fb9f3a"
             ],
             [
              0.8888888888888888,
              "#fdca26"
             ],
             [
              1,
              "#f0f921"
             ]
            ],
            "type": "contour"
           }
          ],
          "contourcarpet": [
           {
            "colorbar": {
             "outlinewidth": 0,
             "ticks": ""
            },
            "type": "contourcarpet"
           }
          ],
          "heatmap": [
           {
            "colorbar": {
             "outlinewidth": 0,
             "ticks": ""
            },
            "colorscale": [
             [
              0,
              "#0d0887"
             ],
             [
              0.1111111111111111,
              "#46039f"
             ],
             [
              0.2222222222222222,
              "#7201a8"
             ],
             [
              0.3333333333333333,
              "#9c179e"
             ],
             [
              0.4444444444444444,
              "#bd3786"
             ],
             [
              0.5555555555555556,
              "#d8576b"
             ],
             [
              0.6666666666666666,
              "#ed7953"
             ],
             [
              0.7777777777777778,
              "#fb9f3a"
             ],
             [
              0.8888888888888888,
              "#fdca26"
             ],
             [
              1,
              "#f0f921"
             ]
            ],
            "type": "heatmap"
           }
          ],
          "heatmapgl": [
           {
            "colorbar": {
             "outlinewidth": 0,
             "ticks": ""
            },
            "colorscale": [
             [
              0,
              "#0d0887"
             ],
             [
              0.1111111111111111,
              "#46039f"
             ],
             [
              0.2222222222222222,
              "#7201a8"
             ],
             [
              0.3333333333333333,
              "#9c179e"
             ],
             [
              0.4444444444444444,
              "#bd3786"
             ],
             [
              0.5555555555555556,
              "#d8576b"
             ],
             [
              0.6666666666666666,
              "#ed7953"
             ],
             [
              0.7777777777777778,
              "#fb9f3a"
             ],
             [
              0.8888888888888888,
              "#fdca26"
             ],
             [
              1,
              "#f0f921"
             ]
            ],
            "type": "heatmapgl"
           }
          ],
          "histogram": [
           {
            "marker": {
             "pattern": {
              "fillmode": "overlay",
              "size": 10,
              "solidity": 0.2
             }
            },
            "type": "histogram"
           }
          ],
          "histogram2d": [
           {
            "colorbar": {
             "outlinewidth": 0,
             "ticks": ""
            },
            "colorscale": [
             [
              0,
              "#0d0887"
             ],
             [
              0.1111111111111111,
              "#46039f"
             ],
             [
              0.2222222222222222,
              "#7201a8"
             ],
             [
              0.3333333333333333,
              "#9c179e"
             ],
             [
              0.4444444444444444,
              "#bd3786"
             ],
             [
              0.5555555555555556,
              "#d8576b"
             ],
             [
              0.6666666666666666,
              "#ed7953"
             ],
             [
              0.7777777777777778,
              "#fb9f3a"
             ],
             [
              0.8888888888888888,
              "#fdca26"
             ],
             [
              1,
              "#f0f921"
             ]
            ],
            "type": "histogram2d"
           }
          ],
          "histogram2dcontour": [
           {
            "colorbar": {
             "outlinewidth": 0,
             "ticks": ""
            },
            "colorscale": [
             [
              0,
              "#0d0887"
             ],
             [
              0.1111111111111111,
              "#46039f"
             ],
             [
              0.2222222222222222,
              "#7201a8"
             ],
             [
              0.3333333333333333,
              "#9c179e"
             ],
             [
              0.4444444444444444,
              "#bd3786"
             ],
             [
              0.5555555555555556,
              "#d8576b"
             ],
             [
              0.6666666666666666,
              "#ed7953"
             ],
             [
              0.7777777777777778,
              "#fb9f3a"
             ],
             [
              0.8888888888888888,
              "#fdca26"
             ],
             [
              1,
              "#f0f921"
             ]
            ],
            "type": "histogram2dcontour"
           }
          ],
          "mesh3d": [
           {
            "colorbar": {
             "outlinewidth": 0,
             "ticks": ""
            },
            "type": "mesh3d"
           }
          ],
          "parcoords": [
           {
            "line": {
             "colorbar": {
              "outlinewidth": 0,
              "ticks": ""
             }
            },
            "type": "parcoords"
           }
          ],
          "pie": [
           {
            "automargin": true,
            "type": "pie"
           }
          ],
          "scatter": [
           {
            "fillpattern": {
             "fillmode": "overlay",
             "size": 10,
             "solidity": 0.2
            },
            "type": "scatter"
           }
          ],
          "scatter3d": [
           {
            "line": {
             "colorbar": {
              "outlinewidth": 0,
              "ticks": ""
             }
            },
            "marker": {
             "colorbar": {
              "outlinewidth": 0,
              "ticks": ""
             }
            },
            "type": "scatter3d"
           }
          ],
          "scattercarpet": [
           {
            "marker": {
             "colorbar": {
              "outlinewidth": 0,
              "ticks": ""
             }
            },
            "type": "scattercarpet"
           }
          ],
          "scattergeo": [
           {
            "marker": {
             "colorbar": {
              "outlinewidth": 0,
              "ticks": ""
             }
            },
            "type": "scattergeo"
           }
          ],
          "scattergl": [
           {
            "marker": {
             "colorbar": {
              "outlinewidth": 0,
              "ticks": ""
             }
            },
            "type": "scattergl"
           }
          ],
          "scattermapbox": [
           {
            "marker": {
             "colorbar": {
              "outlinewidth": 0,
              "ticks": ""
             }
            },
            "type": "scattermapbox"
           }
          ],
          "scatterpolar": [
           {
            "marker": {
             "colorbar": {
              "outlinewidth": 0,
              "ticks": ""
             }
            },
            "type": "scatterpolar"
           }
          ],
          "scatterpolargl": [
           {
            "marker": {
             "colorbar": {
              "outlinewidth": 0,
              "ticks": ""
             }
            },
            "type": "scatterpolargl"
           }
          ],
          "scatterternary": [
           {
            "marker": {
             "colorbar": {
              "outlinewidth": 0,
              "ticks": ""
             }
            },
            "type": "scatterternary"
           }
          ],
          "surface": [
           {
            "colorbar": {
             "outlinewidth": 0,
             "ticks": ""
            },
            "colorscale": [
             [
              0,
              "#0d0887"
             ],
             [
              0.1111111111111111,
              "#46039f"
             ],
             [
              0.2222222222222222,
              "#7201a8"
             ],
             [
              0.3333333333333333,
              "#9c179e"
             ],
             [
              0.4444444444444444,
              "#bd3786"
             ],
             [
              0.5555555555555556,
              "#d8576b"
             ],
             [
              0.6666666666666666,
              "#ed7953"
             ],
             [
              0.7777777777777778,
              "#fb9f3a"
             ],
             [
              0.8888888888888888,
              "#fdca26"
             ],
             [
              1,
              "#f0f921"
             ]
            ],
            "type": "surface"
           }
          ],
          "table": [
           {
            "cells": {
             "fill": {
              "color": "#EBF0F8"
             },
             "line": {
              "color": "white"
             }
            },
            "header": {
             "fill": {
              "color": "#C8D4E3"
             },
             "line": {
              "color": "white"
             }
            },
            "type": "table"
           }
          ]
         },
         "layout": {
          "annotationdefaults": {
           "arrowcolor": "#2a3f5f",
           "arrowhead": 0,
           "arrowwidth": 1
          },
          "autotypenumbers": "strict",
          "coloraxis": {
           "colorbar": {
            "outlinewidth": 0,
            "ticks": ""
           }
          },
          "colorscale": {
           "diverging": [
            [
             0,
             "#8e0152"
            ],
            [
             0.1,
             "#c51b7d"
            ],
            [
             0.2,
             "#de77ae"
            ],
            [
             0.3,
             "#f1b6da"
            ],
            [
             0.4,
             "#fde0ef"
            ],
            [
             0.5,
             "#f7f7f7"
            ],
            [
             0.6,
             "#e6f5d0"
            ],
            [
             0.7,
             "#b8e186"
            ],
            [
             0.8,
             "#7fbc41"
            ],
            [
             0.9,
             "#4d9221"
            ],
            [
             1,
             "#276419"
            ]
           ],
           "sequential": [
            [
             0,
             "#0d0887"
            ],
            [
             0.1111111111111111,
             "#46039f"
            ],
            [
             0.2222222222222222,
             "#7201a8"
            ],
            [
             0.3333333333333333,
             "#9c179e"
            ],
            [
             0.4444444444444444,
             "#bd3786"
            ],
            [
             0.5555555555555556,
             "#d8576b"
            ],
            [
             0.6666666666666666,
             "#ed7953"
            ],
            [
             0.7777777777777778,
             "#fb9f3a"
            ],
            [
             0.8888888888888888,
             "#fdca26"
            ],
            [
             1,
             "#f0f921"
            ]
           ],
           "sequentialminus": [
            [
             0,
             "#0d0887"
            ],
            [
             0.1111111111111111,
             "#46039f"
            ],
            [
             0.2222222222222222,
             "#7201a8"
            ],
            [
             0.3333333333333333,
             "#9c179e"
            ],
            [
             0.4444444444444444,
             "#bd3786"
            ],
            [
             0.5555555555555556,
             "#d8576b"
            ],
            [
             0.6666666666666666,
             "#ed7953"
            ],
            [
             0.7777777777777778,
             "#fb9f3a"
            ],
            [
             0.8888888888888888,
             "#fdca26"
            ],
            [
             1,
             "#f0f921"
            ]
           ]
          },
          "colorway": [
           "#636efa",
           "#EF553B",
           "#00cc96",
           "#ab63fa",
           "#FFA15A",
           "#19d3f3",
           "#FF6692",
           "#B6E880",
           "#FF97FF",
           "#FECB52"
          ],
          "font": {
           "color": "#2a3f5f"
          },
          "geo": {
           "bgcolor": "white",
           "lakecolor": "white",
           "landcolor": "#E5ECF6",
           "showlakes": true,
           "showland": true,
           "subunitcolor": "white"
          },
          "hoverlabel": {
           "align": "left"
          },
          "hovermode": "closest",
          "mapbox": {
           "style": "light"
          },
          "paper_bgcolor": "white",
          "plot_bgcolor": "#E5ECF6",
          "polar": {
           "angularaxis": {
            "gridcolor": "white",
            "linecolor": "white",
            "ticks": ""
           },
           "bgcolor": "#E5ECF6",
           "radialaxis": {
            "gridcolor": "white",
            "linecolor": "white",
            "ticks": ""
           }
          },
          "scene": {
           "xaxis": {
            "backgroundcolor": "#E5ECF6",
            "gridcolor": "white",
            "gridwidth": 2,
            "linecolor": "white",
            "showbackground": true,
            "ticks": "",
            "zerolinecolor": "white"
           },
           "yaxis": {
            "backgroundcolor": "#E5ECF6",
            "gridcolor": "white",
            "gridwidth": 2,
            "linecolor": "white",
            "showbackground": true,
            "ticks": "",
            "zerolinecolor": "white"
           },
           "zaxis": {
            "backgroundcolor": "#E5ECF6",
            "gridcolor": "white",
            "gridwidth": 2,
            "linecolor": "white",
            "showbackground": true,
            "ticks": "",
            "zerolinecolor": "white"
           }
          },
          "shapedefaults": {
           "line": {
            "color": "#2a3f5f"
           }
          },
          "ternary": {
           "aaxis": {
            "gridcolor": "white",
            "linecolor": "white",
            "ticks": ""
           },
           "baxis": {
            "gridcolor": "white",
            "linecolor": "white",
            "ticks": ""
           },
           "bgcolor": "#E5ECF6",
           "caxis": {
            "gridcolor": "white",
            "linecolor": "white",
            "ticks": ""
           }
          },
          "title": {
           "x": 0.05
          },
          "xaxis": {
           "automargin": true,
           "gridcolor": "white",
           "linecolor": "white",
           "ticks": "",
           "title": {
            "standoff": 15
           },
           "zerolinecolor": "white",
           "zerolinewidth": 2
          },
          "yaxis": {
           "automargin": true,
           "gridcolor": "white",
           "linecolor": "white",
           "ticks": "",
           "title": {
            "standoff": 15
           },
           "zerolinecolor": "white",
           "zerolinewidth": 2
          }
         }
        },
        "title": {
         "text": "Unemployment Rate Comparison"
        },
        "xaxis": {
         "anchor": "y",
         "domain": [
          0,
          1
         ],
         "title": {
          "text": "Year"
         }
        },
        "yaxis": {
         "anchor": "x",
         "domain": [
          0,
          1
         ],
         "title": {
          "text": "Unemployment, total (% of total labor force)"
         }
        }
       }
      }
     },
     "metadata": {},
     "output_type": "display_data"
    },
    {
     "data": {
      "application/vnd.plotly.v1+json": {
       "config": {
        "plotlyServerURL": "https://plot.ly"
       },
       "data": [
        {
         "hovertemplate": "Country=Ireland<br>Year=%{x}<br>Contribution of the construction sector to the GBD %=%{y}<extra></extra>",
         "legendgroup": "Ireland",
         "line": {
          "color": "green",
          "dash": "solid"
         },
         "marker": {
          "symbol": "circle"
         },
         "mode": "lines",
         "name": "Ireland",
         "orientation": "v",
         "showlegend": true,
         "type": "scatter",
         "x": [
          "2000",
          "2001",
          "2002",
          "2003",
          "2004",
          "2005",
          "2006",
          "2007",
          "2008",
          "2009",
          "2010",
          "2011",
          "2012",
          "2013",
          "2014",
          "2015",
          "2016",
          "2017",
          "2018",
          "2019",
          "2020",
          "2021"
         ],
         "xaxis": "x",
         "y": [
          31.5,
          34.1,
          35.1,
          32.3,
          30.8,
          30,
          30.1,
          28.5,
          25.9,
          25.6,
          23.3,
          24,
          23.9,
          23.9,
          24.3,
          38.2,
          36.9,
          35.9,
          36.7,
          35.4,
          37.5,
          37.8
         ],
         "yaxis": "y"
        },
        {
         "hovertemplate": "Country=Finland<br>Year=%{x}<br>Contribution of the construction sector to the GBD %=%{y}<extra></extra>",
         "legendgroup": "Finland",
         "line": {
          "color": "blue",
          "dash": "solid"
         },
         "marker": {
          "symbol": "circle"
         },
         "mode": "lines",
         "name": "Finland",
         "orientation": "v",
         "showlegend": true,
         "type": "scatter",
         "x": [
          "2000",
          "2001",
          "2002",
          "2003",
          "2004",
          "2005",
          "2006",
          "2007",
          "2008",
          "2009",
          "2010",
          "2011",
          "2012",
          "2013",
          "2014",
          "2015",
          "2016",
          "2017",
          "2018",
          "2019",
          "2020",
          "2021"
         ],
         "xaxis": "x",
         "y": [
          31.6,
          30.9,
          30.1,
          29.5,
          29.4,
          29.3,
          30.2,
          30.7,
          29.6,
          25.7,
          26.2,
          25,
          23.4,
          23.3,
          23.1,
          23.3,
          23.5,
          24.4,
          24,
          23.9,
          24,
          24.6
         ],
         "yaxis": "y"
        },
        {
         "hovertemplate": "Country=Croatia<br>Year=%{x}<br>Contribution of the construction sector to the GBD %=%{y}<extra></extra>",
         "legendgroup": "Croatia",
         "line": {
          "color": "red",
          "dash": "solid"
         },
         "marker": {
          "symbol": "circle"
         },
         "mode": "lines",
         "name": "Croatia",
         "orientation": "v",
         "showlegend": true,
         "type": "scatter",
         "x": [
          "2000",
          "2001",
          "2002",
          "2003",
          "2004",
          "2005",
          "2006",
          "2007",
          "2008",
          "2009",
          "2010",
          "2011",
          "2012",
          "2013",
          "2014",
          "2015",
          "2016",
          "2017",
          "2018",
          "2019",
          "2020",
          "2021"
         ],
         "xaxis": "x",
         "y": [
          24.2,
          23.8,
          22.9,
          23.3,
          24.1,
          23.7,
          23.4,
          23,
          22.8,
          22.7,
          21.4,
          21.5,
          21.1,
          20.6,
          20.8,
          20.6,
          20.6,
          20.2,
          19.9,
          19.9,
          20.7,
          19.8
         ],
         "yaxis": "y"
        }
       ],
       "layout": {
        "legend": {
         "title": {
          "text": "Country"
         },
         "tracegroupgap": 0
        },
        "template": {
         "data": {
          "bar": [
           {
            "error_x": {
             "color": "#2a3f5f"
            },
            "error_y": {
             "color": "#2a3f5f"
            },
            "marker": {
             "line": {
              "color": "#E5ECF6",
              "width": 0.5
             },
             "pattern": {
              "fillmode": "overlay",
              "size": 10,
              "solidity": 0.2
             }
            },
            "type": "bar"
           }
          ],
          "barpolar": [
           {
            "marker": {
             "line": {
              "color": "#E5ECF6",
              "width": 0.5
             },
             "pattern": {
              "fillmode": "overlay",
              "size": 10,
              "solidity": 0.2
             }
            },
            "type": "barpolar"
           }
          ],
          "carpet": [
           {
            "aaxis": {
             "endlinecolor": "#2a3f5f",
             "gridcolor": "white",
             "linecolor": "white",
             "minorgridcolor": "white",
             "startlinecolor": "#2a3f5f"
            },
            "baxis": {
             "endlinecolor": "#2a3f5f",
             "gridcolor": "white",
             "linecolor": "white",
             "minorgridcolor": "white",
             "startlinecolor": "#2a3f5f"
            },
            "type": "carpet"
           }
          ],
          "choropleth": [
           {
            "colorbar": {
             "outlinewidth": 0,
             "ticks": ""
            },
            "type": "choropleth"
           }
          ],
          "contour": [
           {
            "colorbar": {
             "outlinewidth": 0,
             "ticks": ""
            },
            "colorscale": [
             [
              0,
              "#0d0887"
             ],
             [
              0.1111111111111111,
              "#46039f"
             ],
             [
              0.2222222222222222,
              "#7201a8"
             ],
             [
              0.3333333333333333,
              "#9c179e"
             ],
             [
              0.4444444444444444,
              "#bd3786"
             ],
             [
              0.5555555555555556,
              "#d8576b"
             ],
             [
              0.6666666666666666,
              "#ed7953"
             ],
             [
              0.7777777777777778,
              "#fb9f3a"
             ],
             [
              0.8888888888888888,
              "#fdca26"
             ],
             [
              1,
              "#f0f921"
             ]
            ],
            "type": "contour"
           }
          ],
          "contourcarpet": [
           {
            "colorbar": {
             "outlinewidth": 0,
             "ticks": ""
            },
            "type": "contourcarpet"
           }
          ],
          "heatmap": [
           {
            "colorbar": {
             "outlinewidth": 0,
             "ticks": ""
            },
            "colorscale": [
             [
              0,
              "#0d0887"
             ],
             [
              0.1111111111111111,
              "#46039f"
             ],
             [
              0.2222222222222222,
              "#7201a8"
             ],
             [
              0.3333333333333333,
              "#9c179e"
             ],
             [
              0.4444444444444444,
              "#bd3786"
             ],
             [
              0.5555555555555556,
              "#d8576b"
             ],
             [
              0.6666666666666666,
              "#ed7953"
             ],
             [
              0.7777777777777778,
              "#fb9f3a"
             ],
             [
              0.8888888888888888,
              "#fdca26"
             ],
             [
              1,
              "#f0f921"
             ]
            ],
            "type": "heatmap"
           }
          ],
          "heatmapgl": [
           {
            "colorbar": {
             "outlinewidth": 0,
             "ticks": ""
            },
            "colorscale": [
             [
              0,
              "#0d0887"
             ],
             [
              0.1111111111111111,
              "#46039f"
             ],
             [
              0.2222222222222222,
              "#7201a8"
             ],
             [
              0.3333333333333333,
              "#9c179e"
             ],
             [
              0.4444444444444444,
              "#bd3786"
             ],
             [
              0.5555555555555556,
              "#d8576b"
             ],
             [
              0.6666666666666666,
              "#ed7953"
             ],
             [
              0.7777777777777778,
              "#fb9f3a"
             ],
             [
              0.8888888888888888,
              "#fdca26"
             ],
             [
              1,
              "#f0f921"
             ]
            ],
            "type": "heatmapgl"
           }
          ],
          "histogram": [
           {
            "marker": {
             "pattern": {
              "fillmode": "overlay",
              "size": 10,
              "solidity": 0.2
             }
            },
            "type": "histogram"
           }
          ],
          "histogram2d": [
           {
            "colorbar": {
             "outlinewidth": 0,
             "ticks": ""
            },
            "colorscale": [
             [
              0,
              "#0d0887"
             ],
             [
              0.1111111111111111,
              "#46039f"
             ],
             [
              0.2222222222222222,
              "#7201a8"
             ],
             [
              0.3333333333333333,
              "#9c179e"
             ],
             [
              0.4444444444444444,
              "#bd3786"
             ],
             [
              0.5555555555555556,
              "#d8576b"
             ],
             [
              0.6666666666666666,
              "#ed7953"
             ],
             [
              0.7777777777777778,
              "#fb9f3a"
             ],
             [
              0.8888888888888888,
              "#fdca26"
             ],
             [
              1,
              "#f0f921"
             ]
            ],
            "type": "histogram2d"
           }
          ],
          "histogram2dcontour": [
           {
            "colorbar": {
             "outlinewidth": 0,
             "ticks": ""
            },
            "colorscale": [
             [
              0,
              "#0d0887"
             ],
             [
              0.1111111111111111,
              "#46039f"
             ],
             [
              0.2222222222222222,
              "#7201a8"
             ],
             [
              0.3333333333333333,
              "#9c179e"
             ],
             [
              0.4444444444444444,
              "#bd3786"
             ],
             [
              0.5555555555555556,
              "#d8576b"
             ],
             [
              0.6666666666666666,
              "#ed7953"
             ],
             [
              0.7777777777777778,
              "#fb9f3a"
             ],
             [
              0.8888888888888888,
              "#fdca26"
             ],
             [
              1,
              "#f0f921"
             ]
            ],
            "type": "histogram2dcontour"
           }
          ],
          "mesh3d": [
           {
            "colorbar": {
             "outlinewidth": 0,
             "ticks": ""
            },
            "type": "mesh3d"
           }
          ],
          "parcoords": [
           {
            "line": {
             "colorbar": {
              "outlinewidth": 0,
              "ticks": ""
             }
            },
            "type": "parcoords"
           }
          ],
          "pie": [
           {
            "automargin": true,
            "type": "pie"
           }
          ],
          "scatter": [
           {
            "fillpattern": {
             "fillmode": "overlay",
             "size": 10,
             "solidity": 0.2
            },
            "type": "scatter"
           }
          ],
          "scatter3d": [
           {
            "line": {
             "colorbar": {
              "outlinewidth": 0,
              "ticks": ""
             }
            },
            "marker": {
             "colorbar": {
              "outlinewidth": 0,
              "ticks": ""
             }
            },
            "type": "scatter3d"
           }
          ],
          "scattercarpet": [
           {
            "marker": {
             "colorbar": {
              "outlinewidth": 0,
              "ticks": ""
             }
            },
            "type": "scattercarpet"
           }
          ],
          "scattergeo": [
           {
            "marker": {
             "colorbar": {
              "outlinewidth": 0,
              "ticks": ""
             }
            },
            "type": "scattergeo"
           }
          ],
          "scattergl": [
           {
            "marker": {
             "colorbar": {
              "outlinewidth": 0,
              "ticks": ""
             }
            },
            "type": "scattergl"
           }
          ],
          "scattermapbox": [
           {
            "marker": {
             "colorbar": {
              "outlinewidth": 0,
              "ticks": ""
             }
            },
            "type": "scattermapbox"
           }
          ],
          "scatterpolar": [
           {
            "marker": {
             "colorbar": {
              "outlinewidth": 0,
              "ticks": ""
             }
            },
            "type": "scatterpolar"
           }
          ],
          "scatterpolargl": [
           {
            "marker": {
             "colorbar": {
              "outlinewidth": 0,
              "ticks": ""
             }
            },
            "type": "scatterpolargl"
           }
          ],
          "scatterternary": [
           {
            "marker": {
             "colorbar": {
              "outlinewidth": 0,
              "ticks": ""
             }
            },
            "type": "scatterternary"
           }
          ],
          "surface": [
           {
            "colorbar": {
             "outlinewidth": 0,
             "ticks": ""
            },
            "colorscale": [
             [
              0,
              "#0d0887"
             ],
             [
              0.1111111111111111,
              "#46039f"
             ],
             [
              0.2222222222222222,
              "#7201a8"
             ],
             [
              0.3333333333333333,
              "#9c179e"
             ],
             [
              0.4444444444444444,
              "#bd3786"
             ],
             [
              0.5555555555555556,
              "#d8576b"
             ],
             [
              0.6666666666666666,
              "#ed7953"
             ],
             [
              0.7777777777777778,
              "#fb9f3a"
             ],
             [
              0.8888888888888888,
              "#fdca26"
             ],
             [
              1,
              "#f0f921"
             ]
            ],
            "type": "surface"
           }
          ],
          "table": [
           {
            "cells": {
             "fill": {
              "color": "#EBF0F8"
             },
             "line": {
              "color": "white"
             }
            },
            "header": {
             "fill": {
              "color": "#C8D4E3"
             },
             "line": {
              "color": "white"
             }
            },
            "type": "table"
           }
          ]
         },
         "layout": {
          "annotationdefaults": {
           "arrowcolor": "#2a3f5f",
           "arrowhead": 0,
           "arrowwidth": 1
          },
          "autotypenumbers": "strict",
          "coloraxis": {
           "colorbar": {
            "outlinewidth": 0,
            "ticks": ""
           }
          },
          "colorscale": {
           "diverging": [
            [
             0,
             "#8e0152"
            ],
            [
             0.1,
             "#c51b7d"
            ],
            [
             0.2,
             "#de77ae"
            ],
            [
             0.3,
             "#f1b6da"
            ],
            [
             0.4,
             "#fde0ef"
            ],
            [
             0.5,
             "#f7f7f7"
            ],
            [
             0.6,
             "#e6f5d0"
            ],
            [
             0.7,
             "#b8e186"
            ],
            [
             0.8,
             "#7fbc41"
            ],
            [
             0.9,
             "#4d9221"
            ],
            [
             1,
             "#276419"
            ]
           ],
           "sequential": [
            [
             0,
             "#0d0887"
            ],
            [
             0.1111111111111111,
             "#46039f"
            ],
            [
             0.2222222222222222,
             "#7201a8"
            ],
            [
             0.3333333333333333,
             "#9c179e"
            ],
            [
             0.4444444444444444,
             "#bd3786"
            ],
            [
             0.5555555555555556,
             "#d8576b"
            ],
            [
             0.6666666666666666,
             "#ed7953"
            ],
            [
             0.7777777777777778,
             "#fb9f3a"
            ],
            [
             0.8888888888888888,
             "#fdca26"
            ],
            [
             1,
             "#f0f921"
            ]
           ],
           "sequentialminus": [
            [
             0,
             "#0d0887"
            ],
            [
             0.1111111111111111,
             "#46039f"
            ],
            [
             0.2222222222222222,
             "#7201a8"
            ],
            [
             0.3333333333333333,
             "#9c179e"
            ],
            [
             0.4444444444444444,
             "#bd3786"
            ],
            [
             0.5555555555555556,
             "#d8576b"
            ],
            [
             0.6666666666666666,
             "#ed7953"
            ],
            [
             0.7777777777777778,
             "#fb9f3a"
            ],
            [
             0.8888888888888888,
             "#fdca26"
            ],
            [
             1,
             "#f0f921"
            ]
           ]
          },
          "colorway": [
           "#636efa",
           "#EF553B",
           "#00cc96",
           "#ab63fa",
           "#FFA15A",
           "#19d3f3",
           "#FF6692",
           "#B6E880",
           "#FF97FF",
           "#FECB52"
          ],
          "font": {
           "color": "#2a3f5f"
          },
          "geo": {
           "bgcolor": "white",
           "lakecolor": "white",
           "landcolor": "#E5ECF6",
           "showlakes": true,
           "showland": true,
           "subunitcolor": "white"
          },
          "hoverlabel": {
           "align": "left"
          },
          "hovermode": "closest",
          "mapbox": {
           "style": "light"
          },
          "paper_bgcolor": "white",
          "plot_bgcolor": "#E5ECF6",
          "polar": {
           "angularaxis": {
            "gridcolor": "white",
            "linecolor": "white",
            "ticks": ""
           },
           "bgcolor": "#E5ECF6",
           "radialaxis": {
            "gridcolor": "white",
            "linecolor": "white",
            "ticks": ""
           }
          },
          "scene": {
           "xaxis": {
            "backgroundcolor": "#E5ECF6",
            "gridcolor": "white",
            "gridwidth": 2,
            "linecolor": "white",
            "showbackground": true,
            "ticks": "",
            "zerolinecolor": "white"
           },
           "yaxis": {
            "backgroundcolor": "#E5ECF6",
            "gridcolor": "white",
            "gridwidth": 2,
            "linecolor": "white",
            "showbackground": true,
            "ticks": "",
            "zerolinecolor": "white"
           },
           "zaxis": {
            "backgroundcolor": "#E5ECF6",
            "gridcolor": "white",
            "gridwidth": 2,
            "linecolor": "white",
            "showbackground": true,
            "ticks": "",
            "zerolinecolor": "white"
           }
          },
          "shapedefaults": {
           "line": {
            "color": "#2a3f5f"
           }
          },
          "ternary": {
           "aaxis": {
            "gridcolor": "white",
            "linecolor": "white",
            "ticks": ""
           },
           "baxis": {
            "gridcolor": "white",
            "linecolor": "white",
            "ticks": ""
           },
           "bgcolor": "#E5ECF6",
           "caxis": {
            "gridcolor": "white",
            "linecolor": "white",
            "ticks": ""
           }
          },
          "title": {
           "x": 0.05
          },
          "xaxis": {
           "automargin": true,
           "gridcolor": "white",
           "linecolor": "white",
           "ticks": "",
           "title": {
            "standoff": 15
           },
           "zerolinecolor": "white",
           "zerolinewidth": 2
          },
          "yaxis": {
           "automargin": true,
           "gridcolor": "white",
           "linecolor": "white",
           "ticks": "",
           "title": {
            "standoff": 15
           },
           "zerolinecolor": "white",
           "zerolinewidth": 2
          }
         }
        },
        "title": {
         "text": "Construction Sector Contribution to GDP Comparison"
        },
        "xaxis": {
         "anchor": "y",
         "domain": [
          0,
          1
         ],
         "title": {
          "text": "Year"
         }
        },
        "yaxis": {
         "anchor": "x",
         "domain": [
          0,
          1
         ],
         "title": {
          "text": "Contribution of the construction sector to the GBD %"
         }
        }
       }
      }
     },
     "metadata": {},
     "output_type": "display_data"
    },
    {
     "data": {
      "application/vnd.plotly.v1+json": {
       "config": {
        "plotlyServerURL": "https://plot.ly"
       },
       "data": [
        {
         "hovertemplate": "Country=Ireland<br>Year=%{x}<br>Labor force, total=%{y}<extra></extra>",
         "legendgroup": "Ireland",
         "line": {
          "color": "green",
          "dash": "solid"
         },
         "marker": {
          "symbol": "circle"
         },
         "mode": "lines",
         "name": "Ireland",
         "orientation": "v",
         "showlegend": true,
         "type": "scatter",
         "x": [
          "2000",
          "2001",
          "2002",
          "2003",
          "2004",
          "2005",
          "2006",
          "2007",
          "2008",
          "2009",
          "2010",
          "2011",
          "2012",
          "2013",
          "2014",
          "2015",
          "2016",
          "2017",
          "2018",
          "2019",
          "2020",
          "2021"
         ],
         "xaxis": "x",
         "y": [
          1862430,
          1898123,
          1941828,
          1984446,
          2033886,
          2151141,
          2241382,
          2336096,
          2355177,
          2303515,
          2252263,
          2231095,
          2225018,
          2247873,
          2258498,
          2285833,
          2330010,
          2354153,
          2397838,
          2446760,
          2432234,
          2551561
         ],
         "yaxis": "y"
        },
        {
         "hovertemplate": "Country=Finland<br>Year=%{x}<br>Labor force, total=%{y}<extra></extra>",
         "legendgroup": "Finland",
         "line": {
          "color": "blue",
          "dash": "solid"
         },
         "marker": {
          "symbol": "circle"
         },
         "mode": "lines",
         "name": "Finland",
         "orientation": "v",
         "showlegend": true,
         "type": "scatter",
         "x": [
          "2000",
          "2001",
          "2002",
          "2003",
          "2004",
          "2005",
          "2006",
          "2007",
          "2008",
          "2009",
          "2010",
          "2011",
          "2012",
          "2013",
          "2014",
          "2015",
          "2016",
          "2017",
          "2018",
          "2019",
          "2020",
          "2021"
         ],
         "xaxis": "x",
         "y": [
          2583129,
          2606649,
          2618114,
          2620447,
          2612340,
          2632616,
          2660139,
          2687154,
          2715926,
          2688826,
          2678175,
          2693382,
          2700773,
          2686349,
          2690277,
          2699822,
          2694829,
          2716261,
          2749812,
          2758855,
          2751071,
          2774226
         ],
         "yaxis": "y"
        },
        {
         "hovertemplate": "Country=Croatia<br>Year=%{x}<br>Labor force, total=%{y}<extra></extra>",
         "legendgroup": "Croatia",
         "line": {
          "color": "red",
          "dash": "solid"
         },
         "marker": {
          "symbol": "circle"
         },
         "mode": "lines",
         "name": "Croatia",
         "orientation": "v",
         "showlegend": true,
         "type": "scatter",
         "x": [
          "2000",
          "2001",
          "2002",
          "2003",
          "2004",
          "2005",
          "2006",
          "2007",
          "2008",
          "2009",
          "2010",
          "2011",
          "2012",
          "2013",
          "2014",
          "2015",
          "2016",
          "2017",
          "2018",
          "2019",
          "2020",
          "2021"
         ],
         "xaxis": "x",
         "y": [
          1932906,
          1845629,
          1833312,
          1808041,
          1844858,
          1796375,
          1785298,
          1924507,
          1933843,
          1934048,
          1912849,
          1883510,
          1865281,
          1844972,
          1896011,
          1896675,
          1835203,
          1824724,
          1794304,
          1781597,
          1772376,
          1733479
         ],
         "yaxis": "y"
        }
       ],
       "layout": {
        "legend": {
         "title": {
          "text": "Country"
         },
         "tracegroupgap": 0
        },
        "template": {
         "data": {
          "bar": [
           {
            "error_x": {
             "color": "#2a3f5f"
            },
            "error_y": {
             "color": "#2a3f5f"
            },
            "marker": {
             "line": {
              "color": "#E5ECF6",
              "width": 0.5
             },
             "pattern": {
              "fillmode": "overlay",
              "size": 10,
              "solidity": 0.2
             }
            },
            "type": "bar"
           }
          ],
          "barpolar": [
           {
            "marker": {
             "line": {
              "color": "#E5ECF6",
              "width": 0.5
             },
             "pattern": {
              "fillmode": "overlay",
              "size": 10,
              "solidity": 0.2
             }
            },
            "type": "barpolar"
           }
          ],
          "carpet": [
           {
            "aaxis": {
             "endlinecolor": "#2a3f5f",
             "gridcolor": "white",
             "linecolor": "white",
             "minorgridcolor": "white",
             "startlinecolor": "#2a3f5f"
            },
            "baxis": {
             "endlinecolor": "#2a3f5f",
             "gridcolor": "white",
             "linecolor": "white",
             "minorgridcolor": "white",
             "startlinecolor": "#2a3f5f"
            },
            "type": "carpet"
           }
          ],
          "choropleth": [
           {
            "colorbar": {
             "outlinewidth": 0,
             "ticks": ""
            },
            "type": "choropleth"
           }
          ],
          "contour": [
           {
            "colorbar": {
             "outlinewidth": 0,
             "ticks": ""
            },
            "colorscale": [
             [
              0,
              "#0d0887"
             ],
             [
              0.1111111111111111,
              "#46039f"
             ],
             [
              0.2222222222222222,
              "#7201a8"
             ],
             [
              0.3333333333333333,
              "#9c179e"
             ],
             [
              0.4444444444444444,
              "#bd3786"
             ],
             [
              0.5555555555555556,
              "#d8576b"
             ],
             [
              0.6666666666666666,
              "#ed7953"
             ],
             [
              0.7777777777777778,
              "#fb9f3a"
             ],
             [
              0.8888888888888888,
              "#fdca26"
             ],
             [
              1,
              "#f0f921"
             ]
            ],
            "type": "contour"
           }
          ],
          "contourcarpet": [
           {
            "colorbar": {
             "outlinewidth": 0,
             "ticks": ""
            },
            "type": "contourcarpet"
           }
          ],
          "heatmap": [
           {
            "colorbar": {
             "outlinewidth": 0,
             "ticks": ""
            },
            "colorscale": [
             [
              0,
              "#0d0887"
             ],
             [
              0.1111111111111111,
              "#46039f"
             ],
             [
              0.2222222222222222,
              "#7201a8"
             ],
             [
              0.3333333333333333,
              "#9c179e"
             ],
             [
              0.4444444444444444,
              "#bd3786"
             ],
             [
              0.5555555555555556,
              "#d8576b"
             ],
             [
              0.6666666666666666,
              "#ed7953"
             ],
             [
              0.7777777777777778,
              "#fb9f3a"
             ],
             [
              0.8888888888888888,
              "#fdca26"
             ],
             [
              1,
              "#f0f921"
             ]
            ],
            "type": "heatmap"
           }
          ],
          "heatmapgl": [
           {
            "colorbar": {
             "outlinewidth": 0,
             "ticks": ""
            },
            "colorscale": [
             [
              0,
              "#0d0887"
             ],
             [
              0.1111111111111111,
              "#46039f"
             ],
             [
              0.2222222222222222,
              "#7201a8"
             ],
             [
              0.3333333333333333,
              "#9c179e"
             ],
             [
              0.4444444444444444,
              "#bd3786"
             ],
             [
              0.5555555555555556,
              "#d8576b"
             ],
             [
              0.6666666666666666,
              "#ed7953"
             ],
             [
              0.7777777777777778,
              "#fb9f3a"
             ],
             [
              0.8888888888888888,
              "#fdca26"
             ],
             [
              1,
              "#f0f921"
             ]
            ],
            "type": "heatmapgl"
           }
          ],
          "histogram": [
           {
            "marker": {
             "pattern": {
              "fillmode": "overlay",
              "size": 10,
              "solidity": 0.2
             }
            },
            "type": "histogram"
           }
          ],
          "histogram2d": [
           {
            "colorbar": {
             "outlinewidth": 0,
             "ticks": ""
            },
            "colorscale": [
             [
              0,
              "#0d0887"
             ],
             [
              0.1111111111111111,
              "#46039f"
             ],
             [
              0.2222222222222222,
              "#7201a8"
             ],
             [
              0.3333333333333333,
              "#9c179e"
             ],
             [
              0.4444444444444444,
              "#bd3786"
             ],
             [
              0.5555555555555556,
              "#d8576b"
             ],
             [
              0.6666666666666666,
              "#ed7953"
             ],
             [
              0.7777777777777778,
              "#fb9f3a"
             ],
             [
              0.8888888888888888,
              "#fdca26"
             ],
             [
              1,
              "#f0f921"
             ]
            ],
            "type": "histogram2d"
           }
          ],
          "histogram2dcontour": [
           {
            "colorbar": {
             "outlinewidth": 0,
             "ticks": ""
            },
            "colorscale": [
             [
              0,
              "#0d0887"
             ],
             [
              0.1111111111111111,
              "#46039f"
             ],
             [
              0.2222222222222222,
              "#7201a8"
             ],
             [
              0.3333333333333333,
              "#9c179e"
             ],
             [
              0.4444444444444444,
              "#bd3786"
             ],
             [
              0.5555555555555556,
              "#d8576b"
             ],
             [
              0.6666666666666666,
              "#ed7953"
             ],
             [
              0.7777777777777778,
              "#fb9f3a"
             ],
             [
              0.8888888888888888,
              "#fdca26"
             ],
             [
              1,
              "#f0f921"
             ]
            ],
            "type": "histogram2dcontour"
           }
          ],
          "mesh3d": [
           {
            "colorbar": {
             "outlinewidth": 0,
             "ticks": ""
            },
            "type": "mesh3d"
           }
          ],
          "parcoords": [
           {
            "line": {
             "colorbar": {
              "outlinewidth": 0,
              "ticks": ""
             }
            },
            "type": "parcoords"
           }
          ],
          "pie": [
           {
            "automargin": true,
            "type": "pie"
           }
          ],
          "scatter": [
           {
            "fillpattern": {
             "fillmode": "overlay",
             "size": 10,
             "solidity": 0.2
            },
            "type": "scatter"
           }
          ],
          "scatter3d": [
           {
            "line": {
             "colorbar": {
              "outlinewidth": 0,
              "ticks": ""
             }
            },
            "marker": {
             "colorbar": {
              "outlinewidth": 0,
              "ticks": ""
             }
            },
            "type": "scatter3d"
           }
          ],
          "scattercarpet": [
           {
            "marker": {
             "colorbar": {
              "outlinewidth": 0,
              "ticks": ""
             }
            },
            "type": "scattercarpet"
           }
          ],
          "scattergeo": [
           {
            "marker": {
             "colorbar": {
              "outlinewidth": 0,
              "ticks": ""
             }
            },
            "type": "scattergeo"
           }
          ],
          "scattergl": [
           {
            "marker": {
             "colorbar": {
              "outlinewidth": 0,
              "ticks": ""
             }
            },
            "type": "scattergl"
           }
          ],
          "scattermapbox": [
           {
            "marker": {
             "colorbar": {
              "outlinewidth": 0,
              "ticks": ""
             }
            },
            "type": "scattermapbox"
           }
          ],
          "scatterpolar": [
           {
            "marker": {
             "colorbar": {
              "outlinewidth": 0,
              "ticks": ""
             }
            },
            "type": "scatterpolar"
           }
          ],
          "scatterpolargl": [
           {
            "marker": {
             "colorbar": {
              "outlinewidth": 0,
              "ticks": ""
             }
            },
            "type": "scatterpolargl"
           }
          ],
          "scatterternary": [
           {
            "marker": {
             "colorbar": {
              "outlinewidth": 0,
              "ticks": ""
             }
            },
            "type": "scatterternary"
           }
          ],
          "surface": [
           {
            "colorbar": {
             "outlinewidth": 0,
             "ticks": ""
            },
            "colorscale": [
             [
              0,
              "#0d0887"
             ],
             [
              0.1111111111111111,
              "#46039f"
             ],
             [
              0.2222222222222222,
              "#7201a8"
             ],
             [
              0.3333333333333333,
              "#9c179e"
             ],
             [
              0.4444444444444444,
              "#bd3786"
             ],
             [
              0.5555555555555556,
              "#d8576b"
             ],
             [
              0.6666666666666666,
              "#ed7953"
             ],
             [
              0.7777777777777778,
              "#fb9f3a"
             ],
             [
              0.8888888888888888,
              "#fdca26"
             ],
             [
              1,
              "#f0f921"
             ]
            ],
            "type": "surface"
           }
          ],
          "table": [
           {
            "cells": {
             "fill": {
              "color": "#EBF0F8"
             },
             "line": {
              "color": "white"
             }
            },
            "header": {
             "fill": {
              "color": "#C8D4E3"
             },
             "line": {
              "color": "white"
             }
            },
            "type": "table"
           }
          ]
         },
         "layout": {
          "annotationdefaults": {
           "arrowcolor": "#2a3f5f",
           "arrowhead": 0,
           "arrowwidth": 1
          },
          "autotypenumbers": "strict",
          "coloraxis": {
           "colorbar": {
            "outlinewidth": 0,
            "ticks": ""
           }
          },
          "colorscale": {
           "diverging": [
            [
             0,
             "#8e0152"
            ],
            [
             0.1,
             "#c51b7d"
            ],
            [
             0.2,
             "#de77ae"
            ],
            [
             0.3,
             "#f1b6da"
            ],
            [
             0.4,
             "#fde0ef"
            ],
            [
             0.5,
             "#f7f7f7"
            ],
            [
             0.6,
             "#e6f5d0"
            ],
            [
             0.7,
             "#b8e186"
            ],
            [
             0.8,
             "#7fbc41"
            ],
            [
             0.9,
             "#4d9221"
            ],
            [
             1,
             "#276419"
            ]
           ],
           "sequential": [
            [
             0,
             "#0d0887"
            ],
            [
             0.1111111111111111,
             "#46039f"
            ],
            [
             0.2222222222222222,
             "#7201a8"
            ],
            [
             0.3333333333333333,
             "#9c179e"
            ],
            [
             0.4444444444444444,
             "#bd3786"
            ],
            [
             0.5555555555555556,
             "#d8576b"
            ],
            [
             0.6666666666666666,
             "#ed7953"
            ],
            [
             0.7777777777777778,
             "#fb9f3a"
            ],
            [
             0.8888888888888888,
             "#fdca26"
            ],
            [
             1,
             "#f0f921"
            ]
           ],
           "sequentialminus": [
            [
             0,
             "#0d0887"
            ],
            [
             0.1111111111111111,
             "#46039f"
            ],
            [
             0.2222222222222222,
             "#7201a8"
            ],
            [
             0.3333333333333333,
             "#9c179e"
            ],
            [
             0.4444444444444444,
             "#bd3786"
            ],
            [
             0.5555555555555556,
             "#d8576b"
            ],
            [
             0.6666666666666666,
             "#ed7953"
            ],
            [
             0.7777777777777778,
             "#fb9f3a"
            ],
            [
             0.8888888888888888,
             "#fdca26"
            ],
            [
             1,
             "#f0f921"
            ]
           ]
          },
          "colorway": [
           "#636efa",
           "#EF553B",
           "#00cc96",
           "#ab63fa",
           "#FFA15A",
           "#19d3f3",
           "#FF6692",
           "#B6E880",
           "#FF97FF",
           "#FECB52"
          ],
          "font": {
           "color": "#2a3f5f"
          },
          "geo": {
           "bgcolor": "white",
           "lakecolor": "white",
           "landcolor": "#E5ECF6",
           "showlakes": true,
           "showland": true,
           "subunitcolor": "white"
          },
          "hoverlabel": {
           "align": "left"
          },
          "hovermode": "closest",
          "mapbox": {
           "style": "light"
          },
          "paper_bgcolor": "white",
          "plot_bgcolor": "#E5ECF6",
          "polar": {
           "angularaxis": {
            "gridcolor": "white",
            "linecolor": "white",
            "ticks": ""
           },
           "bgcolor": "#E5ECF6",
           "radialaxis": {
            "gridcolor": "white",
            "linecolor": "white",
            "ticks": ""
           }
          },
          "scene": {
           "xaxis": {
            "backgroundcolor": "#E5ECF6",
            "gridcolor": "white",
            "gridwidth": 2,
            "linecolor": "white",
            "showbackground": true,
            "ticks": "",
            "zerolinecolor": "white"
           },
           "yaxis": {
            "backgroundcolor": "#E5ECF6",
            "gridcolor": "white",
            "gridwidth": 2,
            "linecolor": "white",
            "showbackground": true,
            "ticks": "",
            "zerolinecolor": "white"
           },
           "zaxis": {
            "backgroundcolor": "#E5ECF6",
            "gridcolor": "white",
            "gridwidth": 2,
            "linecolor": "white",
            "showbackground": true,
            "ticks": "",
            "zerolinecolor": "white"
           }
          },
          "shapedefaults": {
           "line": {
            "color": "#2a3f5f"
           }
          },
          "ternary": {
           "aaxis": {
            "gridcolor": "white",
            "linecolor": "white",
            "ticks": ""
           },
           "baxis": {
            "gridcolor": "white",
            "linecolor": "white",
            "ticks": ""
           },
           "bgcolor": "#E5ECF6",
           "caxis": {
            "gridcolor": "white",
            "linecolor": "white",
            "ticks": ""
           }
          },
          "title": {
           "x": 0.05
          },
          "xaxis": {
           "automargin": true,
           "gridcolor": "white",
           "linecolor": "white",
           "ticks": "",
           "title": {
            "standoff": 15
           },
           "zerolinecolor": "white",
           "zerolinewidth": 2
          },
          "yaxis": {
           "automargin": true,
           "gridcolor": "white",
           "linecolor": "white",
           "ticks": "",
           "title": {
            "standoff": 15
           },
           "zerolinecolor": "white",
           "zerolinewidth": 2
          }
         }
        },
        "title": {
         "text": "Total Labor Force Comparison"
        },
        "xaxis": {
         "anchor": "y",
         "domain": [
          0,
          1
         ],
         "title": {
          "text": "Year"
         }
        },
        "yaxis": {
         "anchor": "x",
         "domain": [
          0,
          1
         ],
         "title": {
          "text": "Labor force, total"
         }
        }
       }
      }
     },
     "metadata": {},
     "output_type": "display_data"
    }
   ],
   "source": [
    "import plotly.express as px\n",
    "\n",
    "#unemployment rate comparison \n",
    "fig1 = px.line(merged_filtered, x='Year', y='Unemployment, total (% of total labor force)', color='Country',\n",
    "               title='Unemployment Rate Comparison',\n",
    "               color_discrete_map={'Ireland': 'green', 'Croatia': 'red', 'Finland': 'blue'})\n",
    "fig1.show()\n",
    "\n",
    "\n",
    "#counstruction sector contribution to gdp comparison\n",
    "fig2 = px.line(merged_filtered, x='Year', y='Contribution of the construction sector to the GBD %', color='Country',\n",
    "               title='Construction Sector Contribution to GDP Comparison',\n",
    "               color_discrete_map={'Ireland': 'green', 'Croatia': 'red', 'Finland': 'blue'})\n",
    "fig2.show()\n",
    "\n",
    "#total labor force comparison\n",
    "fig3 = px.line(merged_filtered, x='Year', y='Labor force, total', color='Country',\n",
    "               title='Total Labor Force Comparison',\n",
    "               color_discrete_map={'Ireland': 'green', 'Croatia': 'red', 'Finland': 'blue'})\n",
    "fig3.show()\n"
   ]
  },
  {
   "cell_type": "code",
   "execution_count": 631,
   "metadata": {},
   "outputs": [
    {
     "data": {
      "application/vnd.plotly.v1+json": {
       "config": {
        "plotlyServerURL": "https://plot.ly"
       },
       "data": [
        {
         "coloraxis": "coloraxis",
         "hovertemplate": "Year: %{x}<br>Country: %{y}<br>color: %{z}<extra></extra>",
         "name": "0",
         "type": "heatmap",
         "x": [
          "2000",
          "2001",
          "2002",
          "2003",
          "2004",
          "2005",
          "2006",
          "2007",
          "2008",
          "2009",
          "2010",
          "2011",
          "2012",
          "2013",
          "2014",
          "2015",
          "2016",
          "2017",
          "2018",
          "2019",
          "2020",
          "2021"
         ],
         "xaxis": "x",
         "y": [
          "Ireland",
          "Croatia",
          "Finland"
         ],
         "yaxis": "y",
         "z": [
          [
           24.2,
           23.8,
           22.9,
           23.3,
           24.1,
           23.7,
           23.4,
           23,
           22.8,
           22.7,
           21.4,
           21.5,
           21.1,
           20.6,
           20.8,
           20.6,
           20.6,
           20.2,
           19.9,
           19.9,
           20.7,
           19.8
          ],
          [
           31.6,
           30.9,
           30.1,
           29.5,
           29.4,
           29.3,
           30.2,
           30.7,
           29.6,
           25.7,
           26.2,
           25,
           23.4,
           23.3,
           23.1,
           23.3,
           23.5,
           24.4,
           24,
           23.9,
           24,
           24.6
          ],
          [
           31.5,
           34.1,
           35.1,
           32.3,
           30.8,
           30,
           30.1,
           28.5,
           25.9,
           25.6,
           23.3,
           24,
           23.9,
           23.9,
           24.3,
           38.2,
           36.9,
           35.9,
           36.7,
           35.4,
           37.5,
           37.8
          ]
         ]
        }
       ],
       "layout": {
        "coloraxis": {
         "colorscale": [
          [
           0,
           "rgb(253, 237, 176)"
          ],
          [
           0.09090909090909091,
           "rgb(250, 205, 145)"
          ],
          [
           0.18181818181818182,
           "rgb(246, 173, 119)"
          ],
          [
           0.2727272727272727,
           "rgb(240, 142, 98)"
          ],
          [
           0.36363636363636365,
           "rgb(231, 109, 84)"
          ],
          [
           0.45454545454545453,
           "rgb(216, 80, 83)"
          ],
          [
           0.5454545454545454,
           "rgb(195, 56, 90)"
          ],
          [
           0.6363636363636364,
           "rgb(168, 40, 96)"
          ],
          [
           0.7272727272727273,
           "rgb(138, 29, 99)"
          ],
          [
           0.8181818181818182,
           "rgb(107, 24, 93)"
          ],
          [
           0.9090909090909091,
           "rgb(76, 21, 80)"
          ],
          [
           1,
           "rgb(47, 15, 61)"
          ]
         ]
        },
        "template": {
         "data": {
          "bar": [
           {
            "error_x": {
             "color": "#2a3f5f"
            },
            "error_y": {
             "color": "#2a3f5f"
            },
            "marker": {
             "line": {
              "color": "#E5ECF6",
              "width": 0.5
             },
             "pattern": {
              "fillmode": "overlay",
              "size": 10,
              "solidity": 0.2
             }
            },
            "type": "bar"
           }
          ],
          "barpolar": [
           {
            "marker": {
             "line": {
              "color": "#E5ECF6",
              "width": 0.5
             },
             "pattern": {
              "fillmode": "overlay",
              "size": 10,
              "solidity": 0.2
             }
            },
            "type": "barpolar"
           }
          ],
          "carpet": [
           {
            "aaxis": {
             "endlinecolor": "#2a3f5f",
             "gridcolor": "white",
             "linecolor": "white",
             "minorgridcolor": "white",
             "startlinecolor": "#2a3f5f"
            },
            "baxis": {
             "endlinecolor": "#2a3f5f",
             "gridcolor": "white",
             "linecolor": "white",
             "minorgridcolor": "white",
             "startlinecolor": "#2a3f5f"
            },
            "type": "carpet"
           }
          ],
          "choropleth": [
           {
            "colorbar": {
             "outlinewidth": 0,
             "ticks": ""
            },
            "type": "choropleth"
           }
          ],
          "contour": [
           {
            "colorbar": {
             "outlinewidth": 0,
             "ticks": ""
            },
            "colorscale": [
             [
              0,
              "#0d0887"
             ],
             [
              0.1111111111111111,
              "#46039f"
             ],
             [
              0.2222222222222222,
              "#7201a8"
             ],
             [
              0.3333333333333333,
              "#9c179e"
             ],
             [
              0.4444444444444444,
              "#bd3786"
             ],
             [
              0.5555555555555556,
              "#d8576b"
             ],
             [
              0.6666666666666666,
              "#ed7953"
             ],
             [
              0.7777777777777778,
              "#fb9f3a"
             ],
             [
              0.8888888888888888,
              "#fdca26"
             ],
             [
              1,
              "#f0f921"
             ]
            ],
            "type": "contour"
           }
          ],
          "contourcarpet": [
           {
            "colorbar": {
             "outlinewidth": 0,
             "ticks": ""
            },
            "type": "contourcarpet"
           }
          ],
          "heatmap": [
           {
            "colorbar": {
             "outlinewidth": 0,
             "ticks": ""
            },
            "colorscale": [
             [
              0,
              "#0d0887"
             ],
             [
              0.1111111111111111,
              "#46039f"
             ],
             [
              0.2222222222222222,
              "#7201a8"
             ],
             [
              0.3333333333333333,
              "#9c179e"
             ],
             [
              0.4444444444444444,
              "#bd3786"
             ],
             [
              0.5555555555555556,
              "#d8576b"
             ],
             [
              0.6666666666666666,
              "#ed7953"
             ],
             [
              0.7777777777777778,
              "#fb9f3a"
             ],
             [
              0.8888888888888888,
              "#fdca26"
             ],
             [
              1,
              "#f0f921"
             ]
            ],
            "type": "heatmap"
           }
          ],
          "heatmapgl": [
           {
            "colorbar": {
             "outlinewidth": 0,
             "ticks": ""
            },
            "colorscale": [
             [
              0,
              "#0d0887"
             ],
             [
              0.1111111111111111,
              "#46039f"
             ],
             [
              0.2222222222222222,
              "#7201a8"
             ],
             [
              0.3333333333333333,
              "#9c179e"
             ],
             [
              0.4444444444444444,
              "#bd3786"
             ],
             [
              0.5555555555555556,
              "#d8576b"
             ],
             [
              0.6666666666666666,
              "#ed7953"
             ],
             [
              0.7777777777777778,
              "#fb9f3a"
             ],
             [
              0.8888888888888888,
              "#fdca26"
             ],
             [
              1,
              "#f0f921"
             ]
            ],
            "type": "heatmapgl"
           }
          ],
          "histogram": [
           {
            "marker": {
             "pattern": {
              "fillmode": "overlay",
              "size": 10,
              "solidity": 0.2
             }
            },
            "type": "histogram"
           }
          ],
          "histogram2d": [
           {
            "colorbar": {
             "outlinewidth": 0,
             "ticks": ""
            },
            "colorscale": [
             [
              0,
              "#0d0887"
             ],
             [
              0.1111111111111111,
              "#46039f"
             ],
             [
              0.2222222222222222,
              "#7201a8"
             ],
             [
              0.3333333333333333,
              "#9c179e"
             ],
             [
              0.4444444444444444,
              "#bd3786"
             ],
             [
              0.5555555555555556,
              "#d8576b"
             ],
             [
              0.6666666666666666,
              "#ed7953"
             ],
             [
              0.7777777777777778,
              "#fb9f3a"
             ],
             [
              0.8888888888888888,
              "#fdca26"
             ],
             [
              1,
              "#f0f921"
             ]
            ],
            "type": "histogram2d"
           }
          ],
          "histogram2dcontour": [
           {
            "colorbar": {
             "outlinewidth": 0,
             "ticks": ""
            },
            "colorscale": [
             [
              0,
              "#0d0887"
             ],
             [
              0.1111111111111111,
              "#46039f"
             ],
             [
              0.2222222222222222,
              "#7201a8"
             ],
             [
              0.3333333333333333,
              "#9c179e"
             ],
             [
              0.4444444444444444,
              "#bd3786"
             ],
             [
              0.5555555555555556,
              "#d8576b"
             ],
             [
              0.6666666666666666,
              "#ed7953"
             ],
             [
              0.7777777777777778,
              "#fb9f3a"
             ],
             [
              0.8888888888888888,
              "#fdca26"
             ],
             [
              1,
              "#f0f921"
             ]
            ],
            "type": "histogram2dcontour"
           }
          ],
          "mesh3d": [
           {
            "colorbar": {
             "outlinewidth": 0,
             "ticks": ""
            },
            "type": "mesh3d"
           }
          ],
          "parcoords": [
           {
            "line": {
             "colorbar": {
              "outlinewidth": 0,
              "ticks": ""
             }
            },
            "type": "parcoords"
           }
          ],
          "pie": [
           {
            "automargin": true,
            "type": "pie"
           }
          ],
          "scatter": [
           {
            "fillpattern": {
             "fillmode": "overlay",
             "size": 10,
             "solidity": 0.2
            },
            "type": "scatter"
           }
          ],
          "scatter3d": [
           {
            "line": {
             "colorbar": {
              "outlinewidth": 0,
              "ticks": ""
             }
            },
            "marker": {
             "colorbar": {
              "outlinewidth": 0,
              "ticks": ""
             }
            },
            "type": "scatter3d"
           }
          ],
          "scattercarpet": [
           {
            "marker": {
             "colorbar": {
              "outlinewidth": 0,
              "ticks": ""
             }
            },
            "type": "scattercarpet"
           }
          ],
          "scattergeo": [
           {
            "marker": {
             "colorbar": {
              "outlinewidth": 0,
              "ticks": ""
             }
            },
            "type": "scattergeo"
           }
          ],
          "scattergl": [
           {
            "marker": {
             "colorbar": {
              "outlinewidth": 0,
              "ticks": ""
             }
            },
            "type": "scattergl"
           }
          ],
          "scattermapbox": [
           {
            "marker": {
             "colorbar": {
              "outlinewidth": 0,
              "ticks": ""
             }
            },
            "type": "scattermapbox"
           }
          ],
          "scatterpolar": [
           {
            "marker": {
             "colorbar": {
              "outlinewidth": 0,
              "ticks": ""
             }
            },
            "type": "scatterpolar"
           }
          ],
          "scatterpolargl": [
           {
            "marker": {
             "colorbar": {
              "outlinewidth": 0,
              "ticks": ""
             }
            },
            "type": "scatterpolargl"
           }
          ],
          "scatterternary": [
           {
            "marker": {
             "colorbar": {
              "outlinewidth": 0,
              "ticks": ""
             }
            },
            "type": "scatterternary"
           }
          ],
          "surface": [
           {
            "colorbar": {
             "outlinewidth": 0,
             "ticks": ""
            },
            "colorscale": [
             [
              0,
              "#0d0887"
             ],
             [
              0.1111111111111111,
              "#46039f"
             ],
             [
              0.2222222222222222,
              "#7201a8"
             ],
             [
              0.3333333333333333,
              "#9c179e"
             ],
             [
              0.4444444444444444,
              "#bd3786"
             ],
             [
              0.5555555555555556,
              "#d8576b"
             ],
             [
              0.6666666666666666,
              "#ed7953"
             ],
             [
              0.7777777777777778,
              "#fb9f3a"
             ],
             [
              0.8888888888888888,
              "#fdca26"
             ],
             [
              1,
              "#f0f921"
             ]
            ],
            "type": "surface"
           }
          ],
          "table": [
           {
            "cells": {
             "fill": {
              "color": "#EBF0F8"
             },
             "line": {
              "color": "white"
             }
            },
            "header": {
             "fill": {
              "color": "#C8D4E3"
             },
             "line": {
              "color": "white"
             }
            },
            "type": "table"
           }
          ]
         },
         "layout": {
          "annotationdefaults": {
           "arrowcolor": "#2a3f5f",
           "arrowhead": 0,
           "arrowwidth": 1
          },
          "autotypenumbers": "strict",
          "coloraxis": {
           "colorbar": {
            "outlinewidth": 0,
            "ticks": ""
           }
          },
          "colorscale": {
           "diverging": [
            [
             0,
             "#8e0152"
            ],
            [
             0.1,
             "#c51b7d"
            ],
            [
             0.2,
             "#de77ae"
            ],
            [
             0.3,
             "#f1b6da"
            ],
            [
             0.4,
             "#fde0ef"
            ],
            [
             0.5,
             "#f7f7f7"
            ],
            [
             0.6,
             "#e6f5d0"
            ],
            [
             0.7,
             "#b8e186"
            ],
            [
             0.8,
             "#7fbc41"
            ],
            [
             0.9,
             "#4d9221"
            ],
            [
             1,
             "#276419"
            ]
           ],
           "sequential": [
            [
             0,
             "#0d0887"
            ],
            [
             0.1111111111111111,
             "#46039f"
            ],
            [
             0.2222222222222222,
             "#7201a8"
            ],
            [
             0.3333333333333333,
             "#9c179e"
            ],
            [
             0.4444444444444444,
             "#bd3786"
            ],
            [
             0.5555555555555556,
             "#d8576b"
            ],
            [
             0.6666666666666666,
             "#ed7953"
            ],
            [
             0.7777777777777778,
             "#fb9f3a"
            ],
            [
             0.8888888888888888,
             "#fdca26"
            ],
            [
             1,
             "#f0f921"
            ]
           ],
           "sequentialminus": [
            [
             0,
             "#0d0887"
            ],
            [
             0.1111111111111111,
             "#46039f"
            ],
            [
             0.2222222222222222,
             "#7201a8"
            ],
            [
             0.3333333333333333,
             "#9c179e"
            ],
            [
             0.4444444444444444,
             "#bd3786"
            ],
            [
             0.5555555555555556,
             "#d8576b"
            ],
            [
             0.6666666666666666,
             "#ed7953"
            ],
            [
             0.7777777777777778,
             "#fb9f3a"
            ],
            [
             0.8888888888888888,
             "#fdca26"
            ],
            [
             1,
             "#f0f921"
            ]
           ]
          },
          "colorway": [
           "#636efa",
           "#EF553B",
           "#00cc96",
           "#ab63fa",
           "#FFA15A",
           "#19d3f3",
           "#FF6692",
           "#B6E880",
           "#FF97FF",
           "#FECB52"
          ],
          "font": {
           "color": "#2a3f5f"
          },
          "geo": {
           "bgcolor": "white",
           "lakecolor": "white",
           "landcolor": "#E5ECF6",
           "showlakes": true,
           "showland": true,
           "subunitcolor": "white"
          },
          "hoverlabel": {
           "align": "left"
          },
          "hovermode": "closest",
          "mapbox": {
           "style": "light"
          },
          "paper_bgcolor": "white",
          "plot_bgcolor": "#E5ECF6",
          "polar": {
           "angularaxis": {
            "gridcolor": "white",
            "linecolor": "white",
            "ticks": ""
           },
           "bgcolor": "#E5ECF6",
           "radialaxis": {
            "gridcolor": "white",
            "linecolor": "white",
            "ticks": ""
           }
          },
          "scene": {
           "xaxis": {
            "backgroundcolor": "#E5ECF6",
            "gridcolor": "white",
            "gridwidth": 2,
            "linecolor": "white",
            "showbackground": true,
            "ticks": "",
            "zerolinecolor": "white"
           },
           "yaxis": {
            "backgroundcolor": "#E5ECF6",
            "gridcolor": "white",
            "gridwidth": 2,
            "linecolor": "white",
            "showbackground": true,
            "ticks": "",
            "zerolinecolor": "white"
           },
           "zaxis": {
            "backgroundcolor": "#E5ECF6",
            "gridcolor": "white",
            "gridwidth": 2,
            "linecolor": "white",
            "showbackground": true,
            "ticks": "",
            "zerolinecolor": "white"
           }
          },
          "shapedefaults": {
           "line": {
            "color": "#2a3f5f"
           }
          },
          "ternary": {
           "aaxis": {
            "gridcolor": "white",
            "linecolor": "white",
            "ticks": ""
           },
           "baxis": {
            "gridcolor": "white",
            "linecolor": "white",
            "ticks": ""
           },
           "bgcolor": "#E5ECF6",
           "caxis": {
            "gridcolor": "white",
            "linecolor": "white",
            "ticks": ""
           }
          },
          "title": {
           "x": 0.05
          },
          "xaxis": {
           "automargin": true,
           "gridcolor": "white",
           "linecolor": "white",
           "ticks": "",
           "title": {
            "standoff": 15
           },
           "zerolinecolor": "white",
           "zerolinewidth": 2
          },
          "yaxis": {
           "automargin": true,
           "gridcolor": "white",
           "linecolor": "white",
           "ticks": "",
           "title": {
            "standoff": 15
           },
           "zerolinecolor": "white",
           "zerolinewidth": 2
          }
         }
        },
        "title": {
         "text": "Contribution of the Construction Sector to the GBD % Heatmap"
        },
        "xaxis": {
         "anchor": "y",
         "constrain": "domain",
         "domain": [
          0,
          1
         ],
         "scaleanchor": "y",
         "title": {
          "text": "Year"
         }
        },
        "yaxis": {
         "anchor": "x",
         "autorange": "reversed",
         "constrain": "domain",
         "domain": [
          0,
          1
         ],
         "title": {
          "text": "Country"
         }
        }
       }
      }
     },
     "metadata": {},
     "output_type": "display_data"
    }
   ],
   "source": [
    "import plotly.express as px\n",
    "\n",
    "# Filter the dataframes for the selected countries\n",
    "countries = [\"Ireland\", \"Croatia\", \"Finland\"]\n",
    "filtered_data = merged_filtered[merged_filtered['Country'].isin(countries)]\n",
    "\n",
    "# Generate the heatmap using plotly express\n",
    "fig = px.imshow(filtered_data.pivot(index='Country', columns='Year', values='Contribution of the construction sector to the GBD %'),\n",
    "                x=filtered_data['Year'].unique(),\n",
    "                y=countries,\n",
    "                color_continuous_scale='matter',\n",
    "                title='Contribution of the Construction Sector to the GBD % Heatmap')\n",
    "\n",
    "fig.update_xaxes(title_text='Year')\n",
    "fig.update_yaxes(title_text='Country')\n",
    "\n",
    "fig.show()\n"
   ]
  },
  {
   "attachments": {},
   "cell_type": "markdown",
   "metadata": {},
   "source": [
    "# Hypothesis Tests"
   ]
  },
  {
   "cell_type": "code",
   "execution_count": 632,
   "metadata": {},
   "outputs": [
    {
     "name": "stdout",
     "output_type": "stream",
     "text": [
      "Confidence Interval for Contribution of the construction sector to the GBD %:\n",
      "25.20930104101185 - 27.77251714080634\n",
      "Confidence Interval for Labor Force, total:\n",
      "2165916.279814146 - 2343784.629276763\n"
     ]
    }
   ],
   "source": [
    "import numpy as np\n",
    "import scipy.stats as stats\n",
    "\n",
    "confidence_level = 0.95\n",
    "\n",
    "# For \"Contribution of the construction sector to the GBD %\"\n",
    "data_gbd = df_filtered[\"Contribution of the construction sector to the GBD %\"]\n",
    "# Calculate the statistical measure\n",
    "mean_gbd = np.mean(data_gbd)\n",
    "# Calculate the standard error\n",
    "std_error_gbd = stats.sem(data_gbd)\n",
    "# Calculate the confidence interval\n",
    "confidence_interval_gbd = stats.t.interval(confidence_level, len(data_gbd)-1, loc=mean_gbd, scale=std_error_gbd)\n",
    "\n",
    "print(\"Confidence Interval for Contribution of the construction sector to the GBD %:\")\n",
    "print(f\"{confidence_interval_gbd[0]} - {confidence_interval_gbd[1]}\")\n",
    "\n",
    "# For \"Labor force, total\"\n",
    "data_labor = df2_filtered[\"Labor force, total\"]\n",
    "# Calculate the statistical measure\n",
    "mean_labor = np.mean(data_labor)\n",
    "# Calculate the standard error\n",
    "std_error_labor = stats.sem(data_labor)\n",
    "# Calculate the confidence interval\n",
    "confidence_interval_labor = stats.t.interval(confidence_level, len(data_labor)-1, loc=mean_labor, scale=std_error_labor)\n",
    "\n",
    "print(\"Confidence Interval for Labor Force, total:\")\n",
    "print(f\"{confidence_interval_labor[0]} - {confidence_interval_labor[1]}\")\n"
   ]
  },
  {
   "attachments": {},
   "cell_type": "markdown",
   "metadata": {},
   "source": [
    "These results are used to estimate, with a confidence level you determined (in this case, 95%), the range in which the mean of the relevant dataset will fall.\n",
    "\n",
    "\"Contribution of the construction sector to the GBD %\": According to your results, at a 95% confidence level, the contribution of the construction sector to the GDP is expected to be between 25.21% and 27.77%.\n",
    "\n",
    "\"Labor Force, total\": According to your results, at a 95% confidence level, the total labor force is expected to be between 2,165,916 and 2,343,784.\n",
    "\n",
    "To examine the confidence intervals, you can look at the width of these intervals. A wide confidence interval indicates less precision in the estimate because the range in which the true mean of the dataset lies is broader. On the other hand, a narrow confidence interval indicates greater precision in the estimate.\n",
    "\n",
    "The confidence intervals also provide information about the plausibility of a specific value. For example, if you have a source claiming that the contribution of the construction sector to the GDP is 30%, that claim can be met with skepticism because it falls outside your 95% confidence interval.\n",
    "\n",
    "Lastly, these confidence intervals can be used to make comparisons between different groups or time periods. For instance, calculating confidence intervals for the labor force of two different countries and examining the degree of overlap can provide insights into whether there is a significant difference between the labor forces of the two countries."
   ]
  },
  {
   "attachments": {},
   "cell_type": "markdown",
   "metadata": {},
   "source": [
    "# Independent Two-Sample t-test, One-Sample t-test, One-Way ANOVA, Wilcoxon Signed-Rank Tests:"
   ]
  },
  {
   "attachments": {},
   "cell_type": "markdown",
   "metadata": {},
   "source": [
    "\"Hypothesis Testing: Assessing Assumptions with Sample Data\n",
    "\n",
    "Hypothesis testing is a statistical method used to determine the validity of a specific assumption (hypothesis) based on sample data. These methods are employed to evaluate the validity of claims made about a population using sample data.\n",
    "\n",
    "Here are some common hypothesis tests and their applications:\n",
    "\n",
    "Independent Two-Sample t-test: This test is used to evaluate whether there is a significant difference in means between two distinct groups. For instance, this test can be applied to compare the contributions of the construction sector to the GDP in \"Ireland\" and \"Croatia\".\n",
    "\n",
    "One-Sample t-test: This test is used to assess whether the mean of a single group significantly differs from a specific value. For example, it can be employed to test whether the contribution of the construction sector to the GDP in \"Ireland\" has a mean of 30.0.\n",
    "\n",
    "One-Way ANOVA: This test is used to evaluate whether there is a significant difference in means among three or more groups. For instance, it can be applied to compare the contributions of the construction sector to the GDP in \"Ireland\", \"Croatia\", and \"Finland\".\n",
    "\n",
    "Wilcoxon Signed-Rank Test: This test is used to assess whether there is a significant median difference between two paired or dependent groups. For example, it can be employed to compare the contributions of the construction sector to the GDP in \"Ireland\" and \"Croatia\" in terms of their medians.\n",
    "\n",
    "Hypothesis tests are essential components of statistical analysis and are frequently employed in scientific research and data analysis. They allow us to establish relationships between assumptions and the available data, enabling us to make statistically significant conclusions.\n",
    "\n",
    "In conclusion, hypothesis testing is a fundamental tool in statistical analysis. By formulating accurate hypotheses and selecting appropriate tests, we can evaluate the statistical significance of our results.\""
   ]
  },
  {
   "cell_type": "code",
   "execution_count": 633,
   "metadata": {},
   "outputs": [
    {
     "name": "stdout",
     "output_type": "stream",
     "text": [
      "Independent Two-Sample t-Test Results:\n",
      "t-statistic: 7.717771185099637\n",
      "p-value: 5.2698547119900345e-08\n",
      "\n",
      "One-Sample t-Test Results:\n",
      "t-statistic: 0.8679745397869091\n",
      "p-value: 0.39521924150332277\n",
      "\n",
      "One-Way ANOVA Test Results:\n",
      "F-statistic: 33.92276875460229\n",
      "p-value: 1.0030474225858036e-10\n",
      "\n",
      "Wilcoxon Signed-Rank Test Results:\n",
      "Test Statistic: 0.0\n",
      "p-value: 4.76837158203125e-07\n"
     ]
    }
   ],
   "source": [
    "import scipy.stats as stats\n",
    "\n",
    "# Data Filtering\n",
    "df_filtered = merged_filtered[merged_filtered['Country'].isin([\"Ireland\", \"Croatia\", \"Finland\"])]\n",
    "\n",
    "ireland_data = df_filtered[df_filtered[\"Country\"] == \"Ireland\"][\"Contribution of the construction sector to the GBD %\"]\n",
    "croatia_data = df_filtered[df_filtered[\"Country\"] == \"Croatia\"][\"Contribution of the construction sector to the GBD %\"]\n",
    "finland_data = df_filtered[df_filtered[\"Country\"] == \"Finland\"][\"Contribution of the construction sector to the GBD %\"]\n",
    "\n",
    "# Independent two-sample t-test\n",
    "t_statistic, p_value = stats.ttest_ind(ireland_data, croatia_data, equal_var=False)\n",
    "print(\"Independent Two-Sample t-Test Results:\")\n",
    "print(\"t-statistic:\", t_statistic)\n",
    "print(\"p-value:\", p_value)\n",
    "\n",
    "# One-Sample t-Test\n",
    "expected_mean = 30.0\n",
    "t_statistic, p_value = stats.ttest_1samp(ireland_data, expected_mean)\n",
    "print(\"\\nOne-Sample t-Test Results:\")\n",
    "print(\"t-statistic:\", t_statistic)\n",
    "print(\"p-value:\", p_value)\n",
    "\n",
    "# One-Way ANOVA test\n",
    "f_statistic, p_value = stats.f_oneway(ireland_data, croatia_data, finland_data)\n",
    "print(\"\\nOne-Way ANOVA Test Results:\")\n",
    "print(\"F-statistic:\", f_statistic)\n",
    "print(\"p-value:\", p_value)\n",
    "\n",
    "# Wilcoxon Signed-Rank Test\n",
    "statistic, p_value = stats.wilcoxon(ireland_data, croatia_data, alternative=\"two-sided\")\n",
    "print(\"\\nWilcoxon Signed-Rank Test Results:\")\n",
    "print(\"Test Statistic:\", statistic)\n",
    "print(\"p-value:\", p_value)\n"
   ]
  },
  {
   "attachments": {},
   "cell_type": "markdown",
   "metadata": {},
   "source": [
    "Independent Two-Sample t-Test: The p-value (p-value: 5.27e-08) is much smaller than 0.05, indicating that this result is statistically significant. This suggests a significant difference in the contribution of the construction sector to the GDP as a percentage between Ireland and Croatia. Since the t-statistic is positive, we can conclude that Ireland's contribution is higher than Croatia's.\n",
    "\n",
    "One-Sample t-Test: The p-value (p-value: 0.395) is greater than 0.05, indicating that this result is not statistically significant. This indicates that the average contribution of Ireland's construction sector to the GDP as a percentage is not significantly different from the expected average (30%).\n",
    "\n",
    "One-Way ANOVA: The p-value (p-value: 1.00e-10) is very small, indicating that this result is statistically significant. This indicates a significant difference in the contribution of the construction sector to the GDP as a percentage among Ireland, Croatia, and Finland. However, further analysis is required to determine which groups are significantly different from each other.\n",
    "\n",
    "Wilcoxon Signed-Rank Test: The p-value (p-value: 4.77e-07) is very small, indicating that this result is statistically significant. However, the Wilcoxon test does not provide information about the magnitude of the difference between the two matched groups; it only indicates that the difference is significant. Here, it is stated that there is a significant difference in the contribution of the construction sector to the GDP as a percentage between Ireland and Croatia.\n",
    "\n",
    "Overall, these results indicate significant differences in the contribution of the construction sector to the GDP as a percentage among Ireland, Croatia, and Finland. However, further research and information are needed to fully understand the implications of these differences and how to address them."
   ]
  },
  {
   "attachments": {},
   "cell_type": "markdown",
   "metadata": {},
   "source": [
    "# chi-square test"
   ]
  },
  {
   "attachments": {},
   "cell_type": "markdown",
   "metadata": {},
   "source": [
    "The chi-square test is commonly used to test independence or association between two categorical variables. In this case, the data focuses on the continuous variable \"contribution of the construction sector to the GDP (%).\" Therefore, the chi-square test cannot be directly applied in this context.\n",
    "\n",
    "However, if you categorize your data in a specific way (e.g., countries exceeding or not exceeding a certain threshold), then a chi-square test might be applicable. However, this depends on the purpose of your analysis and whether categorizing your data in this way makes sense."
   ]
  },
  {
   "attachments": {},
   "cell_type": "markdown",
   "metadata": {},
   "source": [
    "Now, in order to apply the chi-square test, we will create three categories based on the contribution of countries to the annual revenue of the construction sector. We will divide them into low contribution, moderate contribution, and high contribution. We will then perform a chi-square test between Ireland and Croatia."
   ]
  },
  {
   "cell_type": "code",
   "execution_count": 634,
   "metadata": {},
   "outputs": [],
   "source": [
    "# Define the bin edges\n",
    "bin_edges = [df_filtered[\"Contribution of the construction sector to the GBD %\"].min(), \n",
    "             df_filtered[\"Contribution of the construction sector to the GBD %\"].quantile(0.33), \n",
    "             df_filtered[\"Contribution of the construction sector to the GBD %\"].quantile(0.66), \n",
    "             df_filtered[\"Contribution of the construction sector to the GBD %\"].max()]\n",
    "\n",
    "# Define the bin labels\n",
    "bin_labels = ['low cont', 'med cont', 'high cont']\n",
    "\n",
    "# Assign the data to bins\n",
    "df_filtered[\"Construction_Contribution_Level\"] = pd.cut(df_filtered[\"Contribution of the construction sector to the GBD %\"], \n",
    "                                                        bins=bin_edges, labels=bin_labels, include_lowest=True)\n",
    "\n"
   ]
  },
  {
   "cell_type": "code",
   "execution_count": 635,
   "metadata": {},
   "outputs": [
    {
     "name": "stdout",
     "output_type": "stream",
     "text": [
      "Chi-square Test Results:\n",
      "=========================\n",
      "Chi-square statistic: 30.028708133971293\n",
      "p-value: 3.015427417980818e-07\n"
     ]
    }
   ],
   "source": [
    "# Filter the data for Ireland and Croatia\n",
    "df_filtered_2_countries = df_filtered[df_filtered[\"Country\"].isin([\"Ireland\", \"Croatia\"])]\n",
    "\n",
    "# Create a contingency table\n",
    "contingency_table = pd.crosstab(df_filtered_2_countries['Country'], df_filtered_2_countries['Construction_Contribution_Level'])\n",
    "\n",
    "# Perform the Chi-square test\n",
    "chi2, p, dof, expected = stats.chi2_contingency(contingency_table)\n",
    "\n",
    "# Print the results\n",
    "print(\"Chi-square Test Results:\")\n",
    "print(\"=========================\")\n",
    "print(\"Chi-square statistic:\", chi2)\n",
    "print(\"p-value:\", p)\n"
   ]
  },
  {
   "attachments": {},
   "cell_type": "markdown",
   "metadata": {},
   "source": [
    "The chi-square test results indicate that there is a significant association between the contribution categories (low, moderate, high) and the countries (Ireland and Croatia).\n",
    "\n",
    "The chi-square statistic value of 30.028708133971293 suggests a strong relationship between the variables. Additionally, the very small p-value (3.015427417980818e-07) indicates that the observed association is unlikely to be due to chance alone.\n",
    "\n",
    "Based on these results, we can conclude that the contribution categories and the countries are not independent of each other. In other words, the level of contribution to the annual revenue of the construction sector varies significantly between Ireland and Croatia.\n",
    "\n",
    "It is important to note that the chi-square test does not provide information about the direction or strength of the association. Further analysis or post-hoc tests may be needed to explore the nature of the relationship between the variables and determine which specific contribution categories contribute more significantly to the observed association.\n",
    "\n",
    "Overall, these findings highlight the importance of considering the contribution categories when examining the relationship between the construction sector's annual revenue and the countries under study (Ireland and Croatia)."
   ]
  },
  {
   "attachments": {},
   "cell_type": "markdown",
   "metadata": {},
   "source": [
    "## MACHINE LEARNING"
   ]
  },
  {
   "attachments": {},
   "cell_type": "markdown",
   "metadata": {},
   "source": [
    "We aim to understand and predict the effects of one or more independent variables on continuous dependent variables in our dataset. Our dependent variables are \"Labor force, total\" and \"Unemployment, total (% of total labor force)\", and our independent variable is \"Contribution of the construction sector to the GBD %\".\n",
    "\n",
    "Regression analysis is a widely used model in the field of machine learning. It is employed to understand the relationship between a dependent variable and one or more independent variables, make predictions, or assess the effects between variables.\n",
    "\n",
    "Regression analysis is particularly effective in situations where there is a need to predict or understand a continuous dependent variable. For example, it can be used to estimate the impact of income on housing prices or evaluate the effect of an advertising campaign on sales.\n",
    "\n",
    "Regression analysis is a model based on statistical techniques that mathematically expresses the relationship between variables in a dataset. It calculates the parameters used to analyze the relationships between variables and predict future values.\n",
    "\n",
    "Choosing regression analysis provides a solid statistical foundation to analyze relationships, make predictions, and evaluate the effects between variables in your dataset.\n",
    "\n",
    "However, it is important to select the appropriate regression method based on the requirements of your dataset and the objectives of your analysis."
   ]
  },
  {
   "attachments": {},
   "cell_type": "markdown",
   "metadata": {},
   "source": [
    "# Regression Analysis"
   ]
  },
  {
   "attachments": {},
   "cell_type": "markdown",
   "metadata": {},
   "source": [
    "I couldn't achieve the desired performance with linear ridge and lasso regression models, so through my research, I came across an open-source machine learning library called XGBoost and applied it. XGBoost operates based on the boosting algorithm and is particularly known for delivering high performance in regression and classification problems."
   ]
  },
  {
   "cell_type": "code",
   "execution_count": 636,
   "metadata": {},
   "outputs": [
    {
     "name": "stdout",
     "output_type": "stream",
     "text": [
      "XGBoost Regression Results:\n",
      "========================================\n",
      "Training Set Mean Squared Error (MSE): 1.8077286946231939\n",
      "Test Set Mean Squared Error (MSE): 26.348597757380304\n",
      "Training Set R^2 Score: 0.972288003452305\n",
      "Test Set R^2 Score: 0.6352510573093788\n"
     ]
    }
   ],
   "source": [
    "from sklearn.model_selection import train_test_split\n",
    "from xgboost import XGBRegressor\n",
    "from sklearn.metrics import mean_squared_error, r2_score\n",
    "\n",
    "# Define the dependent and independent variables\n",
    "X = merged_melted_df[[\"Labor force, total\", \"Unemployment, total (% of total labor force)\"]].values\n",
    "y = merged_melted_df[\"Contribution of the construction sector to the GBD %\"].values\n",
    "\n",
    "# Split the dataset into training and test sets\n",
    "X_train, X_test, y_train, y_test = train_test_split(X, y, test_size=0.20, random_state=42)\n",
    "\n",
    "# Create and train the XGBoost regression model\n",
    "model = XGBRegressor()\n",
    "model.fit(X_train, y_train)\n",
    "\n",
    "# Make predictions on the training data\n",
    "y_train_pred = model.predict(X_train)\n",
    "\n",
    "# Make predictions on the test data\n",
    "y_test_pred = model.predict(X_test)\n",
    "\n",
    "# Evaluate the performance of the model\n",
    "mse_train = mean_squared_error(y_train, y_train_pred)\n",
    "mse_test = mean_squared_error(y_test, y_test_pred)\n",
    "r2_train = r2_score(y_train, y_train_pred)\n",
    "r2_test = r2_score(y_test, y_test_pred)\n",
    "\n",
    "# Print the results\n",
    "print(\"XGBoost Regression Results:\")\n",
    "print(\"========================================\")\n",
    "print(\"Training Set Mean Squared Error (MSE):\", mse_train)\n",
    "print(\"Test Set Mean Squared Error (MSE):\", mse_test)\n",
    "print(\"Training Set R^2 Score:\", r2_train)\n",
    "print(\"Test Set R^2 Score:\", r2_test)\n"
   ]
  },
  {
   "cell_type": "code",
   "execution_count": 637,
   "metadata": {},
   "outputs": [
    {
     "name": "stdout",
     "output_type": "stream",
     "text": [
      "XGBoost Regression Results:\n",
      "========================================\n",
      "Best Parameters: {'learning_rate': 0.1, 'max_depth': 4, 'n_estimators': 100}\n",
      "Best Score: -37.755885921725366\n",
      "Training Set Mean Squared Error (MSE): 17.640016846849154\n",
      "Test Set Mean Squared Error (MSE): 28.427395883088746\n",
      "Training Set R^2 Score: 0.7295832679897474\n",
      "Test Set R^2 Score: 0.6064738363960945\n"
     ]
    }
   ],
   "source": [
    "from sklearn.model_selection import train_test_split, GridSearchCV\n",
    "\n",
    "# Create the XGBoost regression model\n",
    "model = XGBRegressor()\n",
    "\n",
    "# Define the parameter grid for Grid Search\n",
    "param_grid = {\n",
    "    'n_estimators': [100, 200, 300],\n",
    "    'learning_rate': [0.01, 0.1, 0.2],\n",
    "    'max_depth': [3, 4, 5]\n",
    "}\n",
    "\n",
    "# Fit the model with the best parameters using GridSearchCV on the training data\n",
    "grid_search = GridSearchCV(estimator=model, param_grid=param_grid, cv=3, scoring='neg_mean_squared_error')\n",
    "grid_search.fit(X_train, y_train)\n",
    "\n",
    "# Get the best parameters and best score\n",
    "best_params = grid_search.best_params_\n",
    "best_score = grid_search.best_score_\n",
    "\n",
    "# Make predictions using the best model\n",
    "y_train_pred = grid_search.predict(X_train)\n",
    "y_test_pred = grid_search.predict(X_test)\n",
    "\n",
    "# Evaluate the performance of the model\n",
    "mse_train = mean_squared_error(y_train, y_train_pred)\n",
    "mse_test = mean_squared_error(y_test, y_test_pred)\n",
    "r2_train = r2_score(y_train, y_train_pred)\n",
    "r2_test = r2_score(y_test, y_test_pred)\n",
    "\n",
    "# Print the results\n",
    "print(\"XGBoost Regression Results:\")\n",
    "print(\"========================================\")\n",
    "print(\"Best Parameters:\", best_params)\n",
    "print(\"Best Score:\", best_score)\n",
    "print(\"Training Set Mean Squared Error (MSE):\", mse_train)\n",
    "print(\"Test Set Mean Squared Error (MSE):\", mse_test)\n",
    "print(\"Training Set R^2 Score:\", r2_train)\n",
    "print(\"Test Set R^2 Score:\", r2_test)\n"
   ]
  },
  {
   "cell_type": "code",
   "execution_count": 638,
   "metadata": {},
   "outputs": [
    {
     "name": "stdout",
     "output_type": "stream",
     "text": [
      "Cross-Validation Results:\n",
      "=========================\n",
      "Mean Squared Error (MSE): 51.44985499141607\n"
     ]
    }
   ],
   "source": [
    "from sklearn.model_selection import cross_val_score\n",
    "from xgboost import XGBRegressor\n",
    "\n",
    "# Bağımlı değişken ve bağımsız değişkenleri belirleyin\n",
    "X = merged_melted_df[[\"Labor force, total\", \"Unemployment, total (% of total labor force)\"]].values\n",
    "y = merged_melted_df[\"Contribution of the construction sector to the GBD %\"].values\n",
    "\n",
    "# XGBoost regresyon modelini oluşturun\n",
    "model = XGBRegressor()\n",
    "\n",
    "# 5-katlamalı cross-validation ile modelin performansını değerlendirin\n",
    "scores = cross_val_score(model, X, y, cv=5, scoring='neg_mean_squared_error')\n",
    "\n",
    "# Performans metriklerinin ortalamasını alın\n",
    "mean_mse = -scores.mean()\n",
    "\n",
    "# Sonucu yazdırın\n",
    "print(\"Cross-Validation Results:\")\n",
    "print(\"=========================\")\n",
    "print(\"Mean Squared Error (MSE):\", mean_mse)\n"
   ]
  },
  {
   "cell_type": "code",
   "execution_count": null,
   "metadata": {},
   "outputs": [],
   "source": []
  }
 ],
 "metadata": {
  "kernelspec": {
   "display_name": "Python 3",
   "language": "python",
   "name": "python3"
  },
  "language_info": {
   "codemirror_mode": {
    "name": "ipython",
    "version": 3
   },
   "file_extension": ".py",
   "mimetype": "text/x-python",
   "name": "python",
   "nbconvert_exporter": "python",
   "pygments_lexer": "ipython3",
   "version": "3.9.7"
  },
  "orig_nbformat": 4
 },
 "nbformat": 4,
 "nbformat_minor": 2
}
